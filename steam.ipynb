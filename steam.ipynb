{
 "cells": [
  {
   "cell_type": "markdown",
   "metadata": {},
   "source": [
    "# Setup"
   ]
  },
  {
   "cell_type": "code",
   "execution_count": 1,
   "metadata": {},
   "outputs": [],
   "source": [
    "import pandas as pd\n",
    "import polars as pl \n",
    "import numpy as np\n",
    "\n",
    "import missingno as msno\n",
    "import matplotlib.pyplot as plt\n",
    "import seaborn as sns\n",
    "\n",
    "from all import NLP_Preprocessing\n",
    "\n",
    "from sklearn.feature_extraction.text import (CountVectorizer, \n",
    "                                             TfidfVectorizer)\n",
    "from sklearn.preprocessing import (LabelEncoder,\n",
    "                                   OneHotEncoder)\n",
    "from sklearn.decomposition import TruncatedSVD\n",
    "from sklearn.model_selection import train_test_split\n",
    "from sklearn.naive_bayes import GaussianNB\n",
    "from sklearn.metrics import (confusion_matrix)\n",
    "\n",
    "from tensorflow import keras\n",
    "from keras import layers"
   ]
  },
  {
   "cell_type": "code",
   "execution_count": 2,
   "metadata": {},
   "outputs": [],
   "source": [
    "tools = NLP_Preprocessing()"
   ]
  },
  {
   "cell_type": "code",
   "execution_count": 3,
   "metadata": {},
   "outputs": [],
   "source": [
    "data = pl.read_csv(\"./dataset.csv\")"
   ]
  },
  {
   "cell_type": "code",
   "execution_count": 4,
   "metadata": {},
   "outputs": [
    {
     "data": {
      "text/html": [
       "<div><style>\n",
       ".dataframe > thead > tr,\n",
       ".dataframe > tbody > tr {\n",
       "  text-align: right;\n",
       "  white-space: pre-wrap;\n",
       "}\n",
       "</style>\n",
       "<small>shape: (5, 5)</small><table border=\"1\" class=\"dataframe\"><thead><tr><th>app_id</th><th>app_name</th><th>review_text</th><th>review_score</th><th>review_votes</th></tr><tr><td>i64</td><td>str</td><td>str</td><td>i64</td><td>i64</td></tr></thead><tbody><tr><td>10</td><td>&quot;Counter-Strike&quot;</td><td>&quot;Ruined my life.&quot;</td><td>1</td><td>0</td></tr><tr><td>10</td><td>&quot;Counter-Strike&quot;</td><td>&quot;This will be more of a &#x27;&#x27;my ex…</td><td>1</td><td>1</td></tr><tr><td>10</td><td>&quot;Counter-Strike&quot;</td><td>&quot;This game saved my virginity.&quot;</td><td>1</td><td>0</td></tr><tr><td>10</td><td>&quot;Counter-Strike&quot;</td><td>&quot;• Do you like original games? …</td><td>1</td><td>0</td></tr><tr><td>10</td><td>&quot;Counter-Strike&quot;</td><td>&quot;&nbsp;&nbsp;&nbsp;&nbsp;&nbsp;&nbsp;&nbsp;&nbsp;Easy to learn, hard to…</td><td>1</td><td>1</td></tr></tbody></table></div>"
      ],
      "text/plain": [
       "shape: (5, 5)\n",
       "┌────────┬────────────────┬─────────────────────────────────┬──────────────┬──────────────┐\n",
       "│ app_id ┆ app_name       ┆ review_text                     ┆ review_score ┆ review_votes │\n",
       "│ ---    ┆ ---            ┆ ---                             ┆ ---          ┆ ---          │\n",
       "│ i64    ┆ str            ┆ str                             ┆ i64          ┆ i64          │\n",
       "╞════════╪════════════════╪═════════════════════════════════╪══════════════╪══════════════╡\n",
       "│ 10     ┆ Counter-Strike ┆ Ruined my life.                 ┆ 1            ┆ 0            │\n",
       "│ 10     ┆ Counter-Strike ┆ This will be more of a ''my ex… ┆ 1            ┆ 1            │\n",
       "│ 10     ┆ Counter-Strike ┆ This game saved my virginity.   ┆ 1            ┆ 0            │\n",
       "│ 10     ┆ Counter-Strike ┆ • Do you like original games? … ┆ 1            ┆ 0            │\n",
       "│ 10     ┆ Counter-Strike ┆         Easy to learn, hard to… ┆ 1            ┆ 1            │\n",
       "└────────┴────────────────┴─────────────────────────────────┴──────────────┴──────────────┘"
      ]
     },
     "execution_count": 4,
     "metadata": {},
     "output_type": "execute_result"
    }
   ],
   "source": [
    "data.head()"
   ]
  },
  {
   "cell_type": "code",
   "execution_count": 5,
   "metadata": {},
   "outputs": [
    {
     "data": {
      "text/plain": [
       "(6417106, 5)"
      ]
     },
     "execution_count": 5,
     "metadata": {},
     "output_type": "execute_result"
    }
   ],
   "source": [
    "data.shape"
   ]
  },
  {
   "cell_type": "code",
   "execution_count": 6,
   "metadata": {},
   "outputs": [
    {
     "data": {
      "text/html": [
       "<div><style>\n",
       ".dataframe > thead > tr,\n",
       ".dataframe > tbody > tr {\n",
       "  text-align: right;\n",
       "  white-space: pre-wrap;\n",
       "}\n",
       "</style>\n",
       "<small>shape: (2,)</small><table border=\"1\" class=\"dataframe\"><thead><tr><th>review_score</th></tr><tr><td>i64</td></tr></thead><tbody><tr><td>-1</td></tr><tr><td>1</td></tr></tbody></table></div>"
      ],
      "text/plain": [
       "shape: (2,)\n",
       "Series: 'review_score' [i64]\n",
       "[\n",
       "\t-1\n",
       "\t1\n",
       "]"
      ]
     },
     "execution_count": 6,
     "metadata": {},
     "output_type": "execute_result"
    }
   ],
   "source": [
    "data[\"review_score\"].value_counts()[\"review_score\"]"
   ]
  },
  {
   "cell_type": "code",
   "execution_count": 7,
   "metadata": {},
   "outputs": [
    {
     "data": {
      "image/png": "[encoded data removed]",
      "text/plain": [
       "<Figure size 640x480 with 1 Axes>"
      ]
     },
     "metadata": {},
     "output_type": "display_data"
    }
   ],
   "source": [
    "value_counts = data[\"review_score\"].value_counts()\n",
    "cols = value_counts[\"review_score\"].to_numpy().astype(str)\n",
    "counts = value_counts[\"count\"].to_numpy() \n",
    "\n",
    "plt.bar(cols, counts, width=0.5)\n",
    "plt.xlabel(\"Review Score\")\n",
    "plt.ylabel(\"Count\")\n",
    "plt.title(\"Distribution of Review Scores\")\n",
    "plt.show()"
   ]
  },
  {
   "cell_type": "code",
   "execution_count": 8,
   "metadata": {},
   "outputs": [
    {
     "data": {
      "image/png": "[encoded data removed]",
      "text/plain": [
       "<Figure size 640x480 with 1 Axes>"
      ]
     },
     "metadata": {},
     "output_type": "display_data"
    }
   ],
   "source": [
    "value_counts = data[\"review_votes\"].value_counts()\n",
    "cols = value_counts[\"review_votes\"].to_numpy().astype(str)\n",
    "counts = value_counts[\"count\"].to_numpy() \n",
    "\n",
    "plt.bar(cols, counts, width=0.1)\n",
    "plt.xlabel(\"Review Score\")\n",
    "plt.ylabel(\"Count\")\n",
    "plt.title(\"Distribution of Review Scores\")\n",
    "plt.show()"
   ]
  },
  {
   "cell_type": "markdown",
   "metadata": {},
   "source": [
    "# Tiền xử lý dữ liệu"
   ]
  },
  {
   "cell_type": "code",
   "execution_count": 9,
   "metadata": {},
   "outputs": [
    {
     "data": {
      "text/html": [
       "<div><style>\n",
       ".dataframe > thead > tr,\n",
       ".dataframe > tbody > tr {\n",
       "  text-align: right;\n",
       "  white-space: pre-wrap;\n",
       "}\n",
       "</style>\n",
       "<small>shape: (1, 5)</small><table border=\"1\" class=\"dataframe\"><thead><tr><th>app_id</th><th>app_name</th><th>review_text</th><th>review_score</th><th>review_votes</th></tr><tr><td>u32</td><td>u32</td><td>u32</td><td>u32</td><td>u32</td></tr></thead><tbody><tr><td>0</td><td>183234</td><td>7305</td><td>0</td><td>0</td></tr></tbody></table></div>"
      ],
      "text/plain": [
       "shape: (1, 5)\n",
       "┌────────┬──────────┬─────────────┬──────────────┬──────────────┐\n",
       "│ app_id ┆ app_name ┆ review_text ┆ review_score ┆ review_votes │\n",
       "│ ---    ┆ ---      ┆ ---         ┆ ---          ┆ ---          │\n",
       "│ u32    ┆ u32      ┆ u32         ┆ u32          ┆ u32          │\n",
       "╞════════╪══════════╪═════════════╪══════════════╪══════════════╡\n",
       "│ 0      ┆ 183234   ┆ 7305        ┆ 0            ┆ 0            │\n",
       "└────────┴──────────┴─────────────┴──────────────┴──────────────┘"
      ]
     },
     "execution_count": 9,
     "metadata": {},
     "output_type": "execute_result"
    }
   ],
   "source": [
    "data.null_count()"
   ]
  },
  {
   "cell_type": "code",
   "execution_count": 10,
   "metadata": {},
   "outputs": [
    {
     "data": {
      "text/html": [
       "<div><style>\n",
       ".dataframe > thead > tr,\n",
       ".dataframe > tbody > tr {\n",
       "  text-align: right;\n",
       "  white-space: pre-wrap;\n",
       "}\n",
       "</style>\n",
       "<small>shape: (1, 5)</small><table border=\"1\" class=\"dataframe\"><thead><tr><th>app_id</th><th>app_name</th><th>review_text</th><th>review_score</th><th>review_votes</th></tr><tr><td>f64</td><td>f64</td><td>f64</td><td>f64</td><td>f64</td></tr></thead><tbody><tr><td>0.0</td><td>2.855399</td><td>0.113836</td><td>0.0</td><td>0.0</td></tr></tbody></table></div>"
      ],
      "text/plain": [
       "shape: (1, 5)\n",
       "┌────────┬──────────┬─────────────┬──────────────┬──────────────┐\n",
       "│ app_id ┆ app_name ┆ review_text ┆ review_score ┆ review_votes │\n",
       "│ ---    ┆ ---      ┆ ---         ┆ ---          ┆ ---          │\n",
       "│ f64    ┆ f64      ┆ f64         ┆ f64          ┆ f64          │\n",
       "╞════════╪══════════╪═════════════╪══════════════╪══════════════╡\n",
       "│ 0.0    ┆ 2.855399 ┆ 0.113836    ┆ 0.0          ┆ 0.0          │\n",
       "└────────┴──────────┴─────────────┴──────────────┴──────────────┘"
      ]
     },
     "execution_count": 10,
     "metadata": {},
     "output_type": "execute_result"
    }
   ],
   "source": [
    "data.null_count()*100/len(data)"
   ]
  },
  {
   "cell_type": "code",
   "execution_count": 11,
   "metadata": {},
   "outputs": [
    {
     "data": {
      "text/plain": [
       "0.0011383636174936177"
      ]
     },
     "execution_count": 11,
     "metadata": {},
     "output_type": "execute_result"
    }
   ],
   "source": [
    "data[\"review_text\"].null_count()/len(data)"
   ]
  },
  {
   "cell_type": "code",
   "execution_count": 12,
   "metadata": {},
   "outputs": [],
   "source": [
    "data = data[:, [\"review_text\", \"review_votes\"]]"
   ]
  },
  {
   "cell_type": "code",
   "execution_count": 13,
   "metadata": {},
   "outputs": [],
   "source": [
    "data = data.drop_nulls()"
   ]
  },
  {
   "cell_type": "code",
   "execution_count": 14,
   "metadata": {},
   "outputs": [
    {
     "data": {
      "text/html": [
       "<div><style>\n",
       ".dataframe > thead > tr,\n",
       ".dataframe > tbody > tr {\n",
       "  text-align: right;\n",
       "  white-space: pre-wrap;\n",
       "}\n",
       "</style>\n",
       "<small>shape: (1, 2)</small><table border=\"1\" class=\"dataframe\"><thead><tr><th>review_text</th><th>review_votes</th></tr><tr><td>f64</td><td>f64</td></tr></thead><tbody><tr><td>0.0</td><td>0.0</td></tr></tbody></table></div>"
      ],
      "text/plain": [
       "shape: (1, 2)\n",
       "┌─────────────┬──────────────┐\n",
       "│ review_text ┆ review_votes │\n",
       "│ ---         ┆ ---          │\n",
       "│ f64         ┆ f64          │\n",
       "╞═════════════╪══════════════╡\n",
       "│ 0.0         ┆ 0.0          │\n",
       "└─────────────┴──────────────┘"
      ]
     },
     "execution_count": 14,
     "metadata": {},
     "output_type": "execute_result"
    }
   ],
   "source": [
    "data.null_count()*100/len(data)"
   ]
  },
  {
   "cell_type": "code",
   "execution_count": 15,
   "metadata": {},
   "outputs": [],
   "source": [
    "data = data.unique()"
   ]
  },
  {
   "cell_type": "code",
   "execution_count": 16,
   "metadata": {},
   "outputs": [
    {
     "data": {
      "text/plain": [
       "(4483987, 2)"
      ]
     },
     "execution_count": 16,
     "metadata": {},
     "output_type": "execute_result"
    }
   ],
   "source": [
    "data.shape"
   ]
  },
  {
   "cell_type": "markdown",
   "metadata": {},
   "source": [
    "# Chọn dữ liệu nhỏ hơn"
   ]
  },
  {
   "cell_type": "code",
   "execution_count": 17,
   "metadata": {},
   "outputs": [],
   "source": [
    "n_sample = 50"
   ]
  },
  {
   "cell_type": "code",
   "execution_count": 18,
   "metadata": {},
   "outputs": [],
   "source": [
    "# Tron du lieu dam bao tinh ngau nhien\n",
    "shuffled_data = data.sample(fraction=1, shuffle=True, seed=42)"
   ]
  },
  {
   "cell_type": "code",
   "execution_count": 19,
   "metadata": {},
   "outputs": [
    {
     "data": {
      "text/html": [
       "<div><style>\n",
       ".dataframe > thead > tr,\n",
       ".dataframe > tbody > tr {\n",
       "  text-align: right;\n",
       "  white-space: pre-wrap;\n",
       "}\n",
       "</style>\n",
       "<small>shape: (5, 2)</small><table border=\"1\" class=\"dataframe\"><thead><tr><th>review_text</th><th>review_votes</th></tr><tr><td>str</td><td>i64</td></tr></thead><tbody><tr><td>&quot;Fun, ambient, violent, true to…</td><td>0</td></tr><tr><td>&quot;very fun game! faster and more…</td><td>0</td></tr><tr><td>&quot;You have to really be old scho…</td><td>0</td></tr><tr><td>&quot;i love this game i wish icould…</td><td>0</td></tr><tr><td>&quot;Received a key for this in a b…</td><td>0</td></tr></tbody></table></div>"
      ],
      "text/plain": [
       "shape: (5, 2)\n",
       "┌─────────────────────────────────┬──────────────┐\n",
       "│ review_text                     ┆ review_votes │\n",
       "│ ---                             ┆ ---          │\n",
       "│ str                             ┆ i64          │\n",
       "╞═════════════════════════════════╪══════════════╡\n",
       "│ Fun, ambient, violent, true to… ┆ 0            │\n",
       "│ very fun game! faster and more… ┆ 0            │\n",
       "│ You have to really be old scho… ┆ 0            │\n",
       "│ i love this game i wish icould… ┆ 0            │\n",
       "│ Received a key for this in a b… ┆ 0            │\n",
       "└─────────────────────────────────┴──────────────┘"
      ]
     },
     "execution_count": 19,
     "metadata": {},
     "output_type": "execute_result"
    }
   ],
   "source": [
    "# Lay n phan tu cua tieu cuc\n",
    "votes_0 = shuffled_data.filter(pl.col(\"review_votes\") == 0)\n",
    "votes_0 = votes_0.head(n_sample)\n",
    "votes_0.head()"
   ]
  },
  {
   "cell_type": "code",
   "execution_count": 20,
   "metadata": {},
   "outputs": [
    {
     "data": {
      "text/html": [
       "<div><style>\n",
       ".dataframe > thead > tr,\n",
       ".dataframe > tbody > tr {\n",
       "  text-align: right;\n",
       "  white-space: pre-wrap;\n",
       "}\n",
       "</style>\n",
       "<small>shape: (5, 2)</small><table border=\"1\" class=\"dataframe\"><thead><tr><th>review_text</th><th>review_votes</th></tr><tr><td>str</td><td>i64</td></tr></thead><tbody><tr><td>&quot;This is absolutely disgusting …</td><td>1</td></tr><tr><td>&quot;ramed a guy into an exploading…</td><td>1</td></tr><tr><td>&quot;Outlast was really creepy and …</td><td>1</td></tr><tr><td>&quot;YO THIS GAME IS PRETTY TIGHT Y…</td><td>1</td></tr><tr><td>&quot;10/10&nbsp;&nbsp;Damn KeyBoard Broke On …</td><td>1</td></tr></tbody></table></div>"
      ],
      "text/plain": [
       "shape: (5, 2)\n",
       "┌─────────────────────────────────┬──────────────┐\n",
       "│ review_text                     ┆ review_votes │\n",
       "│ ---                             ┆ ---          │\n",
       "│ str                             ┆ i64          │\n",
       "╞═════════════════════════════════╪══════════════╡\n",
       "│ This is absolutely disgusting … ┆ 1            │\n",
       "│ ramed a guy into an exploading… ┆ 1            │\n",
       "│ Outlast was really creepy and … ┆ 1            │\n",
       "│ YO THIS GAME IS PRETTY TIGHT Y… ┆ 1            │\n",
       "│ 10/10  Damn KeyBoard Broke On … ┆ 1            │\n",
       "└─────────────────────────────────┴──────────────┘"
      ]
     },
     "execution_count": 20,
     "metadata": {},
     "output_type": "execute_result"
    }
   ],
   "source": [
    "votes_1 = shuffled_data.filter(pl.col(\"review_votes\") == 1)\n",
    "votes_1 = votes_1.head(n_sample)\n",
    "votes_1.head()"
   ]
  },
  {
   "cell_type": "code",
   "execution_count": 21,
   "metadata": {},
   "outputs": [
    {
     "name": "stdout",
     "output_type": "stream",
     "text": [
      "shape: (2,)\n",
      "Series: 'review_votes' [i64]\n",
      "[\n",
      "\t0\n",
      "\t1\n",
      "]\n"
     ]
    },
    {
     "data": {
      "text/plain": [
       "(100, 2)"
      ]
     },
     "execution_count": 21,
     "metadata": {},
     "output_type": "execute_result"
    }
   ],
   "source": [
    "small_data = pl.concat([votes_0, votes_1])\n",
    "print(small_data[\"review_votes\"].unique())\n",
    "small_data.shape"
   ]
  },
  {
   "cell_type": "code",
   "execution_count": 22,
   "metadata": {},
   "outputs": [],
   "source": [
    "docs = small_data[\"review_text\"]\n",
    "labels = small_data[\"review_votes\"]"
   ]
  },
  {
   "cell_type": "code",
   "execution_count": 23,
   "metadata": {},
   "outputs": [],
   "source": [
    "tokens = tools.preprocess(docs)\n",
    "docs = tools.get_corpus(tokens)"
   ]
  },
  {
   "cell_type": "code",
   "execution_count": 24,
   "metadata": {},
   "outputs": [
    {
     "name": "stdout",
     "output_type": "stream",
     "text": [
      "['fun', 'ambient', 'violent', 'true', 'definit', 'unfinish', 'return', 'game', 'perman', 'item', 'game', 'list', 'pro', 'claustrophob', 'extrem', 'detail', 'textur', 'everyth', 'room', 'make', 'feel', 'sheer', 'scale', 'vessel', 'great', 'direct', 'sound', 'neat', 'model', 'use', 'paint', 'thing', 'definit', 'notic', 'con', 'super', 'finish', 'optim', 'onlin', 'coop', 'stabil', 'narrow', 'tower', 'problem', 'im', 'play', 'sometim', 'whether', 'play', 'minor', 'con', 'cluster', 'spend', 'lot', 'time', 'glu', 'one', 'anoth', 'oppos', 'stand', 'next']\n",
      "fun ambient violent true definit unfinish return game perman item game list pro claustrophob extrem detail textur everyth room make feel sheer scale vessel great direct sound neat model use paint thing definit notic con super finish optim onlin coop stabil narrow tower problem im play sometim whether play minor con cluster spend lot time glu one anoth oppos stand next\n"
     ]
    }
   ],
   "source": [
    "print(tokens[0])\n",
    "print(docs[0])"
   ]
  },
  {
   "cell_type": "markdown",
   "metadata": {},
   "source": [
    "# TF-IDF"
   ]
  },
  {
   "cell_type": "code",
   "execution_count": 25,
   "metadata": {},
   "outputs": [],
   "source": [
    "X = docs\n",
    "y = labels.to_numpy()"
   ]
  },
  {
   "cell_type": "code",
   "execution_count": 26,
   "metadata": {},
   "outputs": [
    {
     "data": {
      "text/plain": [
       "(100, 1345)"
      ]
     },
     "execution_count": 26,
     "metadata": {},
     "output_type": "execute_result"
    }
   ],
   "source": [
    "tfidf_vectorizer = TfidfVectorizer(norm=\"l2\")\n",
    "X = tfidf_vectorizer.fit_transform(X)\n",
    "X.shape"
   ]
  },
  {
   "cell_type": "code",
   "execution_count": 27,
   "metadata": {},
   "outputs": [],
   "source": [
    "X = X.toarray()"
   ]
  },
  {
   "cell_type": "code",
   "execution_count": 28,
   "metadata": {},
   "outputs": [],
   "source": [
    "X_train, X_test, y_train, y_test = train_test_split(X, y, stratify=y, shuffle=True, random_state=42)"
   ]
  },
  {
   "cell_type": "code",
   "execution_count": 29,
   "metadata": {},
   "outputs": [
    {
     "data": {
      "text/plain": [
       "<Axes: >"
      ]
     },
     "execution_count": 29,
     "metadata": {},
     "output_type": "execute_result"
    },
    {
     "data": {
      "image/png": "[encoded data removed]",
      "text/plain": [
       "<Figure size 640x480 with 2 Axes>"
      ]
     },
     "metadata": {},
     "output_type": "display_data"
    }
   ],
   "source": [
    "nb = GaussianNB()\n",
    "nb.fit(X_train, y_train)\n",
    "y_pred = nb.predict(X_test)\n",
    "nb_cfs_mtx = confusion_matrix(y_test, y_pred)\n",
    "\n",
    "sns.heatmap(nb_cfs_mtx/np.sum(nb_cfs_mtx), annot=True)"
   ]
  },
  {
   "cell_type": "markdown",
   "metadata": {},
   "source": [
    "# Word Embedding"
   ]
  },
  {
   "cell_type": "markdown",
   "metadata": {},
   "source": [
    "## One-hot encoding"
   ]
  },
  {
   "cell_type": "code",
   "execution_count": 30,
   "metadata": {},
   "outputs": [
    {
     "name": "stdout",
     "output_type": "stream",
     "text": [
      "4175\n"
     ]
    }
   ],
   "source": [
    "flat_tokens = [token for sublist in tokens for token in sublist]\n",
    "print(len(flat_tokens))\n"
   ]
  },
  {
   "cell_type": "code",
   "execution_count": 31,
   "metadata": {},
   "outputs": [
    {
     "data": {
      "text/html": [
       "<style>#sk-container-id-1 {\n",
       "  /* Definition of color scheme common for light and dark mode */\n",
       "  --sklearn-color-text: #000;\n",
       "  --sklearn-color-text-muted: #666;\n",
       "  --sklearn-color-line: gray;\n",
       "  /* Definition of color scheme for unfitted estimators */\n",
       "  --sklearn-color-unfitted-level-0: #fff5e6;\n",
       "  --sklearn-color-unfitted-level-1: #f6e4d2;\n",
       "  --sklearn-color-unfitted-level-2: #ffe0b3;\n",
       "  --sklearn-color-unfitted-level-3: chocolate;\n",
       "  /* Definition of color scheme for fitted estimators */\n",
       "  --sklearn-color-fitted-level-0: #f0f8ff;\n",
       "  --sklearn-color-fitted-level-1: #d4ebff;\n",
       "  --sklearn-color-fitted-level-2: #b3dbfd;\n",
       "  --sklearn-color-fitted-level-3: cornflowerblue;\n",
       "\n",
       "  /* Specific color for light theme */\n",
       "  --sklearn-color-text-on-default-background: var(--sg-text-color, var(--theme-code-foreground, var(--jp-content-font-color1, black)));\n",
       "  --sklearn-color-background: var(--sg-background-color, var(--theme-background, var(--jp-layout-color0, white)));\n",
       "  --sklearn-color-border-box: var(--sg-text-color, var(--theme-code-foreground, var(--jp-content-font-color1, black)));\n",
       "  --sklearn-color-icon: #696969;\n",
       "\n",
       "  @media (prefers-color-scheme: dark) {\n",
       "    /* Redefinition of color scheme for dark theme */\n",
       "    --sklearn-color-text-on-default-background: var(--sg-text-color, var(--theme-code-foreground, var(--jp-content-font-color1, white)));\n",
       "    --sklearn-color-background: var(--sg-background-color, var(--theme-background, var(--jp-layout-color0, #111)));\n",
       "    --sklearn-color-border-box: var(--sg-text-color, var(--theme-code-foreground, var(--jp-content-font-color1, white)));\n",
       "    --sklearn-color-icon: #878787;\n",
       "  }\n",
       "}\n",
       "\n",
       "#sk-container-id-1 {\n",
       "  color: var(--sklearn-color-text);\n",
       "}\n",
       "\n",
       "#sk-container-id-1 pre {\n",
       "  padding: 0;\n",
       "}\n",
       "\n",
       "#sk-container-id-1 input.sk-hidden--visually {\n",
       "  border: 0;\n",
       "  clip: rect(1px 1px 1px 1px);\n",
       "  clip: rect(1px, 1px, 1px, 1px);\n",
       "  height: 1px;\n",
       "  margin: -1px;\n",
       "  overflow: hidden;\n",
       "  padding: 0;\n",
       "  position: absolute;\n",
       "  width: 1px;\n",
       "}\n",
       "\n",
       "#sk-container-id-1 div.sk-dashed-wrapped {\n",
       "  border: 1px dashed var(--sklearn-color-line);\n",
       "  margin: 0 0.4em 0.5em 0.4em;\n",
       "  box-sizing: border-box;\n",
       "  padding-bottom: 0.4em;\n",
       "  background-color: var(--sklearn-color-background);\n",
       "}\n",
       "\n",
       "#sk-container-id-1 div.sk-container {\n",
       "  /* jupyter's `normalize.less` sets `[hidden] { display: none; }`\n",
       "     but bootstrap.min.css set `[hidden] { display: none !important; }`\n",
       "     so we also need the `!important` here to be able to override the\n",
       "     default hidden behavior on the sphinx rendered scikit-learn.org.\n",
       "     See: https://github.com/scikit-learn/scikit-learn/issues/21755 */\n",
       "  display: inline-block !important;\n",
       "  position: relative;\n",
       "}\n",
       "\n",
       "#sk-container-id-1 div.sk-text-repr-fallback {\n",
       "  display: none;\n",
       "}\n",
       "\n",
       "div.sk-parallel-item,\n",
       "div.sk-serial,\n",
       "div.sk-item {\n",
       "  /* draw centered vertical line to link estimators */\n",
       "  background-image: linear-gradient(var(--sklearn-color-text-on-default-background), var(--sklearn-color-text-on-default-background));\n",
       "  background-size: 2px 100%;\n",
       "  background-repeat: no-repeat;\n",
       "  background-position: center center;\n",
       "}\n",
       "\n",
       "/* Parallel-specific style estimator block */\n",
       "\n",
       "#sk-container-id-1 div.sk-parallel-item::after {\n",
       "  content: \"\";\n",
       "  width: 100%;\n",
       "  border-bottom: 2px solid var(--sklearn-color-text-on-default-background);\n",
       "  flex-grow: 1;\n",
       "}\n",
       "\n",
       "#sk-container-id-1 div.sk-parallel {\n",
       "  display: flex;\n",
       "  align-items: stretch;\n",
       "  justify-content: center;\n",
       "  background-color: var(--sklearn-color-background);\n",
       "  position: relative;\n",
       "}\n",
       "\n",
       "#sk-container-id-1 div.sk-parallel-item {\n",
       "  display: flex;\n",
       "  flex-direction: column;\n",
       "}\n",
       "\n",
       "#sk-container-id-1 div.sk-parallel-item:first-child::after {\n",
       "  align-self: flex-end;\n",
       "  width: 50%;\n",
       "}\n",
       "\n",
       "#sk-container-id-1 div.sk-parallel-item:last-child::after {\n",
       "  align-self: flex-start;\n",
       "  width: 50%;\n",
       "}\n",
       "\n",
       "#sk-container-id-1 div.sk-parallel-item:only-child::after {\n",
       "  width: 0;\n",
       "}\n",
       "\n",
       "/* Serial-specific style estimator block */\n",
       "\n",
       "#sk-container-id-1 div.sk-serial {\n",
       "  display: flex;\n",
       "  flex-direction: column;\n",
       "  align-items: center;\n",
       "  background-color: var(--sklearn-color-background);\n",
       "  padding-right: 1em;\n",
       "  padding-left: 1em;\n",
       "}\n",
       "\n",
       "\n",
       "/* Toggleable style: style used for estimator/Pipeline/ColumnTransformer box that is\n",
       "clickable and can be expanded/collapsed.\n",
       "- Pipeline and ColumnTransformer use this feature and define the default style\n",
       "- Estimators will overwrite some part of the style using the `sk-estimator` class\n",
       "*/\n",
       "\n",
       "/* Pipeline and ColumnTransformer style (default) */\n",
       "\n",
       "#sk-container-id-1 div.sk-toggleable {\n",
       "  /* Default theme specific background. It is overwritten whether we have a\n",
       "  specific estimator or a Pipeline/ColumnTransformer */\n",
       "  background-color: var(--sklearn-color-background);\n",
       "}\n",
       "\n",
       "/* Toggleable label */\n",
       "#sk-container-id-1 label.sk-toggleable__label {\n",
       "  cursor: pointer;\n",
       "  display: flex;\n",
       "  width: 100%;\n",
       "  margin-bottom: 0;\n",
       "  padding: 0.5em;\n",
       "  box-sizing: border-box;\n",
       "  text-align: center;\n",
       "  align-items: start;\n",
       "  justify-content: space-between;\n",
       "  gap: 0.5em;\n",
       "}\n",
       "\n",
       "#sk-container-id-1 label.sk-toggleable__label .caption {\n",
       "  font-size: 0.6rem;\n",
       "  font-weight: lighter;\n",
       "  color: var(--sklearn-color-text-muted);\n",
       "}\n",
       "\n",
       "#sk-container-id-1 label.sk-toggleable__label-arrow:before {\n",
       "  /* Arrow on the left of the label */\n",
       "  content: \"▸\";\n",
       "  float: left;\n",
       "  margin-right: 0.25em;\n",
       "  color: var(--sklearn-color-icon);\n",
       "}\n",
       "\n",
       "#sk-container-id-1 label.sk-toggleable__label-arrow:hover:before {\n",
       "  color: var(--sklearn-color-text);\n",
       "}\n",
       "\n",
       "/* Toggleable content - dropdown */\n",
       "\n",
       "#sk-container-id-1 div.sk-toggleable__content {\n",
       "  max-height: 0;\n",
       "  max-width: 0;\n",
       "  overflow: hidden;\n",
       "  text-align: left;\n",
       "  /* unfitted */\n",
       "  background-color: var(--sklearn-color-unfitted-level-0);\n",
       "}\n",
       "\n",
       "#sk-container-id-1 div.sk-toggleable__content.fitted {\n",
       "  /* fitted */\n",
       "  background-color: var(--sklearn-color-fitted-level-0);\n",
       "}\n",
       "\n",
       "#sk-container-id-1 div.sk-toggleable__content pre {\n",
       "  margin: 0.2em;\n",
       "  border-radius: 0.25em;\n",
       "  color: var(--sklearn-color-text);\n",
       "  /* unfitted */\n",
       "  background-color: var(--sklearn-color-unfitted-level-0);\n",
       "}\n",
       "\n",
       "#sk-container-id-1 div.sk-toggleable__content.fitted pre {\n",
       "  /* unfitted */\n",
       "  background-color: var(--sklearn-color-fitted-level-0);\n",
       "}\n",
       "\n",
       "#sk-container-id-1 input.sk-toggleable__control:checked~div.sk-toggleable__content {\n",
       "  /* Expand drop-down */\n",
       "  max-height: 200px;\n",
       "  max-width: 100%;\n",
       "  overflow: auto;\n",
       "}\n",
       "\n",
       "#sk-container-id-1 input.sk-toggleable__control:checked~label.sk-toggleable__label-arrow:before {\n",
       "  content: \"▾\";\n",
       "}\n",
       "\n",
       "/* Pipeline/ColumnTransformer-specific style */\n",
       "\n",
       "#sk-container-id-1 div.sk-label input.sk-toggleable__control:checked~label.sk-toggleable__label {\n",
       "  color: var(--sklearn-color-text);\n",
       "  background-color: var(--sklearn-color-unfitted-level-2);\n",
       "}\n",
       "\n",
       "#sk-container-id-1 div.sk-label.fitted input.sk-toggleable__control:checked~label.sk-toggleable__label {\n",
       "  background-color: var(--sklearn-color-fitted-level-2);\n",
       "}\n",
       "\n",
       "/* Estimator-specific style */\n",
       "\n",
       "/* Colorize estimator box */\n",
       "#sk-container-id-1 div.sk-estimator input.sk-toggleable__control:checked~label.sk-toggleable__label {\n",
       "  /* unfitted */\n",
       "  background-color: var(--sklearn-color-unfitted-level-2);\n",
       "}\n",
       "\n",
       "#sk-container-id-1 div.sk-estimator.fitted input.sk-toggleable__control:checked~label.sk-toggleable__label {\n",
       "  /* fitted */\n",
       "  background-color: var(--sklearn-color-fitted-level-2);\n",
       "}\n",
       "\n",
       "#sk-container-id-1 div.sk-label label.sk-toggleable__label,\n",
       "#sk-container-id-1 div.sk-label label {\n",
       "  /* The background is the default theme color */\n",
       "  color: var(--sklearn-color-text-on-default-background);\n",
       "}\n",
       "\n",
       "/* On hover, darken the color of the background */\n",
       "#sk-container-id-1 div.sk-label:hover label.sk-toggleable__label {\n",
       "  color: var(--sklearn-color-text);\n",
       "  background-color: var(--sklearn-color-unfitted-level-2);\n",
       "}\n",
       "\n",
       "/* Label box, darken color on hover, fitted */\n",
       "#sk-container-id-1 div.sk-label.fitted:hover label.sk-toggleable__label.fitted {\n",
       "  color: var(--sklearn-color-text);\n",
       "  background-color: var(--sklearn-color-fitted-level-2);\n",
       "}\n",
       "\n",
       "/* Estimator label */\n",
       "\n",
       "#sk-container-id-1 div.sk-label label {\n",
       "  font-family: monospace;\n",
       "  font-weight: bold;\n",
       "  display: inline-block;\n",
       "  line-height: 1.2em;\n",
       "}\n",
       "\n",
       "#sk-container-id-1 div.sk-label-container {\n",
       "  text-align: center;\n",
       "}\n",
       "\n",
       "/* Estimator-specific */\n",
       "#sk-container-id-1 div.sk-estimator {\n",
       "  font-family: monospace;\n",
       "  border: 1px dotted var(--sklearn-color-border-box);\n",
       "  border-radius: 0.25em;\n",
       "  box-sizing: border-box;\n",
       "  margin-bottom: 0.5em;\n",
       "  /* unfitted */\n",
       "  background-color: var(--sklearn-color-unfitted-level-0);\n",
       "}\n",
       "\n",
       "#sk-container-id-1 div.sk-estimator.fitted {\n",
       "  /* fitted */\n",
       "  background-color: var(--sklearn-color-fitted-level-0);\n",
       "}\n",
       "\n",
       "/* on hover */\n",
       "#sk-container-id-1 div.sk-estimator:hover {\n",
       "  /* unfitted */\n",
       "  background-color: var(--sklearn-color-unfitted-level-2);\n",
       "}\n",
       "\n",
       "#sk-container-id-1 div.sk-estimator.fitted:hover {\n",
       "  /* fitted */\n",
       "  background-color: var(--sklearn-color-fitted-level-2);\n",
       "}\n",
       "\n",
       "/* Specification for estimator info (e.g. \"i\" and \"?\") */\n",
       "\n",
       "/* Common style for \"i\" and \"?\" */\n",
       "\n",
       ".sk-estimator-doc-link,\n",
       "a:link.sk-estimator-doc-link,\n",
       "a:visited.sk-estimator-doc-link {\n",
       "  float: right;\n",
       "  font-size: smaller;\n",
       "  line-height: 1em;\n",
       "  font-family: monospace;\n",
       "  background-color: var(--sklearn-color-background);\n",
       "  border-radius: 1em;\n",
       "  height: 1em;\n",
       "  width: 1em;\n",
       "  text-decoration: none !important;\n",
       "  margin-left: 0.5em;\n",
       "  text-align: center;\n",
       "  /* unfitted */\n",
       "  border: var(--sklearn-color-unfitted-level-1) 1pt solid;\n",
       "  color: var(--sklearn-color-unfitted-level-1);\n",
       "}\n",
       "\n",
       ".sk-estimator-doc-link.fitted,\n",
       "a:link.sk-estimator-doc-link.fitted,\n",
       "a:visited.sk-estimator-doc-link.fitted {\n",
       "  /* fitted */\n",
       "  border: var(--sklearn-color-fitted-level-1) 1pt solid;\n",
       "  color: var(--sklearn-color-fitted-level-1);\n",
       "}\n",
       "\n",
       "/* On hover */\n",
       "div.sk-estimator:hover .sk-estimator-doc-link:hover,\n",
       ".sk-estimator-doc-link:hover,\n",
       "div.sk-label-container:hover .sk-estimator-doc-link:hover,\n",
       ".sk-estimator-doc-link:hover {\n",
       "  /* unfitted */\n",
       "  background-color: var(--sklearn-color-unfitted-level-3);\n",
       "  color: var(--sklearn-color-background);\n",
       "  text-decoration: none;\n",
       "}\n",
       "\n",
       "div.sk-estimator.fitted:hover .sk-estimator-doc-link.fitted:hover,\n",
       ".sk-estimator-doc-link.fitted:hover,\n",
       "div.sk-label-container:hover .sk-estimator-doc-link.fitted:hover,\n",
       ".sk-estimator-doc-link.fitted:hover {\n",
       "  /* fitted */\n",
       "  background-color: var(--sklearn-color-fitted-level-3);\n",
       "  color: var(--sklearn-color-background);\n",
       "  text-decoration: none;\n",
       "}\n",
       "\n",
       "/* Span, style for the box shown on hovering the info icon */\n",
       ".sk-estimator-doc-link span {\n",
       "  display: none;\n",
       "  z-index: 9999;\n",
       "  position: relative;\n",
       "  font-weight: normal;\n",
       "  right: .2ex;\n",
       "  padding: .5ex;\n",
       "  margin: .5ex;\n",
       "  width: min-content;\n",
       "  min-width: 20ex;\n",
       "  max-width: 50ex;\n",
       "  color: var(--sklearn-color-text);\n",
       "  box-shadow: 2pt 2pt 4pt #999;\n",
       "  /* unfitted */\n",
       "  background: var(--sklearn-color-unfitted-level-0);\n",
       "  border: .5pt solid var(--sklearn-color-unfitted-level-3);\n",
       "}\n",
       "\n",
       ".sk-estimator-doc-link.fitted span {\n",
       "  /* fitted */\n",
       "  background: var(--sklearn-color-fitted-level-0);\n",
       "  border: var(--sklearn-color-fitted-level-3);\n",
       "}\n",
       "\n",
       ".sk-estimator-doc-link:hover span {\n",
       "  display: block;\n",
       "}\n",
       "\n",
       "/* \"?\"-specific style due to the `<a>` HTML tag */\n",
       "\n",
       "#sk-container-id-1 a.estimator_doc_link {\n",
       "  float: right;\n",
       "  font-size: 1rem;\n",
       "  line-height: 1em;\n",
       "  font-family: monospace;\n",
       "  background-color: var(--sklearn-color-background);\n",
       "  border-radius: 1rem;\n",
       "  height: 1rem;\n",
       "  width: 1rem;\n",
       "  text-decoration: none;\n",
       "  /* unfitted */\n",
       "  color: var(--sklearn-color-unfitted-level-1);\n",
       "  border: var(--sklearn-color-unfitted-level-1) 1pt solid;\n",
       "}\n",
       "\n",
       "#sk-container-id-1 a.estimator_doc_link.fitted {\n",
       "  /* fitted */\n",
       "  border: var(--sklearn-color-fitted-level-1) 1pt solid;\n",
       "  color: var(--sklearn-color-fitted-level-1);\n",
       "}\n",
       "\n",
       "/* On hover */\n",
       "#sk-container-id-1 a.estimator_doc_link:hover {\n",
       "  /* unfitted */\n",
       "  background-color: var(--sklearn-color-unfitted-level-3);\n",
       "  color: var(--sklearn-color-background);\n",
       "  text-decoration: none;\n",
       "}\n",
       "\n",
       "#sk-container-id-1 a.estimator_doc_link.fitted:hover {\n",
       "  /* fitted */\n",
       "  background-color: var(--sklearn-color-fitted-level-3);\n",
       "}\n",
       "</style><div id=\"sk-container-id-1\" class=\"sk-top-container\"><div class=\"sk-text-repr-fallback\"><pre>LabelEncoder()</pre><b>In a Jupyter environment, please rerun this cell to show the HTML representation or trust the notebook. <br />On GitHub, the HTML representation is unable to render, please try loading this page with nbviewer.org.</b></div><div class=\"sk-container\" hidden><div class=\"sk-item\"><div class=\"sk-estimator fitted sk-toggleable\"><input class=\"sk-toggleable__control sk-hidden--visually\" id=\"sk-estimator-id-1\" type=\"checkbox\" checked><label for=\"sk-estimator-id-1\" class=\"sk-toggleable__label fitted sk-toggleable__label-arrow\"><div><div>LabelEncoder</div></div><div><a class=\"sk-estimator-doc-link fitted\" rel=\"noreferrer\" target=\"_blank\" href=\"https://scikit-learn.org/1.6/modules/generated/sklearn.preprocessing.LabelEncoder.html\">?<span>Documentation for LabelEncoder</span></a><span class=\"sk-estimator-doc-link fitted\">i<span>Fitted</span></span></div></label><div class=\"sk-toggleable__content fitted\"><pre>LabelEncoder()</pre></div> </div></div></div></div>"
      ],
      "text/plain": [
       "LabelEncoder()"
      ]
     },
     "execution_count": 31,
     "metadata": {},
     "output_type": "execute_result"
    }
   ],
   "source": [
    "le = LabelEncoder()\n",
    "le.fit(flat_tokens)"
   ]
  },
  {
   "cell_type": "code",
   "execution_count": 32,
   "metadata": {},
   "outputs": [
    {
     "name": "stdout",
     "output_type": "stream",
     "text": [
      "Class of words:  ['abl' 'aboard' 'absent' ... 'zen' 'zero' 'zombi']\n",
      "[ 488   49 1286 ...  287 1085  493]\n",
      "['fun' 'ambient' 'violent' ... 'date' 'sim' 'game']\n"
     ]
    }
   ],
   "source": [
    "print('Class of words: ', le.classes_)\n",
    "lbl_encoded = le.transform(flat_tokens)\n",
    "print(lbl_encoded)\n",
    "print(le.inverse_transform(lbl_encoded))"
   ]
  },
  {
   "cell_type": "code",
   "execution_count": 33,
   "metadata": {},
   "outputs": [
    {
     "name": "stdout",
     "output_type": "stream",
     "text": [
      "Classes_indices:  [(np.str_('abl'), np.int64(0)), (np.str_('aboard'), np.int64(1)), (np.str_('absent'), np.int64(2)), (np.str_('absolut'), np.int64(3)), (np.str_('acceler'), np.int64(4)), (np.str_('accept'), np.int64(5)), (np.str_('access'), np.int64(6)), (np.str_('accomplish'), np.int64(7)), (np.str_('accord'), np.int64(8)), (np.str_('account'), np.int64(9)), (np.str_('accustom'), np.int64(10)), (np.str_('achiev'), np.int64(11)), (np.str_('acquir'), np.int64(12)), (np.str_('across'), np.int64(13)), (np.str_('act'), np.int64(14)), (np.str_('action'), np.int64(15)), (np.str_('actress'), np.int64(16)), (np.str_('actual'), np.int64(17)), (np.str_('add'), np.int64(18)), (np.str_('addict'), np.int64(19)), (np.str_('addit'), np.int64(20)), (np.str_('address'), np.int64(21)), (np.str_('admittedli'), np.int64(22)), (np.str_('adrenalin'), np.int64(23)), (np.str_('advantag'), np.int64(24)), (np.str_('adventur'), np.int64(25)), (np.str_('advertis'), np.int64(26)), (np.str_('aforement'), np.int64(27)), (np.str_('afraid'), np.int64(28)), (np.str_('africa'), np.int64(29)), (np.str_('aftermath'), np.int64(30)), (np.str_('age'), np.int64(31)), (np.str_('agreement'), np.int64(32)), (np.str_('ai'), np.int64(33)), (np.str_('aim'), np.int64(34)), (np.str_('air'), np.int64(35)), (np.str_('alex'), np.int64(36)), (np.str_('aliv'), np.int64(37)), (np.str_('allow'), np.int64(38)), (np.str_('almost'), np.int64(39)), (np.str_('alon'), np.int64(40)), (np.str_('along'), np.int64(41)), (np.str_('alongsid'), np.int64(42)), (np.str_('alreadi'), np.int64(43)), (np.str_('alright'), np.int64(44)), (np.str_('also'), np.int64(45)), (np.str_('although'), np.int64(46)), (np.str_('alway'), np.int64(47)), (np.str_('amaz'), np.int64(48)), (np.str_('ambient'), np.int64(49)), (np.str_('ambit'), np.int64(50)), (np.str_('among'), np.int64(51)), (np.str_('amount'), np.int64(52)), (np.str_('amp'), np.int64(53)), (np.str_('amus'), np.int64(54)), (np.str_('andi'), np.int64(55)), (np.str_('anim'), np.int64(56)), (np.str_('annoy'), np.int64(57)), (np.str_('anoth'), np.int64(58)), (np.str_('answer'), np.int64(59)), (np.str_('anyon'), np.int64(60)), (np.str_('anyth'), np.int64(61)), (np.str_('appar'), np.int64(62)), (np.str_('appli'), np.int64(63)), (np.str_('appreci'), np.int64(64)), (np.str_('appropri'), np.int64(65)), (np.str_('arcad'), np.int64(66)), (np.str_('archer'), np.int64(67)), (np.str_('area'), np.int64(68)), (np.str_('argu'), np.int64(69)), (np.str_('around'), np.int64(70)), (np.str_('arrow'), np.int64(71)), (np.str_('art'), np.int64(72)), (np.str_('artifici'), np.int64(73)), (np.str_('ask'), np.int64(74)), (np.str_('assassin'), np.int64(75)), (np.str_('asset'), np.int64(76)), (np.str_('assign'), np.int64(77)), (np.str_('assist'), np.int64(78)), (np.str_('associ'), np.int64(79)), (np.str_('atari'), np.int64(80)), (np.str_('attack'), np.int64(81)), (np.str_('attempt'), np.int64(82)), (np.str_('aura'), np.int64(83)), (np.str_('australian'), np.int64(84)), (np.str_('authent'), np.int64(85)), (np.str_('author'), np.int64(86)), (np.str_('auto'), np.int64(87)), (np.str_('automat'), np.int64(88)), (np.str_('avail'), np.int64(89)), (np.str_('averag'), np.int64(90)), (np.str_('aw'), np.int64(91)), (np.str_('award'), np.int64(92)), (np.str_('away'), np.int64(93)), (np.str_('awe'), np.int64(94)), (np.str_('awesom'), np.int64(95)), (np.str_('b'), np.int64(96)), (np.str_('babi'), np.int64(97)), (np.str_('back'), np.int64(98)), (np.str_('bad'), np.int64(99)), (np.str_('balanc'), np.int64(100)), (np.str_('ball'), np.int64(101)), (np.str_('ban'), np.int64(102)), (np.str_('barbarian'), np.int64(103)), (np.str_('barrier'), np.int64(104)), (np.str_('base'), np.int64(105)), (np.str_('basic'), np.int64(106)), (np.str_('batman'), np.int64(107)), (np.str_('battl'), np.int64(108)), (np.str_('battlefield'), np.int64(109)), (np.str_('beach'), np.int64(110)), (np.str_('beat'), np.int64(111)), (np.str_('beauti'), np.int64(112)), (np.str_('becom'), np.int64(113)), (np.str_('bedroom'), np.int64(114)), (np.str_('begin'), np.int64(115)), (np.str_('behaviour'), np.int64(116)), (np.str_('behind'), np.int64(117)), (np.str_('believ'), np.int64(118)), (np.str_('besid'), np.int64(119)), (np.str_('best'), np.int64(120)), (np.str_('beta'), np.int64(121)), (np.str_('better'), np.int64(122)), (np.str_('beyond'), np.int64(123)), (np.str_('big'), np.int64(124)), (np.str_('bigger'), np.int64(125)), (np.str_('biggest'), np.int64(126)), (np.str_('bit'), np.int64(127)), (np.str_('bizarr'), np.int64(128)), (np.str_('black'), np.int64(129)), (np.str_('blast'), np.int64(130)), (np.str_('blend'), np.int64(131)), (np.str_('block'), np.int64(132)), (np.str_('blow'), np.int64(133)), (np.str_('blunder'), np.int64(134)), (np.str_('board'), np.int64(135)), (np.str_('boat'), np.int64(136)), (np.str_('bodi'), np.int64(137)), (np.str_('bog'), np.int64(138)), (np.str_('book'), np.int64(139)), (np.str_('bore'), np.int64(140)), (np.str_('boss'), np.int64(141)), (np.str_('bought'), np.int64(142)), (np.str_('box'), np.int64(143)), (np.str_('branch'), np.int64(144)), (np.str_('break'), np.int64(145)), (np.str_('breakdown'), np.int64(146)), (np.str_('bright'), np.int64(147)), (np.str_('bring'), np.int64(148)), (np.str_('broke'), np.int64(149)), (np.str_('broken'), np.int64(150)), (np.str_('brought'), np.int64(151)), (np.str_('bruce'), np.int64(152)), (np.str_('buck'), np.int64(153)), (np.str_('bug'), np.int64(154)), (np.str_('build'), np.int64(155)), (np.str_('bunch'), np.int64(156)), (np.str_('bundl'), np.int64(157)), (np.str_('burn'), np.int64(158)), (np.str_('burnt'), np.int64(159)), (np.str_('busywork'), np.int64(160)), (np.str_('button'), np.int64(161)), (np.str_('buy'), np.int64(162)), (np.str_('bye'), np.int64(163)), (np.str_('cage'), np.int64(164)), (np.str_('call'), np.int64(165)), (np.str_('came'), np.int64(166)), (np.str_('camera'), np.int64(167)), (np.str_('campaign'), np.int64(168)), (np.str_('candid'), np.int64(169)), (np.str_('cant'), np.int64(170)), (np.str_('car'), np.int64(171)), (np.str_('card'), np.int64(172)), (np.str_('care'), np.int64(173)), (np.str_('carefre'), np.int64(174)), (np.str_('caribbean'), np.int64(175)), (np.str_('carri'), np.int64(176)), (np.str_('carv'), np.int64(177)), (np.str_('case'), np.int64(178)), (np.str_('castl'), np.int64(179)), (np.str_('cat'), np.int64(180)), (np.str_('caus'), np.int64(181)), (np.str_('cent'), np.int64(182)), (np.str_('center'), np.int64(183)), (np.str_('certain'), np.int64(184)), (np.str_('certainli'), np.int64(185)), (np.str_('chain'), np.int64(186)), (np.str_('challeng'), np.int64(187)), (np.str_('chanc'), np.int64(188)), (np.str_('chang'), np.int64(189)), (np.str_('charact'), np.int64(190)), (np.str_('charm'), np.int64(191)), (np.str_('cheap'), np.int64(192)), (np.str_('checkpoint'), np.int64(193)), (np.str_('childhood'), np.int64(194)), (np.str_('choic'), np.int64(195)), (np.str_('choos'), np.int64(196)), (np.str_('circumst'), np.int64(197)), (np.str_('citi'), np.int64(198)), (np.str_('citizen'), np.int64(199)), (np.str_('claim'), np.int64(200)), (np.str_('class'), np.int64(201)), (np.str_('classic'), np.int64(202)), (np.str_('claustrophob'), np.int64(203)), (np.str_('clean'), np.int64(204)), (np.str_('clearli'), np.int64(205)), (np.str_('clone'), np.int64(206)), (np.str_('close'), np.int64(207)), (np.str_('closer'), np.int64(208)), (np.str_('cloth'), np.int64(209)), (np.str_('clue'), np.int64(210)), (np.str_('clunki'), np.int64(211)), (np.str_('cluster'), np.int64(212)), (np.str_('coffe'), np.int64(213)), (np.str_('cold'), np.int64(214)), (np.str_('collect'), np.int64(215)), (np.str_('color'), np.int64(216)), (np.str_('combat'), np.int64(217)), (np.str_('come'), np.int64(218)), (np.str_('comfort'), np.int64(219)), (np.str_('comic'), np.int64(220)), (np.str_('command'), np.int64(221)), (np.str_('commun'), np.int64(222)), (np.str_('companion'), np.int64(223)), (np.str_('compar'), np.int64(224)), (np.str_('compil'), np.int64(225)), (np.str_('complaint'), np.int64(226)), (np.str_('complet'), np.int64(227)), (np.str_('complex'), np.int64(228)), (np.str_('compon'), np.int64(229)), (np.str_('comput'), np.int64(230)), (np.str_('con'), np.int64(231)), (np.str_('concept'), np.int64(232)), (np.str_('concern'), np.int64(233)), (np.str_('conclud'), np.int64(234)), (np.str_('conclus'), np.int64(235)), (np.str_('condit'), np.int64(236)), (np.str_('connect'), np.int64(237)), (np.str_('conquer'), np.int64(238)), (np.str_('consider'), np.int64(239)), (np.str_('consist'), np.int64(240)), (np.str_('consol'), np.int64(241)), (np.str_('consolid'), np.int64(242)), (np.str_('constant'), np.int64(243)), (np.str_('contain'), np.int64(244)), (np.str_('content'), np.int64(245)), (np.str_('continu'), np.int64(246)), (np.str_('control'), np.int64(247)), (np.str_('conveni'), np.int64(248)), (np.str_('convent'), np.int64(249)), (np.str_('convers'), np.int64(250)), (np.str_('cool'), np.int64(251)), (np.str_('coop'), np.int64(252)), (np.str_('corpor'), np.int64(253)), (np.str_('correct'), np.int64(254)), (np.str_('correctli'), np.int64(255)), (np.str_('cost'), np.int64(256)), (np.str_('costum'), np.int64(257)), (np.str_('could'), np.int64(258)), (np.str_('countrysid'), np.int64(259)), (np.str_('coupl'), np.int64(260)), (np.str_('cours'), np.int64(261)), (np.str_('craft'), np.int64(262)), (np.str_('crap'), np.int64(263)), (np.str_('crash'), np.int64(264)), (np.str_('crazi'), np.int64(265)), (np.str_('creat'), np.int64(266)), (np.str_('creativ'), np.int64(267)), (np.str_('creatur'), np.int64(268)), (np.str_('creed'), np.int64(269)), (np.str_('crew'), np.int64(270)), (np.str_('cri'), np.int64(271)), (np.str_('crime'), np.int64(272)), (np.str_('critic'), np.int64(273)), (np.str_('cross'), np.int64(274)), (np.str_('cube'), np.int64(275)), (np.str_('current'), np.int64(276)), (np.str_('custom'), np.int64(277)), (np.str_('cute'), np.int64(278)), (np.str_('cuz'), np.int64(279)), (np.str_('daili'), np.int64(280)), (np.str_('damag'), np.int64(281)), (np.str_('damn'), np.int64(282)), (np.str_('dark'), np.int64(283)), (np.str_('dash'), np.int64(284)), (np.str_('data'), np.int64(285)), (np.str_('databas'), np.int64(286)), (np.str_('date'), np.int64(287)), (np.str_('day'), np.int64(288)), (np.str_('de'), np.int64(289)), (np.str_('dead'), np.int64(290)), (np.str_('deal'), np.int64(291)), (np.str_('death'), np.int64(292)), (np.str_('decad'), np.int64(293)), (np.str_('decent'), np.int64(294)), (np.str_('deep'), np.int64(295)), (np.str_('defenc'), np.int64(296)), (np.str_('defin'), np.int64(297)), (np.str_('definit'), np.int64(298)), (np.str_('deliber'), np.int64(299)), (np.str_('delight'), np.int64(300)), (np.str_('democraci'), np.int64(301)), (np.str_('depend'), np.int64(302)), (np.str_('deserv'), np.int64(303)), (np.str_('design'), np.int64(304)), (np.str_('despis'), np.int64(305)), (np.str_('despit'), np.int64(306)), (np.str_('detail'), np.int64(307)), (np.str_('detect'), np.int64(308)), (np.str_('determin'), np.int64(309)), (np.str_('dev'), np.int64(310)), (np.str_('develop'), np.int64(311)), (np.str_('devil'), np.int64(312)), (np.str_('didnt'), np.int64(313)), (np.str_('die'), np.int64(314)), (np.str_('differ'), np.int64(315)), (np.str_('difficult'), np.int64(316)), (np.str_('difficulti'), np.int64(317)), (np.str_('dig'), np.int64(318)), (np.str_('dilig'), np.int64(319)), (np.str_('direct'), np.int64(320)), (np.str_('dirti'), np.int64(321)), (np.str_('disappoint'), np.int64(322)), (np.str_('disastr'), np.int64(323)), (np.str_('disclos'), np.int64(324)), (np.str_('discov'), np.int64(325)), (np.str_('disgust'), np.int64(326)), (np.str_('display'), np.int64(327)), (np.str_('distinct'), np.int64(328)), (np.str_('distract'), np.int64(329)), (np.str_('distribut'), np.int64(330)), (np.str_('dlc'), np.int64(331)), (np.str_('dna'), np.int64(332)), (np.str_('dog'), np.int64(333)), (np.str_('done'), np.int64(334)), (np.str_('doo'), np.int64(335)), (np.str_('door'), np.int64(336)), (np.str_('doubl'), np.int64(337)), (np.str_('doubt'), np.int64(338)), (np.str_('download'), np.int64(339)), (np.str_('dozen'), np.int64(340)), (np.str_('draw'), np.int64(341)), (np.str_('drawn'), np.int64(342)), (np.str_('dream'), np.int64(343)), (np.str_('dri'), np.int64(344)), (np.str_('drive'), np.int64(345)), (np.str_('driven'), np.int64(346)), (np.str_('dual'), np.int64(347)), (np.str_('due'), np.int64(348)), (np.str_('duel'), np.int64(349)), (np.str_('dull'), np.int64(350)), (np.str_('earli'), np.int64(351)), (np.str_('easi'), np.int64(352)), (np.str_('easier'), np.int64(353)), (np.str_('easiest'), np.int64(354)), (np.str_('easili'), np.int64(355)), (np.str_('ect'), np.int64(356)), (np.str_('ed'), np.int64(357)), (np.str_('edg'), np.int64(358)), (np.str_('edit'), np.int64(359)), (np.str_('edward'), np.int64(360)), (np.str_('effect'), np.int64(361)), (np.str_('effici'), np.int64(362)), (np.str_('effort'), np.int64(363)), (np.str_('eight'), np.int64(364)), (np.str_('either'), np.int64(365)), (np.str_('elabor'), np.int64(366)), (np.str_('element'), np.int64(367)), (np.str_('els'), np.int64(368)), (np.str_('elsewher'), np.int64(369)), (np.str_('em'), np.int64(370)), (np.str_('emot'), np.int64(371)), (np.str_('employ'), np.int64(372)), (np.str_('employe'), np.int64(373)), (np.str_('empti'), np.int64(374)), (np.str_('end'), np.int64(375)), (np.str_('endur'), np.int64(376)), (np.str_('enemi'), np.int64(377)), (np.str_('engag'), np.int64(378)), (np.str_('engin'), np.int64(379)), (np.str_('engross'), np.int64(380)), (np.str_('enjoy'), np.int64(381)), (np.str_('enough'), np.int64(382)), (np.str_('enslav'), np.int64(383)), (np.str_('entertain'), np.int64(384)), (np.str_('entir'), np.int64(385)), (np.str_('entireti'), np.int64(386)), (np.str_('epic'), np.int64(387)), (np.str_('episod'), np.int64(388)), (np.str_('equip'), np.int64(389)), (np.str_('errat'), np.int64(390)), (np.str_('error'), np.int64(391)), (np.str_('especi'), np.int64(392)), (np.str_('essenti'), np.int64(393)), (np.str_('even'), np.int64(394)), (np.str_('event'), np.int64(395)), (np.str_('eventu'), np.int64(396)), (np.str_('ever'), np.int64(397)), (np.str_('everi'), np.int64(398)), (np.str_('everyth'), np.int64(399)), (np.str_('evil'), np.int64(400)), (np.str_('exactli'), np.int64(401)), (np.str_('exampl'), np.int64(402)), (np.str_('excel'), np.int64(403)), (np.str_('except'), np.int64(404)), (np.str_('exe'), np.int64(405)), (np.str_('exist'), np.int64(406)), (np.str_('exit'), np.int64(407)), (np.str_('expect'), np.int64(408)), (np.str_('experi'), np.int64(409)), (np.str_('experienc'), np.int64(410)), (np.str_('explor'), np.int64(411)), (np.str_('express'), np.int64(412)), (np.str_('extens'), np.int64(413)), (np.str_('extent'), np.int64(414)), (np.str_('extra'), np.int64(415)), (np.str_('extraordinarili'), np.int64(416)), (np.str_('extrem'), np.int64(417)), (np.str_('fabul'), np.int64(418)), (np.str_('face'), np.int64(419)), (np.str_('facelift'), np.int64(420)), (np.str_('fact'), np.int64(421)), (np.str_('factor'), np.int64(422)), (np.str_('factori'), np.int64(423)), (np.str_('fair'), np.int64(424)), (np.str_('fairli'), np.int64(425)), (np.str_('fake'), np.int64(426)), (np.str_('fall'), np.int64(427)), (np.str_('famou'), np.int64(428)), (np.str_('fan'), np.int64(429)), (np.str_('fantast'), np.int64(430)), (np.str_('far'), np.int64(431)), (np.str_('fascin'), np.int64(432)), (np.str_('fast'), np.int64(433)), (np.str_('faster'), np.int64(434)), (np.str_('favorit'), np.int64(435)), (np.str_('favourit'), np.int64(436)), (np.str_('featur'), np.int64(437)), (np.str_('feel'), np.int64(438)), (np.str_('felt'), np.int64(439)), (np.str_('femal'), np.int64(440)), (np.str_('fic'), np.int64(441)), (np.str_('fiction'), np.int64(442)), (np.str_('field'), np.int64(443)), (np.str_('fight'), np.int64(444)), (np.str_('figur'), np.int64(445)), (np.str_('file'), np.int64(446)), (np.str_('fill'), np.int64(447)), (np.str_('film'), np.int64(448)), (np.str_('final'), np.int64(449)), (np.str_('find'), np.int64(450)), (np.str_('fine'), np.int64(451)), (np.str_('finger'), np.int64(452)), (np.str_('finish'), np.int64(453)), (np.str_('firepow'), np.int64(454)), (np.str_('first'), np.int64(455)), (np.str_('fit'), np.int64(456)), (np.str_('fix'), np.int64(457)), (np.str_('fk'), np.int64(458)), (np.str_('flag'), np.int64(459)), (np.str_('flash'), np.int64(460)), (np.str_('flashi'), np.int64(461)), (np.str_('flatout'), np.int64(462)), (np.str_('fled'), np.int64(463)), (np.str_('flew'), np.int64(464)), (np.str_('fli'), np.int64(465)), (np.str_('floor'), np.int64(466)), (np.str_('fluiditi'), np.int64(467)), (np.str_('focus'), np.int64(468)), (np.str_('follow'), np.int64(469)), (np.str_('footbal'), np.int64(470)), (np.str_('forev'), np.int64(471)), (np.str_('forgett'), np.int64(472)), (np.str_('forgot'), np.int64(473)), (np.str_('form'), np.int64(474)), (np.str_('format'), np.int64(475)), (np.str_('forward'), np.int64(476)), (np.str_('found'), np.int64(477)), (np.str_('fox'), np.int64(478)), (np.str_('fp'), np.int64(479)), (np.str_('frame'), np.int64(480)), (np.str_('franchis'), np.int64(481)), (np.str_('free'), np.int64(482)), (np.str_('frequent'), np.int64(483)), (np.str_('frey'), np.int64(484)), (np.str_('friend'), np.int64(485)), (np.str_('frustrat'), np.int64(486)), (np.str_('full'), np.int64(487)), (np.str_('fun'), np.int64(488)), (np.str_('funni'), np.int64(489)), (np.str_('futur'), np.int64(490)), (np.str_('ga'), np.int64(491)), (np.str_('gain'), np.int64(492)), (np.str_('game'), np.int64(493)), (np.str_('gang'), np.int64(494)), (np.str_('garbag'), np.int64(495)), (np.str_('garland'), np.int64(496)), (np.str_('gave'), np.int64(497)), (np.str_('gear'), np.int64(498)), (np.str_('gem'), np.int64(499)), (np.str_('gener'), np.int64(500)), (np.str_('genr'), np.int64(501)), (np.str_('get'), np.int64(502)), (np.str_('ghost'), np.int64(503)), (np.str_('girl'), np.int64(504)), (np.str_('give'), np.int64(505)), (np.str_('giveaway'), np.int64(506)), (np.str_('given'), np.int64(507)), (np.str_('glad'), np.int64(508)), (np.str_('glu'), np.int64(509)), (np.str_('go'), np.int64(510)), (np.str_('goal'), np.int64(511)), (np.str_('god'), np.int64(512)), (np.str_('goe'), np.int64(513)), (np.str_('gon'), np.int64(514)), (np.str_('good'), np.int64(515)), (np.str_('gore'), np.int64(516)), (np.str_('got'), np.int64(517)), (np.str_('gotten'), np.int64(518)), (np.str_('govern'), np.int64(519)), (np.str_('grammat'), np.int64(520)), (np.str_('grandfath'), np.int64(521)), (np.str_('grandmast'), np.int64(522)), (np.str_('graphic'), np.int64(523)), (np.str_('grappl'), np.int64(524)), (np.str_('great'), np.int64(525)), (np.str_('grimm'), np.int64(526)), (np.str_('group'), np.int64(527)), (np.str_('guess'), np.int64(528)), (np.str_('guid'), np.int64(529)), (np.str_('gun'), np.int64(530)), (np.str_('guy'), np.int64(531)), (np.str_('half'), np.int64(532)), (np.str_('halfway'), np.int64(533)), (np.str_('hand'), np.int64(534)), (np.str_('handicap'), np.int64(535)), (np.str_('happen'), np.int64(536)), (np.str_('hard'), np.int64(537)), (np.str_('hardcor'), np.int64(538)), (np.str_('harder'), np.int64(539)), (np.str_('hardest'), np.int64(540)), (np.str_('hardli'), np.int64(541)), (np.str_('havana'), np.int64(542)), (np.str_('hd'), np.int64(543)), (np.str_('he'), np.int64(544)), (np.str_('head'), np.int64(545)), (np.str_('headach'), np.int64(546)), (np.str_('health'), np.int64(547)), (np.str_('hear'), np.int64(548)), (np.str_('heart'), np.int64(549)), (np.str_('heavili'), np.int64(550)), (np.str_('held'), np.int64(551)), (np.str_('hell'), np.int64(552)), (np.str_('help'), np.int64(553)), (np.str_('hero'), np.int64(554)), (np.str_('hey'), np.int64(555)), (np.str_('hidden'), np.int64(556)), (np.str_('hide'), np.int64(557)), (np.str_('high'), np.int64(558)), (np.str_('highest'), np.int64(559)), (np.str_('highli'), np.int64(560)), (np.str_('hilari'), np.int64(561)), (np.str_('histori'), np.int64(562)), (np.str_('hit'), np.int64(563)), (np.str_('hole'), np.int64(564)), (np.str_('holi'), np.int64(565)), (np.str_('home'), np.int64(566)), (np.str_('honest'), np.int64(567)), (np.str_('honestli'), np.int64(568)), (np.str_('hook'), np.int64(569)), (np.str_('hope'), np.int64(570)), (np.str_('hord'), np.int64(571)), (np.str_('horribl'), np.int64(572)), (np.str_('horror'), np.int64(573)), (np.str_('hour'), np.int64(574)), (np.str_('hous'), np.int64(575)), (np.str_('howev'), np.int64(576)), (np.str_('hp'), np.int64(577)), (np.str_('hr'), np.int64(578)), (np.str_('huge'), np.int64(579)), (np.str_('humor'), np.int64(580)), (np.str_('hunt'), np.int64(581)), (np.str_('hunter'), np.int64(582)), (np.str_('hurt'), np.int64(583)), (np.str_('hype'), np.int64(584)), (np.str_('ice'), np.int64(585)), (np.str_('id'), np.int64(586)), (np.str_('idea'), np.int64(587)), (np.str_('identifi'), np.int64(588)), (np.str_('idl'), np.int64(589)), (np.str_('idol'), np.int64(590)), (np.str_('ign'), np.int64(591)), (np.str_('ignor'), np.int64(592)), (np.str_('iii'), np.int64(593)), (np.str_('ill'), np.int64(594)), (np.str_('im'), np.int64(595)), (np.str_('immers'), np.int64(596)), (np.str_('imo'), np.int64(597)), (np.str_('impedi'), np.int64(598)), (np.str_('import'), np.int64(599)), (np.str_('impress'), np.int64(600)), (np.str_('improv'), np.int64(601)), (np.str_('incap'), np.int64(602)), (np.str_('incarn'), np.int64(603)), (np.str_('includ'), np.int64(604)), (np.str_('incorpor'), np.int64(605)), (np.str_('increasingli'), np.int64(606)), (np.str_('incred'), np.int64(607)), (np.str_('indi'), np.int64(608)), (np.str_('induc'), np.int64(609)), (np.str_('inform'), np.int64(610)), (np.str_('infrastructur'), np.int64(611)), (np.str_('ing'), np.int64(612)), (np.str_('ini'), np.int64(613)), (np.str_('input'), np.int64(614)), (np.str_('instal'), np.int64(615)), (np.str_('instant'), np.int64(616)), (np.str_('instead'), np.int64(617)), (np.str_('intend'), np.int64(618)), (np.str_('intens'), np.int64(619)), (np.str_('intent'), np.int64(620)), (np.str_('interact'), np.int64(621)), (np.str_('interest'), np.int64(622)), (np.str_('interfac'), np.int64(623)), (np.str_('internet'), np.int64(624)), (np.str_('interpret'), np.int64(625)), (np.str_('interview'), np.int64(626)), (np.str_('introduct'), np.int64(627)), (np.str_('involv'), np.int64(628)), (np.str_('island'), np.int64(629)), (np.str_('issu'), np.int64(630)), (np.str_('itch'), np.int64(631)), (np.str_('item'), np.int64(632)), (np.str_('iv'), np.int64(633)), (np.str_('ive'), np.int64(634)), (np.str_('jame'), np.int64(635)), (np.str_('jeff'), np.int64(636)), (np.str_('job'), np.int64(637)), (np.str_('joke'), np.int64(638)), (np.str_('joy'), np.int64(639)), (np.str_('jump'), np.int64(640)), (np.str_('keep'), np.int64(641)), (np.str_('key'), np.int64(642)), (np.str_('keyboard'), np.int64(643)), (np.str_('kid'), np.int64(644)), (np.str_('kidd'), np.int64(645)), (np.str_('kill'), np.int64(646)), (np.str_('kind'), np.int64(647)), (np.str_('kinda'), np.int64(648)), (np.str_('kingston'), np.int64(649)), (np.str_('kitti'), np.int64(650)), (np.str_('knew'), np.int64(651)), (np.str_('knight'), np.int64(652)), (np.str_('know'), np.int64(653)), (np.str_('known'), np.int64(654)), (np.str_('lack'), np.int64(655)), (np.str_('lag'), np.int64(656)), (np.str_('land'), np.int64(657)), (np.str_('laptop'), np.int64(658)), (np.str_('larg'), np.int64(659)), (np.str_('larger'), np.int64(660)), (np.str_('last'), np.int64(661)), (np.str_('later'), np.int64(662)), (np.str_('launch'), np.int64(663)), (np.str_('lazi'), np.int64(664)), (np.str_('lead'), np.int64(665)), (np.str_('learnt'), np.int64(666)), (np.str_('least'), np.int64(667)), (np.str_('leav'), np.int64(668)), (np.str_('left'), np.int64(669)), (np.str_('leg'), np.int64(670)), (np.str_('legaci'), np.int64(671)), (np.str_('less'), np.int64(672)), (np.str_('lesser'), np.int64(673)), (np.str_('let'), np.int64(674)), (np.str_('level'), np.int64(675)), (np.str_('liabl'), np.int64(676)), (np.str_('licens'), np.int64(677)), (np.str_('life'), np.int64(678)), (np.str_('lightheart'), np.int64(679)), (np.str_('like'), np.int64(680)), (np.str_('likeabl'), np.int64(681)), (np.str_('likelihood'), np.int64(682)), (np.str_('limit'), np.int64(683)), (np.str_('line'), np.int64(684)), (np.str_('list'), np.int64(685)), (np.str_('liter'), np.int64(686)), (np.str_('littl'), np.int64(687)), (np.str_('live'), np.int64(688)), (np.str_('load'), np.int64(689)), (np.str_('locat'), np.int64(690)), (np.str_('lock'), np.int64(691)), (np.str_('long'), np.int64(692)), (np.str_('longer'), np.int64(693)), (np.str_('look'), np.int64(694)), (np.str_('loop'), np.int64(695)), (np.str_('loos'), np.int64(696)), (np.str_('loot'), np.int64(697)), (np.str_('lord'), np.int64(698)), (np.str_('lore'), np.int64(699)), (np.str_('lose'), np.int64(700)), (np.str_('lost'), np.int64(701)), (np.str_('lot'), np.int64(702)), (np.str_('love'), np.int64(703)), (np.str_('low'), np.int64(704)), (np.str_('lower'), np.int64(705)), (np.str_('loyalti'), np.int64(706)), (np.str_('lunch'), np.int64(707)), (np.str_('mad'), np.int64(708)), (np.str_('made'), np.int64(709)), (np.str_('main'), np.int64(710)), (np.str_('major'), np.int64(711)), (np.str_('make'), np.int64(712)), (np.str_('male'), np.int64(713)), (np.str_('man'), np.int64(714)), (np.str_('manag'), np.int64(715)), (np.str_('mani'), np.int64(716)), (np.str_('manipul'), np.int64(717)), (np.str_('map'), np.int64(718)), (np.str_('march'), np.int64(719)), (np.str_('marcu'), np.int64(720)), (np.str_('masquerad'), np.int64(721)), (np.str_('master'), np.int64(722)), (np.str_('masterpiec'), np.int64(723)), (np.str_('match'), np.int64(724)), (np.str_('materi'), np.int64(725)), (np.str_('matter'), np.int64(726)), (np.str_('may'), np.int64(727)), (np.str_('mayb'), np.int64(728)), (np.str_('mean'), np.int64(729)), (np.str_('meant'), np.int64(730)), (np.str_('mechan'), np.int64(731)), (np.str_('media'), np.int64(732)), (np.str_('mediev'), np.int64(733)), (np.str_('meet'), np.int64(734)), (np.str_('member'), np.int64(735)), (np.str_('membership'), np.int64(736)), (np.str_('menu'), np.int64(737)), (np.str_('merger'), np.int64(738)), (np.str_('mess'), np.int64(739)), (np.str_('messag'), np.int64(740)), (np.str_('method'), np.int64(741)), (np.str_('midst'), np.int64(742)), (np.str_('might'), np.int64(743)), (np.str_('mind'), np.int64(744)), (np.str_('minim'), np.int64(745)), (np.str_('minimalist'), np.int64(746)), (np.str_('minor'), np.int64(747)), (np.str_('minut'), np.int64(748)), (np.str_('miss'), np.int64(749)), (np.str_('mix'), np.int64(750)), (np.str_('mixtur'), np.int64(751)), (np.str_('mob'), np.int64(752)), (np.str_('mobil'), np.int64(753)), (np.str_('mode'), np.int64(754)), (np.str_('model'), np.int64(755)), (np.str_('moment'), np.int64(756)), (np.str_('money'), np.int64(757)), (np.str_('monica'), np.int64(758)), (np.str_('monkey'), np.int64(759)), (np.str_('monster'), np.int64(760)), (np.str_('mop'), np.int64(761)), (np.str_('mostli'), np.int64(762)), (np.str_('motion'), np.int64(763)), (np.str_('motiv'), np.int64(764)), (np.str_('mous'), np.int64(765)), (np.str_('mouth'), np.int64(766)), (np.str_('move'), np.int64(767)), (np.str_('movement'), np.int64(768)), (np.str_('movi'), np.int64(769)), (np.str_('mu'), np.int64(770)), (np.str_('much'), np.int64(771)), (np.str_('multipl'), np.int64(772)), (np.str_('murder'), np.int64(773)), (np.str_('music'), np.int64(774)), (np.str_('must'), np.int64(775)), (np.str_('na'), np.int64(776)), (np.str_('nag'), np.int64(777)), (np.str_('nake'), np.int64(778)), (np.str_('name'), np.int64(779)), (np.str_('narrat'), np.int64(780)), (np.str_('narrow'), np.int64(781)), (np.str_('nassau'), np.int64(782)), (np.str_('natur'), np.int64(783)), (np.str_('nazi'), np.int64(784)), (np.str_('near'), np.int64(785)), (np.str_('nearli'), np.int64(786)), (np.str_('neat'), np.int64(787)), (np.str_('need'), np.int64(788)), (np.str_('network'), np.int64(789)), (np.str_('never'), np.int64(790)), (np.str_('new'), np.int64(791)), (np.str_('newcom'), np.int64(792)), (np.str_('news'), np.int64(793)), (np.str_('next'), np.int64(794)), (np.str_('nice'), np.int64(795)), (np.str_('night'), np.int64(796)), (np.str_('nightmar'), np.int64(797)), (np.str_('ninja'), np.int64(798)), (np.str_('nonetheless'), np.int64(799)), (np.str_('nonsens'), np.int64(800)), (np.str_('note'), np.int64(801)), (np.str_('noth'), np.int64(802)), (np.str_('notic'), np.int64(803)), (np.str_('novel'), np.int64(804)), (np.str_('npc'), np.int64(805)), (np.str_('object'), np.int64(806)), (np.str_('oblig'), np.int64(807)), (np.str_('observatori'), np.int64(808)), (np.str_('obtain'), np.int64(809)), (np.str_('occas'), np.int64(810)), (np.str_('occasion'), np.int64(811)), (np.str_('ocean'), np.int64(812)), (np.str_('offer'), np.int64(813)), (np.str_('offlin'), np.int64(814)), (np.str_('often'), np.int64(815)), (np.str_('oh'), np.int64(816)), (np.str_('ok'), np.int64(817)), (np.str_('old'), np.int64(818)), (np.str_('one'), np.int64(819)), (np.str_('onlin'), np.int64(820)), (np.str_('onto'), np.int64(821)), (np.str_('open'), np.int64(822)), (np.str_('oper'), np.int64(823)), (np.str_('opinion'), np.int64(824)), (np.str_('oppon'), np.int64(825)), (np.str_('oppos'), np.int64(826)), (np.str_('optim'), np.int64(827)), (np.str_('option'), np.int64(828)), (np.str_('order'), np.int64(829)), (np.str_('origin'), np.int64(830)), (np.str_('other'), np.int64(831)), (np.str_('otherwis'), np.int64(832)), (np.str_('outsid'), np.int64(833)), (np.str_('overal'), np.int64(834)), (np.str_('overpow'), np.int64(835)), (np.str_('overpr'), np.int64(836)), (np.str_('own'), np.int64(837)), (np.str_('owo'), np.int64(838)), (np.str_('pace'), np.int64(839)), (np.str_('pack'), np.int64(840)), (np.str_('pad'), np.int64(841)), (np.str_('page'), np.int64(842)), (np.str_('paid'), np.int64(843)), (np.str_('paint'), np.int64(844)), (np.str_('pant'), np.int64(845)), (np.str_('paranorm'), np.int64(846)), (np.str_('part'), np.int64(847)), (np.str_('parti'), np.int64(848)), (np.str_('particularli'), np.int64(849)), (np.str_('partnership'), np.int64(850)), (np.str_('pass'), np.int64(851)), (np.str_('past'), np.int64(852)), (np.str_('patch'), np.int64(853)), (np.str_('path'), np.int64(854)), (np.str_('patienc'), np.int64(855)), (np.str_('patient'), np.int64(856)), (np.str_('paus'), np.int64(857)), (np.str_('pc'), np.int64(858)), (np.str_('peasant'), np.int64(859)), (np.str_('peopl'), np.int64(860)), (np.str_('per'), np.int64(861)), (np.str_('perfect'), np.int64(862)), (np.str_('perform'), np.int64(863)), (np.str_('perhap'), np.int64(864)), (np.str_('period'), np.int64(865)), (np.str_('perk'), np.int64(866)), (np.str_('perman'), np.int64(867)), (np.str_('persia'), np.int64(868)), (np.str_('person'), np.int64(869)), (np.str_('perspect'), np.int64(870)), (np.str_('phrase'), np.int64(871)), (np.str_('physic'), np.int64(872)), (np.str_('pick'), np.int64(873)), (np.str_('piec'), np.int64(874)), (np.str_('pig'), np.int64(875)), (np.str_('pile'), np.int64(876)), (np.str_('pill'), np.int64(877)), (np.str_('pinbal'), np.int64(878)), (np.str_('piraci'), np.int64(879)), (np.str_('pirat'), np.int64(880)), (np.str_('pistol'), np.int64(881)), (np.str_('place'), np.int64(882)), (np.str_('plan'), np.int64(883)), (np.str_('plane'), np.int64(884)), (np.str_('plate'), np.int64(885)), (np.str_('platform'), np.int64(886)), (np.str_('platinum'), np.int64(887)), (np.str_('play'), np.int64(888)), (np.str_('player'), np.int64(889)), (np.str_('pleas'), np.int64(890)), (np.str_('plenti'), np.int64(891)), (np.str_('plot'), np.int64(892)), (np.str_('plu'), np.int64(893)), (np.str_('pocket'), np.int64(894)), (np.str_('point'), np.int64(895)), (np.str_('polic'), np.int64(896)), (np.str_('polici'), np.int64(897)), (np.str_('polish'), np.int64(898)), (np.str_('poor'), np.int64(899)), (np.str_('poorli'), np.int64(900)), (np.str_('pop'), np.int64(901)), (np.str_('popular'), np.int64(902)), (np.str_('port'), np.int64(903)), (np.str_('portrait'), np.int64(904)), (np.str_('possibl'), np.int64(905)), (np.str_('post'), np.int64(906)), (np.str_('pot'), np.int64(907)), (np.str_('potenti'), np.int64(908)), (np.str_('power'), np.int64(909)), (np.str_('predetermin'), np.int64(910)), (np.str_('prepar'), np.int64(911)), (np.str_('present'), np.int64(912)), (np.str_('press'), np.int64(913)), (np.str_('presum'), np.int64(914)), (np.str_('pretti'), np.int64(915)), (np.str_('preview'), np.int64(916)), (np.str_('previou'), np.int64(917)), (np.str_('price'), np.int64(918)), (np.str_('priest'), np.int64(919)), (np.str_('primarili'), np.int64(920)), (np.str_('princ'), np.int64(921)), (np.str_('princess'), np.int64(922)), (np.str_('principl'), np.int64(923)), (np.str_('privaci'), np.int64(924)), (np.str_('pro'), np.int64(925)), (np.str_('probabl'), np.int64(926)), (np.str_('problem'), np.int64(927)), (np.str_('process'), np.int64(928)), (np.str_('processor'), np.int64(929)), (np.str_('product'), np.int64(930)), (np.str_('program'), np.int64(931)), (np.str_('progress'), np.int64(932)), (np.str_('prompt'), np.int64(933)), (np.str_('proper'), np.int64(934)), (np.str_('properli'), np.int64(935)), (np.str_('prosecut'), np.int64(936)), (np.str_('protect'), np.int64(937)), (np.str_('provid'), np.int64(938)), (np.str_('ps'), np.int64(939)), (np.str_('pull'), np.int64(940)), (np.str_('pump'), np.int64(941)), (np.str_('pun'), np.int64(942)), (np.str_('punish'), np.int64(943)), (np.str_('purchas'), np.int64(944)), (np.str_('put'), np.int64(945)), (np.str_('putrid'), np.int64(946)), (np.str_('puzzl'), np.int64(947)), (np.str_('qualiti'), np.int64(948)), (np.str_('quest'), np.int64(949)), (np.str_('question'), np.int64(950)), (np.str_('quick'), np.int64(951)), (np.str_('quickli'), np.int64(952)), (np.str_('quicktim'), np.int64(953)), (np.str_('quit'), np.int64(954)), (np.str_('raid'), np.int64(955)), (np.str_('raider'), np.int64(956)), (np.str_('ram'), np.int64(957)), (np.str_('random'), np.int64(958)), (np.str_('randomli'), np.int64(959)), (np.str_('rare'), np.int64(960)), (np.str_('rather'), np.int64(961)), (np.str_('reach'), np.int64(962)), (np.str_('read'), np.int64(963)), (np.str_('real'), np.int64(964)), (np.str_('realism'), np.int64(965)), (np.str_('realist'), np.int64(966)), (np.str_('realiz'), np.int64(967)), (np.str_('realli'), np.int64(968)), (np.str_('realm'), np.int64(969)), (np.str_('reason'), np.int64(970)), (np.str_('recal'), np.int64(971)), (np.str_('receiv'), np.int64(972)), (np.str_('recent'), np.int64(973)), (np.str_('recogn'), np.int64(974)), (np.str_('recommend'), np.int64(975)), (np.str_('refer'), np.int64(976)), (np.str_('refin'), np.int64(977)), (np.str_('refresh'), np.int64(978)), (np.str_('refund'), np.int64(979)), (np.str_('refus'), np.int64(980)), (np.str_('regardless'), np.int64(981)), (np.str_('regist'), np.int64(982)), (np.str_('regret'), np.int64(983)), (np.str_('regular'), np.int64(984)), (np.str_('rel'), np.int64(985)), (np.str_('releas'), np.int64(986)), (np.str_('reli'), np.int64(987)), (np.str_('remain'), np.int64(988)), (np.str_('rememb'), np.int64(989)), (np.str_('rendit'), np.int64(990)), (np.str_('repeat'), np.int64(991)), (np.str_('repetit'), np.int64(992)), (np.str_('replac'), np.int64(993)), (np.str_('replay'), np.int64(994)), (np.str_('requir'), np.int64(995)), (np.str_('reserv'), np.int64(996)), (np.str_('resid'), np.int64(997)), (np.str_('respect'), np.int64(998)), (np.str_('respond'), np.int64(999)), (np.str_('rest'), np.int64(1000)), (np.str_('restart'), np.int64(1001)), (np.str_('restructur'), np.int64(1002)), (np.str_('result'), np.int64(1003)), (np.str_('retir'), np.int64(1004)), (np.str_('return'), np.int64(1005)), (np.str_('reveng'), np.int64(1006)), (np.str_('review'), np.int64(1007)), (np.str_('revisit'), np.int64(1008)), (np.str_('ride'), np.int64(1009)), (np.str_('ridicul'), np.int64(1010)), (np.str_('rifl'), np.int64(1011)), (np.str_('right'), np.int64(1012)), (np.str_('rigid'), np.int64(1013)), (np.str_('rile'), np.int64(1014)), (np.str_('ring'), np.int64(1015)), (np.str_('roam'), np.int64(1016)), (np.str_('rogu'), np.int64(1017)), (np.str_('role'), np.int64(1018)), (np.str_('roll'), np.int64(1019)), (np.str_('room'), np.int64(1020)), (np.str_('roughli'), np.int64(1021)), (np.str_('round'), np.int64(1022)), (np.str_('rout'), np.int64(1023)), (np.str_('rpg'), np.int64(1024)), (np.str_('rt'), np.int64(1025)), (np.str_('run'), np.int64(1026)), (np.str_('sad'), np.int64(1027)), (np.str_('sadli'), np.int64(1028)), (np.str_('said'), np.int64(1029)), (np.str_('sail'), np.int64(1030)), (np.str_('sale'), np.int64(1031)), (np.str_('santa'), np.int64(1032)), (np.str_('satisfi'), np.int64(1033)), (np.str_('save'), np.int64(1034)), (np.str_('saw'), np.int64(1035)), (np.str_('say'), np.int64(1036)), (np.str_('scale'), np.int64(1037)), (np.str_('scare'), np.int64(1038)), (np.str_('scari'), np.int64(1039)), (np.str_('sce'), np.int64(1040)), (np.str_('school'), np.int64(1041)), (np.str_('score'), np.int64(1042)), (np.str_('scream'), np.int64(1043)), (np.str_('screen'), np.int64(1044)), (np.str_('script'), np.int64(1045)), (np.str_('sea'), np.int64(1046)), (np.str_('search'), np.int64(1047)), (np.str_('second'), np.int64(1048)), (np.str_('secondli'), np.int64(1049)), (np.str_('secret'), np.int64(1050)), (np.str_('section'), np.int64(1051)), (np.str_('see'), np.int64(1052)), (np.str_('seem'), np.int64(1053)), (np.str_('seemingli'), np.int64(1054)), (np.str_('seen'), np.int64(1055)), (np.str_('select'), np.int64(1056)), (np.str_('self'), np.int64(1057)), (np.str_('sell'), np.int64(1058)), (np.str_('sens'), np.int64(1059)), (np.str_('sequel'), np.int64(1060)), (np.str_('sequenc'), np.int64(1061)), (np.str_('seri'), np.int64(1062)), (np.str_('seriou'), np.int64(1063)), (np.str_('serious'), np.int64(1064)), (np.str_('server'), np.int64(1065)), (np.str_('servic'), np.int64(1066)), (np.str_('set'), np.int64(1067)), (np.str_('sever'), np.int64(1068)), (np.str_('sex'), np.int64(1069)), (np.str_('shall'), np.int64(1070)), (np.str_('shame'), np.int64(1071)), (np.str_('share'), np.int64(1072)), (np.str_('sheer'), np.int64(1073)), (np.str_('shift'), np.int64(1074)), (np.str_('ship'), np.int64(1075)), (np.str_('shoot'), np.int64(1076)), (np.str_('shooter'), np.int64(1077)), (np.str_('short'), np.int64(1078)), (np.str_('shoulder'), np.int64(1079)), (np.str_('show'), np.int64(1080)), (np.str_('side'), np.int64(1081)), (np.str_('sieg'), np.int64(1082)), (np.str_('sigh'), np.int64(1083)), (np.str_('signifi'), np.int64(1084)), (np.str_('sim'), np.int64(1085)), (np.str_('similar'), np.int64(1086)), (np.str_('simpl'), np.int64(1087)), (np.str_('simpli'), np.int64(1088)), (np.str_('simul'), np.int64(1089)), (np.str_('sinc'), np.int64(1090)), (np.str_('singl'), np.int64(1091)), (np.str_('sink'), np.int64(1092)), (np.str_('sister'), np.int64(1093)), (np.str_('sit'), np.int64(1094)), (np.str_('situat'), np.int64(1095)), (np.str_('size'), np.int64(1096)), (np.str_('skill'), np.int64(1097)), (np.str_('skip'), np.int64(1098)), (np.str_('sky'), np.int64(1099)), (np.str_('slash'), np.int64(1100)), (np.str_('slaughter'), np.int64(1101)), (np.str_('slightli'), np.int64(1102)), (np.str_('slow'), np.int64(1103)), (np.str_('slowli'), np.int64(1104)), (np.str_('small'), np.int64(1105)), (np.str_('smooth'), np.int64(1106)), (np.str_('snappi'), np.int64(1107)), (np.str_('sniper'), np.int64(1108)), (np.str_('social'), np.int64(1109)), (np.str_('solo'), np.int64(1110)), (np.str_('someon'), np.int64(1111)), (np.str_('someth'), np.int64(1112)), (np.str_('sometim'), np.int64(1113)), (np.str_('somewher'), np.int64(1114)), (np.str_('soon'), np.int64(1115)), (np.str_('soooo'), np.int64(1116)), (np.str_('sorri'), np.int64(1117)), (np.str_('sound'), np.int64(1118)), (np.str_('speak'), np.int64(1119)), (np.str_('special'), np.int64(1120)), (np.str_('speech'), np.int64(1121)), (np.str_('spell'), np.int64(1122)), (np.str_('spend'), np.int64(1123)), (np.str_('spent'), np.int64(1124)), (np.str_('spike'), np.int64(1125)), (np.str_('squar'), np.int64(1126)), (np.str_('stab'), np.int64(1127)), (np.str_('stabil'), np.int64(1128)), (np.str_('stabl'), np.int64(1129)), (np.str_('stage'), np.int64(1130)), (np.str_('stand'), np.int64(1131)), (np.str_('starbuck'), np.int64(1132)), (np.str_('start'), np.int64(1133)), (np.str_('state'), np.int64(1134)), (np.str_('station'), np.int64(1135)), (np.str_('stationari'), np.int64(1136)), (np.str_('stay'), np.int64(1137)), (np.str_('steadili'), np.int64(1138)), (np.str_('steam'), np.int64(1139)), (np.str_('steel'), np.int64(1140)), (np.str_('step'), np.int64(1141)), (np.str_('still'), np.int64(1142)), (np.str_('stock'), np.int64(1143)), (np.str_('stood'), np.int64(1144)), (np.str_('stop'), np.int64(1145)), (np.str_('stori'), np.int64(1146)), (np.str_('storm'), np.int64(1147)), (np.str_('storylin'), np.int64(1148)), (np.str_('storytel'), np.int64(1149)), (np.str_('stretch'), np.int64(1150)), (np.str_('strictli'), np.int64(1151)), (np.str_('strip'), np.int64(1152)), (np.str_('strong'), np.int64(1153)), (np.str_('strongest'), np.int64(1154)), (np.str_('strongli'), np.int64(1155)), (np.str_('struck'), np.int64(1156)), (np.str_('stuff'), np.int64(1157)), (np.str_('stumbl'), np.int64(1158)), (np.str_('stun'), np.int64(1159)), (np.str_('stupid'), np.int64(1160)), (np.str_('style'), np.int64(1161)), (np.str_('subject'), np.int64(1162)), (np.str_('substanti'), np.int64(1163)), (np.str_('success'), np.int64(1164)), (np.str_('suck'), np.int64(1165)), (np.str_('suddenli'), np.int64(1166)), (np.str_('suggest'), np.int64(1167)), (np.str_('super'), np.int64(1168)), (np.str_('support'), np.int64(1169)), (np.str_('suppos'), np.int64(1170)), (np.str_('sure'), np.int64(1171)), (np.str_('surpris'), np.int64(1172)), (np.str_('surprisingli'), np.int64(1173)), (np.str_('surround'), np.int64(1174)), (np.str_('surviv'), np.int64(1175)), (np.str_('suspect'), np.int64(1176)), (np.str_('switch'), np.int64(1177)), (np.str_('sword'), np.int64(1178)), (np.str_('symmetr'), np.int64(1179)), (np.str_('system'), np.int64(1180)), (np.str_('ta'), np.int64(1181)), (np.str_('tabl'), np.int64(1182)), (np.str_('tag'), np.int64(1183)), (np.str_('take'), np.int64(1184)), (np.str_('taken'), np.int64(1185)), (np.str_('talk'), np.int64(1186)), (np.str_('target'), np.int64(1187)), (np.str_('tast'), np.int64(1188)), (np.str_('teach'), np.int64(1189)), (np.str_('team'), np.int64(1190)), (np.str_('tear'), np.int64(1191)), (np.str_('tech'), np.int64(1192)), (np.str_('tell'), np.int64(1193)), (np.str_('tempest'), np.int64(1194)), (np.str_('tend'), np.int64(1195)), (np.str_('term'), np.int64(1196)), (np.str_('terribl'), np.int64(1197)), (np.str_('textur'), np.int64(1198)), (np.str_('thank'), np.int64(1199)), (np.str_('theme'), np.int64(1200)), (np.str_('theori'), np.int64(1201)), (np.str_('thief'), np.int64(1202)), (np.str_('thing'), np.int64(1203)), (np.str_('think'), np.int64(1204)), (np.str_('third'), np.int64(1205)), (np.str_('thirst'), np.int64(1206)), (np.str_('though'), np.int64(1207)), (np.str_('thought'), np.int64(1208)), (np.str_('thousand'), np.int64(1209)), (np.str_('three'), np.int64(1210)), (np.str_('thrill'), np.int64(1211)), (np.str_('throughout'), np.int64(1212)), (np.str_('thumb'), np.int64(1213)), (np.str_('tight'), np.int64(1214)), (np.str_('time'), np.int64(1215)), (np.str_('titl'), np.int64(1216)), (np.str_('told'), np.int64(1217)), (np.str_('tomb'), np.int64(1218)), (np.str_('ton'), np.int64(1219)), (np.str_('tone'), np.int64(1220)), (np.str_('took'), np.int64(1221)), (np.str_('top'), np.int64(1222)), (np.str_('total'), np.int64(1223)), (np.str_('touch'), np.int64(1224)), (np.str_('tower'), np.int64(1225)), (np.str_('town'), np.int64(1226)), (np.str_('tpa'), np.int64(1227)), (np.str_('trace'), np.int64(1228)), (np.str_('track'), np.int64(1229)), (np.str_('trade'), np.int64(1230)), (np.str_('tradit'), np.int64(1231)), (np.str_('traditionalist'), np.int64(1232)), (np.str_('transfer'), np.int64(1233)), (np.str_('transform'), np.int64(1234)), (np.str_('transport'), np.int64(1235)), (np.str_('tri'), np.int64(1236)), (np.str_('trio'), np.int64(1237)), (np.str_('trip'), np.int64(1238)), (np.str_('tropic'), np.int64(1239)), (np.str_('troubl'), np.int64(1240)), (np.str_('true'), np.int64(1241)), (np.str_('truli'), np.int64(1242)), (np.str_('turn'), np.int64(1243)), (np.str_('tutori'), np.int64(1244)), (np.str_('tv'), np.int64(1245)), (np.str_('twice'), np.int64(1246)), (np.str_('twist'), np.int64(1247)), (np.str_('two'), np.int64(1248)), (np.str_('type'), np.int64(1249)), (np.str_('u'), np.int64(1250)), (np.str_('uc'), np.int64(1251)), (np.str_('unansw'), np.int64(1252)), (np.str_('undead'), np.int64(1253)), (np.str_('understand'), np.int64(1254)), (np.str_('undress'), np.int64(1255)), (np.str_('unfinish'), np.int64(1256)), (np.str_('unfortun'), np.int64(1257)), (np.str_('uniqu'), np.int64(1258)), (np.str_('unless'), np.int64(1259)), (np.str_('unlik'), np.int64(1260)), (np.str_('unlock'), np.int64(1261)), (np.str_('up'), np.int64(1262)), (np.str_('updat'), np.int64(1263)), (np.str_('upgrad'), np.int64(1264)), (np.str_('upon'), np.int64(1265)), (np.str_('urg'), np.int64(1266)), (np.str_('us'), np.int64(1267)), (np.str_('use'), np.int64(1268)), (np.str_('user'), np.int64(1269)), (np.str_('usual'), np.int64(1270)), (np.str_('util'), np.int64(1271)), (np.str_('utter'), np.int64(1272)), (np.str_('va'), np.int64(1273)), (np.str_('valid'), np.int64(1274)), (np.str_('valu'), np.int64(1275)), (np.str_('vari'), np.int64(1276)), (np.str_('variou'), np.int64(1277)), (np.str_('vast'), np.int64(1278)), (np.str_('vault'), np.int64(1279)), (np.str_('verdict'), np.int64(1280)), (np.str_('version'), np.int64(1281)), (np.str_('vessel'), np.int64(1282)), (np.str_('video'), np.int64(1283)), (np.str_('view'), np.int64(1284)), (np.str_('villain'), np.int64(1285)), (np.str_('violent'), np.int64(1286)), (np.str_('visit'), np.int64(1287)), (np.str_('visual'), np.int64(1288)), (np.str_('voic'), np.int64(1289)), (np.str_('wait'), np.int64(1290)), (np.str_('wake'), np.int64(1291)), (np.str_('walk'), np.int64(1292)), (np.str_('wall'), np.int64(1293)), (np.str_('want'), np.int64(1294)), (np.str_('war'), np.int64(1295)), (np.str_('warn'), np.int64(1296)), (np.str_('wash'), np.int64(1297)), (np.str_('wast'), np.int64(1298)), (np.str_('wasteland'), np.int64(1299)), (np.str_('watch'), np.int64(1300)), (np.str_('wave'), np.int64(1301)), (np.str_('way'), np.int64(1302)), (np.str_('wayn'), np.int64(1303)), (np.str_('wb'), np.int64(1304)), (np.str_('wealthiest'), np.int64(1305)), (np.str_('weapon'), np.int64(1306)), (np.str_('week'), np.int64(1307)), (np.str_('welcom'), np.int64(1308)), (np.str_('well'), np.int64(1309)), (np.str_('went'), np.int64(1310)), (np.str_('west'), np.int64(1311)), (np.str_('whale'), np.int64(1312)), (np.str_('whether'), np.int64(1313)), (np.str_('whole'), np.int64(1314)), (np.str_('whop'), np.int64(1315)), (np.str_('win'), np.int64(1316)), (np.str_('wise'), np.int64(1317)), (np.str_('wish'), np.int64(1318)), (np.str_('wit'), np.int64(1319)), (np.str_('witch'), np.int64(1320)), (np.str_('within'), np.int64(1321)), (np.str_('without'), np.int64(1322)), (np.str_('wo'), np.int64(1323)), (np.str_('wonder'), np.int64(1324)), (np.str_('wool'), np.int64(1325)), (np.str_('word'), np.int64(1326)), (np.str_('work'), np.int64(1327)), (np.str_('world'), np.int64(1328)), (np.str_('wors'), np.int64(1329)), (np.str_('worst'), np.int64(1330)), (np.str_('worth'), np.int64(1331)), (np.str_('worthwhil'), np.int64(1332)), (np.str_('would'), np.int64(1333)), (np.str_('wrap'), np.int64(1334)), (np.str_('write'), np.int64(1335)), (np.str_('written'), np.int64(1336)), (np.str_('wrong'), np.int64(1337)), (np.str_('ye'), np.int64(1338)), (np.str_('yeah'), np.int64(1339)), (np.str_('year'), np.int64(1340)), (np.str_('yet'), np.int64(1341)), (np.str_('yo'), np.int64(1342)), (np.str_('youtub'), np.int64(1343)), (np.str_('zen'), np.int64(1344)), (np.str_('zero'), np.int64(1345)), (np.str_('zombi'), np.int64(1346))]\n",
      "One-hot categories and indices: [array([np.str_('abl'), np.str_('aboard'), np.str_('absent'), ...,\n",
      "       np.str_('zen'), np.str_('zero'), np.str_('zombi')], dtype=object), array([np.int64(0), np.int64(1), np.int64(2), ..., np.int64(1344),\n",
      "       np.int64(1345), np.int64(1346)], dtype=object)]\n",
      "Words and corresponding indices:  [('fun', np.int64(488)), ('ambient', np.int64(49)), ('violent', np.int64(1286)), ('true', np.int64(1241)), ('definit', np.int64(298)), ('unfinish', np.int64(1256)), ('return', np.int64(1005)), ('game', np.int64(493)), ('perman', np.int64(867)), ('item', np.int64(632)), ('game', np.int64(493)), ('list', np.int64(685)), ('pro', np.int64(925)), ('claustrophob', np.int64(203)), ('extrem', np.int64(417)), ('detail', np.int64(307)), ('textur', np.int64(1198)), ('everyth', np.int64(399)), ('room', np.int64(1020)), ('make', np.int64(712)), ('feel', np.int64(438)), ('sheer', np.int64(1073)), ('scale', np.int64(1037)), ('vessel', np.int64(1282)), ('great', np.int64(525)), ('direct', np.int64(320)), ('sound', np.int64(1118)), ('neat', np.int64(787)), ('model', np.int64(755)), ('use', np.int64(1268)), ('paint', np.int64(844)), ('thing', np.int64(1203)), ('definit', np.int64(298)), ('notic', np.int64(803)), ('con', np.int64(231)), ('super', np.int64(1168)), ('finish', np.int64(453)), ('optim', np.int64(827)), ('onlin', np.int64(820)), ('coop', np.int64(252)), ('stabil', np.int64(1128)), ('narrow', np.int64(781)), ('tower', np.int64(1225)), ('problem', np.int64(927)), ('im', np.int64(595)), ('play', np.int64(888)), ('sometim', np.int64(1113)), ('whether', np.int64(1313)), ('play', np.int64(888)), ('minor', np.int64(747)), ('con', np.int64(231)), ('cluster', np.int64(212)), ('spend', np.int64(1123)), ('lot', np.int64(702)), ('time', np.int64(1215)), ('glu', np.int64(509)), ('one', np.int64(819)), ('anoth', np.int64(58)), ('oppos', np.int64(826)), ('stand', np.int64(1131)), ('next', np.int64(794)), ('fun', np.int64(488)), ('game', np.int64(493)), ('faster', np.int64(434)), ('color', np.int64(216)), ('part', np.int64(847)), ('reserv', np.int64(996)), ('game', np.int64(493)), ('sinc', np.int64(1090)), ('didnt', np.int64(313)), ('like', np.int64(680)), ('part', np.int64(847)), ('one', np.int64(819)), ('much', np.int64(771)), ('honestli', np.int64(568)), ('say', np.int64(1036)), ('worth', np.int64(1331)), ('buck', np.int64(153)), ('realli', np.int64(968)), ('old', np.int64(818)), ('school', np.int64(1041)), ('appreci', np.int64(64)), ('time', np.int64(1215)), ('sink', np.int64(1092)), ('game', np.int64(493)), ('manag', np.int64(715)), ('health', np.int64(547)), ('requir', np.int64(995)), ('lot', np.int64(702)), ('sit', np.int64(1094)), ('around', np.int64(70)), ('cant', np.int64(170)), ('slash', np.int64(1100)), ('burn', np.int64(158)), ('way', np.int64(1302)), ('pile', np.int64(876)), ('mob', np.int64(752)), ('like', np.int64(680)), ('game', np.int64(493)), ('came', np.int64(166)), ('least', np.int64(667)), ('solo', np.int64(1110)), ('depend', np.int64(302)), ('class', np.int64(201)), ('choos', np.int64(196)), ('group', np.int64(527)), ('peopl', np.int64(860)), ('order', np.int64(829)), ('reserv', np.int64(996)), ('might', np.int64(743)), ('progress', np.int64(932)), ('quickli', np.int64(952)), ('love', np.int64(703)), ('game', np.int64(493)), ('wish', np.int64(1318)), ('free', np.int64(482)), ('receiv', np.int64(972)), ('key', np.int64(642)), ('bundl', np.int64(157)), ('didnt', np.int64(313)), ('expect', np.int64(408)), ('much', np.int64(771)), ('still', np.int64(1142)), ('felt', np.int64(439)), ('let', np.int64(674)), ('poorli', np.int64(900)), ('balanc', np.int64(100)), ('basic', np.int64(106)), ('game', np.int64(493)), ('sens', np.int64(1059)), ('life', np.int64(678)), ('game', np.int64(493)), ('world', np.int64(1328)), ('motiv', np.int64(764)), ('follow', np.int64(469)), ('plot', np.int64(892)), ('littl', np.int64(687)), ('joy', np.int64(639)), ('found', np.int64(477)), ('actual', np.int64(17)), ('play', np.int64(888)), ('long', np.int64(692)), ('enough', np.int64(382)), ('get', np.int64(502)), ('achiev', np.int64(11)), ('done', np.int64(334)), ('minut', np.int64(748)), ('follow', np.int64(469)), ('youtub', np.int64(1343)), ('guid', np.int64(529)), ('worth', np.int64(1331)), ('time', np.int64(1215)), ('money', np.int64(757)), ('even', np.int64(394)), ('current', np.int64(276)), ('sale', np.int64(1031)), ('price', np.int64(918)), ('plenti', np.int64(891)), ('better', np.int64(122)), ('game', np.int64(493)), ('realli', np.int64(968)), ('enjoy', np.int64(381)), ('game', np.int64(493)), ('great', np.int64(525)), ('mixtur', np.int64(751)), ('tower', np.int64(1225)), ('defenc', np.int64(296)), ('genr', np.int64(501)), ('huge', np.int64(579)), ('fan', np.int64(429)), ('first', np.int64(455)), ('person', np.int64(869)), ('shooter', np.int64(1077)), ('lesser', np.int64(673)), ('fan', np.int64(429)), ('great', np.int64(525)), ('leav', np.int64(668)), ('sit', np.int64(1094)), ('wait', np.int64(1290)), ('mob', np.int64(752)), ('die', np.int64(314)), ('keep', np.int64(641)), ('build', np.int64(155)), ('tower', np.int64(1225)), ('frey', np.int64(484)), ('often', np.int64(815)), ('good', np.int64(515)), ('bit', np.int64(127)), ('work', np.int64(1327)), ('hit', np.int64(563)), ('enemi', np.int64(377)), ('tower', np.int64(1225)), ('slowli', np.int64(1104)), ('damag', np.int64(281)), ('mob', np.int64(752)), ('mop', np.int64(761)), ('game', np.int64(493)), ('goe', np.int64(513)), ('round', np.int64(1022)), ('build', np.int64(155)), ('fight', np.int64(444)), ('alway', np.int64(47)), ('see', np.int64(1052)), ('monster', np.int64(760)), ('type', np.int64(1249)), ('come', np.int64(218)), ('much', np.int64(771)), ('hp', np.int64(577)), ('upgrad', np.int64(1264)), ('tower', np.int64(1225)), ('level', np.int64(675)), ('doubl', np.int64(337)), ('cost', np.int64(256)), ('time', np.int64(1215)), ('even', np.int64(394)), ('improv', np.int64(601)), ('firepow', np.int64(454)), ('three', np.int64(1210)), ('weapon', np.int64(1306)), ('rifl', np.int64(1011)), ('sniper', np.int64(1108)), ('rile', np.int64(1014)), ('give', np.int64(505)), ('differ', np.int64(315)), ('roll', np.int64(1019)), ('play', np.int64(888)), ('around', np.int64(70)), ('battlefield', np.int64(109)), ('situat', np.int64(1095)), ('may', np.int64(727)), ('requir', np.int64(995)), ('play', np.int64(888)), ('onlin', np.int64(820)), ('other', np.int64(831)), ('build', np.int64(155)), ('fight', np.int64(444)), ('time', np.int64(1215)), ('ive', np.int64(634)), ('yet', np.int64(1341)), ('sound', np.int64(1118)), ('like', np.int64(680)), ('blast', np.int64(130)), ('pick', np.int64(873)), ('transform', np.int64(1234)), ('dead', np.int64(290)), ('cat', np.int64(180)), ('player', np.int64(889)), ('dream', np.int64(343)), ('game', np.int64(493)), ('play', np.int64(888)), ('tradit', np.int64(1231)), ('mediev', np.int64(733)), ('play', np.int64(888)), ('matter', np.int64(726)), ('amaz', np.int64(48)), ('game', np.int64(493)), ('entir', np.int64(385)), ('dig', np.int64(318)), ('respect', np.int64(998)), ('nonetheless', np.int64(799)), ('thank', np.int64(1199)), ('good', np.int64(515)), ('game', np.int64(493)), ('look', np.int64(694)), ('good', np.int64(515)), ('alright', np.int64(44)), ('stori', np.int64(1146)), ('otherwis', np.int64(832)), ('piec', np.int64(874)), ('crap', np.int64(263)), ('read', np.int64(963)), ('coupl', np.int64(260)), ('review', np.int64(1007)), ('finish', np.int64(453)), ('game', np.int64(493)), ('claim', np.int64(200)), ('game', np.int64(493)), ('never', np.int64(790)), ('yet', np.int64(1341)), ('defin', np.int64(297)), ('featur', np.int64(437)), ('game', np.int64(493)), ('mani', np.int64(716)), ('time', np.int64(1215)), ('rigid', np.int64(1013)), ('like', np.int64(680)), ('thief', np.int64(1202)), ('jump', np.int64(640)), ('predetermin', np.int64(910)), ('area', np.int64(68)), ('mean', np.int64(729)), ('roll', np.int64(1019)), ('around', np.int64(70)), ('time', np.int64(1215)), ('near', np.int64(785)), ('happen', np.int64(536)), ('hit', np.int64(563)), ('jump', np.int64(640)), ('area', np.int64(68)), ('sometim', np.int64(1113)), ('charact', np.int64(190)), ('jump', np.int64(640)), ('automat', np.int64(88)), ('sometim', np.int64(1113)), ('press', np.int64(913)), ('button', np.int64(161)), ('consist', np.int64(240)), ('one', np.int64(819)), ('point', np.int64(895)), ('told', np.int64(1217)), ('cant', np.int64(170)), ('carri', np.int64(176)), ('trip', np.int64(1238)), ('companion', np.int64(223)), ('minut', np.int64(748)), ('later', np.int64(662)), ('requir', np.int64(995)), ('carri', np.int64(176)), ('order', np.int64(829)), ('progress', np.int64(932)), ('without', np.int64(1322)), ('game', np.int64(493)), ('prompt', np.int64(933)), ('button', np.int64(161)), ('assign', np.int64(77)), ('nonsens', np.int64(800)), ('sometim', np.int64(1113)), ('press', np.int64(913)), ('perform', np.int64(863)), ('action', np.int64(15)), ('sometim', np.int64(1113)), ('b', np.int64(96)), ('constant', np.int64(243)), ('button', np.int64(161)), ('also', np.int64(45)), ('sever', np.int64(1068)), ('time', np.int64(1215)), ('outsid', np.int64(833)), ('hidden', np.int64(556)), ('wall', np.int64(1293)), ('restart', np.int64(1001)), ('checkpoint', np.int64(193)), ('die', np.int64(314)), ('suddenli', np.int64(1166)), ('fli', np.int64(465)), ('air', np.int64(35)), ('rigid', np.int64(1013)), ('intend', np.int64(618)), ('make', np.int64(712)), ('game', np.int64(493)), ('smooth', np.int64(1106)), ('access', np.int64(6)), ('instead', np.int64(617)), ('worst', np.int64(1330)), ('thing', np.int64(1203)), ('even', np.int64(394)), ('suppos', np.int64(1170)), ('go', np.int64(510)), ('properli', np.int64(935)), ('platform', np.int64(886)), ('interact', np.int64(621)), ('flash', np.int64(460)), ('game', np.int64(493)), ('bright', np.int64(147)), ('still', np.int64(1142)), ('easi', np.int64(352)), ('miss', np.int64(749)), ('despit', np.int64(306)), ('control', np.int64(247)), ('possibl', np.int64(905)), ('jump', np.int64(640)), ('fli', np.int64(465)), ('past', np.int64(852)), ('platform', np.int64(886)), ('somewher', np.int64(1114)), ('suppos', np.int64(1170)), ('tomb', np.int64(1218)), ('raider', np.int64(956)), ('even', np.int64(394)), ('princ', np.int64(921)), ('persia', np.int64(868)), ('like', np.int64(680)), ('legaci', np.int64(671)), ('even', np.int64(394)), ('everyth', np.int64(399)), ('annoy', np.int64(57)), ('game', np.int64(493)), ('still', np.int64(1142)), ('ok', np.int64(817)), ('stori', np.int64(1146)), ('written', np.int64(1336)), ('alex', np.int64(36)), ('garland', np.int64(496)), ('andi', np.int64(55)), ('make', np.int64(712)), ('movi', np.int64(769)), ('tend', np.int64(1195)), ('make', np.int64(712)), ('nice', np.int64(795)), ('stuff', np.int64(1157)), ('true', np.int64(1241)), ('stori', np.int64(1146)), ('set', np.int64(1067)), ('charact', np.int64(190)), ('great', np.int64(525)), ('came', np.int64(166)), ('film', np.int64(448)), ('stori', np.int64(1146)), ('feel', np.int64(438)), ('lot', np.int64(702)), ('like', np.int64(680)), ('movi', np.int64(769)), ('script', np.int64(1045)), ('big', np.int64(124)), ('import', np.int64(599)), ('moment', np.int64(756)), ('stuff', np.int64(1157)), ('around', np.int64(70)), ('game', np.int64(493)), ('bit', np.int64(127)), ('fit', np.int64(456)), ('natur', np.int64(783)), ('script', np.int64(1045)), ('sever', np.int64(1068)), ('section', np.int64(1051)), ('feel', np.int64(438)), ('like', np.int64(680)), ('drawn', np.int64(342)), ('busywork', np.int64(160)), ('could', np.int64(258)), ('easili', np.int64(355)), ('see', np.int64(1052)), ('player', np.int64(889)), ('get', np.int64(502)), ('bore', np.int64(140)), ('puzzl', np.int64(947)), ('section', np.int64(1051)), ('never', np.int64(790)), ('finish', np.int64(453)), ('game', np.int64(493)), ('im', np.int64(595)), ('glad', np.int64(508)), ('power', np.int64(909)), ('slow', np.int64(1103)), ('bit', np.int64(127)), ('finish', np.int64(453)), ('game', np.int64(493)), ('moment', np.int64(756)), ('end', np.int64(375)), ('good', np.int64(515)), ('im', np.int64(595)), ('impress', np.int64(600)), ('qualiti', np.int64(948)), ('ninja', np.int64(798)), ('work', np.int64(1327)), ('made', np.int64(709)), ('huge', np.int64(579)), ('step', np.int64(1141)), ('forward', np.int64(476)), ('game', np.int64(493)), ('compar', np.int64(224)), ('enslav', np.int64(383)), ('unlik', np.int64(1260)), ('sce', np.int64(1040)), ('santa', np.int64(1032)), ('monica', np.int64(758)), ('make', np.int64(712)), ('god', np.int64(512)), ('war', np.int64(1295)), ('game', np.int64(493)), ('ninja', np.int64(798)), ('theori', np.int64(1201)), ('saw', np.int64(1035)), ('went', np.int64(1310)), ('wrong', np.int64(1337)), ('ambit', np.int64(50)), ('better', np.int64(122)), ('next', np.int64(794)), ('time', np.int64(1215)), ('know', np.int64(653)), ('mayb', np.int64(728)), ('next', np.int64(794)), ('game', np.int64(493)), ('abl', np.int64(0)), ('match', np.int64(724)), ('platinum', np.int64(887)), ('game', np.int64(493)), ('still', np.int64(1142)), ('despis', np.int64(305)), ('atari', np.int64(80)), ('action', np.int64(15)), ('jeff', np.int64(636)), ('serious', np.int64(1064)), ('jeff', np.int64(636)), ('would', np.int64(1333)), ('make', np.int64(712)), ('good', np.int64(515)), ('partnership', np.int64(850)), ('given', np.int64(507)), ('correct', np.int64(254)), ('circumst', np.int64(197)), ('realli', np.int64(968)), ('steam', np.int64(1139)), ('especi', np.int64(392)), ('lack', np.int64(655)), ('qualiti', np.int64(948)), ('game', np.int64(493)), ('atari', np.int64(80)), ('recent', np.int64(973)), ('atari', np.int64(80)), ('vault', np.int64(1279)), ('nice', np.int64(795)), ('compil', np.int64(225)), ('classic', np.int64(202)), ('game', np.int64(493)), ('regardless', np.int64(981)), ('use', np.int64(1268)), ('play', np.int64(888)), ('old', np.int64(818)), ('collect', np.int64(215)), ('control', np.int64(247)), ('made', np.int64(709)), ('hard', np.int64(537)), ('sometim', np.int64(1113)), ('use', np.int64(1268)), ('mous', np.int64(765)), ('probabl', np.int64(926)), ('comfort', np.int64(219)), ('especi', np.int64(392)), ('game', np.int64(493)), ('like', np.int64(680)), ('tempest', np.int64(1194)), ('super', np.int64(1168)), ('shame', np.int64(1071)), ('didnt', np.int64(313)), ('make', np.int64(712)), ('oh', np.int64(816)), ('well', np.int64(1309)), ('worth', np.int64(1331)), ('get', np.int64(502)), ('sale', np.int64(1031)), ('great', np.int64(525)), ('graphic', np.int64(523)), ('great', np.int64(525)), ('stori', np.int64(1146)), ('great', np.int64(525)), ('game', np.int64(493)), ('game', np.int64(493)), ('awesom', np.int64(95)), ('wb', np.int64(1304)), ('person', np.int64(869)), ('reason', np.int64(970)), ('believ', np.int64(118)), ('game', np.int64(493)), ('receiv', np.int64(972)), ('award', np.int64(92)), ('simpli', np.int64(1088)), ('best', np.int64(120)), ('version', np.int64(1281)), ('platform', np.int64(886)), ('steam', np.int64(1139)), ('best', np.int64(120)), ('use', np.int64(1268)), ('anim', np.int64(56)), ('plate', np.int64(885)), ('steam', np.int64(1139)), ('better', np.int64(122)), ('yet', np.int64(1341)), ('pick', np.int64(873)), ('game', np.int64(493)), ('absolut', np.int64(3)), ('gem', np.int64(499)), ('game', np.int64(493)), ('fill', np.int64(447)), ('high', np.int64(558)), ('adrenalin', np.int64(23)), ('mad', np.int64(708)), ('fan', np.int64(429)), ('game', np.int64(493)), ('well', np.int64(1309)), ('polish', np.int64(898)), ('wave', np.int64(1301)), ('zombi', np.int64(1346)), ('still', np.int64(1142)), ('small', np.int64(1105)), ('commun', np.int64(222)), ('onlin', np.int64(820)), ('get', np.int64(502)), ('onlin', np.int64(820)), ('itch', np.int64(631)), ('give', np.int64(505)), ('cuz', np.int64(279)), ('get', np.int64(502)), ('realli', np.int64(968)), ('repetit', np.int64(992)), ('fast', np.int64(433)), ('enjoy', np.int64(381)), ('blow', np.int64(133)), ('zombi', np.int64(1346)), ('good', np.int64(515)), ('get', np.int64(502)), ('truli', np.int64(1242)), ('awesom', np.int64(95)), ('game', np.int64(493)), ('came', np.int64(166)), ('game', np.int64(493)), ('let', np.int64(674)), ('tell', np.int64(1193)), ('thousand', np.int64(1209)), ('time', np.int64(1215)), ('better', np.int64(122)), ('citi', np.int64(198)), ('easier', np.int64(353)), ('way', np.int64(1302)), ('thing', np.int64(1203)), ('progress', np.int64(932)), ('keep', np.int64(641)), ('make', np.int64(712)), ('citi', np.int64(198)), ('didnt', np.int64(313)), ('enough', np.int64(382)), ('infrastructur', np.int64(611)), ('support', np.int64(1169)), ('quickli', np.int64(952)), ('identifi', np.int64(588)), ('citizen', np.int64(199)), ('might', np.int64(743)), ('leav', np.int64(668)), ('im', np.int64(595)), ('lose', np.int64(700)), ('money', np.int64(757)), ('plu', np.int64(893)), ('realli', np.int64(968)), ('work', np.int64(1327)), ('hard', np.int64(537)), ('add', np.int64(18)), ('realism', np.int64(965)), ('game', np.int64(493)), ('citizen', np.int64(199)), ('drive', np.int64(345)), ('car', np.int64(171)), ('home', np.int64(566)), ('work', np.int64(1327)), ('even', np.int64(394)), ('around', np.int64(70)), ('town', np.int64(1226)), ('instead', np.int64(617)), ('random', np.int64(958)), ('npc', np.int64(805)), ('model', np.int64(755)), ('walk', np.int64(1292)), ('design', np.int64(304)), ('loop', np.int64(695)), ('new', np.int64(791)), ('updat', np.int64(1263)), ('realli', np.int64(968)), ('add', np.int64(18)), ('one', np.int64(819)), ('element', np.int64(367)), ('game', np.int64(493)), ('make', np.int64(712)), ('much', np.int64(771)), ('better', np.int64(122)), ('sure', np.int64(1171)), ('easili', np.int64(355)), ('play', np.int64(888)), ('without', np.int64(1322)), ('dlc', np.int64(331)), ('realli', np.int64(968)), ('add', np.int64(18)), ('valu', np.int64(1275)), ('well', np.int64(1309)), ('challeng', np.int64(187)), ('game', np.int64(493)), ('dlc', np.int64(331)), ('total', np.int64(1223)), ('worth', np.int64(1331)), ('money', np.int64(757)), ('game', np.int64(493)), ('absolut', np.int64(3)), ('beauti', np.int64(112)), ('music', np.int64(774)), ('score', np.int64(1042)), ('perfect', np.int64(862)), ('match', np.int64(724)), ('tone', np.int64(1220)), ('game', np.int64(493)), ('make', np.int64(712)), ('amaz', np.int64(48)), ('system', np.int64(1180)), ('use', np.int64(1268)), ('full', np.int64(487)), ('keyboard', np.int64(643)), ('control', np.int64(247)), ('mechan', np.int64(731)), ('difficult', np.int64(316)), ('first', np.int64(455)), ('player', np.int64(889)), ('use', np.int64(1268)), ('arrow', np.int64(71)), ('key', np.int64(642)), ('special', np.int64(1120)), ('attack', np.int64(81)), ('throughout', np.int64(1212)), ('game', np.int64(493)), ('sad', np.int64(1027)), ('stori', np.int64(1146)), ('almost', np.int64(39)), ('make', np.int64(712)), ('cri', np.int64(271)), ('get', np.int64(502)), ('close', np.int64(207)), ('tear', np.int64(1191)), ('still', np.int64(1142)), ('fight', np.int64(444)), ('hard', np.int64(537)), ('battl', np.int64(108)), ('tear', np.int64(1191)), ('game', np.int64(493)), ('game', np.int64(493)), ('good', np.int64(515)), ('good', np.int64(515)), ('mode', np.int64(754)), ('everyth', np.int64(399)), ('need', np.int64(788)), ('game', np.int64(493)), ('realli', np.int64(968)), ('best', np.int64(120)), ('citi', np.int64(198)), ('build', np.int64(155)), ('game', np.int64(493)), ('use', np.int64(1268)), ('play', np.int64(888)), ('sim', np.int64(1085)), ('citi', np.int64(198)), ('love', np.int64(703)), ('came', np.int64(166)), ('took', np.int64(1221)), ('made', np.int64(709)), ('game', np.int64(493)), ('true', np.int64(1241)), ('citi', np.int64(198)), ('simul', np.int64(1089)), ('game', np.int64(493)), ('urg', np.int64(1266)), ('get', np.int64(502)), ('citi', np.int64(198)), ('build', np.int64(155)), ('game', np.int64(493)), ('citi', np.int64(198)), ('bad', np.int64(99)), ('review', np.int64(1007)), ('stumbl', np.int64(1158)), ('upon', np.int64(1265)), ('game', np.int64(493)), ('citi', np.int64(198)), ('good', np.int64(515)), ('game', np.int64(493)), ('interfac', np.int64(623)), ('use', np.int64(1268)), ('citi', np.int64(198)), ('motion', np.int64(763)), ('game', np.int64(493)), ('transport', np.int64(1235)), ('option', np.int64(828)), ('stuff', np.int64(1157)), ('make', np.int64(712)), ('great', np.int64(525)), ('game', np.int64(493)), ('ive', np.int64(634)), ('citi', np.int64(198)), ('day', np.int64(288)), ('still', np.int64(1142)), ('fill', np.int64(447)), ('like', np.int64(680)), ('two', np.int64(1248)), ('squar', np.int64(1126)), ('whole', np.int64(1314)), ('area', np.int64(68)), ('worth', np.int64(1331)), ('get', np.int64(502)), ('great', np.int64(525)), ('play', np.int64(888)), ('suck', np.int64(1165)), ('still', np.int64(1142)), ('would', np.int64(1333)), ('recommend', np.int64(975)), ('game', np.int64(493)), ('devil', np.int64(312)), ('may', np.int64(727)), ('cri', np.int64(271)), ('fan', np.int64(429)), ('best', np.int64(120)), ('game', np.int64(493)), ('stori', np.int64(1146)), ('emot', np.int64(371)), ('ive', np.int64(634)), ('ever', np.int64(397)), ('play', np.int64(888)), ('period', np.int64(865)), ('buy', np.int64(162)), ('play', np.int64(888)), ('best', np.int64(120)), ('game', np.int64(493)), ('ever', np.int64(397)), ('correct', np.int64(254)), ('support', np.int64(1169)), ('need', np.int64(788)), ('player', np.int64(889)), ('fic', np.int64(441)), ('fp', np.int64(479)), ('problem', np.int64(927)), ('nice', np.int64(795)), ('game', np.int64(493)), ('flatout', np.int64(462)), ('uc', np.int64(1251)), ('far', np.int64(431)), ('best', np.int64(120)), ('part', np.int64(847)), ('seri', np.int64(1062)), ('game', np.int64(493)), ('lot', np.int64(702)), ('action', np.int64(15)), ('fun', np.int64(488)), ('get', np.int64(502)), ('bore', np.int64(140)), ('campaign', np.int64(168)), ('give', np.int64(505)), ('still', np.int64(1142)), ('game', np.int64(493)), ('base', np.int64(105)), ('flatout', np.int64(462)), ('basic', np.int64(106)), ('better', np.int64(122)), ('graphic', np.int64(523)), ('oppon', np.int64(825)), ('thing', np.int64(1203)), ('alreadi', np.int64(43)), ('better', np.int64(122)), ('wait', np.int64(1290)), ('steam', np.int64(1139)), ('sale', np.int64(1031)), ('buy', np.int64(162)), ('uc', np.int64(1251)), ('one', np.int64(819)), ('best', np.int64(120)), ('shooter', np.int64(1077)), ('must', np.int64(775)), ('buy', np.int64(162)), ('realli', np.int64(968)), ('good', np.int64(515)), ('game', np.int64(493)), ('choos', np.int64(196)), ('adventur', np.int64(25)), ('style', np.int64(1161)), ('action', np.int64(15)), ('rpg', np.int64(1024)), ('lead', np.int64(665)), ('dash', np.int64(284)), ('rogu', np.int64(1017)), ('fox', np.int64(478)), ('dozen', np.int64(340)), ('differ', np.int64(315)), ('stori', np.int64(1146)), ('locat', np.int64(690)), ('tri', np.int64(1236)), ('recal', np.int64(971)), ('past', np.int64(852)), ('make', np.int64(712)), ('choic', np.int64(195)), ('next', np.int64(794)), ('step', np.int64(1141)), ('everi', np.int64(398)), ('choic', np.int64(195)), ('lead', np.int64(665)), ('usual', np.int64(1270)), ('disastr', np.int64(323)), ('differ', np.int64(315)), ('end', np.int64(375)), ('stori', np.int64(1146)), ('end', np.int64(375)), ('start', np.int64(1133)), ('usual', np.int64(1270)), ('differ', np.int64(315)), ('locat', np.int64(690)), ('keep', np.int64(641)), ('interest', np.int64(622)), ('make', np.int64(712)), ('differ', np.int64(315)), ('choic', np.int64(195)), ('unlock', np.int64(1261)), ('secret', np.int64(1050)), ('presum', np.int64(914)), ('lead', np.int64(665)), ('real', np.int64(964)), ('stori', np.int64(1146)), ('unlock', np.int64(1261)), ('stori', np.int64(1146)), ('last', np.int64(661)), ('hour', np.int64(574)), ('nice', np.int64(795)), ('size', np.int64(1096)), ('one', np.int64(819)), ('per', np.int64(861)), ('sit', np.int64(1094)), ('narrat', np.int64(780)), ('usual', np.int64(1270)), ('employ', np.int64(372)), ('dri', np.int64(344)), ('humor', np.int64(580)), ('lot', np.int64(702)), ('media', np.int64(732)), ('refer', np.int64(976)), ('pun', np.int64(942)), ('usual', np.int64(1270)), ('mess', np.int64(739)), ('choic', np.int64(195)), ('made', np.int64(709)), ('size', np.int64(1096)), ('unlock', np.int64(1261)), ('progress', np.int64(932)), ('differ', np.int64(315)), ('stori', np.int64(1146)), ('also', np.int64(45)), ('craft', np.int64(262)), ('upgrad', np.int64(1264)), ('differ', np.int64(315)), ('sword', np.int64(1178)), ('differ', np.int64(315)), ('combat', np.int64(217)), ('effect', np.int64(361)), ('path', np.int64(854)), ('also', np.int64(45)), ('act', np.int64(14)), ('key', np.int64(642)), ('movement', np.int64(768)), ('combat', np.int64(217)), ('bit', np.int64(127)), ('clunki', np.int64(211)), ('work', np.int64(1327)), ('well', np.int64(1309)), ('enough', np.int64(382)), ('enjoy', np.int64(381)), ('move', np.int64(767)), ('fight', np.int64(444)), ('mostli', np.int64(762)), ('mous', np.int64(765)), ('use', np.int64(1268)), ('coupl', np.int64(260)), ('keyboard', np.int64(643)), ('button', np.int64(161)), ('unlock', np.int64(1261)), ('skill', np.int64(1097)), ('cant', np.int64(170)), ('seem', np.int64(1053)), ('button', np.int64(161)), ('bit', np.int64(127)), ('annoy', np.int64(57)), ('conveni', np.int64(248)), ('place', np.int64(882)), ('imo', np.int64(597)), ('overal', np.int64(834)), ('im', np.int64(595)), ('enjoy', np.int64(381)), ('game', np.int64(493)), ('enough', np.int64(382)), ('recommend', np.int64(975)), ('fun', np.int64(488)), ('stori', np.int64(1146)), ('lot', np.int64(702)), ('game', np.int64(493)), ('design', np.int64(304)), ('around', np.int64(70)), ('combat', np.int64(217)), ('bit', np.int64(127)), ('clunki', np.int64(211)), ('still', np.int64(1142)), ('enjoy', np.int64(381)), ('great', np.int64(525)), ('exampl', np.int64(402)), ('great', np.int64(525)), ('rpg', np.int64(1024)), ('without', np.int64(1322)), ('doubt', np.int64(338)), ('note', np.int64(801)), ('game', np.int64(493)), ('requir', np.int64(995)), ('amount', np.int64(52)), ('free', np.int64(482)), ('time', np.int64(1215)), ('extrem', np.int64(417)), ('rpg', np.int64(1024)), ('patienc', np.int64(855)), ('quit', np.int64(954)), ('possibl', np.int64(905)), ('easiest', np.int64(354)), ('fight', np.int64(444)), ('game', np.int64(493)), ('play', np.int64(888)), ('outsid', np.int64(833)), ('realm', np.int64(969)), ('know', np.int64(653)), ('play', np.int64(888)), ('game', np.int64(493)), ('within', np.int64(1321)), ('like', np.int64(680)), ('hour', np.int64(574)), ('play', np.int64(888)), ('right', np.int64(1012)), ('absolut', np.int64(3)), ('beauti', np.int64(112)), ('entir', np.int64(385)), ('engross', np.int64(380)), ('wonder', np.int64(1324)), ('fun', np.int64(488)), ('floor', np.int64(466)), ('gon', np.int64(514)), ('na', np.int64(776)), ('kill', np.int64(646)), ('good', np.int64(515)), ('game', np.int64(493)), ('start', np.int64(1133)), ('game', np.int64(493)), ('kind', np.int64(647)), ('slow', np.int64(1103)), ('get', np.int64(502)), ('realli', np.int64(968)), ('fast', np.int64(433)), ('everi', np.int64(398)), ('level', np.int64(675)), ('make', np.int64(712)), ('feel', np.int64(438)), ('good', np.int64(515)), ('finish', np.int64(453)), ('best', np.int64(120)), ('part', np.int64(847)), ('get', np.int64(502)), ('grandmast', np.int64(522)), ('level', np.int64(675)), ('get', np.int64(502)), ('coupl', np.int64(260)), ('thousand', np.int64(1209)), ('surviv', np.int64(1175)), ('repetit', np.int64(992)), ('fake', np.int64(426)), ('histori', np.int64(562)), ('explor', np.int64(411)), ('overpow', np.int64(835)), ('charact', np.int64(190)), ('game', np.int64(493)), ('truli', np.int64(1242)), ('beauti', np.int64(112)), ('stun', np.int64(1159)), ('visual', np.int64(1288)), ('besid', np.int64(119)), ('worth', np.int64(1331)), ('buy', np.int64(162)), ('best', np.int64(120)), ('fun', np.int64(488)), ('car', np.int64(171)), ('ball', np.int64(101)), ('like', np.int64(680)), ('rest', np.int64(1000)), ('seri', np.int64(1062)), ('done', np.int64(334)), ('great', np.int64(525)), ('game', np.int64(493)), ('dlc', np.int64(331)), ('alon', np.int64(40)), ('worth', np.int64(1331)), ('buy', np.int64(162)), ('game', np.int64(493)), ('fan', np.int64(429)), ('comic', np.int64(220)), ('tv', np.int64(1245)), ('show', np.int64(1080)), ('game', np.int64(493)), ('great', np.int64(525)), ('fun', np.int64(488)), ('see', np.int64(1052)), ('main', np.int64(710)), ('charact', np.int64(190)), ('die', np.int64(314)), ('way', np.int64(1302)), ('stori', np.int64(1146)), ('driven', np.int64(346)), ('great', np.int64(525)), ('game', np.int64(493)), ('cant', np.int64(170)), ('stop', np.int64(1145)), ('half', np.int64(532)), ('good', np.int64(515)), ('highli', np.int64(560)), ('recommend', np.int64(975)), ('game', np.int64(493)), ('get', np.int64(502)), ('bore', np.int64(140)), ('first', np.int64(455)), ('hour', np.int64(574)), ('refund', np.int64(979)), ('made', np.int64(709)), ('satisfi', np.int64(1033)), ('buy', np.int64(162)), ('epic', np.int64(387)), ('good', np.int64(515)), ('game', np.int64(493)), ('ignor', np.int64(592)), ('storylin', np.int64(1148)), ('absolut', np.int64(3)), ('fabul', np.int64(418)), ('smooth', np.int64(1106)), ('think', np.int64(1204)), ('twice', np.int64(1246)), ('buy', np.int64(162)), ('difficult', np.int64(316)), ('challeng', np.int64(187)), ('fun', np.int64(488)), ('soooo', np.int64(1116)), ('much', np.int64(771)), ('fun', np.int64(488)), ('total', np.int64(1223)), ('war', np.int64(1295)), ('fan', np.int64(429)), ('level', np.int64(675)), ('intens', np.int64(619)), ('game', np.int64(493)), ('make', np.int64(712)), ('seem', np.int64(1053)), ('real', np.int64(964)), ('effect', np.int64(361)), ('combat', np.int64(217)), ('system', np.int64(1180)), ('play', np.int64(888)), ('hour', np.int64(574)), ('still', np.int64(1142)), ('cant', np.int64(170)), ('get', np.int64(502)), ('old', np.int64(818)), ('edit', np.int64(359)), ('patch', np.int64(853)), ('full', np.int64(487)), ('good', np.int64(515)), ('go', np.int64(510)), ('far', np.int64(431)), ('play', np.int64(888)), ('game', np.int64(493)), ('concern', np.int64(233)), ('howev', np.int64(576)), ('warn', np.int64(1296)), ('still', np.int64(1142)), ('stand', np.int64(1131)), ('develop', np.int64(311)), ('warn', np.int64(1296)), ('game', np.int64(493)), ('contain', np.int64(244)), ('lock', np.int64(691)), ('content', np.int64(245)), ('unless', np.int64(1259)), ('new', np.int64(791)), ('processor', np.int64(929)), ('comput', np.int64(230)), ('singl', np.int64(1091)), ('player', np.int64(889)), ('hord', np.int64(571)), ('mode', np.int64(754)), ('hardest', np.int64(540)), ('campaign', np.int64(168)), ('difficulti', np.int64(317)), ('lock', np.int64(691)), ('march', np.int64(719)), ('incred', np.int64(607)), ('stupid', np.int64(1160)), ('advertis', np.int64(26)), ('page', np.int64(842)), ('inform', np.int64(610)), ('content', np.int64(245)), ('lock', np.int64(691)), ('buy', np.int64(162)), ('game', np.int64(493)), ('develop', np.int64(311)), ('hide', np.int64(557)), ('us', np.int64(1267)), ('took', np.int64(1221)), ('long', np.int64(692)), ('make', np.int64(712)), ('game', np.int64(493)), ('mostli', np.int64(762)), ('stabl', np.int64(1129)), ('fact', np.int64(421)), ('releas', np.int64(986)), ('democraci', np.int64(301)), ('africa', np.int64(29)), ('game', np.int64(493)), ('still', np.int64(1142)), ('need', np.int64(788)), ('fix', np.int64(457)), ('littl', np.int64(687)), ('annoy', np.int64(57)), ('would', np.int64(1333)), ('like', np.int64(680)), ('kill', np.int64(646)), ('ride', np.int64(1009)), ('answer', np.int64(59)), ('ye', np.int64(1338)), ('go', np.int64(510)), ('kill', np.int64(646)), ('answer', np.int64(59)), ('sad', np.int64(1027)), ('reason', np.int64(970)), ('speak', np.int64(1119)), ('horribl', np.int64(572)), ('server', np.int64(1065)), ('stay', np.int64(1137)), ('away', np.int64(93)), ('great', np.int64(525)), ('game', np.int64(493)), ('great', np.int64(525)), ('game', np.int64(493)), ('mani', np.int64(716)), ('hour', np.int64(574)), ('fun', np.int64(488)), ('one', np.int64(819)), ('best', np.int64(120)), ('game', np.int64(493)), ('ever', np.int64(397)), ('made', np.int64(709)), ('wonder', np.int64(1324)), ('around', np.int64(70)), ('open', np.int64(822)), ('wasteland', np.int64(1299)), ('loot', np.int64(697)), ('kind', np.int64(647)), ('stuff', np.int64(1157)), ('time', np.int64(1215)), ('kill', np.int64(646)), ('super', np.int64(1168)), ('must', np.int64(775)), ('play', np.int64(888)), ('simpli', np.int64(1088)), ('put', np.int64(945)), ('great', np.int64(525)), ('game', np.int64(493)), ('buy', np.int64(162)), ('elabor', np.int64(366)), ('one', np.int64(819)), ('satisfi', np.int64(1033)), ('deep', np.int64(295)), ('combat', np.int64(217)), ('system', np.int64(1180)), ('around', np.int64(70)), ('great', np.int64(525)), ('graphic', np.int64(523)), ('low', np.int64(704)), ('system', np.int64(1180)), ('requir', np.int64(995)), ('guess', np.int64(528)), ('awesom', np.int64(95)), ('sound', np.int64(1118)), ('design', np.int64(304)), ('pretti', np.int64(915)), ('extens', np.int64(413)), ('option', np.int64(828)), ('beta', np.int64(121)), ('mind', np.int64(744)), ('feel', np.int64(438)), ('win', np.int64(1316)), ('duel', np.int64(349)), ('game', np.int64(493)), ('amaz', np.int64(48)), ('get', np.int64(502)), ('oh', np.int64(816)), ('god', np.int64(512)), ('appar', np.int64(62)), ('defin', np.int64(297)), ('featur', np.int64(437)), ('use', np.int64(1268)), ('gun', np.int64(530)), ('kill', np.int64(646)), ('exampl', np.int64(402)), ('batman', np.int64(107)), ('beyond', np.int64(123)), ('bruce', np.int64(152)), ('wayn', np.int64(1303)), ('retir', np.int64(1004)), ('breakdown', np.int64(146)), ('use', np.int64(1268)), ('gun', np.int64(530)), ('handicap', np.int64(535)), ('seriou', np.int64(1063)), ('impedi', np.int64(598)), ('oper', np.int64(823)), ('effici', np.int64(362)), ('also', np.int64(45)), ('appar', np.int64(62)), ('need', np.int64(788)), ('better', np.int64(122)), ('costum', np.int64(257)), ('design', np.int64(304)), ('im', np.int64(595)), ('sure', np.int64(1171)), ('hey', np.int64(555)), ('kind', np.int64(647)), ('got', np.int64(517)), ('nice', np.int64(795)), ('ring', np.int64(1015)), ('favorit', np.int64(435)), ('femal', np.int64(440)), ('villain', np.int64(1285)), ('much', np.int64(771)), ('rendit', np.int64(990)), ('surprisingli', np.int64(1173)), ('play', np.int64(888)), ('bit', np.int64(127)), ('die', np.int64(314)), ('cri', np.int64(271)), ('tri', np.int64(1236)), ('got', np.int64(517)), ('good', np.int64(515)), ('stuff', np.int64(1157)), ('game', np.int64(493)), ('realli', np.int64(968)), ('fun', np.int64(488)), ('absolut', np.int64(3)), ('disgust', np.int64(326)), ('way', np.int64(1302)), ('sell', np.int64(1058)), ('game', np.int64(493)), ('roughli', np.int64(1021)), ('three', np.int64(1210)), ('updat', np.int64(1263)), ('per', np.int64(861)), ('year', np.int64(1340)), ('bring', np.int64(148)), ('map', np.int64(718)), ('perk', np.int64(866)), ('new', np.int64(791)), ('weapon', np.int64(1306)), ('impress', np.int64(600)), ('simpli', np.int64(1088)), ('everyth', np.int64(399)), ('game', np.int64(493)), ('know', np.int64(653)), ('mess', np.int64(739)), ('intent', np.int64(620)), ('clean', np.int64(204)), ('edit', np.int64(359)), ('game', np.int64(493)), ('gotten', np.int64(518)), ('even', np.int64(394)), ('wors', np.int64(1329)), ('perk', np.int64(866)), ('cheap', np.int64(192)), ('even', np.int64(394)), ('tri', np.int64(1236)), ('act', np.int64(14)), ('like', np.int64(680)), ('im', np.int64(595)), ('surpris', np.int64(1172)), ('lazi', np.int64(664)), ('point', np.int64(895)), ('buy', np.int64(162)), ('game', np.int64(493)), ('broken', np.int64(150)), ('custom', np.int64(277)), ('point', np.int64(895)), ('guy', np.int64(531)), ('ga', np.int64(491)), ('station', np.int64(1135)), ('ign', np.int64(591)), ('would', np.int64(1333)), ('ram', np.int64(957)), ('realli', np.int64(968)), ('great', np.int64(525)), ('horror', np.int64(573)), ('game', np.int64(493)), ('enjoy', np.int64(381)), ('jump', np.int64(640)), ('scare', np.int64(1038)), ('gore', np.int64(516)), ('highli', np.int64(560)), ('recommend', np.int64(975)), ('save', np.int64(1034)), ('money', np.int64(757)), ('dlc', np.int64(331)), ('though', np.int64(1207)), ('hype', np.int64(584)), ('dlc', np.int64(331)), ('given', np.int64(507)), ('expect', np.int64(408)), ('origin', np.int64(830)), ('disappoint', np.int64(322)), ('realli', np.int64(968)), ('short', np.int64(1078)), ('ok', np.int64(817)), ('fine', np.int64(451)), ('dlc', np.int64(331)), ('ill', np.int64(594)), ('let', np.int64(674)), ('one', np.int64(819)), ('pass', np.int64(851)), ('also', np.int64(45)), ('scari', np.int64(1039)), ('jump', np.int64(640)), ('scare', np.int64(1038)), ('minim', np.int64(745)), ('ai', np.int64(33)), ('interact', np.int64(621)), ('bore', np.int64(140)), ('lack', np.int64(655)), ('intens', np.int64(619)), ('got', np.int64(517)), ('first', np.int64(455)), ('game', np.int64(493)), ('biggest', np.int64(126)), ('scream', np.int64(1043)), ('night', np.int64(796)), ('real', np.int64(964)), ('life', np.int64(678)), ('bedroom', np.int64(114)), ('door', np.int64(336)), ('open', np.int64(822)), ('someon', np.int64(1111)), ('disappoint', np.int64(322)), ('yo', np.int64(1342)), ('game', np.int64(493)), ('pretti', np.int64(915)), ('tight', np.int64(1214)), ('get', np.int64(502)), ('make', np.int64(712)), ('team', np.int64(1190)), ('archer', np.int64(67)), ('plu', np.int64(893)), ('want', np.int64(1294)), ('roll', np.int64(1019)), ('across', np.int64(13)), ('countrysid', np.int64(259)), ('author', np.int64(86)), ('punish', np.int64(943)), ('peasant', np.int64(859)), ('team', np.int64(1190)), ('pretti', np.int64(915)), ('like', np.int64(680)), ('want', np.int64(1294)), ('priest', np.int64(919)), ('witch', np.int64(1320)), ('like', np.int64(680)), ('knight', np.int64(652)), ('give', np.int64(505)), ('em', np.int64(370)), ('variou', np.int64(1277)), ('better', np.int64(122)), ('slaughter', np.int64(1101)), ('sieg', np.int64(1082)), ('castl', np.int64(179)), ('make', np.int64(712)), ('poor', np.int64(899)), ('work', np.int64(1327)), ('u', np.int64(1250)), ('lot', np.int64(702)), ('like', np.int64(680)), ('real', np.int64(964)), ('life', np.int64(678)), ('u', np.int64(1250)), ('think', np.int64(1204)), ('like', np.int64(680)), ('last', np.int64(661)), ('week', np.int64(1307)), ('saw', np.int64(1035)), ('damn', np.int64(282)), ('keyboard', np.int64(643)), ('broke', np.int64(149)), ('first', np.int64(455)), ('tri', np.int64(1236)), ('awesom', np.int64(95)), ('owo', np.int64(838)), ('expect', np.int64(408)), ('much', np.int64(771)), ('saw', np.int64(1035)), ('own', np.int64(837)), ('hidden', np.int64(556)), ('object', np.int64(806)), ('game', np.int64(493)), ('base', np.int64(105)), ('ghost', np.int64(503)), ('hunter', np.int64(582)), ('doo', np.int64(335)), ('show', np.int64(1080)), ('still', np.int64(1142)), ('gave', np.int64(497)), ('paranorm', np.int64(846)), ('state', np.int64(1134)), ('fair', np.int64(424)), ('chanc', np.int64(188)), ('regret', np.int64(983)), ('time', np.int64(1215)), ('spent', np.int64(1124)), ('stori', np.int64(1146)), ('ridicul', np.int64(1010)), ('art', np.int64(72)), ('anim', np.int64(56)), ('charact', np.int64(190)), ('make', np.int64(712)), ('look', np.int64(694)), ('like', np.int64(680)), ('zombi', np.int64(1346)), ('pretti', np.int64(915)), ('hilari', np.int64(561)), ('say', np.int64(1036)), ('afraid', np.int64(28)), ('look', np.int64(694)), ('thing', np.int64(1203)), ('realli', np.int64(968)), ('though', np.int64(1207)), ('found', np.int64(477)), ('paranorm', np.int64(846)), ('state', np.int64(1134)), ('honestli', np.int64(568)), ('pretti', np.int64(915)), ('engag', np.int64(378)), ('game', np.int64(493)), ('far', np.int64(431)), ('masterpiec', np.int64(723)), ('puzzl', np.int64(947)), ('interest', np.int64(622)), ('never', np.int64(790)), ('super', np.int64(1168)), ('difficult', np.int64(316)), ('neat', np.int64(787)), ('write', np.int64(1335)), ('decent', np.int64(294)), ('voic', np.int64(1289)), ('act', np.int64(14)), ('pretti', np.int64(915)), ('great', np.int64(525)), ('part', np.int64(847)), ('recommend', np.int64(975)), ('game', np.int64(493)), ('wait', np.int64(1290)), ('sale', np.int64(1031)), ('bundl', np.int64(157)), ('though', np.int64(1207)), ('surpris', np.int64(1172)), ('well', np.int64(1309)), ('let', np.int64(674)), ('see', np.int64(1052)), ('spell', np.int64(1122)), ('grammat', np.int64(520)), ('error', np.int64(391)), ('speech', np.int64(1121)), ('menu', np.int64(737)), ('voic', np.int64(1289)), ('act', np.int64(14)), ('need', np.int64(788)), ('paus', np.int64(857)), ('everi', np.int64(398)), ('time', np.int64(1215)), ('say', np.int64(1036)), ('babi', np.int64(97)), ('talk', np.int64(1186)), ('book', np.int64(139)), ('complet', np.int64(227)), ('incap', np.int64(602)), ('control', np.int64(247)), ('use', np.int64(1268)), ('control', np.int64(247)), ('result', np.int64(1003)), ('either', np.int64(365)), ('constant', np.int64(243)), ('dash', np.int64(284)), ('constant', np.int64(243)), ('map', np.int64(718)), ('open', np.int64(822)), ('bunch', np.int64(156)), ('littl', np.int64(687)), ('complaint', np.int64(226)), ('pick', np.int64(873)), ('game', np.int64(493)), ('voic', np.int64(1289)), ('didnt', np.int64(313)), ('even', np.int64(394)), ('get', np.int64(502)), ('hear', np.int64(548)), ('refund', np.int64(979)), ('time', np.int64(1215)), ('much', np.int64(771)), ('time', np.int64(1215)), ('pinbal', np.int64(878)), ('yet', np.int64(1341)), ('one', np.int64(819)), ('review', np.int64(1007)), ('suspect', np.int64(1176)), ('someth', np.int64(1112)), ('order', np.int64(829)), ('updat', np.int64(1263)), ('appropri', np.int64(65)), ('hope', np.int64(570)), ('soon', np.int64(1115)), ('first', np.int64(455)), ('compar', np.int64(224)), ('current', np.int64(276)), ('play', np.int64(888)), ('pinbal', np.int64(878)), ('tpa', np.int64(1227)), ('even', np.int64(394)), ('ball', np.int64(101)), ('steel', np.int64(1140)), ('physic', np.int64(872)), ('pinbal', np.int64(878)), ('like', np.int64(680)), ('leav', np.int64(668)), ('player', np.int64(889)), ('aforement', np.int64(27)), ('trio', np.int64(1237)), ('pinbal', np.int64(878)), ('tabl', np.int64(1182)), ('cold', np.int64(214)), ('feel', np.int64(438)), ('much', np.int64(771)), ('like', np.int64(680)), ('ball', np.int64(101)), ('roll', np.int64(1019)), ('struck', np.int64(1156)), ('pretti', np.int64(915)), ('much', np.int64(771)), ('anyth', np.int64(61)), ('accustom', np.int64(10)), ('pinbal', np.int64(878)), ('quit', np.int64(954)), ('like', np.int64(680)), ('deliber', np.int64(299)), ('choic', np.int64(195)), ('thing', np.int64(1203)), ('differ', np.int64(315)), ('accustom', np.int64(10)), ('play', np.int64(888)), ('game', np.int64(493)), ('prepar', np.int64(911)), ('thrill', np.int64(1211)), ('one', np.int64(819)), ('game', np.int64(493)), ('last', np.int64(661)), ('second', np.int64(1048)), ('though', np.int64(1207)), ('hit', np.int64(563)), ('ball', np.int64(101)), ('feel', np.int64(438)), ('pinbal', np.int64(878)), ('rather', np.int64(961)), ('someth', np.int64(1112)), ('els', np.int64(368)), ('someth', np.int64(1112)), ('deserv', np.int64(303)), ('thought', np.int64(1208)), ('consider', np.int64(239)), ('pinbal', np.int64(878)), ('tradit', np.int64(1231)), ('game', np.int64(493)), ('develop', np.int64(311)), ('skill', np.int64(1097)), ('hit', np.int64(563)), ('primarili', np.int64(920)), ('stationari', np.int64(1136)), ('target', np.int64(1187)), ('goal', np.int64(511)), ('pinbal', np.int64(878)), ('hit', np.int64(563)), ('stationari', np.int64(1136)), ('move', np.int64(767)), ('target', np.int64(1187)), ('tabl', np.int64(1182)), ('field', np.int64(443)), ('almost', np.int64(39)), ('empti', np.int64(374)), ('mode', np.int64(754)), ('edg', np.int64(358)), ('contain', np.int64(244)), ('stationari', np.int64(1136)), ('target', np.int64(1187)), ('otherwis', np.int64(832)), ('empti', np.int64(374)), ('center', np.int64(183)), ('consist', np.int64(240)), ('move', np.int64(767)), ('target', np.int64(1187)), ('way', np.int64(1302)), ('lose', np.int64(700)), ('ball', np.int64(101)), ('center', np.int64(183)), ('lower', np.int64(705)), ('ball', np.int64(101)), ('frequent', np.int64(483)), ('block', np.int64(132)), ('go', np.int64(510)), ('center', np.int64(183)), ('often', np.int64(815)), ('barrier', np.int64(104)), ('creat', np.int64(266)), ('player', np.int64(889)), ('action', np.int64(15)), ('tabl', np.int64(1182)), ('essenti', np.int64(393)), ('symmetr', np.int64(1179)), ('second', np.int64(1048)), ('set', np.int64(1067)), ('halfway', np.int64(533)), ('point', np.int64(895)), ('pinbal', np.int64(878)), ('three', np.int64(1210)), ('mode', np.int64(754)), ('campaign', np.int64(168)), ('boss', np.int64(141)), ('run', np.int64(1026)), ('endur', np.int64(376)), ('campaign', np.int64(168)), ('mode', np.int64(754)), ('look', np.int64(694)), ('tradit', np.int64(1231)), ('pinbal', np.int64(878)), ('physic', np.int64(872)), ('easi', np.int64(352)), ('get', np.int64(502)), ('extra', np.int64(415)), ('ball', np.int64(101)), ('involv', np.int64(628)), ('within', np.int64(1321)), ('game', np.int64(493)), ('game', np.int64(493)), ('averag', np.int64(90)), ('perhap', np.int64(864)), ('minut', np.int64(748)), ('boss', np.int64(141)), ('run', np.int64(1026)), ('mode', np.int64(754)), ('basic', np.int64(106)), ('attempt', np.int64(82)), ('get', np.int64(502)), ('larger', np.int64(660)), ('block', np.int64(132)), ('protect', np.int64(937)), ('block', np.int64(132)), ('barrier', np.int64(104)), ('eight', np.int64(364)), ('choic', np.int64(195)), ('menu', np.int64(737)), ('eight', np.int64(364)), ('unlock', np.int64(1261)), ('select', np.int64(1056)), ('offer', np.int64(813)), ('differ', np.int64(315)), ('object', np.int64(806)), ('target', np.int64(1187)), ('similar', np.int64(1086)), ('field', np.int64(443)), ('menu', np.int64(737)), ('preview', np.int64(916)), ('tabl', np.int64(1182)), ('quit', np.int64(954)), ('complex', np.int64(228)), ('interest', np.int64(622)), ('possibl', np.int64(905)), ('strongest', np.int64(1154)), ('featur', np.int64(437)), ('pinbal', np.int64(878)), ('win', np.int64(1316)), ('loos', np.int64(696)), ('game', np.int64(493)), ('unlik', np.int64(1260)), ('last', np.int64(661)), ('minut', np.int64(748)), ('endur', np.int64(376)), ('mode', np.int64(754)), ('physic', np.int64(872)), ('seem', np.int64(1053)), ('similar', np.int64(1086)), ('pinbal', np.int64(878)), ('know', np.int64(653)), ('appar', np.int64(62)), ('goal', np.int64(511)), ('hit', np.int64(563)), ('highest', np.int64(559)), ('move', np.int64(767)), ('target', np.int64(1187)), ('otherwis', np.int64(832)), ('almost', np.int64(39)), ('empti', np.int64(374)), ('field', np.int64(443)), ('total', np.int64(1223)), ('target', np.int64(1187)), ('hit', np.int64(563)), ('score', np.int64(1042)), ('game', np.int64(493)), ('averag', np.int64(90)), ('second', np.int64(1048)), ('even', np.int64(394)), ('though', np.int64(1207)), ('feel', np.int64(438)), ('like', np.int64(680)), ('pinbal', np.int64(878)), ('reason', np.int64(970)), ('write', np.int64(1335)), ('especi', np.int64(392)), ('sinc', np.int64(1090)), ('clearli', np.int64(205)), ('meant', np.int64(730)), ('pinbal', np.int64(878)), ('name', np.int64(779)), ('wait', np.int64(1290)), ('minut', np.int64(748)), ('ball', np.int64(101)), ('land', np.int64(657)), ('game', np.int64(493)), ('fast', np.int64(433)), ('pace', np.int64(839)), ('level', np.int64(675)), ('within', np.int64(1321)), ('singl', np.int64(1091)), ('tabl', np.int64(1182)), ('campaign', np.int64(168)), ('mode', np.int64(754)), ('interest', np.int64(622)), ('method', np.int64(741)), ('obtain', np.int64(809)), ('point', np.int64(895)), ('creativ', np.int64(267)), ('go', np.int64(510)), ('far', np.int64(431)), ('say', np.int64(1036)), ('price', np.int64(918)), ('reason', np.int64(970)), ('even', np.int64(394)), ('sale', np.int64(1031)), ('still', np.int64(1142)), ('much', np.int64(771)), ('tabl', np.int64(1182)), ('yet', np.int64(1341)), ('play', np.int64(888)), ('boss', np.int64(141)), ('level', np.int64(675)), ('certainli', np.int64(185)), ('plenti', np.int64(891)), ('potenti', np.int64(908)), ('explor', np.int64(411)), ('im', np.int64(595)), ('troubl', np.int64(1240)), ('get', np.int64(502)), ('use', np.int64(1268)), ('errat', np.int64(390)), ('ball', np.int64(101)), ('movement', np.int64(768)), ('place', np.int64(882)), ('though', np.int64(1207)), ('seem', np.int64(1053)), ('possibl', np.int64(905)), ('deliber', np.int64(299)), ('tabl', np.int64(1182)), ('sometim', np.int64(1113)), ('dark', np.int64(283)), ('alway', np.int64(47)), ('easi', np.int64(352)), ('see', np.int64(1052)), ('go', np.int64(510)), ('appreci', np.int64(64)), ('bright', np.int64(147)), ('flash', np.int64(460)), ('express', np.int64(412)), ('accomplish', np.int64(7)), ('distract', np.int64(329)), ('midst', np.int64(742)), ('game', np.int64(493)), ('much', np.int64(771)), ('ball', np.int64(101)), ('must', np.int64(775)), ('frequent', np.int64(483)), ('artifici', np.int64(73)), ('save', np.int64(1034)), ('aftermath', np.int64(30)), ('alway', np.int64(47)), ('possibl', np.int64(905)), ('understand', np.int64(1254)), ('caus', np.int64(181)), ('effect', np.int64(361)), ('complet', np.int64(227)), ('screen', np.int64(1044)), ('suspect', np.int64(1176)), ('player', np.int64(889)), ('input', np.int64(614)), ('see', np.int64(1052)), ('better', np.int64(122)), ('game', np.int64(493)), ('soon', np.int64(1115)), ('pinbal', np.int64(878)), ('didnt', np.int64(313)), ('recogn', np.int64(974)), ('name', np.int64(779)), ('perhap', np.int64(864)), ('earli', np.int64(351)), ('stage', np.int64(1130)), ('mostli', np.int64(762)), ('short', np.int64(1078)), ('time', np.int64(1215)), ('get', np.int64(502)), ('high', np.int64(558)), ('didnt', np.int64(313)), ('look', np.int64(694)), ('much', np.int64(771)), ('beyond', np.int64(123)), ('control', np.int64(247)), ('portrait', np.int64(904)), ('mode', np.int64(754)), ('among', np.int64(51)), ('unfortun', np.int64(1257)), ('game', np.int64(493)), ('make', np.int64(712)), ('poor', np.int64(899)), ('use', np.int64(1268)), ('portrait', np.int64(904)), ('mode', np.int64(754)), ('chang', np.int64(189)), ('pc', np.int64(858)), ('set', np.int64(1067)), ('achiev', np.int64(11)), ('primarili', np.int64(920)), ('beat', np.int64(111)), ('boss', np.int64(141)), ('action', np.int64(15)), ('accomplish', np.int64(7)), ('time', np.int64(1215)), ('basic', np.int64(106)), ('patient', np.int64(856)), ('player', np.int64(889)), ('pinbal', np.int64(878)), ('challeng', np.int64(187)), ('game', np.int64(493)), ('arcad', np.int64(66)), ('mode', np.int64(754)), ('strictli', np.int64(1151)), ('pinbal', np.int64(878)), ('take', np.int64(1184)), ('chanc', np.int64(188)), ('game', np.int64(493)), ('may', np.int64(727)), ('satisfi', np.int64(1033)), ('traditionalist', np.int64(1232)), ('mind', np.int64(744)), ('spend', np.int64(1123)), ('money', np.int64(757)), ('seem', np.int64(1053)), ('like', np.int64(680)), ('worthwhil', np.int64(1332)), ('price', np.int64(918)), ('accept', np.int64(5)), ('otherwis', np.int64(832)), ('id', np.int64(586)), ('suggest', np.int64(1167)), ('wait', np.int64(1290)), ('player', np.int64(889)), ('skill', np.int64(1097)), ('liter', np.int64(686)), ('put', np.int64(945)), ('two', np.int64(1248)), ('cent', np.int64(182)), ('worth', np.int64(1331)), ('plu', np.int64(893)), ('sale', np.int64(1031)), ('edit', np.int64(359)), ('play', np.int64(888)), ('hour', np.int64(574)), ('must', np.int64(775)), ('say', np.int64(1036)), ('im', np.int64(595)), ('quit', np.int64(954)), ('enjoy', np.int64(381)), ('pinbal', np.int64(878)), ('bug', np.int64(154)), ('way', np.int64(1302)), ('see', np.int64(1052)), ('name', np.int64(779)), ('associ', np.int64(79)), ('second', np.int64(1048)), ('screen', np.int64(1044)), ('shift', np.int64(1074)), ('page', np.int64(842)), ('name', np.int64(779)), ('reach', np.int64(962)), ('page', np.int64(842)), ('correct', np.int64(254)), ('page', np.int64(842)), ('edit', np.int64(359)), ('play', np.int64(888)), ('bit', np.int64(127)), ('longer', np.int64(693)), ('last', np.int64(661)), ('night', np.int64(796)), ('offlin', np.int64(814)), ('even', np.int64(394)), ('though', np.int64(1207)), ('im', np.int64(595)), ('fairli', np.int64(425)), ('averag', np.int64(90)), ('player', np.int64(889)), ('manag', np.int64(715)), ('get', np.int64(502)), ('boss', np.int64(141)), ('campaign', np.int64(168)), ('mode', np.int64(754)), ('score', np.int64(1042)), ('good', np.int64(515)), ('place', np.int64(882)), ('nice', np.int64(795)), ('featur', np.int64(437)), ('offlin', np.int64(814)), ('score', np.int64(1042)), ('includ', np.int64(604)), ('take', np.int64(1184)), ('minut', np.int64(748)), ('thank', np.int64(1199)), ('achiev', np.int64(11)), ('total', np.int64(1223)), ('pretti', np.int64(915)), ('cool', np.int64(251)), ('game', np.int64(493)), ('still', np.int64(1142)), ('need', np.int64(788)), ('twice', np.int64(1246)), ('big', np.int64(124)), ('half', np.int64(532)), ('price', np.int64(918)), ('success', np.int64(1164)), ('especi', np.int64(392)), ('sinc', np.int64(1090)), ('boss', np.int64(141)), ('run', np.int64(1026)), ('featur', np.int64(437)), ('repeat', np.int64(991)), ('campaign', np.int64(168)), ('mode', np.int64(754)), ('ive', np.int64(634)), ('gotten', np.int64(518)), ('level', np.int64(675)), ('thank', np.int64(1199)), ('probabl', np.int64(926)), ('one', np.int64(819)), ('best', np.int64(120)), ('game', np.int64(493)), ('ive', np.int64(634)), ('ever', np.int64(397)), ('play', np.int64(888)), ('huge', np.int64(579)), ('fan', np.int64(429)), ('childhood', np.int64(194)), ('realli', np.int64(968)), ('allow', np.int64(38)), ('player', np.int64(889)), ('feel', np.int64(438)), ('like', np.int64(680)), ('game', np.int64(493)), ('interact', np.int64(621)), ('charact', np.int64(190)), ('graphic', np.int64(523)), ('visual', np.int64(1288)), ('pleas', np.int64(890)), ('charact', np.int64(190)), ('amaz', np.int64(48)), ('kinda', np.int64(648)), ('fun', np.int64(488)), ('group', np.int64(527)), ('friend', np.int64(485)), ('random', np.int64(958)), ('make', np.int64(712)), ('fun', np.int64(488)), ('someth', np.int64(1112)), ('idl', np.int64(589)), ('time', np.int64(1215)), ('convers', np.int64(250)), ('rather', np.int64(961)), ('anyth', np.int64(61)), ('realli', np.int64(968)), ('play', np.int64(888)), ('actual', np.int64(17)), ('interest', np.int64(622)), ('worth', np.int64(1331)), ('sale', np.int64(1031)), ('friend', np.int64(485)), ('game', np.int64(493)), ('enjoy', np.int64(381)), ('talk', np.int64(1186)), ('forgett', np.int64(472)), ('opinion', np.int64(824)), ('still', np.int64(1142)), ('one', np.int64(819)), ('best', np.int64(120)), ('rt', np.int64(1025)), ('game', np.int64(493)), ('ive', np.int64(634)), ('ever', np.int64(397)), ('play', np.int64(888)), ('basic', np.int64(106)), ('loop', np.int64(695)), ('engag', np.int64(378)), ('realli', np.int64(968)), ('take', np.int64(1184)), ('away', np.int64(93)), ('grimm', np.int64(526)), ('game', np.int64(493)), ('delight', np.int64(300)), ('direct', np.int64(320)), ('goe', np.int64(513)), ('storytel', np.int64(1149)), ('bizarr', np.int64(128)), ('bad', np.int64(99)), ('actual', np.int64(17)), ('mix', np.int64(750)), ('extrem', np.int64(417)), ('basic', np.int64(106)), ('complet', np.int64(227)), ('mess', np.int64(739)), ('essenti', np.int64(393)), ('took', np.int64(1221)), ('basic', np.int64(106)), ('complet', np.int64(227)), ('miss', np.int64(749)), ('made', np.int64(709)), ('good', np.int64(515)), ('end', np.int64(375)), ('mess', np.int64(739)), ('see', np.int64(1052)), ('admittedli', np.int64(22)), ('even', np.int64(394)), ('later', np.int64(662)), ('actual', np.int64(17)), ('game', np.int64(493)), ('manag', np.int64(715)), ('miss', np.int64(749)), ('made', np.int64(709)), ('fun', np.int64(488)), ('place', np.int64(882)), ('hardli', np.int64(541)), ('make', np.int64(712)), ('absent', np.int64(2)), ('progress', np.int64(932)), ('provid', np.int64(938)), ('abl', np.int64(0)), ('pick', np.int64(873)), ('steadili', np.int64(1138)), ('larger', np.int64(660)), ('object', np.int64(806)), ('entir', np.int64(385)), ('game', np.int64(493)), ('run', np.int64(1026)), ('around', np.int64(70)), ('watch', np.int64(1300)), ('thing', np.int64(1203)), ('turn', np.int64(1243)), ('dark', np.int64(283)), ('dirti', np.int64(321)), ('wake', np.int64(1291)), ('occasion', np.int64(811)), ('jump', np.int64(640)), ('incred', np.int64(607)), ('dull', np.int64(350)), ('shame', np.int64(1071)), ('everyth', np.int64(399)), ('els', np.int64(368)), ('potenti', np.int64(908)), ('case', np.int64(178)), ('ive', np.int64(634)), ('stood', np.int64(1144)), ('rather', np.int64(961)), ('strongli', np.int64(1155)), ('game', np.int64(493)), ('lack', np.int64(655)), ('convent', np.int64(249)), ('excel', np.int64(403)), ('path', np.int64(854)), ('differ', np.int64(315)), ('case', np.int64(178)), ('grimm', np.int64(526)), ('lack', np.int64(655)), ('tradit', np.int64(1231)), ('sens', np.int64(1059)), ('extraordinarili', np.int64(416)), ('repetit', np.int64(992)), ('could', np.int64(258)), ('actual', np.int64(17)), ('clone', np.int64(206)), ('entireti', np.int64(386)), ('would', np.int64(1333)), ('pretti', np.int64(915)), ('damn', np.int64(282)), ('great', np.int64(525)), ('instead', np.int64(617)), ('end', np.int64(375)), ('mess', np.int64(739)), ('game', np.int64(493)), ('doubt', np.int64(338)), ('recommend', np.int64(975)), ('also', np.int64(45)), ('factor', np.int64(422)), ('review', np.int64(1007)), ('serious', np.int64(1064)), ('guy', np.int64(531)), ('nag', np.int64(777)), ('someon', np.int64(1111)), ('fact', np.int64(421)), ('play', np.int64(888)), ('free', np.int64(482)), ('episod', np.int64(388)), ('paid', np.int64(843)), ('one', np.int64(819)), ('entir', np.int64(385)), ('seri', np.int64(1062)), ('bundl', np.int64(157)), ('slightli', np.int64(1102)), ('annoy', np.int64(57)), ('get', np.int64(502)), ('littl', np.int64(687)), ('nag', np.int64(777)), ('someth', np.int64(1112)), ('spent', np.int64(1124)), ('money', np.int64(757)), ('acceler', np.int64(4)), ('need', np.int64(788)), ('fix', np.int64(457)), ('pretti', np.int64(915)), ('much', np.int64(771)), ('got', np.int64(517)), ('buck', np.int64(153)), ('burn', np.int64(158)), ('hole', np.int64(564)), ('pocket', np.int64(894)), ('hour', np.int64(574)), ('two', np.int64(1248)), ('look', np.int64(694)), ('wast', np.int64(1298)), ('id', np.int64(586)), ('say', np.int64(1036)), ('buy', np.int64(162)), ('game', np.int64(493)), ('better', np.int64(122)), ('thing', np.int64(1203)), ('time', np.int64(1215)), ('would', np.int64(1333)), ('rather', np.int64(961)), ('enjoy', np.int64(381)), ('starbuck', np.int64(1132)), ('id', np.int64(586)), ('say', np.int64(1036)), ('look', np.int64(694)), ('elsewher', np.int64(369)), ('plot', np.int64(892)), ('given', np.int64(507)), ('limit', np.int64(683)), ('access', np.int64(6)), ('polic', np.int64(896)), ('databas', np.int64(286)), ('abl', np.int64(0)), ('view', np.int64(1284)), ('interview', np.int64(626)), ('suspect', np.int64(1176)), ('surround', np.int64(1174)), ('murder', np.int64(773)), ('go', np.int64(510)), ('game', np.int64(493)), ('discov', np.int64(325)), ('suspect', np.int64(1176)), ('even', np.int64(394)), ('care', np.int64(173)), ('game', np.int64(493)), ('play', np.int64(888)), ('game', np.int64(493)), ('fall', np.int64(427)), ('short', np.int64(1078)), ('even', np.int64(394)), ('minimalist', np.int64(746)), ('idea', np.int64(587)), ('interact', np.int64(621)), ('fiction', np.int64(442)), ('like', np.int64(680)), ('video', np.int64(1283)), ('novel', np.int64(804)), ('given', np.int64(507)), ('seri', np.int64(1062)), ('video', np.int64(1283)), ('watch', np.int64(1300)), ('video', np.int64(1283)), ('interview', np.int64(626)), ('wit', np.int64(1319)), ('murder', np.int64(773)), ('watch', np.int64(1300)), ('video', np.int64(1283)), ('tag', np.int64(1183)), ('key', np.int64(642)), ('word', np.int64(1326)), ('search', np.int64(1047)), ('key', np.int64(642)), ('word', np.int64(1326)), ('may', np.int64(727)), ('bring', np.int64(148)), ('video', np.int64(1283)), ('watch', np.int64(1300)), ('refer', np.int64(976)), ('addit', np.int64(20)), ('search', np.int64(1047)), ('limit', np.int64(683)), ('video', np.int64(1283)), ('abl', np.int64(0)), ('pull', np.int64(940)), ('one', np.int64(819)), ('key', np.int64(642)), ('word', np.int64(1326)), ('brought', np.int64(151)), ('certain', np.int64(184)), ('video', np.int64(1283)), ('abl', np.int64(0)), ('view', np.int64(1284)), ('due', np.int64(348)), ('limit', np.int64(683)), ('abl', np.int64(0)), ('view', np.int64(1284)), ('search', np.int64(1047)), ('differ', np.int64(315)), ('eventu', np.int64(396)), ('watch', np.int64(1300)), ('enough', np.int64(382)), ('video', np.int64(1283)), ('figur', np.int64(445)), ('plot', np.int64(892)), ('behind', np.int64(117)), ('murder', np.int64(773)), ('extent', np.int64(414)), ('game', np.int64(493)), ('pro', np.int64(925)), ('interest', np.int64(622)), ('movi', np.int64(769)), ('involv', np.int64(628)), ('actress', np.int64(16)), ('actual', np.int64(17)), ('good', np.int64(515)), ('want', np.int64(1294)), ('idea', np.int64(587)), ('like', np.int64(680)), ('detect', np.int64(308)), ('interview', np.int64(626)), ('someon', np.int64(1111)), ('involv', np.int64(628)), ('crime', np.int64(272)), ('less', np.int64(672)), ('exactli', np.int64(401)), ('done', np.int64(334)), ('suspect', np.int64(1176)), ('talk', np.int64(1186)), ('realist', np.int64(966)), ('good', np.int64(515)), ('short', np.int64(1078)), ('experi', np.int64(409)), ('con', np.int64(231)), ('figur', np.int64(445)), ('plot', np.int64(892)), ('twist', np.int64(1247)), ('minut', np.int64(748)), ('game', np.int64(493)), ('play', np.int64(888)), ('nearli', np.int64(786)), ('hour', np.int64(574)), ('go', np.int64(510)), ('step', np.int64(1141)), ('end', np.int64(375)), ('end', np.int64(375)), ('conclus', np.int64(235)), ('point', np.int64(895)), ('instant', np.int64(616)), ('messag', np.int64(740)), ('pop', np.int64(901)), ('person', np.int64(869)), ('ask', np.int64(74)), ('figur', np.int64(445)), ('everyth', np.int64(399)), ('say', np.int64(1036)), ('ye', np.int64(1338)), ('tell', np.int64(1193)), ('meet', np.int64(734)), ('coffe', np.int64(213)), ('talk', np.int64(1186)), ('close', np.int64(207)), ('program', np.int64(931)), ('take', np.int64(1184)), ('titl', np.int64(1216)), ('screen', np.int64(1044)), ('conclus', np.int64(235)), ('could', np.int64(258)), ('realli', np.int64(968)), ('cool', np.int64(251)), ('detect', np.int64(308)), ('game', np.int64(493)), ('stori', np.int64(1146)), ('open', np.int64(822)), ('get', np.int64(502)), ('use', np.int64(1268)), ('game', np.int64(493)), ('multipl', np.int64(772)), ('case', np.int64(178)), ('cold', np.int64(214)), ('case', np.int64(178)), ('would', np.int64(1333)), ('go', np.int64(510)), ('back', np.int64(98)), ('draw', np.int64(341)), ('conclus', np.int64(235)), ('prosecut', np.int64(936)), ('could', np.int64(258)), ('realli', np.int64(968)), ('gotten', np.int64(518)), ('stand', np.int64(1131)), ('game', np.int64(493)), ('feel', np.int64(438)), ('like', np.int64(680)), ('paid', np.int64(843)), ('opinion', np.int64(824)), ('mix', np.int64(750)), ('feel', np.int64(438)), ('game', np.int64(493)), ('one', np.int64(819)), ('hand', np.int64(534)), ('want', np.int64(1294)), ('give', np.int64(505)), ('thumb', np.int64(1213)), ('refresh', np.int64(978)), ('entertain', np.int64(384)), ('stori', np.int64(1146)), ('accomplish', np.int64(7)), ('think', np.int64(1204)), ('set', np.int64(1067)), ('hand', np.int64(534)), ('game', np.int64(493)), ('knew', np.int64(651)), ('zero', np.int64(1345)), ('replay', np.int64(994)), ('valu', np.int64(1275)), ('last', np.int64(661)), ('two', np.int64(1248)), ('hour', np.int64(574)), ('realli', np.int64(968)), ('stretch', np.int64(1150)), ('could', np.int64(258)), ('done', np.int64(334)), ('end', np.int64(375)), ('one', np.int64(819)), ('purchas', np.int64(944)), ('phrase', np.int64(871)), ('knew', np.int64(651)), ('know', np.int64(653)), ('appli', np.int64(63)), ('hand', np.int64(534)), ('known', np.int64(654)), ('purchas', np.int64(944)), ('come', np.int64(218)), ('littl', np.int64(687)), ('self', np.int64(1057)), ('control', np.int64(247)), ('holi', np.int64(565)), ('would', np.int64(1333)), ('pack', np.int64(840)), ('lunch', np.int64(707)), ('box', np.int64(143)), ('knew', np.int64(651)), ('would', np.int64(1333)), ('go', np.int64(510)), ('feel', np.int64(438)), ('trip', np.int64(1238)), ('finish', np.int64(453)), ('entir', np.int64(385)), ('game', np.int64(493)), ('hour', np.int64(574)), ('one', np.int64(819)), ('sit', np.int64(1094)), ('current', np.int64(276)), ('feel', np.int64(438)), ('fairli', np.int64(425)), ('satisfi', np.int64(1033)), ('yet', np.int64(1341)), ('heart', np.int64(549)), ('broken', np.int64(150)), ('left', np.int64(669)), ('funni', np.int64(489)), ('tast', np.int64(1188)), ('mouth', np.int64(766)), ('whole', np.int64(1314)), ('stori', np.int64(1146)), ('end', np.int64(375)), ('great', np.int64(525)), ('interest', np.int64(622)), ('charact', np.int64(190)), ('engross', np.int64(380)), ('plot', np.int64(892)), ('howev', np.int64(576)), ('littl', np.int64(687)), ('lack', np.int64(655)), ('build', np.int64(155)), ('get', np.int64(502)), ('wrong', np.int64(1337)), ('blast', np.int64(130)), ('along', np.int64(41)), ('way', np.int64(1302)), ('realli', np.int64(968)), ('like', np.int64(680)), ('open', np.int64(822)), ('interpret', np.int64(625)), ('end', np.int64(375)), ('de', np.int64(289)), ('wrap', np.int64(1334)), ('quickli', np.int64(952)), ('absolut', np.int64(3)), ('satisfi', np.int64(1033)), ('leav', np.int64(668)), ('unansw', np.int64(1252)), ('finger', np.int64(452)), ('cross', np.int64(274)), ('sequel', np.int64(1060)), ('overal', np.int64(834)), ('would', np.int64(1333)), ('easili', np.int64(355)), ('recommend', np.int64(975)), ('game', np.int64(493)), ('along', np.int64(41)), ('game', np.int64(493)), ('good', np.int64(515)), ('funni', np.int64(489)), ('good', np.int64(515)), ('play', np.int64(888)), ('friend', np.int64(485)), ('first', np.int64(455)), ('play', np.int64(888)), ('releas', np.int64(986)), ('love', np.int64(703)), ('come', np.int64(218)), ('back', np.int64(98)), ('pc', np.int64(858)), ('bit', np.int64(127)), ('put', np.int64(945)), ('say', np.int64(1036)), ('least', np.int64(667)), ('could', np.int64(258)), ('refin', np.int64(977)), ('control', np.int64(247)), ('littl', np.int64(687)), ('feel', np.int64(438)), ('rigid', np.int64(1013)), ('compar', np.int64(224)), ('everi', np.int64(398)), ('game', np.int64(493)), ('hd', np.int64(543)), ('realli', np.int64(968)), ('notic', np.int64(803)), ('honest', np.int64(567)), ('least', np.int64(667)), ('could', np.int64(258)), ('easili', np.int64(355)), ('put', np.int64(945)), ('effort', np.int64(363)), ('port', np.int64(903)), ('give', np.int64(505)), ('proper', np.int64(934)), ('facelift', np.int64(420)), ('noth', np.int64(802)), ('game', np.int64(493)), ('whole', np.int64(1314)), ('design', np.int64(304)), ('choic', np.int64(195)), ('control', np.int64(247)), ('issu', np.int64(630)), ('person', np.int64(869)), ('like', np.int64(680)), ('stori', np.int64(1146)), ('wise', np.int64(1317)), ('perfect', np.int64(862)), ('raid', np.int64(955)), ('mode', np.int64(754)), ('great', np.int64(525)), ('fun', np.int64(488)), ('easili', np.int64(355)), ('one', np.int64(819)), ('best', np.int64(120)), ('resid', np.int64(997)), ('evil', np.int64(400)), ('game', np.int64(493)), ('recent', np.int64(973)), ('time', np.int64(1215)), ('say', np.int64(1036)), ('zen', np.int64(1344)), ('distribut', np.int64(330)), ('person', np.int64(869)), ('data', np.int64(285)), ('parti', np.int64(848)), ('held', np.int64(551)), ('liabl', np.int64(676)), ('parti', np.int64(848)), ('inform', np.int64(610)), ('third', np.int64(1205)), ('parti', np.int64(848)), ('term', np.int64(1196)), ('condit', np.int64(236)), ('pleas', np.int64(890)), ('note', np.int64(801)), ('access', np.int64(6)), ('use', np.int64(1268)), ('zen', np.int64(1344)), ('servic', np.int64(1066)), ('may', np.int64(727)), ('subject', np.int64(1162)), ('certain', np.int64(184)), ('third', np.int64(1205)), ('parti', np.int64(848)), ('term', np.int64(1196)), ('condit', np.int64(236)), ('zen', np.int64(1344)), ('liabl', np.int64(676)), ('third', np.int64(1205)), ('parti', np.int64(848)), ('use', np.int64(1268)), ('person', np.int64(869)), ('data', np.int64(285)), ('pleas', np.int64(890)), ('note', np.int64(801)), ('accord', np.int64(8)), ('valid', np.int64(1274)), ('licens', np.int64(677)), ('agreement', np.int64(32)), ('conclud', np.int64(234)), ('zen', np.int64(1344)), ('case', np.int64(178)), ('zen', np.int64(1344)), ('may', np.int64(727)), ('oblig', np.int64(807)), ('share', np.int64(1072)), ('user', np.int64(1269)), ('data', np.int64(285)), ('includ', np.int64(604)), ('person', np.int64(869)), ('data', np.int64(285)), ('zen', np.int64(1344)), ('collect', np.int64(215)), ('zen', np.int64(1344)), ('servic', np.int64(1066)), ('use', np.int64(1268)), ('licens', np.int64(677)), ('provid', np.int64(938)), ('form', np.int64(474)), ('format', np.int64(475)), ('user', np.int64(1269)), ('data', np.int64(285)), ('actual', np.int64(17)), ('collect', np.int64(215)), ('certain', np.int64(184)), ('zen', np.int64(1344)), ('servic', np.int64(1066)), ('zen', np.int64(1344)), ('may', np.int64(727)), ('offer', np.int64(813)), ('game', np.int64(493)), ('social', np.int64(1109)), ('network', np.int64(789)), ('game', np.int64(493)), ('consol', np.int64(241)), ('servic', np.int64(1066)), ('may', np.int64(727)), ('use', np.int64(1268)), ('third', np.int64(1205)), ('parti', np.int64(848)), ('servic', np.int64(1066)), ('provid', np.int64(938)), ('authent', np.int64(85)), ('zen', np.int64(1344)), ('servic', np.int64(1066)), ('game', np.int64(493)), ('consol', np.int64(241)), ('id', np.int64(586)), ('social', np.int64(1109)), ('network', np.int64(789)), ('id', np.int64(586)), ('game', np.int64(493)), ('network', np.int64(789)), ('account', np.int64(9)), ('connect', np.int64(237)), ('use', np.int64(1268)), ('certain', np.int64(184)), ('person', np.int64(869)), ('identifi', np.int64(588)), ('user', np.int64(1269)), ('membership', np.int64(736)), ('data', np.int64(285)), ('may', np.int64(727)), ('transfer', np.int64(1233)), ('automat', np.int64(88)), ('zen', np.int64(1344)), ('zen', np.int64(1344)), ('may', np.int64(727)), ('disclos', np.int64(324)), ('person', np.int64(869)), ('data', np.int64(285)), ('third', np.int64(1205)), ('parti', np.int64(848)), ('connect', np.int64(237)), ('corpor', np.int64(253)), ('merger', np.int64(738)), ('consolid', np.int64(242)), ('restructur', np.int64(1002)), ('sale', np.int64(1031)), ('substanti', np.int64(1163)), ('stock', np.int64(1143)), ('asset', np.int64(76)), ('corpor', np.int64(253)), ('chang', np.int64(189)), ('includ', np.int64(604)), ('without', np.int64(1322)), ('limit', np.int64(683)), ('cours', np.int64(261)), ('due', np.int64(348)), ('dilig', np.int64(319)), ('process', np.int64(928)), ('provid', np.int64(938)), ('howev', np.int64(576)), ('privaci', np.int64(924)), ('polici', np.int64(897)), ('shall', np.int64(1070)), ('continu', np.int64(246)), ('govern', np.int64(519)), ('person', np.int64(869)), ('data', np.int64(285)), ('name', np.int64(779)), ('realli', np.int64(968)), ('fun', np.int64(488)), ('amp', np.int64(53)), ('nice', np.int64(795)), ('ing', np.int64(612)), ('stupid', np.int64(1160)), ('control', np.int64(247)), ('like', np.int64(680)), ('want', np.int64(1294)), ('make', np.int64(712)), ('without', np.int64(1322)), ('even', np.int64(394)), ('play', np.int64(888)), ('one', np.int64(819)), ('ed', np.int64(357)), ('pad', np.int64(841)), ('keyboard', np.int64(643)), ('control', np.int64(247)), ('got', np.int64(517)), ('game', np.int64(493)), ('seri', np.int64(1062)), ('youtub', np.int64(1343)), ('call', np.int64(165)), ('crap', np.int64(263)), ('name', np.int64(779)), ('say', np.int64(1036)), ('good', np.int64(515)), ('video', np.int64(1283)), ('lot', np.int64(702)), ('humor', np.int64(580)), ('way', np.int64(1302)), ('game', np.int64(493)), ('bad', np.int64(99)), ('even', np.int64(394)), ('think', np.int64(1204)), ('anyth', np.int64(61)), ('say', np.int64(1036)), ('express', np.int64(412)), ('question', np.int64(950)), ('roam', np.int64(1016)), ('head', np.int64(545)), ('bad', np.int64(99)), ('buy', np.int64(162)), ('even', np.int64(394)), ('cent', np.int64(182)), ('video', np.int64(1283)), ('stab', np.int64(1127)), ('pig', np.int64(875)), ('flew', np.int64(464)), ('replac', np.int64(993)), ('car', np.int64(171)), ('cute', np.int64(278)), ('kitti', np.int64(650)), ('replac', np.int64(993)), ('ball', np.int64(101)), ('ball', np.int64(101)), ('wool', np.int64(1325)), ('footbal', np.int64(470)), ('game', np.int64(493)), ('touch', np.int64(1224)), ('worth', np.int64(1331)), ('time', np.int64(1215)), ('pro', np.int64(925)), ('creatur', np.int64(268)), ('vari', np.int64(1276)), ('well', np.int64(1309)), ('design', np.int64(304)), ('con', np.int64(231)), ('clunki', np.int64(211)), ('hell', np.int64(552)), ('terribl', np.int64(1197)), ('level', np.int64(675)), ('design', np.int64(304)), ('storylin', np.int64(1148)), ('utter', np.int64(1272)), ('garbag', np.int64(495)), ('ai', np.int64(33)), ('verdict', np.int64(1280)), ('age', np.int64(31)), ('still', np.int64(1142)), ('consider', np.int64(239)), ('game', np.int64(493)), ('aw', np.int64(91)), ('look', np.int64(694)), ('feel', np.int64(438)), ('play', np.int64(888)), ('terribl', np.int64(1197)), ('even', np.int64(394)), ('regular', np.int64(984)), ('sale', np.int64(1031)), ('price', np.int64(918)), ('worth', np.int64(1331)), ('dog', np.int64(333)), ('simul', np.int64(1089)), ('win', np.int64(1316)), ('best', np.int64(120)), ('show', np.int64(1080)), ('updat', np.int64(1263)), ('post', np.int64(906)), ('complaint', np.int64(226)), ('well', np.int64(1309)), ('tech', np.int64(1192)), ('detail', np.int64(307)), ('could', np.int64(258)), ('use', np.int64(1268)), ('address', np.int64(21)), ('issu', np.int64(630)), ('ban', np.int64(102)), ('bad', np.int64(99)), ('review', np.int64(1007)), ('steam', np.int64(1139)), ('need', np.int64(788)), ('keep', np.int64(641)), ('track', np.int64(1229)), ('steam', np.int64(1139)), ('broken', np.int64(150)), ('fk', np.int64(458)), ('laptop', np.int64(658)), ('even', np.int64(394)), ('run', np.int64(1026)), ('fine', np.int64(451)), ('ram', np.int64(957)), ('run', np.int64(1026)), ('game', np.int64(493)), ('get', np.int64(502)), ('mu', np.int64(770)), ('exe', np.int64(405)), ('respond', np.int64(999)), ('error', np.int64(391)), ('time', np.int64(1215)), ('far', np.int64(431)), ('restart', np.int64(1001)), ('pc', np.int64(858)), ('play', np.int64(888)), ('close', np.int64(207)), ('game', np.int64(493)), ('came', np.int64(166)), ('back', np.int64(98)), ('play', np.int64(888)), ('hr', np.int64(578)), ('later', np.int64(662)), ('load', np.int64(689)), ('game', np.int64(493)), ('got', np.int64(517)), ('mu', np.int64(770)), ('exe', np.int64(405)), ('respond', np.int64(999)), ('error', np.int64(391)), ('even', np.int64(394)), ('better', np.int64(122)), ('ive', np.int64(634)), ('seen', np.int64(1055)), ('im', np.int64(595)), ('person', np.int64(869)), ('issu', np.int64(630)), ('one', np.int64(819)), ('person', np.int64(869)), ('even', np.int64(394)), ('download', np.int64(339)), ('didnt', np.int64(313)), ('even', np.int64(394)), ('get', np.int64(502)), ('exe', np.int64(405)), ('file', np.int64(446)), ('get', np.int64(502)), ('saw', np.int64(1035)), ('kill', np.int64(646)), ('nake', np.int64(778)), ('watch', np.int64(1300)), ('sex', np.int64(1069)), ('graphic', np.int64(523)), ('improv', np.int64(601)), ('build', np.int64(155)), ('previou', np.int64(917)), ('citi', np.int64(198)), ('game', np.int64(493)), ('pretti', np.int64(915)), ('much', np.int64(771)), ('still', np.int64(1142)), ('good', np.int64(515)), ('game', np.int64(493)), ('expect', np.int64(408)), ('much', np.int64(771)), ('differ', np.int64(315)), ('great', np.int64(525)), ('game', np.int64(493)), ('friend', np.int64(485)), ('terribl', np.int64(1197)), ('dlc', np.int64(331)), ('plan', np.int64(883)), ('refus', np.int64(980)), ('support', np.int64(1169)), ('develop', np.int64(311)), ('releas', np.int64(986)), ('full', np.int64(487)), ('price', np.int64(918)), ('game', np.int64(493)), ('might', np.int64(743)), ('even', np.int64(394)), ('argu', np.int64(69)), ('overpr', np.int64(836)), ('releas', np.int64(986)), ('day', np.int64(288)), ('one', np.int64(819)), ('dlc', np.int64(331)), ('alongsid', np.int64(42)), ('oh', np.int64(816)), ('cost', np.int64(256)), ('australian', np.int64(84)), ('ice', np.int64(585)), ('cube', np.int64(275)), ('factori', np.int64(423)), ('burnt', np.int64(159)), ('favorit', np.int64(435)), ('game', np.int64(493)), ('ye', np.int64(1338)), ('stori', np.int64(1146)), ('best', np.int64(120)), ('play', np.int64(888)), ('stori', np.int64(1146)), ('got', np.int64(517)), ('ta', np.int64(1181)), ('play', np.int64(888)), ('awesom', np.int64(95)), ('open', np.int64(822)), ('world', np.int64(1328)), ('pro', np.int64(925)), ('ton', np.int64(1219)), ('car', np.int64(171)), ('ton', np.int64(1219)), ('boat', np.int64(136)), ('ton', np.int64(1219)), ('ton', np.int64(1219)), ('plane', np.int64(884)), ('grappl', np.int64(524)), ('hook', np.int64(569)), ('awesom', np.int64(95)), ('realist', np.int64(966)), ('feel', np.int64(438)), ('huge', np.int64(579)), ('map', np.int64(718)), ('con', np.int64(231)), ('horribl', np.int64(572)), ('weapon', np.int64(1306)), ('choic', np.int64(195)), ('like', np.int64(680)), ('weapon', np.int64(1306)), ('yeah', np.int64(1339)), ('good', np.int64(515)), ('game', np.int64(493)), ('get', np.int64(502)), ('ps', np.int64(939)), ('dev', np.int64(310)), ('would', np.int64(1333)), ('love', np.int64(703)), ('play', np.int64(888)), ('caus', np.int64(181)), ('beta', np.int64(121)), ('amaz', np.int64(48)), ('game', np.int64(493)), ('recommend', np.int64(975)), ('use', np.int64(1268)), ('power', np.int64(909)), ('music', np.int64(774)), ('ever', np.int64(397)), ('knew', np.int64(651)), ('pot', np.int64(907)), ('could', np.int64(258)), ('awesom', np.int64(95)), ('hero', np.int64(554)), ('teach', np.int64(1189)), ('kid', np.int64(644)), ('go', np.int64(510)), ('well', np.int64(1309)), ('never', np.int64(790)), ('bye', np.int64(163)), ('game', np.int64(493)), ('realli', np.int64(968)), ('internet', np.int64(624)), ('big', np.int64(124)), ('thing', np.int64(1203)), ('pirat', np.int64(880)), ('quit', np.int64(954)), ('amus', np.int64(54)), ('never', np.int64(790)), ('fantast', np.int64(430)), ('pirat', np.int64(880)), ('video', np.int64(1283)), ('game', np.int64(493)), ('sure', np.int64(1171)), ('game', np.int64(493)), ('use', np.int64(1268)), ('theme', np.int64(1200)), ('around', np.int64(70)), ('piraci', np.int64(879)), ('say', np.int64(1036)), ('sky', np.int64(1099)), ('sky', np.int64(1099)), ('pirat', np.int64(880)), ('pirat', np.int64(880)), ('theme', np.int64(1200)), ('secret', np.int64(1050)), ('monkey', np.int64(759)), ('island', np.int64(629)), ('never', np.int64(790)), ('one', np.int64(819)), ('game', np.int64(493)), ('manag', np.int64(715)), ('blend', np.int64(131)), ('concept', np.int64(232)), ('pirat', np.int64(880)), ('explor', np.int64(411)), ('ocean', np.int64(812)), ('visit', np.int64(1287)), ('island', np.int64(629)), ('quit', np.int64(954)), ('like', np.int64(680)), ('done', np.int64(334)), ('increasingli', np.int64(606)), ('popular', np.int64(902)), ('assassin', np.int64(75)), ('creed', np.int64(269)), ('learnt', np.int64(666)), ('blunder', np.int64(134)), ('incred', np.int64(607)), ('slow', np.int64(1103)), ('introduct', np.int64(627)), ('assassin', np.int64(75)), ('creed', np.int64(269)), ('iii', np.int64(593)), ('featur', np.int64(437)), ('great', np.int64(525)), ('news', np.int64(793)), ('fan', np.int64(429)), ('newcom', np.int64(792)), ('mean', np.int64(729)), ('peopl', np.int64(860)), ('jump', np.int64(640)), ('black', np.int64(129)), ('flag', np.int64(459)), ('sit', np.int64(1094)), ('hour', np.int64(574)), ('slow', np.int64(1103)), ('pace', np.int64(839)), ('stori', np.int64(1146)), ('plot', np.int64(892)), ('tutori', np.int64(1244)), ('understand', np.int64(1254)), ('game', np.int64(493)), ('mechan', np.int64(731)), ('within', np.int64(1321)), ('time', np.int64(1215)), ('frame', np.int64(480)), ('took', np.int64(1221)), ('player', np.int64(889)), ('start', np.int64(1133)), ('play', np.int64(888)), ('assassin', np.int64(75)), ('creed', np.int64(269)), ('iii', np.int64(593)), ('alreadi', np.int64(43)), ('learnt', np.int64(666)), ('pretti', np.int64(915)), ('much', np.int64(771)), ('everyth', np.int64(399)), ('world', np.int64(1328)), ('black', np.int64(129)), ('flag', np.int64(459)), ('even', np.int64(394)), ('better', np.int64(122)), ('main', np.int64(710)), ('charact', np.int64(190)), ('edward', np.int64(360)), ('grandfath', np.int64(521)), ('much', np.int64(771)), ('likeabl', np.int64(681)), ('person', np.int64(869)), ('he', np.int64(544)), ('got', np.int64(517)), ('aura', np.int64(83)), ('around', np.int64(70)), ('miss', np.int64(749)), ('behaviour', np.int64(116)), ('overal', np.int64(834)), ('tone', np.int64(1220)), ('black', np.int64(129)), ('flag', np.int64(459)), ('much', np.int64(771)), ('lightheart', np.int64(679)), ('natur', np.int64(783)), ('thank', np.int64(1199)), ('comic', np.int64(220)), ('carefre', np.int64(174)), ('person', np.int64(869)), ('pirat', np.int64(880)), ('display', np.int64(327)), ('throughout', np.int64(1212)), ('game', np.int64(493)), ('mani', np.int64(716)), ('wise', np.int64(1317)), ('black', np.int64(129)), ('flag', np.int64(459)), ('take', np.int64(1184)), ('place', np.int64(882)), ('decad', np.int64(293)), ('main', np.int64(710)), ('event', np.int64(395)), ('assassin', np.int64(75)), ('creed', np.int64(269)), ('iii', np.int64(593)), ('set', np.int64(1067)), ('vast', np.int64(1278)), ('ocean', np.int64(812)), ('fill', np.int64(447)), ('tropic', np.int64(1239)), ('island', np.int64(629)), ('caribbean', np.int64(175)), ('begin', np.int64(115)), ('edward', np.int64(360)), ('midst', np.int64(742)), ('storm', np.int64(1147)), ('fight', np.int64(444)), ('anoth', np.int64(58)), ('ship', np.int64(1075)), ('happen', np.int64(536)), ('hous', np.int64(575)), ('assassin', np.int64(75)), ('thing', np.int64(1203)), ('go', np.int64(510)), ('horribl', np.int64(572)), ('wrong', np.int64(1337)), ('edward', np.int64(360)), ('wash', np.int64(1297)), ('onto', np.int64(821)), ('beach', np.int64(110)), ('along', np.int64(41)), ('assassin', np.int64(75)), ('kill', np.int64(646)), ('crew', np.int64(270)), ('member', np.int64(735)), ('like', np.int64(680)), ('good', np.int64(515)), ('man', np.int64(714)), ('get', np.int64(502)), ('reveng', np.int64(1006)), ('gear', np.int64(498)), ('becom', np.int64(113)), ('pirat', np.int64(880)), ('masquerad', np.int64(721)), ('plot', np.int64(892)), ('fill', np.int64(447)), ('assassin', np.int64(75)), ('franchis', np.int64(481)), ('dna', np.int64(332)), ('hunt', np.int64(581)), ('thing', np.int64(1203)), ('call', np.int64(165)), ('observatori', np.int64(808)), ('make', np.int64(712)), ('stori', np.int64(1146)), ('differ', np.int64(315)), ('piraci', np.int64(879)), ('theme', np.int64(1200)), ('edward', np.int64(360)), ('care', np.int64(173)), ('much', np.int64(771)), ('assassin', np.int64(75)), ('thousand', np.int64(1209)), ('year', np.int64(1340)), ('war', np.int64(1295)), ('want', np.int64(1294)), ('observatori', np.int64(808)), ('becom', np.int64(113)), ('wealthiest', np.int64(1305)), ('pirat', np.int64(880)), ('ever', np.int64(397)), ('live', np.int64(688)), ('loyalti', np.int64(706)), ('either', np.int64(365)), ('gang', np.int64(494)), ('see', np.int64(1052)), ('edward', np.int64(360)), ('acquir', np.int64(12)), ('help', np.int64(553)), ('side', np.int64(1081)), ('tri', np.int64(1236)), ('gain', np.int64(492)), ('clue', np.int64(210)), ('figur', np.int64(445)), ('special', np.int64(1120)), ('place', np.int64(882)), ('person', np.int64(869)), ('game', np.int64(493)), ('theme', np.int64(1200)), ('make', np.int64(712)), ('stori', np.int64(1146)), ('interest', np.int64(622)), ('one', np.int64(819)), ('back', np.int64(98)), ('fascin', np.int64(432)), ('support', np.int64(1169)), ('charact', np.int64(190)), ('includ', np.int64(604)), ('famou', np.int64(428)), ('pirat', np.int64(880)), ('like', np.int64(680)), ('edward', np.int64(360)), ('teach', np.int64(1189)), ('jame', np.int64(635)), ('kidd', np.int64(645)), ('element', np.int64(367)), ('still', np.int64(1142)), ('remain', np.int64(988)), ('featur', np.int64(437)), ('present', np.int64(912)), ('time', np.int64(1215)), ('player', np.int64(889)), ('put', np.int64(945)), ('role', np.int64(1018)), ('employe', np.int64(373)), ('work', np.int64(1327)), ('entertain', np.int64(384)), ('near', np.int64(785)), ('enough', np.int64(382)), ('get', np.int64(502)), ('go', np.int64(510)), ('entir', np.int64(385)), ('game', np.int64(493)), ('world', np.int64(1328)), ('avail', np.int64(89)), ('explor', np.int64(411)), ('area', np.int64(68)), ('pump', np.int64(941)), ('harder', np.int64(539)), ('difficulti', np.int64(317)), ('make', np.int64(712)), ('less', np.int64(672)), ('welcom', np.int64(1308)), ('player', np.int64(889)), ('sail', np.int64(1030)), ('boat', np.int64(136)), ('obtain', np.int64(809)), ('ocean', np.int64(812)), ('realli', np.int64(968)), ('limit', np.int64(683)), ('world', np.int64(1328)), ('huge', np.int64(579)), ('even', np.int64(394)), ('impress', np.int64(600)), ('fill', np.int64(447)), ('lot', np.int64(702)), ('uniqu', np.int64(1258)), ('locat', np.int64(690)), ('contain', np.int64(244)), ('plenti', np.int64(891)), ('secret', np.int64(1050)), ('easi', np.int64(352)), ('get', np.int64(502)), ('lost', np.int64(701)), ('discov', np.int64(325)), ('new', np.int64(791)), ('land', np.int64(657)), ('find', np.int64(450)), ('collect', np.int64(215)), ('three', np.int64(1210)), ('major', np.int64(711)), ('citi', np.int64(198)), ('kingston', np.int64(649)), ('havana', np.int64(542)), ('nassau', np.int64(782)), ('edward', np.int64(360)), ('revisit', np.int64(1008)), ('multipl', np.int64(772)), ('occas', np.int64(810)), ('citi', np.int64(198)), ('feel', np.int64(438)), ('aliv', np.int64(37)), ('distinct', np.int64(328)), ('one', np.int64(819)), ('anoth', np.int64(58)), ('pack', np.int64(840)), ('plenti', np.int64(891)), ('hidden', np.int64(556)), ('collect', np.int64(215)), ('flag', np.int64(459)), ('build', np.int64(155)), ('lot', np.int64(702)), ('top', np.int64(1222)), ('ship', np.int64(1075)), ('compon', np.int64(229)), ('previou', np.int64(917)), ('titl', np.int64(1216)), ('take', np.int64(1184)), ('part', np.int64(847)), ('plenti', np.int64(891)), ('ship', np.int64(1075)), ('combat', np.int64(217)), ('thank', np.int64(1199)), ('better', np.int64(122)), ('control', np.int64(247)), ('ship', np.int64(1075)), ('longer', np.int64(693)), ('need', np.int64(788)), ('rememb', np.int64(989)), ('button', np.int64(161)), ('launch', np.int64(663)), ('attack', np.int64(81)), ('depend', np.int64(302)), ('camera', np.int64(167)), ('focus', np.int64(468)), ('determin', np.int64(309)), ('weapon', np.int64(1306)), ('launch', np.int64(663)), ('black', np.int64(129)), ('flag', np.int64(459)), ('blow', np.int64(133)), ('boat', np.int64(136)), ('conquer', np.int64(238)), ('ship', np.int64(1075)), ('last', np.int64(661)), ('leg', np.int64(670)), ('player', np.int64(889)), ('chanc', np.int64(188)), ('pull', np.int64(940)), ('board', np.int64(135)), ('vessel', np.int64(1282)), ('aboard', np.int64(1)), ('requir', np.int64(995)), ('amount', np.int64(52)), ('crew', np.int64(270)), ('must', np.int64(775)), ('kill', np.int64(646)), ('ship', np.int64(1075)), ('good', np.int64(515)), ('becom', np.int64(113)), ('plenti', np.int64(891)), ('side', np.int64(1081)), ('quest', np.int64(949)), ('sea', np.int64(1046)), ('hunt', np.int64(581)), ('whale', np.int64(1312)), ('creatur', np.int64(268)), ('use', np.int64(1268)), ('materi', np.int64(725)), ('gain', np.int64(492)), ('carv', np.int64(177)), ('anim', np.int64(56)), ('improv', np.int64(601)), ('exist', np.int64(406)), ('gear', np.int64(498)), ('similar', np.int64(1086)), ('far', np.int64(431)), ('cri', np.int64(271)), ('still', np.int64(1142)), ('easi', np.int64(352)), ('continu', np.int64(246)), ('compar', np.int64(224)), ('fight', np.int64(444)), ('system', np.int64(1180)), ('seen', np.int64(1055)), ('game', np.int64(493)), ('like', np.int64(680)), ('batman', np.int64(107)), ('seri', np.int64(1062)), ('less', np.int64(672)), ('fluiditi', np.int64(467)), ('anim', np.int64(56)), ('chang', np.int64(189)), ('interfac', np.int64(623)), ('mean', np.int64(729)), ('equip', np.int64(389)), ('gear', np.int64(498)), ('snappi', np.int64(1107)), ('use', np.int64(1268)), ('dual', np.int64(347)), ('pistol', np.int64(881)), ('easi', np.int64(352)), ('pull', np.int64(940)), ('shoulder', np.int64(1079)), ('button', np.int64(161)), ('aim', np.int64(34)), ('press', np.int64(913)), ('shoot', np.int64(1076)), ('auto', np.int64(87)), ('target', np.int64(1187)), ('one', np.int64(819)), ('thing', np.int64(1203)), ('combat', np.int64(217)), ('pull', np.int64(940)), ('look', np.int64(694)), ('flashi', np.int64(461)), ('master', np.int64(722)), ('skill', np.int64(1097)), ('take', np.int64(1184)), ('group', np.int64(527)), ('done', np.int64(334)), ('stori', np.int64(1146)), ('crazi', np.int64(265)), ('addit', np.int64(20)), ('jump', np.int64(640)), ('play', np.int64(888)), ('previou', np.int64(917)), ('game', np.int64(493)), ('idea', np.int64(587)), ('work', np.int64(1327)), ('follow', np.int64(469)), ('principl', np.int64(923)), ('find', np.int64(450)), ('target', np.int64(1187)), ('kill', np.int64(646)), ('get', np.int64(502)), ('stab', np.int64(1127)), ('peopl', np.int64(860)), ('hunt', np.int64(581)), ('spend', np.int64(1123)), ('lot', np.int64(702)), ('time', np.int64(1215)), ('look', np.int64(694)), ('awe', np.int64(94)), ('beauti', np.int64(112)), ('game', np.int64(493)), ('black', np.int64(129)), ('flag', np.int64(459)), ('look', np.int64(694)), ('fantast', np.int64(430)), ('pc', np.int64(858)), ('thirst', np.int64(1206)), ('induc', np.int64(609)), ('ocean', np.int64(812)), ('wave', np.int64(1301)), ('effect', np.int64(361)), ('best', np.int64(120)), ('gener', np.int64(500)), ('video', np.int64(1283)), ('game', np.int64(493)), ('world', np.int64(1328)), ('also', np.int64(45)), ('look', np.int64(694)), ('great', np.int64(525)), ('lot', np.int64(702)), ('detail', np.int64(307)), ('go', np.int64(510)), ('make', np.int64(712)), ('believ', np.int64(118)), ('incarn', np.int64(603)), ('west', np.int64(1311)), ('indi', np.int64(608)), ('qualiti', np.int64(948)), ('textur', np.int64(1198)), ('work', np.int64(1327)), ('decent', np.int64(294)), ('creed', np.int64(269)), ('iv', np.int64(633)), ('black', np.int64(129)), ('flag', np.int64(459)), ('amaz', np.int64(48)), ('pirat', np.int64(880)), ('game', np.int64(493)), ('also', np.int64(45)), ('favourit', np.int64(436)), ('assassin', np.int64(75)), ('creed', np.int64(269)), ('titl', np.int64(1216)), ('goe', np.int64(513)), ('hand', np.int64(534)), ('hand', np.int64(534)), ('open', np.int64(822)), ('natur', np.int64(783)), ('pirat', np.int64(880)), ('theme', np.int64(1200)), ('play', np.int64(888)), ('coupl', np.int64(260)), ('hour', np.int64(574)), ('alright', np.int64(44)), ('guess', np.int64(528)), ('trip', np.int64(1238)), ('undead', np.int64(1253)), ('version', np.int64(1281)), ('ill', np.int64(594)), ('put', np.int64(945)), ('import', np.int64(599)), ('point', np.int64(895)), ('basic', np.int64(106)), ('call', np.int64(165)), ('beat', np.int64(111)), ('undress', np.int64(1255)), ('bring', np.int64(148)), ('companion', np.int64(223)), ('time', np.int64(1215)), ('must', np.int64(775)), ('hit', np.int64(563)), ('certain', np.int64(184)), ('head', np.int64(545)), ('bodi', np.int64(137)), ('pant', np.int64(845)), ('health', np.int64(547)), ('point', np.int64(895)), ('either', np.int64(365)), ('strip', np.int64(1152)), ('hit', np.int64(563)), ('cloth', np.int64(209)), ('break', np.int64(145)), ('addict', np.int64(19)), ('girl', np.int64(504)), ('littl', np.int64(687)), ('sister', np.int64(1093)), ('idol', np.int64(590)), ('sister', np.int64(1093)), ('multipl', np.int64(772)), ('girl', np.int64(504)), ('girl', np.int64(504)), ('girl', np.int64(504)), ('turn', np.int64(1243)), ('strip', np.int64(1152)), ('die', np.int64(314)), ('male', np.int64(713)), ('includ', np.int64(604)), ('strip', np.int64(1152)), ('strip', np.int64(1152)), ('va', np.int64(1273)), ('done', np.int64(334)), ('job', np.int64(637)), ('right', np.int64(1012)), ('branch', np.int64(144)), ('storylin', np.int64(1148)), ('rout', np.int64(1023)), ('weapon', np.int64(1306)), ('game', np.int64(493)), ('done', np.int64(334)), ('perfect', np.int64(862)), ('multipl', np.int64(772)), ('cloth', np.int64(209)), ('item', np.int64(632)), ('costum', np.int64(257)), ('ect', np.int64(356)), ('great', np.int64(525)), ('port', np.int64(903)), ('exit', np.int64(407)), ('button', np.int64(161)), ('game', np.int64(493)), ('start', np.int64(1133)), ('menu', np.int64(737)), ('overal', np.int64(834)), ('would', np.int64(1333)), ('want', np.int64(1294)), ('put', np.int64(945)), ('cage', np.int64(164)), ('good', np.int64(515)), ('game', np.int64(493)), ('mechan', np.int64(731)), ('game', np.int64(493)), ('main', np.int64(710)), ('stori', np.int64(1146)), ('line', np.int64(684)), ('terribl', np.int64(1197)), ('boss', np.int64(141)), ('battl', np.int64(108)), ('particularli', np.int64(849)), ('final', np.int64(449)), ('one', np.int64(819)), ('ridicul', np.int64(1010)), ('quick', np.int64(951)), ('time', np.int64(1215)), ('event', np.int64(395)), ('sequenc', np.int64(1061)), ('overal', np.int64(834)), ('stand', np.int64(1131)), ('quicktim', np.int64(953)), ('event', np.int64(395)), ('hard', np.int64(537)), ('time', np.int64(1215)), ('continu', np.int64(246)), ('main', np.int64(710)), ('stori', np.int64(1146)), ('end', np.int64(375)), ('pro', np.int64(925)), ('decent', np.int64(294)), ('addit', np.int64(20)), ('lord', np.int64(698)), ('ring', np.int64(1015)), ('feel', np.int64(438)), ('hurt', np.int64(583)), ('lore', np.int64(699)), ('move', np.int64(767)), ('beyond', np.int64(123)), ('combat', np.int64(217)), ('switch', np.int64(1177)), ('control', np.int64(247)), ('assist', np.int64(78)), ('move', np.int64(767)), ('chain', np.int64(186)), ('command', np.int64(221)), ('made', np.int64(709)), ('much', np.int64(771)), ('interest', np.int64(622)), ('con', np.int64(231)), ('quick', np.int64(951)), ('time', np.int64(1215)), ('event', np.int64(395)), ('place', np.int64(882)), ('particularli', np.int64(849)), ('pc', np.int64(858)), ('game', np.int64(493)), ('find', np.int64(450)), ('actual', np.int64(17)), ('make', np.int64(712)), ('game', np.int64(493)), ('mechan', np.int64(731)), ('work', np.int64(1327)), ('correctli', np.int64(255)), ('well', np.int64(1309)), ('take', np.int64(1184)), ('immers', np.int64(596)), ('experi', np.int64(409)), ('tri', np.int64(1236)), ('get', np.int64(502)), ('howev', np.int64(576)), ('outsid', np.int64(833)), ('major', np.int64(711)), ('storylin', np.int64(1148)), ('step', np.int64(1141)), ('death', np.int64(292)), ('door', np.int64(336)), ('annoy', np.int64(57)), ('continu', np.int64(246)), ('play', np.int64(888)), ('main', np.int64(710)), ('stori', np.int64(1146)), ('least', np.int64(667)), ('get', np.int64(502)), ('sale', np.int64(1031)), ('kill', np.int64(646)), ('manipul', np.int64(717)), ('entertain', np.int64(384)), ('instal', np.int64(615)), ('get', np.int64(502)), ('item', np.int64(632)), ('lock', np.int64(691)), ('still', np.int64(1142)), ('screen', np.int64(1044)), ('tear', np.int64(1191)), ('fun', np.int64(488)), ('headach', np.int64(546)), ('bought', np.int64(142)), ('still', np.int64(1142)), ('worth', np.int64(1331)), ('need', np.int64(788)), ('money', np.int64(757)), ('pill', np.int64(877)), ('game', np.int64(493)), ('singl', np.int64(1091)), ('finish', np.int64(453)), ('move', np.int64(767)), ('enemi', np.int64(377)), ('get', np.int64(502)), ('bore', np.int64(140)), ('quick', np.int64(951)), ('bore', np.int64(140)), ('fled', np.int64(463)), ('instead', np.int64(617)), ('fight', np.int64(444)), ('current', np.int64(276)), ('buy', np.int64(162)), ('game', np.int64(493)), ('game', np.int64(493)), ('randomli', np.int64(959)), ('lag', np.int64(656)), ('crash', np.int64(264)), ('play', np.int64(888)), ('experi', np.int64(409)), ('realli', np.int64(968)), ('sad', np.int64(1027)), ('part', np.int64(847)), ('play', np.int64(888)), ('wo', np.int64(1323)), ('amaz', np.int64(48)), ('stori', np.int64(1146)), ('great', np.int64(525)), ('could', np.int64(258)), ('easili', np.int64(355)), ('game', np.int64(493)), ('year', np.int64(1340)), ('candid', np.int64(169)), ('howev', np.int64(576)), ('patch', np.int64(853)), ('pc', np.int64(858)), ('version', np.int64(1281)), ('either', np.int64(365)), ('wait', np.int64(1290)), ('buy', np.int64(162)), ('consol', np.int64(241)), ('pro', np.int64(925)), ('amaz', np.int64(48)), ('stori', np.int64(1146)), ('beauti', np.int64(112)), ('graphic', np.int64(523)), ('con', np.int64(231)), ('game', np.int64(493)), ('lag', np.int64(656)), ('crash', np.int64(264)), ('random', np.int64(958)), ('point', np.int64(895)), ('current', np.int64(276)), ('graphic', np.int64(523)), ('option', np.int64(828)), ('chang', np.int64(189)), ('said', np.int64(1029)), ('chang', np.int64(189)), ('futur', np.int64(490)), ('patch', np.int64(853)), ('sigh', np.int64(1083)), ('lock', np.int64(691)), ('unless', np.int64(1259)), ('chang', np.int64(189)), ('ini', np.int64(613)), ('file', np.int64(446)), ('wb', np.int64(1304)), ('said', np.int64(1029)), ('chang', np.int64(189)), ('futur', np.int64(490)), ('patch', np.int64(853)), ('game', np.int64(493)), ('great', np.int64(525)), ('game', np.int64(493)), ('bog', np.int64(138)), ('lag', np.int64(656)), ('spike', np.int64(1125)), ('random', np.int64(958)), ('crash', np.int64(264)), ('right', np.int64(1012)), ('edit', np.int64(359)), ('ram', np.int64(957)), ('ever', np.int64(397)), ('realli', np.int64(968)), ('want', np.int64(1294)), ('game', np.int64(493)), ('good', np.int64(515)), ('quit', np.int64(954)), ('live', np.int64(688)), ('hope', np.int64(570)), ('marcu', np.int64(720)), ('level', np.int64(675)), ('forev', np.int64(471)), ('one', np.int64(819)), ('game', np.int64(493)), ('drawn', np.int64(342)), ('concept', np.int64(232)), ('idea', np.int64(587)), ('behind', np.int64(117)), ('game', np.int64(493)), ('even', np.int64(394)), ('though', np.int64(1207)), ('far', np.int64(431)), ('uniqu', np.int64(1258)), ('type', np.int64(1249)), ('concept', np.int64(232)), ('game', np.int64(493)), ('gener', np.int64(500)), ('suck', np.int64(1165)), ('play', np.int64(888)), ('complet', np.int64(227)), ('achiev', np.int64(11)), ('wise', np.int64(1317)), ('certainli', np.int64(185)), ('point', np.int64(895)), ('ive', np.int64(634)), ('experienc', np.int64(410)), ('content', np.int64(245)), ('offer', np.int64(813)), ('sadli', np.int64(1028)), ('found', np.int64(477)), ('mani', np.int64(716)), ('frustrat', np.int64(486)), ('abl', np.int64(0)), ('make', np.int64(712)), ('claim', np.int64(200)), ('list', np.int64(685)), ('frustrat', np.int64(486)), ('need', np.int64(788)), ('begin', np.int64(115)), ('control', np.int64(247)), ('particularli', np.int64(849)), ('level', np.int64(675)), ('mous', np.int64(765)), ('come', np.int64(218)), ('goe', np.int64(513)), ('seemingli', np.int64(1054)), ('pleas', np.int64(890)), ('absolut', np.int64(3)), ('nightmar', np.int64(797)), ('use', np.int64(1268)), ('control', np.int64(247)), ('sequenc', np.int64(1061)), ('choos', np.int64(196)), ('power', np.int64(909)), ('up', np.int64(1262)), ('want', np.int64(1294)), ('util', np.int64(1271)), ('level', np.int64(675)), ('never', np.int64(790)), ('knew', np.int64(651)), ('purchas', np.int64(944)), ('anyth', np.int64(61)), ('often', np.int64(815)), ('time', np.int64(1215)), ('want', np.int64(1294)), ('buy', np.int64(162)), ('someth', np.int64(1112)), ('control', np.int64(247)), ('game', np.int64(493)), ('would', np.int64(1333)), ('instead', np.int64(617)), ('skip', np.int64(1098)), ('game', np.int64(493)), ('menu', np.int64(737)), ('issu', np.int64(630)), ('easili', np.int64(355)), ('biggest', np.int64(126)), ('frustrat', np.int64(486)), ('game', np.int64(493)), ('realiz', np.int64(967)), ('play', np.int64(888)), ('game', np.int64(493)), ('play', np.int64(888)), ('actual', np.int64(17)), ('game', np.int64(493)), ('type', np.int64(1249)), ('action', np.int64(15)), ('deal', np.int64(291)), ('menu', np.int64(737)), ('everi', np.int64(398)), ('minut', np.int64(748)), ('edit', np.int64(359)), ('later', np.int64(662)), ('found', np.int64(477)), ('happen', np.int64(536)), ('press', np.int64(913)), ('control', np.int64(247)), ('button', np.int64(161)), ('menu', np.int64(737)), ('sequenc', np.int64(1061)), ('left', np.int64(669)), ('control', np.int64(247)), ('alon', np.int64(40)), ('issu', np.int64(630)), ('didnt', np.int64(313)), ('happen', np.int64(536)), ('often', np.int64(815)), ('still', np.int64(1142)), ('highli', np.int64(560)), ('frustrat', np.int64(486)), ('happen', np.int64(536)), ('far', np.int64(431)), ('easi', np.int64(352)), ('press', np.int64(913)), ('control', np.int64(247)), ('button', np.int64(161)), ('suppos', np.int64(1170)), ('fix', np.int64(457)), ('point', np.int64(895)), ('either', np.int64(365)), ('game', np.int64(493)), ('left', np.int64(669)), ('play', np.int64(888)), ('hope', np.int64(570)), ('secondli', np.int64(1049)), ('perhap', np.int64(864)), ('bigger', np.int64(125)), ('one', np.int64(819)), ('game', np.int64(493)), ('game', np.int64(493)), ('putrid', np.int64(946)), ('hit', np.int64(563)), ('detect', np.int64(308)), ('work', np.int64(1327)), ('game', np.int64(493)), ('reli', np.int64(987)), ('consist', np.int64(240)), ('lose', np.int64(700)), ('consist', np.int64(240)), ('lose', np.int64(700)), ('qualiti', np.int64(948)), ('product', np.int64(930)), ('jump', np.int64(640)), ('head', np.int64(545)), ('monster', np.int64(760)), ('success', np.int64(1164)), ('yet', np.int64(1341)), ('run', np.int64(1026)), ('jump', np.int64(640)), ('monster', np.int64(760)), ('head', np.int64(545)), ('regist', np.int64(982)), ('success', np.int64(1164)), ('hit', np.int64(563)), ('bad', np.int64(99)), ('deal', np.int64(291)), ('enemi', np.int64(377)), ('becom', np.int64(113)), ('increasingli', np.int64(606)), ('import', np.int64(599)), ('game', np.int64(493)), ('play', np.int64(888)), ('although', np.int64(46)), ('develop', np.int64(311)), ('taken', np.int64(1185)), ('away', np.int64(93)), ('much', np.int64(771)), ('possibl', np.int64(905)), ('would', np.int64(1333)), ('signifi', np.int64(1084)), ('game', np.int64(493)), ('mobil', np.int64(753)), ('port', np.int64(903)), ('clearli', np.int64(205)), ('tell', np.int64(1193)), ('marcu', np.int64(720)), ('level', np.int64(675)), ('port', np.int64(903)), ('think', np.int64(1204)), ('larg', np.int64(659)), ('part', np.int64(847)), ('problem', np.int64(927)), ('menu', np.int64(737)), ('system', np.int64(1180)), ('trace', np.int64(1228)), ('clearli', np.int64(205)), ('big', np.int64(124)), ('enough', np.int64(382)), ('press', np.int64(913)), ('finger', np.int64(452)), ('rather', np.int64(961)), ('mous', np.int64(765)), ('control', np.int64(247)), ('sad', np.int64(1027)), ('thing', np.int64(1203)), ('review', np.int64(1007)), ('mobil', np.int64(753)), ('version', np.int64(1281)), ('game', np.int64(493)), ('strong', np.int64(1153)), ('likelihood', np.int64(682)), ('critic', np.int64(273)), ('game', np.int64(493)), ('nearli', np.int64(786)), ('much', np.int64(771)), ('realli', np.int64(968)), ('play', np.int64(888)), ('like', np.int64(680)), ('would', np.int64(1333)), ('strong', np.int64(1153)), ('mobil', np.int64(753)), ('game', np.int64(493)), ('ive', np.int64(634)), ('never', np.int64(790)), ('play', np.int64(888)), ('mobil', np.int64(753)), ('version', np.int64(1281)), ('know', np.int64(653)), ('heavili', np.int64(550)), ('come', np.int64(218)), ('play', np.int64(888)), ('mobil', np.int64(753)), ('version', np.int64(1281)), ('similar', np.int64(1086)), ('pc', np.int64(858)), ('version', np.int64(1281)), ('would', np.int64(1333)), ('fantast', np.int64(430)), ('system', np.int64(1180)), ('perfect', np.int64(862)), ('go', np.int64(510)), ('game', np.int64(493)), ('never', np.int64(790)), ('least', np.int64(667)), ('rare', np.int64(960)), ('bad', np.int64(99)), ('case', np.int64(178)), ('actual', np.int64(17)), ('quit', np.int64(954)), ('enjoy', np.int64(381)), ('overal', np.int64(834)), ('present', np.int64(912)), ('game', np.int64(493)), ('especi', np.int64(392)), ('graphic', np.int64(523)), ('sound', np.int64(1118)), ('perspect', np.int64(870)), ('charm', np.int64(191)), ('cute', np.int64(278)), ('pretti', np.int64(915)), ('look', np.int64(694)), ('without', np.int64(1322)), ('state', np.int64(1134)), ('art', np.int64(72)), ('taken', np.int64(1185)), ('full', np.int64(487)), ('advantag', np.int64(24)), ('steam', np.int64(1139)), ('platform', np.int64(886)), ('incorpor', np.int64(605)), ('achiev', np.int64(11)), ('trade', np.int64(1230)), ('card', np.int64(172)), ('appreci', np.int64(64)), ('achiev', np.int64(11)), ('rel', np.int64(985)), ('easi', np.int64(352)), ('get', np.int64(502)), ('first', np.int64(455)), ('game', np.int64(493)), ('make', np.int64(712)), ('frustrat', np.int64(486)), ('actual', np.int64(17)), ('enjoy', np.int64(381)), ('perhap', np.int64(864)), ('fine', np.int64(451)), ('line', np.int64(684)), ('frustrat', np.int64(486)), ('enjoy', np.int64(381)), ('make', np.int64(712)), ('game', np.int64(493)), ('revisit', np.int64(1008)), ('upon', np.int64(1265)), ('updat', np.int64(1263)), ('game', np.int64(493)), ('support', np.int64(1169)), ('unfortun', np.int64(1257)), ('time', np.int64(1215)), ('recommend', np.int64(975)), ('marcu', np.int64(720)), ('level', np.int64(675)), ('anyon', np.int64(60)), ('except', np.int64(404)), ('hardcor', np.int64(538)), ('fan', np.int64(429)), ('look', np.int64(694)), ('play', np.int64(888)), ('recent', np.int64(973)), ('releas', np.int64(986)), ('titl', np.int64(1216)), ('achiev', np.int64(11)), ('hunter', np.int64(582)), ('whop', np.int64(1315)), ('achiev', np.int64(11)), ('offer', np.int64(813)), ('hope', np.int64(570)), ('support', np.int64(1169)), ('marcu', np.int64(720)), ('level', np.int64(675)), ('continu', np.int64(246)), ('make', np.int64(712)), ('game', np.int64(493)), ('build', np.int64(155)), ('upon', np.int64(1265)), ('potenti', np.int64(908)), ('present', np.int64(912)), ('game', np.int64(493)), ('similar', np.int64(1086)), ('review', np.int64(1007)), ('popular', np.int64(902)), ('daili', np.int64(280)), ('giveaway', np.int64(506)), ('pleas', np.int64(890)), ('visit', np.int64(1287)), ('regret', np.int64(983)), ('god', np.int64(512)), ('damn', np.int64(282)), ('thing', np.int64(1203)), ('shoot', np.int64(1076)), ('crime', np.int64(272)), ('face', np.int64(419)), ('dead', np.int64(290)), ('kill', np.int64(646)), ('like', np.int64(680)), ('list', np.int64(685)), ('gun', np.int64(530)), ('like', np.int64(680)), ('game', np.int64(493)), ('love', np.int64(703)), ('best', np.int64(120)), ('nazi', np.int64(784)), ('simul', np.int64(1089)), ('realli', np.int64(968)), ('impress', np.int64(600)), ('fan', np.int64(429)), ('play', np.int64(888)), ('everi', np.int64(398)), ('game', np.int64(493)), ('one', np.int64(819)), ('complet', np.int64(227)), ('life', np.int64(678)), ('joke', np.int64(638)), ('ok', np.int64(817)), ('start', np.int64(1133)), ('game', np.int64(493)), ('quit', np.int64(954)), ('impress', np.int64(600)), ('realli', np.int64(968)), ('like', np.int64(680)), ('level', np.int64(675)), ('simpl', np.int64(1087)), ('fun', np.int64(488)), ('play', np.int64(888)), ('finish', np.int64(453)), ('play', np.int64(888)), ('charact', np.int64(190)), ('honest', np.int64(567)), ('known', np.int64(654)), ('except', np.int64(404)), ('barbarian', np.int64(103)), ('princess', np.int64(922)), ('girl', np.int64(504)), ('forgot', np.int64(473)), ('name', np.int64(779)), ('sorri', np.int64(1117)), ('music', np.int64(774)), ('favorit', np.int64(435)), ('part', np.int64(847)), ('hear', np.int64(548)), ('music', np.int64(774)), ('understand', np.int64(1254)), ('much', np.int64(771)), ('effort', np.int64(363)), ('put', np.int64(945)), ('art', np.int64(72)), ('engin', np.int64(379)), ('love', np.int64(703)), ('game', np.int64(493)), ('creat', np.int64(266)), ('hand', np.int64(534)), ('felt', np.int64(439)), ('actual', np.int64(17)), ('aliv', np.int64(37)), ('long', np.int64(692)), ('live', np.int64(688)), ('best', np.int64(120)), ('visual', np.int64(1288)), ('novel', np.int64(804)), ('far', np.int64(431)), ('one', np.int64(819)), ('step', np.int64(1141)), ('closer', np.int64(208)), ('date', np.int64(287)), ('sim', np.int64(1085)), ('game', np.int64(493))]\n",
      "Transform words into one-hot matrices: \n",
      " [[0. 0. 0. ... 0. 0. 0.]\n",
      " [0. 0. 0. ... 0. 0. 0.]\n",
      " [0. 0. 0. ... 0. 0. 0.]\n",
      " ...\n",
      " [0. 0. 0. ... 0. 0. 0.]\n",
      " [0. 0. 0. ... 0. 0. 0.]\n",
      " [0. 0. 0. ... 0. 0. 0.]]\n",
      "Inverse transform to categories from one-hot matrices: \n",
      " [[np.str_('fun') np.int64(488)]\n",
      " [np.str_('ambient') np.int64(49)]\n",
      " [np.str_('violent') np.int64(1286)]\n",
      " ...\n",
      " [np.str_('date') np.int64(287)]\n",
      " [np.str_('sim') np.int64(1085)]\n",
      " [np.str_('game') np.int64(493)]]\n"
     ]
    }
   ],
   "source": [
    "\n",
    "oh = OneHotEncoder()\n",
    "classes_indices = list(zip(le.classes_, np.arange(len(le.classes_))))\n",
    "print('Classes_indices: ', classes_indices)\n",
    "oh.fit(classes_indices)\n",
    "print('One-hot categories and indices:', oh.categories_)\n",
    "# Biến đổi list words sang dạng one-hot\n",
    "words_indices = list(zip(flat_tokens, lbl_encoded))\n",
    "print('Words and corresponding indices: ', words_indices)\n",
    "one_hot = oh.transform(words_indices).toarray()\n",
    "print('Transform words into one-hot matrices: \\n', one_hot)\n",
    "print('Inverse transform to categories from one-hot matrices: \\n', oh.inverse_transform(one_hot))\n"
   ]
  },
  {
   "cell_type": "code",
   "execution_count": 34,
   "metadata": {},
   "outputs": [
    {
     "name": "stdout",
     "output_type": "stream",
     "text": [
      "(4175, 2694)\n"
     ]
    }
   ],
   "source": [
    "print(one_hot.shape)"
   ]
  },
  {
   "cell_type": "markdown",
   "metadata": {},
   "source": [
    "## Auto Encoder"
   ]
  },
  {
   "cell_type": "code",
   "execution_count": 35,
   "metadata": {},
   "outputs": [
    {
     "name": "stdout",
     "output_type": "stream",
     "text": [
      "abl aboard absent absolut acceler accept access accomplish accord account accustom achiev acquir across act action actress actual add addict addit address admittedli adrenalin advantag adventur advertis aforement afraid africa aftermath age agreement ai aim air alex aliv allow almost alon along alongsid alreadi alright also although alway amaz ambient ambit among amount amp amus andi anim annoy anoth answer anyon anyth appar appli appreci appropri arcad archer area argu around arrow art artifici ask assassin asset assign assist associ atari attack attempt aura australian authent author auto automat avail averag aw award away awe awesom b babi back bad balanc ball ban barbarian barrier base basic batman battl battlefield beach beat beauti becom bedroom begin behaviour behind believ besid best beta better beyond big bigger biggest bit bizarr black blast blend block blow blunder board boat bodi bog book bore boss bought box branch break breakdown bright bring broke broken brought bruce buck bug build bunch bundl burn burnt busywork button buy bye cage call came camera campaign candid cant car card care carefre caribbean carri carv case castl cat caus cent center certain certainli chain challeng chanc chang charact charm cheap checkpoint childhood choic choos circumst citi citizen claim class classic claustrophob clean clearli clone close closer cloth clue clunki cluster coffe cold collect color combat come comfort comic command commun companion compar compil complaint complet complex compon comput con concept concern conclud conclus condit connect conquer consider consist consol consolid constant contain content continu control conveni convent convers cool coop corpor correct correctli cost costum could countrysid coupl cours craft crap crash crazi creat creativ creatur creed crew cri crime critic cross cube current custom cute cuz daili damag damn dark dash data databas date day de dead deal death decad decent deep defenc defin definit deliber delight democraci depend deserv design despis despit detail detect determin dev develop devil didnt die differ difficult difficulti dig dilig direct dirti disappoint disastr disclos discov disgust display distinct distract distribut dlc dna dog done doo door doubl doubt download dozen draw drawn dream dri drive driven dual due duel dull earli easi easier easiest easili ect ed edg edit edward effect effici effort eight either elabor element els elsewher em emot employ employe empti end endur enemi engag engin engross enjoy enough enslav entertain entir entireti epic episod equip errat error especi essenti even event eventu ever everi everyth evil exactli exampl excel except exe exist exit expect experi experienc explor express extens extent extra extraordinarili extrem fabul face facelift fact factor factori fair fairli fake fall famou fan fantast far fascin fast faster favorit favourit featur feel felt femal fic fiction field fight figur file fill film final find fine finger finish firepow first fit fix fk flag flash flashi flatout fled flew fli floor fluiditi focus follow footbal forev forgett forgot form format forward found fox fp frame franchis free frequent frey friend frustrat full fun funni futur ga gain game gang garbag garland gave gear gem gener genr get ghost girl give giveaway given glad glu go goal god goe gon good gore got gotten govern grammat grandfath grandmast graphic grappl great grimm group guess guid gun guy half halfway hand handicap happen hard hardcor harder hardest hardli havana hd he head headach health hear heart heavili held hell help hero hey hidden hide high highest highli hilari histori hit hole holi home honest honestli hook hope hord horribl horror hour hous howev hp hr huge humor hunt hunter hurt hype ice id idea identifi idl idol ign ignor iii ill im immers imo impedi import impress improv incap incarn includ incorpor increasingli incred indi induc inform infrastructur ing ini input instal instant instead intend intens intent interact interest interfac internet interpret interview introduct involv island issu itch item iv ive jame jeff job joke joy jump keep key keyboard kid kidd kill kind kinda kingston kitti knew knight know known lack lag land laptop larg larger last later launch lazi lead learnt least leav left leg legaci less lesser let level liabl licens life lightheart like likeabl likelihood limit line list liter littl live load locat lock long longer look loop loos loot lord lore lose lost lot love low lower loyalti lunch mad made main major make male man manag mani manipul map march marcu masquerad master masterpiec match materi matter may mayb mean meant mechan media mediev meet member membership menu merger mess messag method midst might mind minim minimalist minor minut miss mix mixtur mob mobil mode model moment money monica monkey monster mop mostli motion motiv mous mouth move movement movi mu much multipl murder music must na nag nake name narrat narrow nassau natur nazi near nearli neat need network never new newcom news next nice night nightmar ninja nonetheless nonsens note noth notic novel npc object oblig observatori obtain occas occasion ocean offer offlin often oh ok old one onlin onto open oper opinion oppon oppos optim option order origin other otherwis outsid overal overpow overpr own owo pace pack pad page paid paint pant paranorm part parti particularli partnership pass past patch path patienc patient paus pc peasant peopl per perfect perform perhap period perk perman persia person perspect phrase physic pick piec pig pile pill pinbal piraci pirat pistol place plan plane plate platform platinum play player pleas plenti plot plu pocket point polic polici polish poor poorli pop popular port portrait possibl post pot potenti power predetermin prepar present press presum pretti preview previou price priest primarili princ princess principl privaci pro probabl problem process processor product program progress prompt proper properli prosecut protect provid ps pull pump pun punish purchas put putrid puzzl qualiti quest question quick quickli quicktim quit raid raider ram random randomli rare rather reach read real realism realist realiz realli realm reason recal receiv recent recogn recommend refer refin refresh refund refus regardless regist regret regular rel releas reli remain rememb rendit repeat repetit replac replay requir reserv resid respect respond rest restart restructur result retir return reveng review revisit ride ridicul rifl right rigid rile ring roam rogu role roll room roughli round rout rpg rt run sad sadli said sail sale santa satisfi save saw say scale scare scari sce school score scream screen script sea search second secondli secret section see seem seemingli seen select self sell sens sequel sequenc seri seriou serious server servic set sever sex shall shame share sheer shift ship shoot shooter short shoulder show side sieg sigh signifi sim similar simpl simpli simul sinc singl sink sister sit situat size skill skip sky slash slaughter slightli slow slowli small smooth snappi sniper social solo someon someth sometim somewher soon soooo sorri sound speak special speech spell spend spent spike squar stab stabil stabl stage stand starbuck start state station stationari stay steadili steam steel step still stock stood stop stori storm storylin storytel stretch strictli strip strong strongest strongli struck stuff stumbl stun stupid style subject substanti success suck suddenli suggest super support suppos sure surpris surprisingli surround surviv suspect switch sword symmetr system ta tabl tag take taken talk target tast teach team tear tech tell tempest tend term terribl textur thank theme theori thief thing think third thirst though thought thousand three thrill throughout thumb tight time titl told tomb ton tone took top total touch tower town tpa trace track trade tradit traditionalist transfer transform transport tri trio trip tropic troubl true truli turn tutori tv twice twist two type u uc unansw undead understand undress unfinish unfortun uniqu unless unlik unlock up updat upgrad upon urg us use user usual util utter va valid valu vari variou vast vault verdict version vessel video view villain violent visit visual voic wait wake walk wall want war warn wash wast wasteland watch wave way wayn wb wealthiest weapon week welcom well went west whale whether whole whop win wise wish wit witch within without wo wonder wool word work world wors worst worth worthwhil would wrap write written wrong ye yeah year yet yo youtub zen zero zombi\n"
     ]
    }
   ],
   "source": [
    "print(*le.classes_)"
   ]
  },
  {
   "cell_type": "code",
   "execution_count": 36,
   "metadata": {},
   "outputs": [],
   "source": [
    "class AutoEncoder(layers.Layer):\n",
    "\n",
    "    def __init__(self, in_units, hidden_units):\n",
    "        super().__init__()\n",
    "        self.dense1 = layers.Dense(in_units, activation=\"relu\")\n",
    "        self.dense2 = layers.Dense(hidden_units, activation=\"relu\")\n",
    "        self.dense3 = layers.Dense(in_units, activation=\"softmax\")\n",
    "\n",
    "    def call(self, x):\n",
    "        x = self.dense1(x)\n",
    "        x = self.dense2(x)\n",
    "        x = self.dense3(x)\n",
    "\n",
    "        return x"
   ]
  },
  {
   "cell_type": "code",
   "execution_count": 37,
   "metadata": {},
   "outputs": [
    {
     "name": "stdout",
     "output_type": "stream",
     "text": [
      "WARNING:tensorflow:From c:\\Users\\nguye\\miniconda3\\envs\\nlp\\Lib\\site-packages\\keras\\src\\backend\\tensorflow\\core.py:216: The name tf.placeholder is deprecated. Please use tf.compat.v1.placeholder instead.\n",
      "\n"
     ]
    }
   ],
   "source": [
    "inputs = layers.Input(shape=(one_hot.shape[1],))\n",
    "autoencoder_layer = AutoEncoder(one_hot.shape[1], one_hot.shape[1]//2)\n",
    "outputs = autoencoder_layer(inputs)\n",
    "\n",
    "model = keras.Model(inputs=inputs, outputs=outputs)"
   ]
  },
  {
   "cell_type": "code",
   "execution_count": 38,
   "metadata": {},
   "outputs": [],
   "source": [
    "model.compile(loss = 'categorical_crossentropy', optimizer = keras.optimizers.SGD())"
   ]
  },
  {
   "cell_type": "code",
   "execution_count": null,
   "metadata": {},
   "outputs": [
    {
     "name": "stdout",
     "output_type": "stream",
     "text": [
      "Epoch 1/50\n",
      "\u001b[1m131/131\u001b[0m \u001b[32m━━━━━━━━━━━━━━━━━━━━\u001b[0m\u001b[37m\u001b[0m \u001b[1m7s\u001b[0m 46ms/step - loss: 15.7910\n",
      "Epoch 2/50\n",
      "\u001b[1m131/131\u001b[0m \u001b[32m━━━━━━━━━━━━━━━━━━━━\u001b[0m\u001b[37m\u001b[0m \u001b[1m6s\u001b[0m 47ms/step - loss: 15.7616\n",
      "Epoch 3/50\n",
      "\u001b[1m131/131\u001b[0m \u001b[32m━━━━━━━━━━━━━━━━━━━━\u001b[0m\u001b[37m\u001b[0m \u001b[1m6s\u001b[0m 45ms/step - loss: 15.7287\n",
      "Epoch 4/50\n",
      "\u001b[1m131/131\u001b[0m \u001b[32m━━━━━━━━━━━━━━━━━━━━\u001b[0m\u001b[37m\u001b[0m \u001b[1m7s\u001b[0m 52ms/step - loss: 15.6956\n",
      "Epoch 5/50\n",
      "\u001b[1m131/131\u001b[0m \u001b[32m━━━━━━━━━━━━━━━━━━━━\u001b[0m\u001b[37m\u001b[0m \u001b[1m6s\u001b[0m 47ms/step - loss: 15.6438\n",
      "Epoch 6/50\n",
      "\u001b[1m131/131\u001b[0m \u001b[32m━━━━━━━━━━━━━━━━━━━━\u001b[0m\u001b[37m\u001b[0m \u001b[1m6s\u001b[0m 45ms/step - loss: 15.5841\n",
      "Epoch 7/50\n",
      "\u001b[1m131/131\u001b[0m \u001b[32m━━━━━━━━━━━━━━━━━━━━\u001b[0m\u001b[37m\u001b[0m \u001b[1m6s\u001b[0m 46ms/step - loss: 15.4779\n",
      "Epoch 8/50\n",
      "\u001b[1m131/131\u001b[0m \u001b[32m━━━━━━━━━━━━━━━━━━━━\u001b[0m\u001b[37m\u001b[0m \u001b[1m8s\u001b[0m 60ms/step - loss: 15.2523\n",
      "Epoch 9/50\n",
      "\u001b[1m131/131\u001b[0m \u001b[32m━━━━━━━━━━━━━━━━━━━━\u001b[0m\u001b[37m\u001b[0m \u001b[1m9s\u001b[0m 70ms/step - loss: 15.0589\n",
      "Epoch 10/50\n",
      "\u001b[1m131/131\u001b[0m \u001b[32m━━━━━━━━━━━━━━━━━━━━\u001b[0m\u001b[37m\u001b[0m \u001b[1m8s\u001b[0m 60ms/step - loss: 14.9605\n",
      "Epoch 11/50\n",
      "\u001b[1m131/131\u001b[0m \u001b[32m━━━━━━━━━━━━━━━━━━━━\u001b[0m\u001b[37m\u001b[0m \u001b[1m8s\u001b[0m 62ms/step - loss: 15.0860\n",
      "Epoch 12/50\n",
      "\u001b[1m131/131\u001b[0m \u001b[32m━━━━━━━━━━━━━━━━━━━━\u001b[0m\u001b[37m\u001b[0m \u001b[1m8s\u001b[0m 58ms/step - loss: 14.9930\n",
      "Epoch 13/50\n",
      "\u001b[1m131/131\u001b[0m \u001b[32m━━━━━━━━━━━━━━━━━━━━\u001b[0m\u001b[37m\u001b[0m \u001b[1m6s\u001b[0m 44ms/step - loss: 14.9569\n",
      "Epoch 14/50\n",
      "\u001b[1m131/131\u001b[0m \u001b[32m━━━━━━━━━━━━━━━━━━━━\u001b[0m\u001b[37m\u001b[0m \u001b[1m6s\u001b[0m 44ms/step - loss: 14.9969\n",
      "Epoch 15/50\n",
      "\u001b[1m131/131\u001b[0m \u001b[32m━━━━━━━━━━━━━━━━━━━━\u001b[0m\u001b[37m\u001b[0m \u001b[1m6s\u001b[0m 42ms/step - loss: 14.9368\n",
      "Epoch 16/50\n",
      "\u001b[1m131/131\u001b[0m \u001b[32m━━━━━━━━━━━━━━━━━━━━\u001b[0m\u001b[37m\u001b[0m \u001b[1m6s\u001b[0m 43ms/step - loss: 14.8521\n",
      "Epoch 17/50\n",
      "\u001b[1m131/131\u001b[0m \u001b[32m━━━━━━━━━━━━━━━━━━━━\u001b[0m\u001b[37m\u001b[0m \u001b[1m6s\u001b[0m 44ms/step - loss: 19.4393\n",
      "Epoch 18/50\n",
      "\u001b[1m131/131\u001b[0m \u001b[32m━━━━━━━━━━━━━━━━━━━━\u001b[0m\u001b[37m\u001b[0m \u001b[1m6s\u001b[0m 44ms/step - loss: 26250.0488\n",
      "Epoch 19/50\n",
      "\u001b[1m131/131\u001b[0m \u001b[32m━━━━━━━━━━━━━━━━━━━━\u001b[0m\u001b[37m\u001b[0m \u001b[1m5s\u001b[0m 41ms/step - loss: 17.7307\n",
      "Epoch 20/50\n",
      "\u001b[1m131/131\u001b[0m \u001b[32m━━━━━━━━━━━━━━━━━━━━\u001b[0m\u001b[37m\u001b[0m \u001b[1m6s\u001b[0m 44ms/step - loss: 15.7084\n",
      "Epoch 21/50\n",
      "\u001b[1m131/131\u001b[0m \u001b[32m━━━━━━━━━━━━━━━━━━━━\u001b[0m\u001b[37m\u001b[0m \u001b[1m5s\u001b[0m 36ms/step - loss: 15.6962\n",
      "Epoch 22/50\n",
      "\u001b[1m131/131\u001b[0m \u001b[32m━━━━━━━━━━━━━━━━━━━━\u001b[0m\u001b[37m\u001b[0m \u001b[1m5s\u001b[0m 36ms/step - loss: 15.6924\n",
      "Epoch 23/50\n",
      "\u001b[1m131/131\u001b[0m \u001b[32m━━━━━━━━━━━━━━━━━━━━\u001b[0m\u001b[37m\u001b[0m \u001b[1m5s\u001b[0m 35ms/step - loss: 15.6791\n",
      "Epoch 24/50\n",
      "\u001b[1m131/131\u001b[0m \u001b[32m━━━━━━━━━━━━━━━━━━━━\u001b[0m\u001b[37m\u001b[0m \u001b[1m5s\u001b[0m 36ms/step - loss: 15.6701\n",
      "Epoch 25/50\n",
      "\u001b[1m131/131\u001b[0m \u001b[32m━━━━━━━━━━━━━━━━━━━━\u001b[0m\u001b[37m\u001b[0m \u001b[1m5s\u001b[0m 36ms/step - loss: 15.6595\n",
      "Epoch 26/50\n",
      "\u001b[1m131/131\u001b[0m \u001b[32m━━━━━━━━━━━━━━━━━━━━\u001b[0m\u001b[37m\u001b[0m \u001b[1m5s\u001b[0m 36ms/step - loss: 15.6562\n",
      "Epoch 27/50\n",
      "\u001b[1m131/131\u001b[0m \u001b[32m━━━━━━━━━━━━━━━━━━━━\u001b[0m\u001b[37m\u001b[0m \u001b[1m5s\u001b[0m 36ms/step - loss: 15.6387\n",
      "Epoch 28/50\n",
      "\u001b[1m131/131\u001b[0m \u001b[32m━━━━━━━━━━━━━━━━━━━━\u001b[0m\u001b[37m\u001b[0m \u001b[1m5s\u001b[0m 36ms/step - loss: 15.6246\n",
      "Epoch 29/50\n",
      "\u001b[1m131/131\u001b[0m \u001b[32m━━━━━━━━━━━━━━━━━━━━\u001b[0m\u001b[37m\u001b[0m \u001b[1m5s\u001b[0m 35ms/step - loss: 15.6192\n",
      "Epoch 30/50\n",
      "\u001b[1m131/131\u001b[0m \u001b[32m━━━━━━━━━━━━━━━━━━━━\u001b[0m\u001b[37m\u001b[0m \u001b[1m6s\u001b[0m 47ms/step - loss: 15.6123\n",
      "Epoch 31/50\n",
      "\u001b[1m131/131\u001b[0m \u001b[32m━━━━━━━━━━━━━━━━━━━━\u001b[0m\u001b[37m\u001b[0m \u001b[1m7s\u001b[0m 50ms/step - loss: 15.5905\n",
      "Epoch 32/50\n",
      "\u001b[1m131/131\u001b[0m \u001b[32m━━━━━━━━━━━━━━━━━━━━\u001b[0m\u001b[37m\u001b[0m \u001b[1m7s\u001b[0m 54ms/step - loss: 15.5952\n",
      "Epoch 33/50\n",
      "\u001b[1m131/131\u001b[0m \u001b[32m━━━━━━━━━━━━━━━━━━━━\u001b[0m\u001b[37m\u001b[0m \u001b[1m5s\u001b[0m 38ms/step - loss: 15.5731\n",
      "Epoch 34/50\n",
      "\u001b[1m131/131\u001b[0m \u001b[32m━━━━━━━━━━━━━━━━━━━━\u001b[0m\u001b[37m\u001b[0m \u001b[1m5s\u001b[0m 36ms/step - loss: 15.5799\n",
      "Epoch 35/50\n",
      "\u001b[1m131/131\u001b[0m \u001b[32m━━━━━━━━━━━━━━━━━━━━\u001b[0m\u001b[37m\u001b[0m \u001b[1m5s\u001b[0m 35ms/step - loss: 15.5655\n",
      "Epoch 36/50\n",
      "\u001b[1m131/131\u001b[0m \u001b[32m━━━━━━━━━━━━━━━━━━━━\u001b[0m\u001b[37m\u001b[0m \u001b[1m5s\u001b[0m 35ms/step - loss: 15.5511\n",
      "Epoch 37/50\n",
      "\u001b[1m131/131\u001b[0m \u001b[32m━━━━━━━━━━━━━━━━━━━━\u001b[0m\u001b[37m\u001b[0m \u001b[1m5s\u001b[0m 36ms/step - loss: 15.5380\n",
      "Epoch 38/50\n",
      "\u001b[1m131/131\u001b[0m \u001b[32m━━━━━━━━━━━━━━━━━━━━\u001b[0m\u001b[37m\u001b[0m \u001b[1m5s\u001b[0m 36ms/step - loss: 15.5502\n",
      "Epoch 39/50\n",
      "\u001b[1m131/131\u001b[0m \u001b[32m━━━━━━━━━━━━━━━━━━━━\u001b[0m\u001b[37m\u001b[0m \u001b[1m5s\u001b[0m 36ms/step - loss: 15.5105\n",
      "Epoch 40/50\n",
      "\u001b[1m131/131\u001b[0m \u001b[32m━━━━━━━━━━━━━━━━━━━━\u001b[0m\u001b[37m\u001b[0m \u001b[1m5s\u001b[0m 35ms/step - loss: 15.5259\n",
      "Epoch 41/50\n",
      "\u001b[1m131/131\u001b[0m \u001b[32m━━━━━━━━━━━━━━━━━━━━\u001b[0m\u001b[37m\u001b[0m \u001b[1m5s\u001b[0m 35ms/step - loss: 15.4929\n",
      "Epoch 42/50\n",
      "\u001b[1m131/131\u001b[0m \u001b[32m━━━━━━━━━━━━━━━━━━━━\u001b[0m\u001b[37m\u001b[0m \u001b[1m5s\u001b[0m 34ms/step - loss: 15.4761\n",
      "Epoch 43/50\n",
      "\u001b[1m131/131\u001b[0m \u001b[32m━━━━━━━━━━━━━━━━━━━━\u001b[0m\u001b[37m\u001b[0m \u001b[1m5s\u001b[0m 36ms/step - loss: 15.4851\n",
      "Epoch 44/50\n",
      "\u001b[1m131/131\u001b[0m \u001b[32m━━━━━━━━━━━━━━━━━━━━\u001b[0m\u001b[37m\u001b[0m \u001b[1m5s\u001b[0m 36ms/step - loss: 15.4782\n",
      "Epoch 45/50\n",
      "\u001b[1m131/131\u001b[0m \u001b[32m━━━━━━━━━━━━━━━━━━━━\u001b[0m\u001b[37m\u001b[0m \u001b[1m5s\u001b[0m 36ms/step - loss: 15.4682\n",
      "Epoch 46/50\n",
      "\u001b[1m131/131\u001b[0m \u001b[32m━━━━━━━━━━━━━━━━━━━━\u001b[0m\u001b[37m\u001b[0m \u001b[1m5s\u001b[0m 39ms/step - loss: 15.4673\n",
      "Epoch 47/50\n",
      "\u001b[1m131/131\u001b[0m \u001b[32m━━━━━━━━━━━━━━━━━━━━\u001b[0m\u001b[37m\u001b[0m \u001b[1m5s\u001b[0m 35ms/step - loss: 15.4436\n",
      "Epoch 48/50\n",
      "\u001b[1m131/131\u001b[0m \u001b[32m━━━━━━━━━━━━━━━━━━━━\u001b[0m\u001b[37m\u001b[0m \u001b[1m5s\u001b[0m 35ms/step - loss: 15.4184\n",
      "Epoch 49/50\n",
      "\u001b[1m131/131\u001b[0m \u001b[32m━━━━━━━━━━━━━━━━━━━━\u001b[0m\u001b[37m\u001b[0m \u001b[1m6s\u001b[0m 42ms/step - loss: 15.4512\n",
      "Epoch 50/50\n",
      "\u001b[1m131/131\u001b[0m \u001b[32m━━━━━━━━━━━━━━━━━━━━\u001b[0m\u001b[37m\u001b[0m \u001b[1m6s\u001b[0m 46ms/step - loss: 15.4320\n"
     ]
    },
    {
     "data": {
      "text/plain": [
       "<keras.src.callbacks.history.History at 0x2b2d9d9fc50>"
      ]
     },
     "execution_count": 39,
     "metadata": {},
     "output_type": "execute_result"
    }
   ],
   "source": [
    "model.fit(one_hot, one_hot, epochs=5, batch_size=32)"
   ]
  },
  {
   "cell_type": "code",
   "execution_count": 42,
   "metadata": {},
   "outputs": [
    {
     "name": "stdout",
     "output_type": "stream",
     "text": [
      "Query one-hot encoded:\n",
      " [[0. 0. 0. ... 0. 0. 1.]]\n"
     ]
    }
   ],
   "source": [
    "query_word = \"zombi\"\n",
    "\n",
    "# Get the index for \"game\" using the LabelEncoder\n",
    "query_index = le.transform([query_word])[0]  # Get the encoded index for \"game\"\n",
    "query = [[query_word, query_index]]  # Create the (word, index) pair\n",
    "\n",
    "# Transform the query into one-hot encoding\n",
    "query_one_hot = oh.transform(query).toarray()\n",
    "\n",
    "print(\"Query one-hot encoded:\\n\", query_one_hot)"
   ]
  },
  {
   "cell_type": "code",
   "execution_count": null,
   "metadata": {},
   "outputs": [],
   "source": []
  },
  {
   "cell_type": "markdown",
   "metadata": {},
   "source": [
    "## Search"
   ]
  },
  {
   "cell_type": "markdown",
   "metadata": {},
   "source": [
    "query = \"zombie\"\n"
   ]
  }
 ],
 "metadata": {
  "kernelspec": {
   "display_name": "nlp",
   "language": "python",
   "name": "python3"
  },
  "language_info": {
   "codemirror_mode": {
    "name": "ipython",
    "version": 3
   },
   "file_extension": ".py",
   "mimetype": "text/x-python",
   "name": "python",
   "nbconvert_exporter": "python",
   "pygments_lexer": "ipython3",
   "version": "3.11.11"
  }
 },
 "nbformat": 4,
 "nbformat_minor": 2
}
