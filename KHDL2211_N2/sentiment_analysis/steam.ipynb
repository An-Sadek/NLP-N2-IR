{
 "cells": [
  {
   "cell_type": "markdown",
   "metadata": {},
   "source": [
    "# Setup"
   ]
  },
  {
   "cell_type": "code",
   "execution_count": 2,
   "metadata": {},
   "outputs": [],
   "source": [
    "import pandas as pd\n",
    "import polars as pl \n",
    "import numpy as np\n",
    "\n",
    "import missingno as msno\n",
    "import matplotlib.pyplot as plt\n",
    "import seaborn as sns\n",
    "\n",
    "from all import NLP_Preprocessing\n",
    "\n",
    "from sklearn.feature_extraction.text import (CountVectorizer, \n",
    "                                             TfidfVectorizer)\n",
    "from sklearn.preprocessing import (LabelEncoder,\n",
    "                                   OneHotEncoder)\n",
    "from sklearn.decomposition import TruncatedSVD\n",
    "from sklearn.model_selection import train_test_split\n",
    "from sklearn.naive_bayes import GaussianNB\n",
    "from sklearn.metrics import (confusion_matrix)\n",
    "\n",
    "from tensorflow import keras\n",
    "from keras import layers"
   ]
  },
  {
   "cell_type": "code",
   "execution_count": 3,
   "metadata": {},
   "outputs": [],
   "source": [
    "tools = NLP_Preprocessing()"
   ]
  },
  {
   "cell_type": "code",
   "execution_count": 4,
   "metadata": {},
   "outputs": [],
   "source": [
    "data = pl.read_csv(\"./dataset.csv\")"
   ]
  },
  {
   "cell_type": "code",
   "execution_count": 5,
   "metadata": {},
   "outputs": [
    {
     "data": {
      "text/html": [
       "<div><style>\n",
       ".dataframe > thead > tr,\n",
       ".dataframe > tbody > tr {\n",
       "  text-align: right;\n",
       "  white-space: pre-wrap;\n",
       "}\n",
       "</style>\n",
       "<small>shape: (5, 5)</small><table border=\"1\" class=\"dataframe\"><thead><tr><th>app_id</th><th>app_name</th><th>review_text</th><th>review_score</th><th>review_votes</th></tr><tr><td>i64</td><td>str</td><td>str</td><td>i64</td><td>i64</td></tr></thead><tbody><tr><td>10</td><td>&quot;Counter-Strike&quot;</td><td>&quot;Ruined my life.&quot;</td><td>1</td><td>0</td></tr><tr><td>10</td><td>&quot;Counter-Strike&quot;</td><td>&quot;This will be more of a &#x27;&#x27;my ex…</td><td>1</td><td>1</td></tr><tr><td>10</td><td>&quot;Counter-Strike&quot;</td><td>&quot;This game saved my virginity.&quot;</td><td>1</td><td>0</td></tr><tr><td>10</td><td>&quot;Counter-Strike&quot;</td><td>&quot;• Do you like original games? …</td><td>1</td><td>0</td></tr><tr><td>10</td><td>&quot;Counter-Strike&quot;</td><td>&quot;&nbsp;&nbsp;&nbsp;&nbsp;&nbsp;&nbsp;&nbsp;&nbsp;Easy to learn, hard to…</td><td>1</td><td>1</td></tr></tbody></table></div>"
      ],
      "text/plain": [
       "shape: (5, 5)\n",
       "┌────────┬────────────────┬─────────────────────────────────┬──────────────┬──────────────┐\n",
       "│ app_id ┆ app_name       ┆ review_text                     ┆ review_score ┆ review_votes │\n",
       "│ ---    ┆ ---            ┆ ---                             ┆ ---          ┆ ---          │\n",
       "│ i64    ┆ str            ┆ str                             ┆ i64          ┆ i64          │\n",
       "╞════════╪════════════════╪═════════════════════════════════╪══════════════╪══════════════╡\n",
       "│ 10     ┆ Counter-Strike ┆ Ruined my life.                 ┆ 1            ┆ 0            │\n",
       "│ 10     ┆ Counter-Strike ┆ This will be more of a ''my ex… ┆ 1            ┆ 1            │\n",
       "│ 10     ┆ Counter-Strike ┆ This game saved my virginity.   ┆ 1            ┆ 0            │\n",
       "│ 10     ┆ Counter-Strike ┆ • Do you like original games? … ┆ 1            ┆ 0            │\n",
       "│ 10     ┆ Counter-Strike ┆         Easy to learn, hard to… ┆ 1            ┆ 1            │\n",
       "└────────┴────────────────┴─────────────────────────────────┴──────────────┴──────────────┘"
      ]
     },
     "execution_count": 5,
     "metadata": {},
     "output_type": "execute_result"
    }
   ],
   "source": [
    "data.head()"
   ]
  },
  {
   "cell_type": "code",
   "execution_count": 6,
   "metadata": {},
   "outputs": [
    {
     "data": {
      "text/plain": [
       "(6417106, 5)"
      ]
     },
     "execution_count": 6,
     "metadata": {},
     "output_type": "execute_result"
    }
   ],
   "source": [
    "data.shape"
   ]
  },
  {
   "cell_type": "code",
   "execution_count": 7,
   "metadata": {},
   "outputs": [
    {
     "data": {
      "text/html": [
       "<div><style>\n",
       ".dataframe > thead > tr,\n",
       ".dataframe > tbody > tr {\n",
       "  text-align: right;\n",
       "  white-space: pre-wrap;\n",
       "}\n",
       "</style>\n",
       "<small>shape: (2,)</small><table border=\"1\" class=\"dataframe\"><thead><tr><th>review_score</th></tr><tr><td>i64</td></tr></thead><tbody><tr><td>-1</td></tr><tr><td>1</td></tr></tbody></table></div>"
      ],
      "text/plain": [
       "shape: (2,)\n",
       "Series: 'review_score' [i64]\n",
       "[\n",
       "\t-1\n",
       "\t1\n",
       "]"
      ]
     },
     "execution_count": 7,
     "metadata": {},
     "output_type": "execute_result"
    }
   ],
   "source": [
    "data[\"review_score\"].value_counts()[\"review_score\"]"
   ]
  },
  {
   "cell_type": "code",
   "execution_count": 8,
   "metadata": {},
   "outputs": [
    {
     "data": {
      "image/png": "[encoded data removed]",
      "text/plain": [
       "<Figure size 640x480 with 1 Axes>"
      ]
     },
     "metadata": {},
     "output_type": "display_data"
    }
   ],
   "source": [
    "value_counts = data[\"review_score\"].value_counts()\n",
    "cols = value_counts[\"review_score\"].to_numpy().astype(str)\n",
    "counts = value_counts[\"count\"].to_numpy() \n",
    "\n",
    "plt.bar(cols, counts, width=0.5)\n",
    "plt.xlabel(\"Review Score\")\n",
    "plt.ylabel(\"Count\")\n",
    "plt.title(\"Distribution of Review Scores\")\n",
    "plt.show()"
   ]
  },
  {
   "cell_type": "code",
   "execution_count": 9,
   "metadata": {},
   "outputs": [
    {
     "data": {
      "image/png": "[encoded data removed]",
      "text/plain": [
       "<Figure size 640x480 with 1 Axes>"
      ]
     },
     "metadata": {},
     "output_type": "display_data"
    }
   ],
   "source": [
    "value_counts = data[\"review_votes\"].value_counts()\n",
    "cols = value_counts[\"review_votes\"].to_numpy().astype(str)\n",
    "counts = value_counts[\"count\"].to_numpy() \n",
    "\n",
    "plt.bar(cols, counts, width=0.1)\n",
    "plt.xlabel(\"Review Score\")\n",
    "plt.ylabel(\"Count\")\n",
    "plt.title(\"Distribution of Review Scores\")\n",
    "plt.show()"
   ]
  },
  {
   "cell_type": "markdown",
   "metadata": {},
   "source": [
    "# Tiền xử lý dữ liệu"
   ]
  },
  {
   "cell_type": "code",
   "execution_count": 10,
   "metadata": {},
   "outputs": [
    {
     "data": {
      "text/html": [
       "<div><style>\n",
       ".dataframe > thead > tr,\n",
       ".dataframe > tbody > tr {\n",
       "  text-align: right;\n",
       "  white-space: pre-wrap;\n",
       "}\n",
       "</style>\n",
       "<small>shape: (1, 5)</small><table border=\"1\" class=\"dataframe\"><thead><tr><th>app_id</th><th>app_name</th><th>review_text</th><th>review_score</th><th>review_votes</th></tr><tr><td>u32</td><td>u32</td><td>u32</td><td>u32</td><td>u32</td></tr></thead><tbody><tr><td>0</td><td>183234</td><td>7305</td><td>0</td><td>0</td></tr></tbody></table></div>"
      ],
      "text/plain": [
       "shape: (1, 5)\n",
       "┌────────┬──────────┬─────────────┬──────────────┬──────────────┐\n",
       "│ app_id ┆ app_name ┆ review_text ┆ review_score ┆ review_votes │\n",
       "│ ---    ┆ ---      ┆ ---         ┆ ---          ┆ ---          │\n",
       "│ u32    ┆ u32      ┆ u32         ┆ u32          ┆ u32          │\n",
       "╞════════╪══════════╪═════════════╪══════════════╪══════════════╡\n",
       "│ 0      ┆ 183234   ┆ 7305        ┆ 0            ┆ 0            │\n",
       "└────────┴──────────┴─────────────┴──────────────┴──────────────┘"
      ]
     },
     "execution_count": 10,
     "metadata": {},
     "output_type": "execute_result"
    }
   ],
   "source": [
    "data.null_count()"
   ]
  },
  {
   "cell_type": "code",
   "execution_count": 11,
   "metadata": {},
   "outputs": [
    {
     "data": {
      "text/html": [
       "<div><style>\n",
       ".dataframe > thead > tr,\n",
       ".dataframe > tbody > tr {\n",
       "  text-align: right;\n",
       "  white-space: pre-wrap;\n",
       "}\n",
       "</style>\n",
       "<small>shape: (1, 5)</small><table border=\"1\" class=\"dataframe\"><thead><tr><th>app_id</th><th>app_name</th><th>review_text</th><th>review_score</th><th>review_votes</th></tr><tr><td>f64</td><td>f64</td><td>f64</td><td>f64</td><td>f64</td></tr></thead><tbody><tr><td>0.0</td><td>2.855399</td><td>0.113836</td><td>0.0</td><td>0.0</td></tr></tbody></table></div>"
      ],
      "text/plain": [
       "shape: (1, 5)\n",
       "┌────────┬──────────┬─────────────┬──────────────┬──────────────┐\n",
       "│ app_id ┆ app_name ┆ review_text ┆ review_score ┆ review_votes │\n",
       "│ ---    ┆ ---      ┆ ---         ┆ ---          ┆ ---          │\n",
       "│ f64    ┆ f64      ┆ f64         ┆ f64          ┆ f64          │\n",
       "╞════════╪══════════╪═════════════╪══════════════╪══════════════╡\n",
       "│ 0.0    ┆ 2.855399 ┆ 0.113836    ┆ 0.0          ┆ 0.0          │\n",
       "└────────┴──────────┴─────────────┴──────────────┴──────────────┘"
      ]
     },
     "execution_count": 11,
     "metadata": {},
     "output_type": "execute_result"
    }
   ],
   "source": [
    "data.null_count()*100/len(data)"
   ]
  },
  {
   "cell_type": "code",
   "execution_count": 12,
   "metadata": {},
   "outputs": [
    {
     "data": {
      "text/plain": [
       "0.0011383636174936177"
      ]
     },
     "execution_count": 12,
     "metadata": {},
     "output_type": "execute_result"
    }
   ],
   "source": [
    "data[\"review_text\"].null_count()/len(data)"
   ]
  },
  {
   "cell_type": "code",
   "execution_count": 13,
   "metadata": {},
   "outputs": [],
   "source": [
    "data = data[:, [\"review_text\", \"review_votes\"]]"
   ]
  },
  {
   "cell_type": "code",
   "execution_count": 14,
   "metadata": {},
   "outputs": [],
   "source": [
    "data = data.drop_nulls()"
   ]
  },
  {
   "cell_type": "code",
   "execution_count": 15,
   "metadata": {},
   "outputs": [
    {
     "data": {
      "text/html": [
       "<div><style>\n",
       ".dataframe > thead > tr,\n",
       ".dataframe > tbody > tr {\n",
       "  text-align: right;\n",
       "  white-space: pre-wrap;\n",
       "}\n",
       "</style>\n",
       "<small>shape: (1, 2)</small><table border=\"1\" class=\"dataframe\"><thead><tr><th>review_text</th><th>review_votes</th></tr><tr><td>f64</td><td>f64</td></tr></thead><tbody><tr><td>0.0</td><td>0.0</td></tr></tbody></table></div>"
      ],
      "text/plain": [
       "shape: (1, 2)\n",
       "┌─────────────┬──────────────┐\n",
       "│ review_text ┆ review_votes │\n",
       "│ ---         ┆ ---          │\n",
       "│ f64         ┆ f64          │\n",
       "╞═════════════╪══════════════╡\n",
       "│ 0.0         ┆ 0.0          │\n",
       "└─────────────┴──────────────┘"
      ]
     },
     "execution_count": 15,
     "metadata": {},
     "output_type": "execute_result"
    }
   ],
   "source": [
    "data.null_count()*100/len(data)"
   ]
  },
  {
   "cell_type": "code",
   "execution_count": 16,
   "metadata": {},
   "outputs": [],
   "source": [
    "data = data.unique()"
   ]
  },
  {
   "cell_type": "code",
   "execution_count": 17,
   "metadata": {},
   "outputs": [
    {
     "data": {
      "text/plain": [
       "(4483987, 2)"
      ]
     },
     "execution_count": 17,
     "metadata": {},
     "output_type": "execute_result"
    }
   ],
   "source": [
    "data.shape"
   ]
  },
  {
   "cell_type": "markdown",
   "metadata": {},
   "source": [
    "# Chọn dữ liệu nhỏ hơn"
   ]
  },
  {
   "cell_type": "code",
   "execution_count": 18,
   "metadata": {},
   "outputs": [],
   "source": [
    "n_sample = 50"
   ]
  },
  {
   "cell_type": "code",
   "execution_count": 19,
   "metadata": {},
   "outputs": [],
   "source": [
    "# Tron du lieu dam bao tinh ngau nhien\n",
    "shuffled_data = data.sample(fraction=1, shuffle=True, seed=42)"
   ]
  },
  {
   "cell_type": "code",
   "execution_count": 20,
   "metadata": {},
   "outputs": [
    {
     "data": {
      "text/html": [
       "<div><style>\n",
       ".dataframe > thead > tr,\n",
       ".dataframe > tbody > tr {\n",
       "  text-align: right;\n",
       "  white-space: pre-wrap;\n",
       "}\n",
       "</style>\n",
       "<small>shape: (5, 2)</small><table border=\"1\" class=\"dataframe\"><thead><tr><th>review_text</th><th>review_votes</th></tr><tr><td>str</td><td>i64</td></tr></thead><tbody><tr><td>&quot;The pinnacle of gaming. Truly …</td><td>0</td></tr><tr><td>&quot;the game is amazing. best part…</td><td>0</td></tr><tr><td>&quot;&#x27;This is RuptureFarms. They sa…</td><td>0</td></tr><tr><td>&quot;A cute 2 minutes game nothing …</td><td>0</td></tr><tr><td>&quot;hate it i just hate it ever ru…</td><td>0</td></tr></tbody></table></div>"
      ],
      "text/plain": [
       "shape: (5, 2)\n",
       "┌─────────────────────────────────┬──────────────┐\n",
       "│ review_text                     ┆ review_votes │\n",
       "│ ---                             ┆ ---          │\n",
       "│ str                             ┆ i64          │\n",
       "╞═════════════════════════════════╪══════════════╡\n",
       "│ The pinnacle of gaming. Truly … ┆ 0            │\n",
       "│ the game is amazing. best part… ┆ 0            │\n",
       "│ 'This is RuptureFarms. They sa… ┆ 0            │\n",
       "│ A cute 2 minutes game nothing … ┆ 0            │\n",
       "│ hate it i just hate it ever ru… ┆ 0            │\n",
       "└─────────────────────────────────┴──────────────┘"
      ]
     },
     "execution_count": 20,
     "metadata": {},
     "output_type": "execute_result"
    }
   ],
   "source": [
    "# Lay n phan tu cua tieu cuc\n",
    "votes_0 = shuffled_data.filter(pl.col(\"review_votes\") == 0)\n",
    "votes_0 = votes_0.head(n_sample)\n",
    "votes_0.head()"
   ]
  },
  {
   "cell_type": "code",
   "execution_count": 21,
   "metadata": {},
   "outputs": [
    {
     "data": {
      "text/html": [
       "<div><style>\n",
       ".dataframe > thead > tr,\n",
       ".dataframe > tbody > tr {\n",
       "  text-align: right;\n",
       "  white-space: pre-wrap;\n",
       "}\n",
       "</style>\n",
       "<small>shape: (5, 2)</small><table border=\"1\" class=\"dataframe\"><thead><tr><th>review_text</th><th>review_votes</th></tr><tr><td>str</td><td>i64</td></tr></thead><tbody><tr><td>&quot;Earth 2150 is an old 3D Real-T…</td><td>1</td></tr><tr><td>&quot;Very cool, but I dont play too…</td><td>1</td></tr><tr><td>&quot;I just got done fighting Credo…</td><td>1</td></tr><tr><td>&quot;DEVELOPER HAS STOPPED SUPPORTI…</td><td>1</td></tr><tr><td>&quot;GET THIS GAME ITS SO AWESOME B…</td><td>1</td></tr></tbody></table></div>"
      ],
      "text/plain": [
       "shape: (5, 2)\n",
       "┌─────────────────────────────────┬──────────────┐\n",
       "│ review_text                     ┆ review_votes │\n",
       "│ ---                             ┆ ---          │\n",
       "│ str                             ┆ i64          │\n",
       "╞═════════════════════════════════╪══════════════╡\n",
       "│ Earth 2150 is an old 3D Real-T… ┆ 1            │\n",
       "│ Very cool, but I dont play too… ┆ 1            │\n",
       "│ I just got done fighting Credo… ┆ 1            │\n",
       "│ DEVELOPER HAS STOPPED SUPPORTI… ┆ 1            │\n",
       "│ GET THIS GAME ITS SO AWESOME B… ┆ 1            │\n",
       "└─────────────────────────────────┴──────────────┘"
      ]
     },
     "execution_count": 21,
     "metadata": {},
     "output_type": "execute_result"
    }
   ],
   "source": [
    "votes_1 = shuffled_data.filter(pl.col(\"review_votes\") == 1)\n",
    "votes_1 = votes_1.head(n_sample)\n",
    "votes_1.head()"
   ]
  },
  {
   "cell_type": "code",
   "execution_count": 22,
   "metadata": {},
   "outputs": [
    {
     "name": "stdout",
     "output_type": "stream",
     "text": [
      "shape: (2,)\n",
      "Series: 'review_votes' [i64]\n",
      "[\n",
      "\t0\n",
      "\t1\n",
      "]\n"
     ]
    },
    {
     "data": {
      "text/plain": [
       "(100, 2)"
      ]
     },
     "execution_count": 22,
     "metadata": {},
     "output_type": "execute_result"
    }
   ],
   "source": [
    "small_data = pl.concat([votes_0, votes_1])\n",
    "print(small_data[\"review_votes\"].unique())\n",
    "small_data.shape"
   ]
  },
  {
   "cell_type": "code",
   "execution_count": 23,
   "metadata": {},
   "outputs": [],
   "source": [
    "docs = small_data[\"review_text\"]\n",
    "labels = small_data[\"review_votes\"]"
   ]
  },
  {
   "cell_type": "code",
   "execution_count": 24,
   "metadata": {},
   "outputs": [],
   "source": [
    "tokens = tools.preprocess(docs)\n",
    "docs = tools.get_corpus(tokens)"
   ]
  },
  {
   "cell_type": "code",
   "execution_count": 25,
   "metadata": {},
   "outputs": [
    {
     "name": "stdout",
     "output_type": "stream",
     "text": [
      "['pinnacl', 'game', 'truli', 'mirror', 'modern', 'day', 'struggl', 'rat', 'face']\n",
      "pinnacl game truli mirror modern day struggl rat face\n"
     ]
    }
   ],
   "source": [
    "print(tokens[0])\n",
    "print(docs[0])"
   ]
  },
  {
   "cell_type": "markdown",
   "metadata": {},
   "source": [
    "# TF-IDF"
   ]
  },
  {
   "cell_type": "code",
   "execution_count": 26,
   "metadata": {},
   "outputs": [],
   "source": [
    "X = docs\n",
    "y = labels.to_numpy()"
   ]
  },
  {
   "cell_type": "code",
   "execution_count": 27,
   "metadata": {},
   "outputs": [
    {
     "data": {
      "text/plain": [
       "(100, 1129)"
      ]
     },
     "execution_count": 27,
     "metadata": {},
     "output_type": "execute_result"
    }
   ],
   "source": [
    "tfidf_vectorizer = TfidfVectorizer(norm=\"l2\")\n",
    "X = tfidf_vectorizer.fit_transform(X)\n",
    "X.shape"
   ]
  },
  {
   "cell_type": "code",
   "execution_count": 28,
   "metadata": {},
   "outputs": [],
   "source": [
    "X = X.toarray()"
   ]
  },
  {
   "cell_type": "code",
   "execution_count": 29,
   "metadata": {},
   "outputs": [],
   "source": [
    "X_train, X_test, y_train, y_test = train_test_split(X, y, stratify=y, shuffle=True, random_state=42)"
   ]
  },
  {
   "cell_type": "code",
   "execution_count": 30,
   "metadata": {},
   "outputs": [
    {
     "data": {
      "text/plain": [
       "<Axes: >"
      ]
     },
     "execution_count": 30,
     "metadata": {},
     "output_type": "execute_result"
    },
    {
     "data": {
      "image/png": "[encoded data removed]",
      "text/plain": [
       "<Figure size 640x480 with 2 Axes>"
      ]
     },
     "metadata": {},
     "output_type": "display_data"
    }
   ],
   "source": [
    "nb = GaussianNB()\n",
    "nb.fit(X_train, y_train)\n",
    "y_pred = nb.predict(X_test)\n",
    "nb_cfs_mtx = confusion_matrix(y_test, y_pred)\n",
    "\n",
    "sns.heatmap(nb_cfs_mtx/np.sum(nb_cfs_mtx), annot=True)"
   ]
  },
  {
   "cell_type": "markdown",
   "metadata": {},
   "source": [
    "# Word Embedding"
   ]
  },
  {
   "cell_type": "markdown",
   "metadata": {},
   "source": [
    "## One-hot encoding"
   ]
  },
  {
   "cell_type": "code",
   "execution_count": 31,
   "metadata": {},
   "outputs": [
    {
     "name": "stdout",
     "output_type": "stream",
     "text": [
      "3130\n"
     ]
    }
   ],
   "source": [
    "flat_tokens = [token for sublist in tokens for token in sublist]\n",
    "print(len(flat_tokens))\n"
   ]
  },
  {
   "cell_type": "code",
   "execution_count": 32,
   "metadata": {},
   "outputs": [
    {
     "data": {
      "text/html": [
       "<style>#sk-container-id-1 {\n",
       "  /* Definition of color scheme common for light and dark mode */\n",
       "  --sklearn-color-text: #000;\n",
       "  --sklearn-color-text-muted: #666;\n",
       "  --sklearn-color-line: gray;\n",
       "  /* Definition of color scheme for unfitted estimators */\n",
       "  --sklearn-color-unfitted-level-0: #fff5e6;\n",
       "  --sklearn-color-unfitted-level-1: #f6e4d2;\n",
       "  --sklearn-color-unfitted-level-2: #ffe0b3;\n",
       "  --sklearn-color-unfitted-level-3: chocolate;\n",
       "  /* Definition of color scheme for fitted estimators */\n",
       "  --sklearn-color-fitted-level-0: #f0f8ff;\n",
       "  --sklearn-color-fitted-level-1: #d4ebff;\n",
       "  --sklearn-color-fitted-level-2: #b3dbfd;\n",
       "  --sklearn-color-fitted-level-3: cornflowerblue;\n",
       "\n",
       "  /* Specific color for light theme */\n",
       "  --sklearn-color-text-on-default-background: var(--sg-text-color, var(--theme-code-foreground, var(--jp-content-font-color1, black)));\n",
       "  --sklearn-color-background: var(--sg-background-color, var(--theme-background, var(--jp-layout-color0, white)));\n",
       "  --sklearn-color-border-box: var(--sg-text-color, var(--theme-code-foreground, var(--jp-content-font-color1, black)));\n",
       "  --sklearn-color-icon: #696969;\n",
       "\n",
       "  @media (prefers-color-scheme: dark) {\n",
       "    /* Redefinition of color scheme for dark theme */\n",
       "    --sklearn-color-text-on-default-background: var(--sg-text-color, var(--theme-code-foreground, var(--jp-content-font-color1, white)));\n",
       "    --sklearn-color-background: var(--sg-background-color, var(--theme-background, var(--jp-layout-color0, #111)));\n",
       "    --sklearn-color-border-box: var(--sg-text-color, var(--theme-code-foreground, var(--jp-content-font-color1, white)));\n",
       "    --sklearn-color-icon: #878787;\n",
       "  }\n",
       "}\n",
       "\n",
       "#sk-container-id-1 {\n",
       "  color: var(--sklearn-color-text);\n",
       "}\n",
       "\n",
       "#sk-container-id-1 pre {\n",
       "  padding: 0;\n",
       "}\n",
       "\n",
       "#sk-container-id-1 input.sk-hidden--visually {\n",
       "  border: 0;\n",
       "  clip: rect(1px 1px 1px 1px);\n",
       "  clip: rect(1px, 1px, 1px, 1px);\n",
       "  height: 1px;\n",
       "  margin: -1px;\n",
       "  overflow: hidden;\n",
       "  padding: 0;\n",
       "  position: absolute;\n",
       "  width: 1px;\n",
       "}\n",
       "\n",
       "#sk-container-id-1 div.sk-dashed-wrapped {\n",
       "  border: 1px dashed var(--sklearn-color-line);\n",
       "  margin: 0 0.4em 0.5em 0.4em;\n",
       "  box-sizing: border-box;\n",
       "  padding-bottom: 0.4em;\n",
       "  background-color: var(--sklearn-color-background);\n",
       "}\n",
       "\n",
       "#sk-container-id-1 div.sk-container {\n",
       "  /* jupyter's `normalize.less` sets `[hidden] { display: none; }`\n",
       "     but bootstrap.min.css set `[hidden] { display: none !important; }`\n",
       "     so we also need the `!important` here to be able to override the\n",
       "     default hidden behavior on the sphinx rendered scikit-learn.org.\n",
       "     See: https://github.com/scikit-learn/scikit-learn/issues/21755 */\n",
       "  display: inline-block !important;\n",
       "  position: relative;\n",
       "}\n",
       "\n",
       "#sk-container-id-1 div.sk-text-repr-fallback {\n",
       "  display: none;\n",
       "}\n",
       "\n",
       "div.sk-parallel-item,\n",
       "div.sk-serial,\n",
       "div.sk-item {\n",
       "  /* draw centered vertical line to link estimators */\n",
       "  background-image: linear-gradient(var(--sklearn-color-text-on-default-background), var(--sklearn-color-text-on-default-background));\n",
       "  background-size: 2px 100%;\n",
       "  background-repeat: no-repeat;\n",
       "  background-position: center center;\n",
       "}\n",
       "\n",
       "/* Parallel-specific style estimator block */\n",
       "\n",
       "#sk-container-id-1 div.sk-parallel-item::after {\n",
       "  content: \"\";\n",
       "  width: 100%;\n",
       "  border-bottom: 2px solid var(--sklearn-color-text-on-default-background);\n",
       "  flex-grow: 1;\n",
       "}\n",
       "\n",
       "#sk-container-id-1 div.sk-parallel {\n",
       "  display: flex;\n",
       "  align-items: stretch;\n",
       "  justify-content: center;\n",
       "  background-color: var(--sklearn-color-background);\n",
       "  position: relative;\n",
       "}\n",
       "\n",
       "#sk-container-id-1 div.sk-parallel-item {\n",
       "  display: flex;\n",
       "  flex-direction: column;\n",
       "}\n",
       "\n",
       "#sk-container-id-1 div.sk-parallel-item:first-child::after {\n",
       "  align-self: flex-end;\n",
       "  width: 50%;\n",
       "}\n",
       "\n",
       "#sk-container-id-1 div.sk-parallel-item:last-child::after {\n",
       "  align-self: flex-start;\n",
       "  width: 50%;\n",
       "}\n",
       "\n",
       "#sk-container-id-1 div.sk-parallel-item:only-child::after {\n",
       "  width: 0;\n",
       "}\n",
       "\n",
       "/* Serial-specific style estimator block */\n",
       "\n",
       "#sk-container-id-1 div.sk-serial {\n",
       "  display: flex;\n",
       "  flex-direction: column;\n",
       "  align-items: center;\n",
       "  background-color: var(--sklearn-color-background);\n",
       "  padding-right: 1em;\n",
       "  padding-left: 1em;\n",
       "}\n",
       "\n",
       "\n",
       "/* Toggleable style: style used for estimator/Pipeline/ColumnTransformer box that is\n",
       "clickable and can be expanded/collapsed.\n",
       "- Pipeline and ColumnTransformer use this feature and define the default style\n",
       "- Estimators will overwrite some part of the style using the `sk-estimator` class\n",
       "*/\n",
       "\n",
       "/* Pipeline and ColumnTransformer style (default) */\n",
       "\n",
       "#sk-container-id-1 div.sk-toggleable {\n",
       "  /* Default theme specific background. It is overwritten whether we have a\n",
       "  specific estimator or a Pipeline/ColumnTransformer */\n",
       "  background-color: var(--sklearn-color-background);\n",
       "}\n",
       "\n",
       "/* Toggleable label */\n",
       "#sk-container-id-1 label.sk-toggleable__label {\n",
       "  cursor: pointer;\n",
       "  display: flex;\n",
       "  width: 100%;\n",
       "  margin-bottom: 0;\n",
       "  padding: 0.5em;\n",
       "  box-sizing: border-box;\n",
       "  text-align: center;\n",
       "  align-items: start;\n",
       "  justify-content: space-between;\n",
       "  gap: 0.5em;\n",
       "}\n",
       "\n",
       "#sk-container-id-1 label.sk-toggleable__label .caption {\n",
       "  font-size: 0.6rem;\n",
       "  font-weight: lighter;\n",
       "  color: var(--sklearn-color-text-muted);\n",
       "}\n",
       "\n",
       "#sk-container-id-1 label.sk-toggleable__label-arrow:before {\n",
       "  /* Arrow on the left of the label */\n",
       "  content: \"▸\";\n",
       "  float: left;\n",
       "  margin-right: 0.25em;\n",
       "  color: var(--sklearn-color-icon);\n",
       "}\n",
       "\n",
       "#sk-container-id-1 label.sk-toggleable__label-arrow:hover:before {\n",
       "  color: var(--sklearn-color-text);\n",
       "}\n",
       "\n",
       "/* Toggleable content - dropdown */\n",
       "\n",
       "#sk-container-id-1 div.sk-toggleable__content {\n",
       "  max-height: 0;\n",
       "  max-width: 0;\n",
       "  overflow: hidden;\n",
       "  text-align: left;\n",
       "  /* unfitted */\n",
       "  background-color: var(--sklearn-color-unfitted-level-0);\n",
       "}\n",
       "\n",
       "#sk-container-id-1 div.sk-toggleable__content.fitted {\n",
       "  /* fitted */\n",
       "  background-color: var(--sklearn-color-fitted-level-0);\n",
       "}\n",
       "\n",
       "#sk-container-id-1 div.sk-toggleable__content pre {\n",
       "  margin: 0.2em;\n",
       "  border-radius: 0.25em;\n",
       "  color: var(--sklearn-color-text);\n",
       "  /* unfitted */\n",
       "  background-color: var(--sklearn-color-unfitted-level-0);\n",
       "}\n",
       "\n",
       "#sk-container-id-1 div.sk-toggleable__content.fitted pre {\n",
       "  /* unfitted */\n",
       "  background-color: var(--sklearn-color-fitted-level-0);\n",
       "}\n",
       "\n",
       "#sk-container-id-1 input.sk-toggleable__control:checked~div.sk-toggleable__content {\n",
       "  /* Expand drop-down */\n",
       "  max-height: 200px;\n",
       "  max-width: 100%;\n",
       "  overflow: auto;\n",
       "}\n",
       "\n",
       "#sk-container-id-1 input.sk-toggleable__control:checked~label.sk-toggleable__label-arrow:before {\n",
       "  content: \"▾\";\n",
       "}\n",
       "\n",
       "/* Pipeline/ColumnTransformer-specific style */\n",
       "\n",
       "#sk-container-id-1 div.sk-label input.sk-toggleable__control:checked~label.sk-toggleable__label {\n",
       "  color: var(--sklearn-color-text);\n",
       "  background-color: var(--sklearn-color-unfitted-level-2);\n",
       "}\n",
       "\n",
       "#sk-container-id-1 div.sk-label.fitted input.sk-toggleable__control:checked~label.sk-toggleable__label {\n",
       "  background-color: var(--sklearn-color-fitted-level-2);\n",
       "}\n",
       "\n",
       "/* Estimator-specific style */\n",
       "\n",
       "/* Colorize estimator box */\n",
       "#sk-container-id-1 div.sk-estimator input.sk-toggleable__control:checked~label.sk-toggleable__label {\n",
       "  /* unfitted */\n",
       "  background-color: var(--sklearn-color-unfitted-level-2);\n",
       "}\n",
       "\n",
       "#sk-container-id-1 div.sk-estimator.fitted input.sk-toggleable__control:checked~label.sk-toggleable__label {\n",
       "  /* fitted */\n",
       "  background-color: var(--sklearn-color-fitted-level-2);\n",
       "}\n",
       "\n",
       "#sk-container-id-1 div.sk-label label.sk-toggleable__label,\n",
       "#sk-container-id-1 div.sk-label label {\n",
       "  /* The background is the default theme color */\n",
       "  color: var(--sklearn-color-text-on-default-background);\n",
       "}\n",
       "\n",
       "/* On hover, darken the color of the background */\n",
       "#sk-container-id-1 div.sk-label:hover label.sk-toggleable__label {\n",
       "  color: var(--sklearn-color-text);\n",
       "  background-color: var(--sklearn-color-unfitted-level-2);\n",
       "}\n",
       "\n",
       "/* Label box, darken color on hover, fitted */\n",
       "#sk-container-id-1 div.sk-label.fitted:hover label.sk-toggleable__label.fitted {\n",
       "  color: var(--sklearn-color-text);\n",
       "  background-color: var(--sklearn-color-fitted-level-2);\n",
       "}\n",
       "\n",
       "/* Estimator label */\n",
       "\n",
       "#sk-container-id-1 div.sk-label label {\n",
       "  font-family: monospace;\n",
       "  font-weight: bold;\n",
       "  display: inline-block;\n",
       "  line-height: 1.2em;\n",
       "}\n",
       "\n",
       "#sk-container-id-1 div.sk-label-container {\n",
       "  text-align: center;\n",
       "}\n",
       "\n",
       "/* Estimator-specific */\n",
       "#sk-container-id-1 div.sk-estimator {\n",
       "  font-family: monospace;\n",
       "  border: 1px dotted var(--sklearn-color-border-box);\n",
       "  border-radius: 0.25em;\n",
       "  box-sizing: border-box;\n",
       "  margin-bottom: 0.5em;\n",
       "  /* unfitted */\n",
       "  background-color: var(--sklearn-color-unfitted-level-0);\n",
       "}\n",
       "\n",
       "#sk-container-id-1 div.sk-estimator.fitted {\n",
       "  /* fitted */\n",
       "  background-color: var(--sklearn-color-fitted-level-0);\n",
       "}\n",
       "\n",
       "/* on hover */\n",
       "#sk-container-id-1 div.sk-estimator:hover {\n",
       "  /* unfitted */\n",
       "  background-color: var(--sklearn-color-unfitted-level-2);\n",
       "}\n",
       "\n",
       "#sk-container-id-1 div.sk-estimator.fitted:hover {\n",
       "  /* fitted */\n",
       "  background-color: var(--sklearn-color-fitted-level-2);\n",
       "}\n",
       "\n",
       "/* Specification for estimator info (e.g. \"i\" and \"?\") */\n",
       "\n",
       "/* Common style for \"i\" and \"?\" */\n",
       "\n",
       ".sk-estimator-doc-link,\n",
       "a:link.sk-estimator-doc-link,\n",
       "a:visited.sk-estimator-doc-link {\n",
       "  float: right;\n",
       "  font-size: smaller;\n",
       "  line-height: 1em;\n",
       "  font-family: monospace;\n",
       "  background-color: var(--sklearn-color-background);\n",
       "  border-radius: 1em;\n",
       "  height: 1em;\n",
       "  width: 1em;\n",
       "  text-decoration: none !important;\n",
       "  margin-left: 0.5em;\n",
       "  text-align: center;\n",
       "  /* unfitted */\n",
       "  border: var(--sklearn-color-unfitted-level-1) 1pt solid;\n",
       "  color: var(--sklearn-color-unfitted-level-1);\n",
       "}\n",
       "\n",
       ".sk-estimator-doc-link.fitted,\n",
       "a:link.sk-estimator-doc-link.fitted,\n",
       "a:visited.sk-estimator-doc-link.fitted {\n",
       "  /* fitted */\n",
       "  border: var(--sklearn-color-fitted-level-1) 1pt solid;\n",
       "  color: var(--sklearn-color-fitted-level-1);\n",
       "}\n",
       "\n",
       "/* On hover */\n",
       "div.sk-estimator:hover .sk-estimator-doc-link:hover,\n",
       ".sk-estimator-doc-link:hover,\n",
       "div.sk-label-container:hover .sk-estimator-doc-link:hover,\n",
       ".sk-estimator-doc-link:hover {\n",
       "  /* unfitted */\n",
       "  background-color: var(--sklearn-color-unfitted-level-3);\n",
       "  color: var(--sklearn-color-background);\n",
       "  text-decoration: none;\n",
       "}\n",
       "\n",
       "div.sk-estimator.fitted:hover .sk-estimator-doc-link.fitted:hover,\n",
       ".sk-estimator-doc-link.fitted:hover,\n",
       "div.sk-label-container:hover .sk-estimator-doc-link.fitted:hover,\n",
       ".sk-estimator-doc-link.fitted:hover {\n",
       "  /* fitted */\n",
       "  background-color: var(--sklearn-color-fitted-level-3);\n",
       "  color: var(--sklearn-color-background);\n",
       "  text-decoration: none;\n",
       "}\n",
       "\n",
       "/* Span, style for the box shown on hovering the info icon */\n",
       ".sk-estimator-doc-link span {\n",
       "  display: none;\n",
       "  z-index: 9999;\n",
       "  position: relative;\n",
       "  font-weight: normal;\n",
       "  right: .2ex;\n",
       "  padding: .5ex;\n",
       "  margin: .5ex;\n",
       "  width: min-content;\n",
       "  min-width: 20ex;\n",
       "  max-width: 50ex;\n",
       "  color: var(--sklearn-color-text);\n",
       "  box-shadow: 2pt 2pt 4pt #999;\n",
       "  /* unfitted */\n",
       "  background: var(--sklearn-color-unfitted-level-0);\n",
       "  border: .5pt solid var(--sklearn-color-unfitted-level-3);\n",
       "}\n",
       "\n",
       ".sk-estimator-doc-link.fitted span {\n",
       "  /* fitted */\n",
       "  background: var(--sklearn-color-fitted-level-0);\n",
       "  border: var(--sklearn-color-fitted-level-3);\n",
       "}\n",
       "\n",
       ".sk-estimator-doc-link:hover span {\n",
       "  display: block;\n",
       "}\n",
       "\n",
       "/* \"?\"-specific style due to the `<a>` HTML tag */\n",
       "\n",
       "#sk-container-id-1 a.estimator_doc_link {\n",
       "  float: right;\n",
       "  font-size: 1rem;\n",
       "  line-height: 1em;\n",
       "  font-family: monospace;\n",
       "  background-color: var(--sklearn-color-background);\n",
       "  border-radius: 1rem;\n",
       "  height: 1rem;\n",
       "  width: 1rem;\n",
       "  text-decoration: none;\n",
       "  /* unfitted */\n",
       "  color: var(--sklearn-color-unfitted-level-1);\n",
       "  border: var(--sklearn-color-unfitted-level-1) 1pt solid;\n",
       "}\n",
       "\n",
       "#sk-container-id-1 a.estimator_doc_link.fitted {\n",
       "  /* fitted */\n",
       "  border: var(--sklearn-color-fitted-level-1) 1pt solid;\n",
       "  color: var(--sklearn-color-fitted-level-1);\n",
       "}\n",
       "\n",
       "/* On hover */\n",
       "#sk-container-id-1 a.estimator_doc_link:hover {\n",
       "  /* unfitted */\n",
       "  background-color: var(--sklearn-color-unfitted-level-3);\n",
       "  color: var(--sklearn-color-background);\n",
       "  text-decoration: none;\n",
       "}\n",
       "\n",
       "#sk-container-id-1 a.estimator_doc_link.fitted:hover {\n",
       "  /* fitted */\n",
       "  background-color: var(--sklearn-color-fitted-level-3);\n",
       "}\n",
       "</style><div id=\"sk-container-id-1\" class=\"sk-top-container\"><div class=\"sk-text-repr-fallback\"><pre>LabelEncoder()</pre><b>In a Jupyter environment, please rerun this cell to show the HTML representation or trust the notebook. <br />On GitHub, the HTML representation is unable to render, please try loading this page with nbviewer.org.</b></div><div class=\"sk-container\" hidden><div class=\"sk-item\"><div class=\"sk-estimator fitted sk-toggleable\"><input class=\"sk-toggleable__control sk-hidden--visually\" id=\"sk-estimator-id-1\" type=\"checkbox\" checked><label for=\"sk-estimator-id-1\" class=\"sk-toggleable__label fitted sk-toggleable__label-arrow\"><div><div>LabelEncoder</div></div><div><a class=\"sk-estimator-doc-link fitted\" rel=\"noreferrer\" target=\"_blank\" href=\"https://scikit-learn.org/1.6/modules/generated/sklearn.preprocessing.LabelEncoder.html\">?<span>Documentation for LabelEncoder</span></a><span class=\"sk-estimator-doc-link fitted\">i<span>Fitted</span></span></div></label><div class=\"sk-toggleable__content fitted\"><pre>LabelEncoder()</pre></div> </div></div></div></div>"
      ],
      "text/plain": [
       "LabelEncoder()"
      ]
     },
     "execution_count": 32,
     "metadata": {},
     "output_type": "execute_result"
    }
   ],
   "source": [
    "le = LabelEncoder()\n",
    "le.fit(flat_tokens)"
   ]
  },
  {
   "cell_type": "code",
   "execution_count": 33,
   "metadata": {},
   "outputs": [
    {
     "name": "stdout",
     "output_type": "stream",
     "text": [
      "Class of words:  ['abe' 'abil' 'abl' ... 'zero' 'zombi' 'zone']\n",
      "[ 751  432 1039 ...  545 1028  624]\n",
      "['pinnacl' 'game' 'truli' ... 'interest' 'traffic' 'manag']\n"
     ]
    }
   ],
   "source": [
    "print('Class of words: ', le.classes_)\n",
    "lbl_encoded = le.transform(flat_tokens)\n",
    "print(lbl_encoded)\n",
    "print(le.inverse_transform(lbl_encoded))"
   ]
  },
  {
   "cell_type": "code",
   "execution_count": 34,
   "metadata": {},
   "outputs": [
    {
     "name": "stdout",
     "output_type": "stream",
     "text": [
      "Classes_indices:  [(np.str_('abe'), np.int64(0)), (np.str_('abil'), np.int64(1)), (np.str_('abl'), np.int64(2)), (np.str_('absolut'), np.int64(3)), (np.str_('abund'), np.int64(4)), (np.str_('accur'), np.int64(5)), (np.str_('achiev'), np.int64(6)), (np.str_('across'), np.int64(7)), (np.str_('act'), np.int64(8)), (np.str_('action'), np.int64(9)), (np.str_('activ'), np.int64(10)), (np.str_('actual'), np.int64(11)), (np.str_('add'), np.int64(12)), (np.str_('addict'), np.int64(13)), (np.str_('adjust'), np.int64(14)), (np.str_('admit'), np.int64(15)), (np.str_('advanc'), np.int64(16)), (np.str_('advertis'), np.int64(17)), (np.str_('affect'), np.int64(18)), (np.str_('afraid'), np.int64(19)), (np.str_('ago'), np.int64(20)), (np.str_('agre'), np.int64(21)), (np.str_('ahead'), np.int64(22)), (np.str_('ai'), np.int64(23)), (np.str_('aliv'), np.int64(24)), (np.str_('alli'), np.int64(25)), (np.str_('allow'), np.int64(26)), (np.str_('almost'), np.int64(27)), (np.str_('alreadi'), np.int64(28)), (np.str_('also'), np.int64(29)), (np.str_('alter'), np.int64(30)), (np.str_('alway'), np.int64(31)), (np.str_('amaz'), np.int64(32)), (np.str_('amd'), np.int64(33)), (np.str_('america'), np.int64(34)), (np.str_('amount'), np.int64(35)), (np.str_('amp'), np.int64(36)), (np.str_('annoy'), np.int64(37)), (np.str_('anoth'), np.int64(38)), (np.str_('answer'), np.int64(39)), (np.str_('anybodi'), np.int64(40)), (np.str_('anymor'), np.int64(41)), (np.str_('anyon'), np.int64(42)), (np.str_('anyth'), np.int64(43)), (np.str_('anyway'), np.int64(44)), (np.str_('apart'), np.int64(45)), (np.str_('appar'), np.int64(46)), (np.str_('appeal'), np.int64(47)), (np.str_('appli'), np.int64(48)), (np.str_('approxim'), np.int64(49)), (np.str_('arbitrari'), np.int64(50)), (np.str_('area'), np.int64(51)), (np.str_('arm'), np.int64(52)), (np.str_('armi'), np.int64(53)), (np.str_('armor'), np.int64(54)), (np.str_('around'), np.int64(55)), (np.str_('art'), np.int64(56)), (np.str_('artist'), np.int64(57)), (np.str_('asf'), np.int64(58)), (np.str_('aspect'), np.int64(59)), (np.str_('assassin'), np.int64(60)), (np.str_('assembl'), np.int64(61)), (np.str_('atmospher'), np.int64(62)), (np.str_('attach'), np.int64(63)), (np.str_('attack'), np.int64(64)), (np.str_('attempt'), np.int64(65)), (np.str_('attitud'), np.int64(66)), (np.str_('audienc'), np.int64(67)), (np.str_('automat'), np.int64(68)), (np.str_('avail'), np.int64(69)), (np.str_('avid'), np.int64(70)), (np.str_('avoid'), np.int64(71)), (np.str_('award'), np.int64(72)), (np.str_('awesom'), np.int64(73)), (np.str_('awhil'), np.int64(74)), (np.str_('awkward'), np.int64(75)), (np.str_('back'), np.int64(76)), (np.str_('background'), np.int64(77)), (np.str_('backyard'), np.int64(78)), (np.str_('bad'), np.int64(79)), (np.str_('badg'), np.int64(80)), (np.str_('badli'), np.int64(81)), (np.str_('bag'), np.int64(82)), (np.str_('ball'), np.int64(83)), (np.str_('bare'), np.int64(84)), (np.str_('base'), np.int64(85)), (np.str_('basi'), np.int64(86)), (np.str_('basic'), np.int64(87)), (np.str_('battl'), np.int64(88)), (np.str_('beast'), np.int64(89)), (np.str_('beat'), np.int64(90)), (np.str_('beauti'), np.int64(91)), (np.str_('becom'), np.int64(92)), (np.str_('beef'), np.int64(93)), (np.str_('begin'), np.int64(94)), (np.str_('behind'), np.int64(95)), (np.str_('believ'), np.int64(96)), (np.str_('benefit'), np.int64(97)), (np.str_('best'), np.int64(98)), (np.str_('beta'), np.int64(99)), (np.str_('better'), np.int64(100)), (np.str_('big'), np.int64(101)), (np.str_('biggest'), np.int64(102)), (np.str_('bit'), np.int64(103)), (np.str_('bla'), np.int64(104)), (np.str_('block'), np.int64(105)), (np.str_('blockbust'), np.int64(106)), (np.str_('blow'), np.int64(107)), (np.str_('blue'), np.int64(108)), (np.str_('blueprint'), np.int64(109)), (np.str_('board'), np.int64(110)), (np.str_('bonu'), np.int64(111)), (np.str_('bonus'), np.int64(112)), (np.str_('book'), np.int64(113)), (np.str_('boost'), np.int64(114)), (np.str_('bore'), np.int64(115)), (np.str_('boss'), np.int64(116)), (np.str_('bother'), np.int64(117)), (np.str_('bottom'), np.int64(118)), (np.str_('bought'), np.int64(119)), (np.str_('bounc'), np.int64(120)), (np.str_('bound'), np.int64(121)), (np.str_('box'), np.int64(122)), (np.str_('brace'), np.int64(123)), (np.str_('branch'), np.int64(124)), (np.str_('brand'), np.int64(125)), (np.str_('break'), np.int64(126)), (np.str_('breaker'), np.int64(127)), (np.str_('bridg'), np.int64(128)), (np.str_('bring'), np.int64(129)), (np.str_('broadcast'), np.int64(130)), (np.str_('brought'), np.int64(131)), (np.str_('bu'), np.int64(132)), (np.str_('buddi'), np.int64(133)), (np.str_('budget'), np.int64(134)), (np.str_('bug'), np.int64(135)), (np.str_('build'), np.int64(136)), (np.str_('built'), np.int64(137)), (np.str_('bundl'), np.int64(138)), (np.str_('burn'), np.int64(139)), (np.str_('busi'), np.int64(140)), (np.str_('button'), np.int64(141)), (np.str_('buy'), np.int64(142)), (np.str_('bye'), np.int64(143)), (np.str_('call'), np.int64(144)), (np.str_('calm'), np.int64(145)), (np.str_('came'), np.int64(146)), (np.str_('campaign'), np.int64(147)), (np.str_('cant'), np.int64(148)), (np.str_('captain'), np.int64(149)), (np.str_('captur'), np.int64(150)), (np.str_('car'), np.int64(151)), (np.str_('card'), np.int64(152)), (np.str_('career'), np.int64(153)), (np.str_('careless'), np.int64(154)), (np.str_('carri'), np.int64(155)), (np.str_('casual'), np.int64(156)), (np.str_('cat'), np.int64(157)), (np.str_('caus'), np.int64(158)), (np.str_('cave'), np.int64(159)), (np.str_('censorship'), np.int64(160)), (np.str_('cent'), np.int64(161)), (np.str_('center'), np.int64(162)), (np.str_('centuri'), np.int64(163)), (np.str_('ceo'), np.int64(164)), (np.str_('certain'), np.int64(165)), (np.str_('certainli'), np.int64(166)), (np.str_('challeng'), np.int64(167)), (np.str_('chanc'), np.int64(168)), (np.str_('chang'), np.int64(169)), (np.str_('charact'), np.int64(170)), (np.str_('charg'), np.int64(171)), (np.str_('chassi'), np.int64(172)), (np.str_('chat'), np.int64(173)), (np.str_('cheaper'), np.int64(174)), (np.str_('cheat'), np.int64(175)), (np.str_('chest'), np.int64(176)), (np.str_('child'), np.int64(177)), (np.str_('chocol'), np.int64(178)), (np.str_('choic'), np.int64(179)), (np.str_('choos'), np.int64(180)), (np.str_('chop'), np.int64(181)), (np.str_('chose'), np.int64(182)), (np.str_('chosen'), np.int64(183)), (np.str_('cinemat'), np.int64(184)), (np.str_('circl'), np.int64(185)), (np.str_('civil'), np.int64(186)), (np.str_('clarifi'), np.int64(187)), (np.str_('class'), np.int64(188)), (np.str_('classic'), np.int64(189)), (np.str_('clemenc'), np.int64(190)), (np.str_('clone'), np.int64(191)), (np.str_('close'), np.int64(192)), (np.str_('closer'), np.int64(193)), (np.str_('clunki'), np.int64(194)), (np.str_('co'), np.int64(195)), (np.str_('cod'), np.int64(196)), (np.str_('code'), np.int64(197)), (np.str_('coin'), np.int64(198)), (np.str_('color'), np.int64(199)), (np.str_('combat'), np.int64(200)), (np.str_('combin'), np.int64(201)), (np.str_('come'), np.int64(202)), (np.str_('command'), np.int64(203)), (np.str_('commun'), np.int64(204)), (np.str_('compar'), np.int64(205)), (np.str_('compens'), np.int64(206)), (np.str_('complet'), np.int64(207)), (np.str_('complex'), np.int64(208)), (np.str_('comput'), np.int64(209)), (np.str_('comrad'), np.int64(210)), (np.str_('con'), np.int64(211)), (np.str_('conclus'), np.int64(212)), (np.str_('configur'), np.int64(213)), (np.str_('consequ'), np.int64(214)), (np.str_('consid'), np.int64(215)), (np.str_('consist'), np.int64(216)), (np.str_('constantli'), np.int64(217)), (np.str_('construct'), np.int64(218)), (np.str_('content'), np.int64(219)), (np.str_('control'), np.int64(220)), (np.str_('cool'), np.int64(221)), (np.str_('coop'), np.int64(222)), (np.str_('copi'), np.int64(223)), (np.str_('core'), np.int64(224)), (np.str_('corpor'), np.int64(225)), (np.str_('could'), np.int64(226)), (np.str_('counter'), np.int64(227)), (np.str_('cover'), np.int64(228)), (np.str_('craft'), np.int64(229)), (np.str_('crap'), np.int64(230)), (np.str_('crash'), np.int64(231)), (np.str_('crate'), np.int64(232)), (np.str_('creat'), np.int64(233)), (np.str_('creativ'), np.int64(234)), (np.str_('creatur'), np.int64(235)), (np.str_('credo'), np.int64(236)), (np.str_('creed'), np.int64(237)), (np.str_('cri'), np.int64(238)), (np.str_('critic'), np.int64(239)), (np.str_('crush'), np.int64(240)), (np.str_('current'), np.int64(241)), (np.str_('curs'), np.int64(242)), (np.str_('curv'), np.int64(243)), (np.str_('custom'), np.int64(244)), (np.str_('cut'), np.int64(245)), (np.str_('cute'), np.int64(246)), (np.str_('cycl'), np.int64(247)), (np.str_('da'), np.int64(248)), (np.str_('damag'), np.int64(249)), (np.str_('dark'), np.int64(250)), (np.str_('data'), np.int64(251)), (np.str_('dawn'), np.int64(252)), (np.str_('day'), np.int64(253)), (np.str_('daylight'), np.int64(254)), (np.str_('dead'), np.int64(255)), (np.str_('deal'), np.int64(256)), (np.str_('death'), np.int64(257)), (np.str_('decent'), np.int64(258)), (np.str_('decid'), np.int64(259)), (np.str_('dedic'), np.int64(260)), (np.str_('deep'), np.int64(261)), (np.str_('definit'), np.int64(262)), (np.str_('delet'), np.int64(263)), (np.str_('deliv'), np.int64(264)), (np.str_('deni'), np.int64(265)), (np.str_('depth'), np.int64(266)), (np.str_('derbi'), np.int64(267)), (np.str_('descent'), np.int64(268)), (np.str_('describ'), np.int64(269)), (np.str_('despit'), np.int64(270)), (np.str_('detail'), np.int64(271)), (np.str_('dev'), np.int64(272)), (np.str_('devast'), np.int64(273)), (np.str_('develop'), np.int64(274)), (np.str_('dialogu'), np.int64(275)), (np.str_('diamond'), np.int64(276)), (np.str_('didnt'), np.int64(277)), (np.str_('die'), np.int64(278)), (np.str_('differ'), np.int64(279)), (np.str_('difficult'), np.int64(280)), (np.str_('difficulti'), np.int64(281)), (np.str_('digit'), np.int64(282)), (np.str_('disappoint'), np.int64(283)), (np.str_('disconnect'), np.int64(284)), (np.str_('dish'), np.int64(285)), (np.str_('disintegr'), np.int64(286)), (np.str_('dismantl'), np.int64(287)), (np.str_('dlc'), np.int64(288)), (np.str_('document'), np.int64(289)), (np.str_('dollar'), np.int64(290)), (np.str_('done'), np.int64(291)), (np.str_('doorway'), np.int64(292)), (np.str_('doubt'), np.int64(293)), (np.str_('dozen'), np.int64(294)), (np.str_('drag'), np.int64(295)), (np.str_('drill'), np.int64(296)), (np.str_('driver'), np.int64(297)), (np.str_('drop'), np.int64(298)), (np.str_('due'), np.int64(299)), (np.str_('duel'), np.int64(300)), (np.str_('dug'), np.int64(301)), (np.str_('dungeon'), np.int64(302)), (np.str_('dynamit'), np.int64(303)), (np.str_('dynasti'), np.int64(304)), (np.str_('earli'), np.int64(305)), (np.str_('earth'), np.int64(306)), (np.str_('easi'), np.int64(307)), (np.str_('easili'), np.int64(308)), (np.str_('eat'), np.int64(309)), (np.str_('econom'), np.int64(310)), (np.str_('ed'), np.int64(311)), (np.str_('editor'), np.int64(312)), (np.str_('effect'), np.int64(313)), (np.str_('eh'), np.int64(314)), (np.str_('either'), np.int64(315)), (np.str_('element'), np.int64(316)), (np.str_('elit'), np.int64(317)), (np.str_('emerg'), np.int64(318)), (np.str_('emot'), np.int64(319)), (np.str_('employe'), np.int64(320)), (np.str_('empti'), np.int64(321)), (np.str_('enclosur'), np.int64(322)), (np.str_('encount'), np.int64(323)), (np.str_('end'), np.int64(324)), (np.str_('enemi'), np.int64(325)), (np.str_('engin'), np.int64(326)), (np.str_('engulf'), np.int64(327)), (np.str_('enjoy'), np.int64(328)), (np.str_('enough'), np.int64(329)), (np.str_('entertain'), np.int64(330)), (np.str_('entir'), np.int64(331)), (np.str_('entranc'), np.int64(332)), (np.str_('equal'), np.int64(333)), (np.str_('equip'), np.int64(334)), (np.str_('error'), np.int64(335)), (np.str_('escap'), np.int64(336)), (np.str_('especi'), np.int64(337)), (np.str_('etc'), np.int64(338)), (np.str_('evacu'), np.int64(339)), (np.str_('eve'), np.int64(340)), (np.str_('even'), np.int64(341)), (np.str_('event'), np.int64(342)), (np.str_('ever'), np.int64(343)), (np.str_('everi'), np.int64(344)), (np.str_('everybodi'), np.int64(345)), (np.str_('everyon'), np.int64(346)), (np.str_('everyth'), np.int64(347)), (np.str_('exactli'), np.int64(348)), (np.str_('except'), np.int64(349)), (np.str_('excit'), np.int64(350)), (np.str_('exclus'), np.int64(351)), (np.str_('exist'), np.int64(352)), (np.str_('exit'), np.int64(353)), (np.str_('expans'), np.int64(354)), (np.str_('expect'), np.int64(355)), (np.str_('experi'), np.int64(356)), (np.str_('experienc'), np.int64(357)), (np.str_('explor'), np.int64(358)), (np.str_('explos'), np.int64(359)), (np.str_('export'), np.int64(360)), (np.str_('extract'), np.int64(361)), (np.str_('extrem'), np.int64(362)), (np.str_('eye'), np.int64(363)), (np.str_('face'), np.int64(364)), (np.str_('fact'), np.int64(365)), (np.str_('faction'), np.int64(366)), (np.str_('fail'), np.int64(367)), (np.str_('fair'), np.int64(368)), (np.str_('fairli'), np.int64(369)), (np.str_('fall'), np.int64(370)), (np.str_('fan'), np.int64(371)), (np.str_('fantasi'), np.int64(372)), (np.str_('fantast'), np.int64(373)), (np.str_('far'), np.int64(374)), (np.str_('fare'), np.int64(375)), (np.str_('farm'), np.int64(376)), (np.str_('fast'), np.int64(377)), (np.str_('faster'), np.int64(378)), (np.str_('favorit'), np.int64(379)), (np.str_('featur'), np.int64(380)), (np.str_('feedback'), np.int64(381)), (np.str_('feel'), np.int64(382)), (np.str_('field'), np.int64(383)), (np.str_('fight'), np.int64(384)), (np.str_('figur'), np.int64(385)), (np.str_('fill'), np.int64(386)), (np.str_('final'), np.int64(387)), (np.str_('find'), np.int64(388)), (np.str_('fine'), np.int64(389)), (np.str_('finger'), np.int64(390)), (np.str_('finish'), np.int64(391)), (np.str_('fire'), np.int64(392)), (np.str_('first'), np.int64(393)), (np.str_('fist'), np.int64(394)), (np.str_('fit'), np.int64(395)), (np.str_('fix'), np.int64(396)), (np.str_('flash'), np.int64(397)), (np.str_('flashlight'), np.int64(398)), (np.str_('flatten'), np.int64(399)), (np.str_('floor'), np.int64(400)), (np.str_('focu'), np.int64(401)), (np.str_('focus'), np.int64(402)), (np.str_('foe'), np.int64(403)), (np.str_('follow'), np.int64(404)), (np.str_('fondli'), np.int64(405)), (np.str_('footag'), np.int64(406)), (np.str_('forc'), np.int64(407)), (np.str_('forev'), np.int64(408)), (np.str_('forg'), np.int64(409)), (np.str_('forget'), np.int64(410)), (np.str_('forgotten'), np.int64(411)), (np.str_('formula'), np.int64(412)), (np.str_('forum'), np.int64(413)), (np.str_('found'), np.int64(414)), (np.str_('four'), np.int64(415)), (np.str_('fp'), np.int64(416)), (np.str_('franchis'), np.int64(417)), (np.str_('fray'), np.int64(418)), (np.str_('freak'), np.int64(419)), (np.str_('free'), np.int64(420)), (np.str_('freedom'), np.int64(421)), (np.str_('frequent'), np.int64(422)), (np.str_('fresh'), np.int64(423)), (np.str_('friend'), np.int64(424)), (np.str_('front'), np.int64(425)), (np.str_('frustrat'), np.int64(426)), (np.str_('full'), np.int64(427)), (np.str_('fulltim'), np.int64(428)), (np.str_('fun'), np.int64(429)), (np.str_('funnel'), np.int64(430)), (np.str_('gain'), np.int64(431)), (np.str_('game'), np.int64(432)), (np.str_('gather'), np.int64(433)), (np.str_('gave'), np.int64(434)), (np.str_('gear'), np.int64(435)), (np.str_('gem'), np.int64(436)), (np.str_('gener'), np.int64(437)), (np.str_('genr'), np.int64(438)), (np.str_('gentl'), np.int64(439)), (np.str_('get'), np.int64(440)), (np.str_('giant'), np.int64(441)), (np.str_('gimmick'), np.int64(442)), (np.str_('give'), np.int64(443)), (np.str_('glad'), np.int64(444)), (np.str_('gladli'), np.int64(445)), (np.str_('glorifi'), np.int64(446)), (np.str_('go'), np.int64(447)), (np.str_('god'), np.int64(448)), (np.str_('goe'), np.int64(449)), (np.str_('good'), np.int64(450)), (np.str_('goofi'), np.int64(451)), (np.str_('gore'), np.int64(452)), (np.str_('got'), np.int64(453)), (np.str_('grab'), np.int64(454)), (np.str_('grant'), np.int64(455)), (np.str_('graphic'), np.int64(456)), (np.str_('great'), np.int64(457)), (np.str_('greatest'), np.int64(458)), (np.str_('greedi'), np.int64(459)), (np.str_('green'), np.int64(460)), (np.str_('grenad'), np.int64(461)), (np.str_('grim'), np.int64(462)), (np.str_('grind'), np.int64(463)), (np.str_('ground'), np.int64(464)), (np.str_('groundhog'), np.int64(465)), (np.str_('group'), np.int64(466)), (np.str_('grow'), np.int64(467)), (np.str_('grown'), np.int64(468)), (np.str_('guard'), np.int64(469)), (np.str_('guardian'), np.int64(470)), (np.str_('guess'), np.int64(471)), (np.str_('guid'), np.int64(472)), (np.str_('gun'), np.int64(473)), (np.str_('half'), np.int64(474)), (np.str_('hand'), np.int64(475)), (np.str_('handl'), np.int64(476)), (np.str_('hang'), np.int64(477)), (np.str_('happen'), np.int64(478)), (np.str_('happi'), np.int64(479)), (np.str_('hard'), np.int64(480)), (np.str_('harm'), np.int64(481)), (np.str_('hat'), np.int64(482)), (np.str_('hatch'), np.int64(483)), (np.str_('hate'), np.int64(484)), (np.str_('hd'), np.int64(485)), (np.str_('he'), np.int64(486)), (np.str_('headquart'), np.int64(487)), (np.str_('hear'), np.int64(488)), (np.str_('heart'), np.int64(489)), (np.str_('heavi'), np.int64(490)), (np.str_('heist'), np.int64(491)), (np.str_('hell'), np.int64(492)), (np.str_('help'), np.int64(493)), (np.str_('hero'), np.int64(494)), (np.str_('hi'), np.int64(495)), (np.str_('high'), np.int64(496)), (np.str_('higher'), np.int64(497)), (np.str_('highli'), np.int64(498)), (np.str_('hilari'), np.int64(499)), (np.str_('histori'), np.int64(500)), (np.str_('hit'), np.int64(501)), (np.str_('hole'), np.int64(502)), (np.str_('honest'), np.int64(503)), (np.str_('honestli'), np.int64(504)), (np.str_('hook'), np.int64(505)), (np.str_('horrend'), np.int64(506)), (np.str_('hour'), np.int64(507)), (np.str_('hover'), np.int64(508)), (np.str_('howev'), np.int64(509)), (np.str_('hp'), np.int64(510)), (np.str_('huge'), np.int64(511)), (np.str_('hungri'), np.int64(512)), (np.str_('hurri'), np.int64(513)), (np.str_('hurt'), np.int64(514)), (np.str_('hype'), np.int64(515)), (np.str_('id'), np.int64(516)), (np.str_('idea'), np.int64(517)), (np.str_('idiot'), np.int64(518)), (np.str_('ill'), np.int64(519)), (np.str_('im'), np.int64(520)), (np.str_('imagin'), np.int64(521)), (np.str_('immers'), np.int64(522)), (np.str_('imo'), np.int64(523)), (np.str_('import'), np.int64(524)), (np.str_('importantli'), np.int64(525)), (np.str_('imposs'), np.int64(526)), (np.str_('improv'), np.int64(527)), (np.str_('inc'), np.int64(528)), (np.str_('includ'), np.int64(529)), (np.str_('incomplet'), np.int64(530)), (np.str_('inconsist'), np.int64(531)), (np.str_('increas'), np.int64(532)), (np.str_('incred'), np.int64(533)), (np.str_('infantri'), np.int64(534)), (np.str_('ing'), np.int64(535)), (np.str_('inhabit'), np.int64(536)), (np.str_('insan'), np.int64(537)), (np.str_('insert'), np.int64(538)), (np.str_('insid'), np.int64(539)), (np.str_('instal'), np.int64(540)), (np.str_('instanc'), np.int64(541)), (np.str_('intend'), np.int64(542)), (np.str_('intens'), np.int64(543)), (np.str_('interact'), np.int64(544)), (np.str_('interest'), np.int64(545)), (np.str_('interfac'), np.int64(546)), (np.str_('intrigu'), np.int64(547)), (np.str_('introduc'), np.int64(548)), (np.str_('introduct'), np.int64(549)), (np.str_('intuit'), np.int64(550)), (np.str_('invest'), np.int64(551)), (np.str_('invis'), np.int64(552)), (np.str_('involv'), np.int64(553)), (np.str_('io'), np.int64(554)), (np.str_('irl'), np.int64(555)), (np.str_('issu'), np.int64(556)), (np.str_('item'), np.int64(557)), (np.str_('iv'), np.int64(558)), (np.str_('ive'), np.int64(559)), (np.str_('jk'), np.int64(560)), (np.str_('job'), np.int64(561)), (np.str_('join'), np.int64(562)), (np.str_('jr'), np.int64(563)), (np.str_('jump'), np.int64(564)), (np.str_('keep'), np.int64(565)), (np.str_('kick'), np.int64(566)), (np.str_('kill'), np.int64(567)), (np.str_('killer'), np.int64(568)), (np.str_('kind'), np.int64(569)), (np.str_('king'), np.int64(570)), (np.str_('kingdom'), np.int64(571)), (np.str_('know'), np.int64(572)), (np.str_('known'), np.int64(573)), (np.str_('lab'), np.int64(574)), (np.str_('labour'), np.int64(575)), (np.str_('lack'), np.int64(576)), (np.str_('laptop'), np.int64(577)), (np.str_('lara'), np.int64(578)), (np.str_('larg'), np.int64(579)), (np.str_('last'), np.int64(580)), (np.str_('late'), np.int64(581)), (np.str_('laugh'), np.int64(582)), (np.str_('layout'), np.int64(583)), (np.str_('lazi'), np.int64(584)), (np.str_('le'), np.int64(585)), (np.str_('lead'), np.int64(586)), (np.str_('learn'), np.int64(587)), (np.str_('least'), np.int64(588)), (np.str_('left'), np.int64(589)), (np.str_('leg'), np.int64(590)), (np.str_('less'), np.int64(591)), (np.str_('let'), np.int64(592)), (np.str_('level'), np.int64(593)), (np.str_('life'), np.int64(594)), (np.str_('light'), np.int64(595)), (np.str_('like'), np.int64(596)), (np.str_('limit'), np.int64(597)), (np.str_('lincoln'), np.int64(598)), (np.str_('line'), np.int64(599)), (np.str_('littl'), np.int64(600)), (np.str_('live'), np.int64(601)), (np.str_('load'), np.int64(602)), (np.str_('local'), np.int64(603)), (np.str_('lock'), np.int64(604)), (np.str_('log'), np.int64(605)), (np.str_('logic'), np.int64(606)), (np.str_('lol'), np.int64(607)), (np.str_('long'), np.int64(608)), (np.str_('longer'), np.int64(609)), (np.str_('look'), np.int64(610)), (np.str_('lore'), np.int64(611)), (np.str_('lost'), np.int64(612)), (np.str_('lot'), np.int64(613)), (np.str_('love'), np.int64(614)), (np.str_('lucki'), np.int64(615)), (np.str_('lunar'), np.int64(616)), (np.str_('machin'), np.int64(617)), (np.str_('made'), np.int64(618)), (np.str_('magic'), np.int64(619)), (np.str_('main'), np.int64(620)), (np.str_('major'), np.int64(621)), (np.str_('make'), np.int64(622)), (np.str_('malfunct'), np.int64(623)), (np.str_('manag'), np.int64(624)), (np.str_('mani'), np.int64(625)), (np.str_('manual'), np.int64(626)), (np.str_('map'), np.int64(627)), (np.str_('mar'), np.int64(628)), (np.str_('marvel'), np.int64(629)), (np.str_('master'), np.int64(630)), (np.str_('masteri'), np.int64(631)), (np.str_('match'), np.int64(632)), (np.str_('materi'), np.int64(633)), (np.str_('matter'), np.int64(634)), (np.str_('may'), np.int64(635)), (np.str_('mayb'), np.int64(636)), (np.str_('mclaren'), np.int64(637)), (np.str_('mean'), np.int64(638)), (np.str_('meat'), np.int64(639)), (np.str_('mechan'), np.int64(640)), (np.str_('mediocr'), np.int64(641)), (np.str_('meet'), np.int64(642)), (np.str_('memor'), np.int64(643)), (np.str_('mention'), np.int64(644)), (np.str_('met'), np.int64(645)), (np.str_('middl'), np.int64(646)), (np.str_('might'), np.int64(647)), (np.str_('mileston'), np.int64(648)), (np.str_('militari'), np.int64(649)), (np.str_('mind'), np.int64(650)), (np.str_('mine'), np.int64(651)), (np.str_('minut'), np.int64(652)), (np.str_('mirror'), np.int64(653)), (np.str_('miss'), np.int64(654)), (np.str_('mission'), np.int64(655)), (np.str_('mix'), np.int64(656)), (np.str_('mob'), np.int64(657)), (np.str_('mod'), np.int64(658)), (np.str_('mode'), np.int64(659)), (np.str_('modern'), np.int64(660)), (np.str_('money'), np.int64(661)), (np.str_('monster'), np.int64(662)), (np.str_('month'), np.int64(663)), (np.str_('moon'), np.int64(664)), (np.str_('mop'), np.int64(665)), (np.str_('mount'), np.int64(666)), (np.str_('mountain'), np.int64(667)), (np.str_('mous'), np.int64(668)), (np.str_('move'), np.int64(669)), (np.str_('movement'), np.int64(670)), (np.str_('movi'), np.int64(671)), (np.str_('much'), np.int64(672)), (np.str_('multipl'), np.int64(673)), (np.str_('music'), np.int64(674)), (np.str_('must'), np.int64(675)), (np.str_('n'), np.int64(676)), (np.str_('na'), np.int64(677)), (np.str_('name'), np.int64(678)), (np.str_('nativ'), np.int64(679)), (np.str_('natur'), np.int64(680)), (np.str_('nearli'), np.int64(681)), (np.str_('necessari'), np.int64(682)), (np.str_('need'), np.int64(683)), (np.str_('neg'), np.int64(684)), (np.str_('neutral'), np.int64(685)), (np.str_('never'), np.int64(686)), (np.str_('new'), np.int64(687)), (np.str_('newer'), np.int64(688)), (np.str_('nice'), np.int64(689)), (np.str_('night'), np.int64(690)), (np.str_('ninja'), np.int64(691)), (np.str_('nobodi'), np.int64(692)), (np.str_('non'), np.int64(693)), (np.str_('nonetheless'), np.int64(694)), (np.str_('normal'), np.int64(695)), (np.str_('north'), np.int64(696)), (np.str_('nostalg'), np.int64(697)), (np.str_('noth'), np.int64(698)), (np.str_('notic'), np.int64(699)), (np.str_('novel'), np.int64(700)), (np.str_('npc'), np.int64(701)), (np.str_('nuanc'), np.int64(702)), (np.str_('nuclear'), np.int64(703)), (np.str_('nvidia'), np.int64(704)), (np.str_('occasion'), np.int64(705)), (np.str_('offer'), np.int64(706)), (np.str_('offici'), np.int64(707)), (np.str_('often'), np.int64(708)), (np.str_('oh'), np.int64(709)), (np.str_('ok'), np.int64(710)), (np.str_('old'), np.int64(711)), (np.str_('one'), np.int64(712)), (np.str_('onlin'), np.int64(713)), (np.str_('open'), np.int64(714)), (np.str_('optim'), np.int64(715)), (np.str_('order'), np.int64(716)), (np.str_('origin'), np.int64(717)), (np.str_('other'), np.int64(718)), (np.str_('otherwis'), np.int64(719)), (np.str_('ouch'), np.int64(720)), (np.str_('outdat'), np.int64(721)), (np.str_('outsid'), np.int64(722)), (np.str_('overal'), np.int64(723)), (np.str_('overlay'), np.int64(724)), (np.str_('overreact'), np.int64(725)), (np.str_('overwhelm'), np.int64(726)), (np.str_('p'), np.int64(727)), (np.str_('pace'), np.int64(728)), (np.str_('pack'), np.int64(729)), (np.str_('paint'), np.int64(730)), (np.str_('par'), np.int64(731)), (np.str_('paradox'), np.int64(732)), (np.str_('parent'), np.int64(733)), (np.str_('part'), np.int64(734)), (np.str_('particularli'), np.int64(735)), (np.str_('pass'), np.int64(736)), (np.str_('past'), np.int64(737)), (np.str_('patch'), np.int64(738)), (np.str_('path'), np.int64(739)), (np.str_('pay'), np.int64(740)), (np.str_('pc'), np.int64(741)), (np.str_('peak'), np.int64(742)), (np.str_('peopl'), np.int64(743)), (np.str_('perfectli'), np.int64(744)), (np.str_('perform'), np.int64(745)), (np.str_('period'), np.int64(746)), (np.str_('perk'), np.int64(747)), (np.str_('person'), np.int64(748)), (np.str_('pick'), np.int64(749)), (np.str_('piec'), np.int64(750)), (np.str_('pinnacl'), np.int64(751)), (np.str_('pit'), np.int64(752)), (np.str_('place'), np.int64(753)), (np.str_('placement'), np.int64(754)), (np.str_('plagu'), np.int64(755)), (np.str_('planet'), np.int64(756)), (np.str_('plant'), np.int64(757)), (np.str_('plasma'), np.int64(758)), (np.str_('play'), np.int64(759)), (np.str_('player'), np.int64(760)), (np.str_('pleas'), np.int64(761)), (np.str_('plot'), np.int64(762)), (np.str_('point'), np.int64(763)), (np.str_('pole'), np.int64(764)), (np.str_('polit'), np.int64(765)), (np.str_('poor'), np.int64(766)), (np.str_('pop'), np.int64(767)), (np.str_('popul'), np.int64(768)), (np.str_('port'), np.int64(769)), (np.str_('possibl'), np.int64(770)), (np.str_('potenti'), np.int64(771)), (np.str_('power'), np.int64(772)), (np.str_('practic'), np.int64(773)), (np.str_('predecessor'), np.int64(774)), (np.str_('prepar'), np.int64(775)), (np.str_('preset'), np.int64(776)), (np.str_('press'), np.int64(777)), (np.str_('pretti'), np.int64(778)), (np.str_('preview'), np.int64(779)), (np.str_('previou'), np.int64(780)), (np.str_('previous'), np.int64(781)), (np.str_('price'), np.int64(782)), (np.str_('princess'), np.int64(783)), (np.str_('pro'), np.int64(784)), (np.str_('probabl'), np.int64(785)), (np.str_('problem'), np.int64(786)), (np.str_('process'), np.int64(787)), (np.str_('produc'), np.int64(788)), (np.str_('product'), np.int64(789)), (np.str_('profit'), np.int64(790)), (np.str_('program'), np.int64(791)), (np.str_('project'), np.int64(792)), (np.str_('proper'), np.int64(793)), (np.str_('properli'), np.int64(794)), (np.str_('ps'), np.int64(795)), (np.str_('pull'), np.int64(796)), (np.str_('purchas'), np.int64(797)), (np.str_('push'), np.int64(798)), (np.str_('put'), np.int64(799)), (np.str_('puzzl'), np.int64(800)), (np.str_('puzzler'), np.int64(801)), (np.str_('queen'), np.int64(802)), (np.str_('quick'), np.int64(803)), (np.str_('quickli'), np.int64(804)), (np.str_('quirk'), np.int64(805)), (np.str_('quit'), np.int64(806)), (np.str_('race'), np.int64(807)), (np.str_('random'), np.int64(808)), (np.str_('rang'), np.int64(809)), (np.str_('rat'), np.int64(810)), (np.str_('ratio'), np.int64(811)), (np.str_('reach'), np.int64(812)), (np.str_('read'), np.int64(813)), (np.str_('readi'), np.int64(814)), (np.str_('real'), np.int64(815)), (np.str_('realiz'), np.int64(816)), (np.str_('realli'), np.int64(817)), (np.str_('reason'), np.int64(818)), (np.str_('recommend'), np.int64(819)), (np.str_('recreat'), np.int64(820)), (np.str_('refineri'), np.int64(821)), (np.str_('refreshingli'), np.int64(822)), (np.str_('refus'), np.int64(823)), (np.str_('regard'), np.int64(824)), (np.str_('regret'), np.int64(825)), (np.str_('reinforc'), np.int64(826)), (np.str_('relat'), np.int64(827)), (np.str_('relax'), np.int64(828)), (np.str_('releas'), np.int64(829)), (np.str_('remak'), np.int64(830)), (np.str_('rememb'), np.int64(831)), (np.str_('remov'), np.int64(832)), (np.str_('repeat'), np.int64(833)), (np.str_('repetit'), np.int64(834)), (np.str_('replac'), np.int64(835)), (np.str_('repres'), np.int64(836)), (np.str_('represent'), np.int64(837)), (np.str_('reput'), np.int64(838)), (np.str_('requir'), np.int64(839)), (np.str_('rescu'), np.int64(840)), (np.str_('research'), np.int64(841)), (np.str_('resolut'), np.int64(842)), (np.str_('resourc'), np.int64(843)), (np.str_('restart'), np.int64(844)), (np.str_('reveal'), np.int64(845)), (np.str_('review'), np.int64(846)), (np.str_('reward'), np.int64(847)), (np.str_('ride'), np.int64(848)), (np.str_('rig'), np.int64(849)), (np.str_('right'), np.int64(850)), (np.str_('risk'), np.int64(851)), (np.str_('rob'), np.int64(852)), (np.str_('rocket'), np.int64(853)), (np.str_('roll'), np.int64(854)), (np.str_('room'), np.int64(855)), (np.str_('row'), np.int64(856)), (np.str_('rpg'), np.int64(857)), (np.str_('rt'), np.int64(858)), (np.str_('run'), np.int64(859)), (np.str_('sad'), np.int64(860)), (np.str_('sadli'), np.int64(861)), (np.str_('said'), np.int64(862)), (np.str_('saint'), np.int64(863)), (np.str_('sale'), np.int64(864)), (np.str_('salv'), np.int64(865)), (np.str_('sand'), np.int64(866)), (np.str_('save'), np.int64(867)), (np.str_('saw'), np.int64(868)), (np.str_('say'), np.int64(869)), (np.str_('scale'), np.int64(870)), (np.str_('scant'), np.int64(871)), (np.str_('scout'), np.int64(872)), (np.str_('screen'), np.int64(873)), (np.str_('seat'), np.int64(874)), (np.str_('second'), np.int64(875)), (np.str_('secret'), np.int64(876)), (np.str_('see'), np.int64(877)), (np.str_('seem'), np.int64(878)), (np.str_('select'), np.int64(879)), (np.str_('self'), np.int64(880)), (np.str_('sell'), np.int64(881)), (np.str_('semi'), np.int64(882)), (np.str_('send'), np.int64(883)), (np.str_('seri'), np.int64(884)), (np.str_('serious'), np.int64(885)), (np.str_('servant'), np.int64(886)), (np.str_('server'), np.int64(887)), (np.str_('session'), np.int64(888)), (np.str_('set'), np.int64(889)), (np.str_('sever'), np.int64(890)), (np.str_('shadow'), np.int64(891)), (np.str_('shoot'), np.int64(892)), (np.str_('shoulder'), np.int64(893)), (np.str_('shove'), np.int64(894)), (np.str_('show'), np.int64(895)), (np.str_('shuttl'), np.int64(896)), (np.str_('silent'), np.int64(897)), (np.str_('similar'), np.int64(898)), (np.str_('simpl'), np.int64(899)), (np.str_('simplist'), np.int64(900)), (np.str_('simul'), np.int64(901)), (np.str_('sinc'), np.int64(902)), (np.str_('singl'), np.int64(903)), (np.str_('sit'), np.int64(904)), (np.str_('skill'), np.int64(905)), (np.str_('skip'), np.int64(906)), (np.str_('skirmish'), np.int64(907)), (np.str_('slave'), np.int64(908)), (np.str_('slow'), np.int64(909)), (np.str_('slower'), np.int64(910)), (np.str_('slowli'), np.int64(911)), (np.str_('small'), np.int64(912)), (np.str_('smaller'), np.int64(913)), (np.str_('smooth'), np.int64(914)), (np.str_('socket'), np.int64(915)), (np.str_('soldier'), np.int64(916)), (np.str_('somebodi'), np.int64(917)), (np.str_('someth'), np.int64(918)), (np.str_('sometim'), np.int64(919)), (np.str_('somewhat'), np.int64(920)), (np.str_('soon'), np.int64(921)), (np.str_('sooth'), np.int64(922)), (np.str_('soul'), np.int64(923)), (np.str_('sound'), np.int64(924)), (np.str_('soundtrack'), np.int64(925)), (np.str_('sourc'), np.int64(926)), (np.str_('space'), np.int64(927)), (np.str_('spawn'), np.int64(928)), (np.str_('special'), np.int64(929)), (np.str_('speed'), np.int64(930)), (np.str_('speedier'), np.int64(931)), (np.str_('spend'), np.int64(932)), (np.str_('sprite'), np.int64(933)), (np.str_('stabl'), np.int64(934)), (np.str_('stage'), np.int64(935)), (np.str_('stand'), np.int64(936)), (np.str_('standalon'), np.int64(937)), (np.str_('standard'), np.int64(938)), (np.str_('stanley'), np.int64(939)), (np.str_('stare'), np.int64(940)), (np.str_('start'), np.int64(941)), (np.str_('stat'), np.int64(942)), (np.str_('state'), np.int64(943)), (np.str_('station'), np.int64(944)), (np.str_('stay'), np.int64(945)), (np.str_('steal'), np.int64(946)), (np.str_('steam'), np.int64(947)), (np.str_('steep'), np.int64(948)), (np.str_('still'), np.int64(949)), (np.str_('stockyard'), np.int64(950)), (np.str_('stop'), np.int64(951)), (np.str_('stori'), np.int64(952)), (np.str_('storm'), np.int64(953)), (np.str_('storylin'), np.int64(954)), (np.str_('storytel'), np.int64(955)), (np.str_('strategi'), np.int64(956)), (np.str_('stress'), np.int64(957)), (np.str_('stretch'), np.int64(958)), (np.str_('strong'), np.int64(959)), (np.str_('struggl'), np.int64(960)), (np.str_('stuck'), np.int64(961)), (np.str_('studio'), np.int64(962)), (np.str_('stuff'), np.int64(963)), (np.str_('style'), np.int64(964)), (np.str_('subtli'), np.int64(965)), (np.str_('suck'), np.int64(966)), (np.str_('suddenli'), np.int64(967)), (np.str_('suggest'), np.int64(968)), (np.str_('suit'), np.int64(969)), (np.str_('sun'), np.int64(970)), (np.str_('super'), np.int64(971)), (np.str_('suppli'), np.int64(972)), (np.str_('support'), np.int64(973)), (np.str_('sure'), np.int64(974)), (np.str_('surfac'), np.int64(975)), (np.str_('surpris'), np.int64(976)), (np.str_('surprisingli'), np.int64(977)), (np.str_('surviv'), np.int64(978)), (np.str_('survivor'), np.int64(979)), (np.str_('sword'), np.int64(980)), (np.str_('system'), np.int64(981)), (np.str_('take'), np.int64(982)), (np.str_('talk'), np.int64(983)), (np.str_('tank'), np.int64(984)), (np.str_('target'), np.int64(985)), (np.str_('task'), np.int64(986)), (np.str_('tasti'), np.int64(987)), (np.str_('teach'), np.int64(988)), (np.str_('team'), np.int64(989)), (np.str_('technic'), np.int64(990)), (np.str_('technolog'), np.int64(991)), (np.str_('teenag'), np.int64(992)), (np.str_('tell'), np.int64(993)), (np.str_('term'), np.int64(994)), (np.str_('terrain'), np.int64(995)), (np.str_('terribl'), np.int64(996)), (np.str_('terrif'), np.int64(997)), (np.str_('test'), np.int64(998)), (np.str_('text'), np.int64(999)), (np.str_('textur'), np.int64(1000)), (np.str_('thier'), np.int64(1001)), (np.str_('thing'), np.int64(1002)), (np.str_('think'), np.int64(1003)), (np.str_('third'), np.int64(1004)), (np.str_('thoroughli'), np.int64(1005)), (np.str_('though'), np.int64(1006)), (np.str_('thought'), np.int64(1007)), (np.str_('three'), np.int64(1008)), (np.str_('throw'), np.int64(1009)), (np.str_('thu'), np.int64(1010)), (np.str_('thumb'), np.int64(1011)), (np.str_('tiger'), np.int64(1012)), (np.str_('time'), np.int64(1013)), (np.str_('tini'), np.int64(1014)), (np.str_('tire'), np.int64(1015)), (np.str_('titl'), np.int64(1016)), (np.str_('today'), np.int64(1017)), (np.str_('toe'), np.int64(1018)), (np.str_('ton'), np.int64(1019)), (np.str_('tool'), np.int64(1020)), (np.str_('top'), np.int64(1021)), (np.str_('torn'), np.int64(1022)), (np.str_('total'), np.int64(1023)), (np.str_('touch'), np.int64(1024)), (np.str_('tougher'), np.int64(1025)), (np.str_('track'), np.int64(1026)), (np.str_('trade'), np.int64(1027)), (np.str_('traffic'), np.int64(1028)), (np.str_('train'), np.int64(1029)), (np.str_('transport'), np.int64(1030)), (np.str_('trap'), np.int64(1031)), (np.str_('treat'), np.int64(1032)), (np.str_('tree'), np.int64(1033)), (np.str_('trench'), np.int64(1034)), (np.str_('tri'), np.int64(1035)), (np.str_('trilog'), np.int64(1036)), (np.str_('trivial'), np.int64(1037)), (np.str_('true'), np.int64(1038)), (np.str_('truli'), np.int64(1039)), (np.str_('tunnel'), np.int64(1040)), (np.str_('turbo'), np.int64(1041)), (np.str_('turn'), np.int64(1042)), (np.str_('tv'), np.int64(1043)), (np.str_('twice'), np.int64(1044)), (np.str_('two'), np.int64(1045)), (np.str_('type'), np.int64(1046)), (np.str_('u'), np.int64(1047)), (np.str_('unabl'), np.int64(1048)), (np.str_('underground'), np.int64(1049)), (np.str_('understand'), np.int64(1050)), (np.str_('undocu'), np.int64(1051)), (np.str_('unfortun'), np.int64(1052)), (np.str_('uniqu'), np.int64(1053)), (np.str_('unit'), np.int64(1054)), (np.str_('unless'), np.int64(1055)), (np.str_('unstabl'), np.int64(1056)), (np.str_('updat'), np.int64(1057)), (np.str_('upgrad'), np.int64(1058)), (np.str_('usd'), np.int64(1059)), (np.str_('use'), np.int64(1060)), (np.str_('usual'), np.int64(1061)), (np.str_('utter'), np.int64(1062)), (np.str_('vari'), np.int64(1063)), (np.str_('variabl'), np.int64(1064)), (np.str_('variant'), np.int64(1065)), (np.str_('varieti'), np.int64(1066)), (np.str_('variou'), np.int64(1067)), (np.str_('version'), np.int64(1068)), (np.str_('veteran'), np.int64(1069)), (np.str_('victoria'), np.int64(1070)), (np.str_('virtual'), np.int64(1071)), (np.str_('visual'), np.int64(1072)), (np.str_('voic'), np.int64(1073)), (np.str_('vs'), np.int64(1074)), (np.str_('wait'), np.int64(1075)), (np.str_('wall'), np.int64(1076)), (np.str_('wan'), np.int64(1077)), (np.str_('want'), np.int64(1078)), (np.str_('war'), np.int64(1079)), (np.str_('warlord'), np.int64(1080)), (np.str_('warn'), np.int64(1081)), (np.str_('wast'), np.int64(1082)), (np.str_('watch'), np.int64(1083)), (np.str_('water'), np.int64(1084)), (np.str_('wave'), np.int64(1085)), (np.str_('way'), np.int64(1086)), (np.str_('weak'), np.int64(1087)), (np.str_('weaken'), np.int64(1088)), (np.str_('weapon'), np.int64(1089)), (np.str_('wear'), np.int64(1090)), (np.str_('week'), np.int64(1091)), (np.str_('weekend'), np.int64(1092)), (np.str_('weird'), np.int64(1093)), (np.str_('well'), np.int64(1094)), (np.str_('went'), np.int64(1095)), (np.str_('whatev'), np.int64(1096)), (np.str_('whoever'), np.int64(1097)), (np.str_('whole'), np.int64(1098)), (np.str_('whop'), np.int64(1099)), (np.str_('wide'), np.int64(1100)), (np.str_('wife'), np.int64(1101)), (np.str_('wild'), np.int64(1102)), (np.str_('win'), np.int64(1103)), (np.str_('window'), np.int64(1104)), (np.str_('wish'), np.int64(1105)), (np.str_('within'), np.int64(1106)), (np.str_('without'), np.int64(1107)), (np.str_('wonder'), np.int64(1108)), (np.str_('work'), np.int64(1109)), (np.str_('worker'), np.int64(1110)), (np.str_('world'), np.int64(1111)), (np.str_('wors'), np.int64(1112)), (np.str_('worst'), np.int64(1113)), (np.str_('worth'), np.int64(1114)), (np.str_('would'), np.int64(1115)), (np.str_('wow'), np.int64(1116)), (np.str_('wreck'), np.int64(1117)), (np.str_('wrist'), np.int64(1118)), (np.str_('written'), np.int64(1119)), (np.str_('yard'), np.int64(1120)), (np.str_('ye'), np.int64(1121)), (np.str_('yeah'), np.int64(1122)), (np.str_('year'), np.int64(1123)), (np.str_('yep'), np.int64(1124)), (np.str_('yesterday'), np.int64(1125)), (np.str_('yet'), np.int64(1126)), (np.str_('young'), np.int64(1127)), (np.str_('zen'), np.int64(1128)), (np.str_('zero'), np.int64(1129)), (np.str_('zombi'), np.int64(1130)), (np.str_('zone'), np.int64(1131))]\n",
      "One-hot categories and indices: [array([np.str_('abe'), np.str_('abil'), np.str_('abl'), ...,\n",
      "       np.str_('zero'), np.str_('zombi'), np.str_('zone')], dtype=object), array([np.int64(0), np.int64(1), np.int64(2), ..., np.int64(1129),\n",
      "       np.int64(1130), np.int64(1131)], dtype=object)]\n",
      "Words and corresponding indices:  [('pinnacl', np.int64(751)), ('game', np.int64(432)), ('truli', np.int64(1039)), ('mirror', np.int64(653)), ('modern', np.int64(660)), ('day', np.int64(253)), ('struggl', np.int64(960)), ('rat', np.int64(810)), ('face', np.int64(364)), ('game', np.int64(432)), ('amaz', np.int64(32)), ('best', np.int64(98)), ('part', np.int64(734)), ('game', np.int64(432)), ('coop', np.int64(222)), ('say', np.int64(869)), ('biggest', np.int64(102)), ('meat', np.int64(639)), ('process', np.int64(787)), ('plant', np.int64(757)), ('use', np.int64(1060)), ('work', np.int64(1109)), ('well', np.int64(1094)), ('realli', np.int64(817)), ('salv', np.int64(865)), ('like', np.int64(596)), ('other', np.int64(718)), ('name', np.int64(678)), ('abe', np.int64(0)), ('employe', np.int64(320)), ('year', np.int64(1123)), ('im', np.int64(520)), ('dead', np.int64(255)), ('meat', np.int64(639)), ('new', np.int64(687)), ('n', np.int64(676)), ('tasti', np.int64(987)), ('cinemat', np.int64(184)), ('develop', np.int64(274)), ('studio', np.int64(962)), ('inhabit', np.int64(536)), ('add', np.int64(12)), ('water', np.int64(1084)), ('game', np.int64(432)), ('abe', np.int64(0)), ('slave', np.int64(908)), ('work', np.int64(1109)), ('biggest', np.int64(102)), ('meat', np.int64(639)), ('process', np.int64(787)), ('plant', np.int64(757)), ('one', np.int64(712)), ('night', np.int64(690)), ('work', np.int64(1109)), ('late', np.int64(581)), ('abe', np.int64(0)), ('get', np.int64(440)), ('peak', np.int64(742)), ('board', np.int64(110)), ('meet', np.int64(642)), ('reveal', np.int64(845)), ('profit', np.int64(790)), ('fall', np.int64(370)), ('thier', np.int64(1001)), ('run', np.int64(859)), ('creatur', np.int64(235)), ('ceo', np.int64(164)), ('decid', np.int64(259)), ('hell', np.int64(492)), ('chop', np.int64(181)), ('abe', np.int64(0)), ('buddi', np.int64(133)), ('make', np.int64(622)), ('pop', np.int64(767)), ('da', np.int64(248)), ('da', np.int64(248)), ('play', np.int64(759)), ('abe', np.int64(0)), ('escap', np.int64(336)), ('rescu', np.int64(840)), ('mani', np.int64(625)), ('best', np.int64(98)), ('curs', np.int64(242)), ('watch', np.int64(1083)), ('game', np.int64(432)), ('think', np.int64(1003)), ('play', np.int64(759)), ('bit', np.int64(103)), ('clunki', np.int64(194)), ('due', np.int64(299)), ('abe', np.int64(0)), ('move', np.int64(669)), ('jump', np.int64(564)), ('howev', np.int64(509)), ('game', np.int64(432)), ('play', np.int64(759)), ('quit', np.int64(806)), ('smooth', np.int64(914)), ('feel', np.int64(382)), ('good', np.int64(450)), ('mission', np.int64(655)), ('come', np.int64(202)), ('across', np.int64(7)), ('secret', np.int64(876)), ('area', np.int64(51)), ('keep', np.int64(565)), ('trap', np.int64(1031)), ('labour', np.int64(575)), ('secret', np.int64(876)), ('room', np.int64(855)), ('puzzl', np.int64(800)), ('requir', np.int64(839)), ('think', np.int64(1003)), ('fast', np.int64(377)), ('pace', np.int64(728)), ('action', np.int64(9)), ('thing', np.int64(1002)), ('cover', np.int64(228)), ('ride', np.int64(848)), ('deliv', np.int64(264)), ('one', np.int64(712)), ('fun', np.int64(429)), ('experi', np.int64(356)), ('ive', np.int64(559)), ('awhil', np.int64(74)), ('craft', np.int64(229)), ('pleas', np.int64(761)), ('eye', np.int64(363)), ('wild', np.int64(1102)), ('fresh', np.int64(423)), ('green', np.int64(460)), ('field', np.int64(383)), ('love', np.int64(614)), ('shadow', np.int64(891)), ('play', np.int64(759)), ('stockyard', np.int64(950)), ('zone', np.int64(1131)), ('game', np.int64(432)), ('main', np.int64(620)), ('look', np.int64(610)), ('amaz', np.int64(32)), ('tell', np.int64(993)), ('realli', np.int64(817)), ('interest', np.int64(545)), ('stori', np.int64(952)), ('hit', np.int64(501)), ('back', np.int64(76)), ('still', np.int64(949)), ('live', np.int64(601)), ('day', np.int64(253)), ('recreat', np.int64(820)), ('centuri', np.int64(163)), ('technolog', np.int64(991)), ('see', np.int64(877)), ('remak', np.int64(830)), ('blockbust', np.int64(106)), ('lot', np.int64(613)), ('award', np.int64(72)), ('push', np.int64(798)), ('technic', np.int64(990)), ('time', np.int64(1013)), ('even', np.int64(341)), ('compar', np.int64(205)), ('game', np.int64(432)), ('still', np.int64(949)), ('look', np.int64(610)), ('love', np.int64(614)), ('basic', np.int64(87)), ('slave', np.int64(908)), ('boss', np.int64(116)), ('want', np.int64(1078)), ('kill', np.int64(567)), ('co', np.int64(195)), ('worker', np.int64(1110)), ('bla', np.int64(104)), ('bla', np.int64(104)), ('bla', np.int64(104)), ('get', np.int64(440)), ('overal', np.int64(723)), ('new', np.int64(687)), ('n', np.int64(676)), ('tasti', np.int64(987)), ('certainli', np.int64(166)), ('one', np.int64(712)), ('interest', np.int64(545)), ('game', np.int64(432)), ('experi', np.int64(356)), ('ive', np.int64(559)), ('awhil', np.int64(74)), ('beauti', np.int64(91)), ('craft', np.int64(229)), ('fun', np.int64(429)), ('stori', np.int64(952)), ('interest', np.int64(545)), ('add', np.int64(12)), ('one', np.int64(712)), ('best', np.int64(98)), ('game', np.int64(432)), ('find', np.int64(388)), ('today', np.int64(1017)), ('worth', np.int64(1114)), ('play', np.int64(759)), ('love', np.int64(614)), ('cute', np.int64(246)), ('minut', np.int64(652)), ('game', np.int64(432)), ('noth', np.int64(698)), ('amaz', np.int64(32)), ('somewhat', np.int64(920)), ('bore', np.int64(115)), ('middl', np.int64(646)), ('end', np.int64(324)), ('nice', np.int64(689)), ('hate', np.int64(484)), ('hate', np.int64(484)), ('ever', np.int64(343)), ('run', np.int64(859)), ('find', np.int64(388)), ('crap', np.int64(230)), ('hate', np.int64(484)), ('give', np.int64(443)), ('game', np.int64(432)), ('money', np.int64(661)), ('like', np.int64(596)), ('push', np.int64(798)), ('lincoln', np.int64(598)), ('log', np.int64(605)), ('hole', np.int64(502)), ('probabl', np.int64(785)), ('reward', np.int64(847)), ('buy', np.int64(142)), ('wonder', np.int64(1108)), ('bag', np.int64(82)), ('bug', np.int64(135)), ('learn', np.int64(587)), ('use', np.int64(1060)), ('frequent', np.int64(422)), ('use', np.int64(1060)), ('game', np.int64(432)), ('new', np.int64(687)), ('favorit', np.int64(379)), ('game', np.int64(432)), ('built', np.int64(137)), ('shoulder', np.int64(893)), ('game', np.int64(432)), ('like', np.int64(596)), ('master', np.int64(630)), ('magic', np.int64(619)), ('hero', np.int64(494)), ('warlord', np.int64(1080)), ('take', np.int64(982)), ('best', np.int64(98)), ('element', np.int64(316)), ('game', np.int64(432)), ('put', np.int64(799)), ('one', np.int64(712)), ('place', np.int64(753)), ('warn', np.int64(1081)), ('game', np.int64(432)), ('super', np.int64(971)), ('long', np.int64(608)), ('super', np.int64(971)), ('challeng', np.int64(167)), ('ill', np.int64(519)), ('probabl', np.int64(785)), ('never', np.int64(686)), ('finish', np.int64(391)), ('actual', np.int64(11)), ('problem', np.int64(786)), ('calm', np.int64(145)), ('thought', np.int64(1007)), ('puzzler', np.int64(801)), ('nice', np.int64(689)), ('easi', np.int64(307)), ('learn', np.int64(587)), ('curv', np.int64(243)), ('zen', np.int64(1128)), ('bound', np.int64(121)), ('relax', np.int64(828)), ('incred', np.int64(533)), ('frustrat', np.int64(426)), ('someth', np.int64(918)), ('casual', np.int64(156)), ('puzzl', np.int64(800)), ('player', np.int64(760)), ('open', np.int64(714)), ('level', np.int64(593)), ('select', np.int64(879)), ('beauti', np.int64(91)), ('paint', np.int64(730)), ('effect', np.int64(313)), ('make', np.int64(622)), ('visual', np.int64(1072)), ('appeal', np.int64(47)), ('gentl', np.int64(439)), ('music', np.int64(674)), ('add', np.int64(12)), ('sooth', np.int64(922)), ('touch', np.int64(1024)), ('nice', np.int64(689)), ('game', np.int64(432)), ('game', np.int64(432)), ('first', np.int64(393)), ('came', np.int64(146)), ('virtual', np.int64(1071)), ('awesom', np.int64(73)), ('see', np.int64(877)), ('put', np.int64(799)), ('hard', np.int64(480)), ('yard', np.int64(1120)), ('releas', np.int64(829)), ('grown', np.int64(468)), ('truli', np.int64(1039)), ('memor', np.int64(643)), ('total', np.int64(1023)), ('war', np.int64(1079)), ('live', np.int64(601)), ('reput', np.int64(838)), ('predecessor', np.int64(774)), ('he', np.int64(486)), ('late', np.int64(581)), ('he', np.int64(486)), ('miss', np.int64(654)), ('everi', np.int64(344)), ('mileston', np.int64(648)), ('he', np.int64(486)), ('budget', np.int64(134)), ('seem', np.int64(878)), ('like', np.int64(596)), ('good', np.int64(450)), ('game', np.int64(432)), ('love', np.int64(614)), ('cool', np.int64(221)), ('fun', np.int64(429)), ('game', np.int64(432)), ('u', np.int64(1047)), ('get', np.int64(440)), ('game', np.int64(432)), ('amaz', np.int64(32)), ('freak', np.int64(419)), ('nostalg', np.int64(697)), ('game', np.int64(432)), ('make', np.int64(622)), ('think', np.int64(1003)), ('test', np.int64(998)), ('finger', np.int64(390)), ('speed', np.int64(930)), ('easi', np.int64(307)), ('play', np.int64(759)), ('hard', np.int64(480)), ('master', np.int64(630)), ('game', np.int64(432)), ('everyth', np.int64(347)), ('made', np.int64(618)), ('origin', np.int64(717)), ('classic', np.int64(189)), ('singl', np.int64(903)), ('screen', np.int64(873)), ('level', np.int64(593)), ('hurri', np.int64(513)), ('figur', np.int64(385)), ('puzzl', np.int64(800)), ('level', np.int64(593)), ('busi', np.int64(140)), ('dungeon', np.int64(302)), ('like', np.int64(596)), ('level', np.int64(593)), ('get', np.int64(440)), ('tire', np.int64(1015)), ('includ', np.int64(529)), ('level', np.int64(593)), ('alway', np.int64(31)), ('make', np.int64(622)), ('recommend', np.int64(819)), ('bundl', np.int64(138)), ('sinc', np.int64(902)), ('includ', np.int64(529)), ('game', np.int64(432)), ('editor', np.int64(312)), ('worth', np.int64(1114)), ('content', np.int64(219)), ('half', np.int64(474)), ('price', np.int64(782)), ('even', np.int64(341)), ('less', np.int64(591)), ('sale', np.int64(864)), ('total', np.int64(1023)), ('recommend', np.int64(819)), ('end', np.int64(324)), ('made', np.int64(618)), ('sad', np.int64(860)), ('would', np.int64(1115)), ('get', np.int64(440)), ('torn', np.int64(1022)), ('apart', np.int64(45)), ('love', np.int64(614)), ('play', np.int64(759)), ('still', np.int64(949)), ('hype', np.int64(515)), ('dlc', np.int64(288)), ('game', np.int64(432)), ('great', np.int64(457)), ('suppli', np.int64(972)), ('drop', np.int64(298)), ('littl', np.int64(600)), ('annoy', np.int64(37)), ('yeah', np.int64(1122)), ('best', np.int64(98)), ('game', np.int64(432)), ('need', np.int64(683)), ('onlin', np.int64(713)), ('beat', np.int64(90)), ('dev', np.int64(272)), ('team', np.int64(989)), ('game', np.int64(432)), ('fun', np.int64(429)), ('p', np.int64(727)), ('way', np.int64(1086)), ('game', np.int64(432)), ('save', np.int64(867)), ('jump', np.int64(564)), ('around', np.int64(55)), ('make', np.int64(622)), ('imposs', np.int64(526)), ('complet', np.int64(207)), ('pay', np.int64(740)), ('game', np.int64(432)), ('insan', np.int64(537)), ('yet', np.int64(1126)), ('repetit', np.int64(834)), ('even', np.int64(341)), ('though', np.int64(1006)), ('fantast', np.int64(373)), ('game', np.int64(432)), ('may', np.int64(635)), ('buy', np.int64(142)), ('saint', np.int64(863)), ('row', np.int64(856)), ('third', np.int64(1004)), ('storylin', np.int64(954)), ('better', np.int64(100)), ('saint', np.int64(863)), ('row', np.int64(856)), ('third', np.int64(1004)), ('trade', np.int64(1027)), ('sword', np.int64(980)), ('someth', np.int64(918)), ('saint', np.int64(863)), ('row', np.int64(856)), ('iv', np.int64(558)), ('miss', np.int64(654)), ('play', np.int64(759)), ('saint', np.int64(863)), ('row', np.int64(856)), ('third', np.int64(1004)), ('worth', np.int64(1114)), ('buy', np.int64(142)), ('local', np.int64(603)), ('coop', np.int64(222)), ('save', np.int64(867)), ('data', np.int64(251)), ('second', np.int64(875)), ('player', np.int64(760)), ('ok', np.int64(710)), ('bought', np.int64(119)), ('wife', np.int64(1101)), ('well', np.int64(1094)), ('system', np.int64(981)), ('requir', np.int64(839)), ('increas', np.int64(532)), ('compar', np.int64(205)), ('first', np.int64(393)), ('game', np.int64(432)), ('run', np.int64(859)), ('laptop', np.int64(577)), ('local', np.int64(603)), ('coop', np.int64(222)), ('work', np.int64(1109)), ('properli', np.int64(794)), ('would', np.int64(1115)), ('pull', np.int64(796)), ('think', np.int64(1003)), ('consid', np.int64(215)), ('greatest', np.int64(458)), ('puzzl', np.int64(800)), ('lara', np.int64(578)), ('guardian', np.int64(470)), ('light', np.int64(595)), ('coop', np.int64(222)), ('huge', np.int64(511)), ('deal', np.int64(256)), ('breaker', np.int64(127)), ('also', np.int64(29)), ('charact', np.int64(170)), ('abil', np.int64(1)), ('wors', np.int64(1112)), ('term', np.int64(994)), ('puzzl', np.int64(800)), ('amp', np.int64(36)), ('interact', np.int64(544)), ('potenti', np.int64(771)), ('one', np.int64(712)), ('first', np.int64(393)), ('game', np.int64(432)), ('feel', np.int64(382)), ('terribl', np.int64(996)), ('give', np.int64(443)), ('lara', np.int64(578)), ('game', np.int64(432)), ('neg', np.int64(684)), ('review', np.int64(846)), ('realli', np.int64(817)), ('treat', np.int64(1032)), ('custom', np.int64(244)), ('badli', np.int64(81)), ('one', np.int64(712)), ('sadli', np.int64(861)), ('probabl', np.int64(785)), ('noth', np.int64(698)), ('work', np.int64(1109)), ('game', np.int64(432)), ('team', np.int64(989)), ('everyth', np.int64(347)), ('polit', np.int64(765)), ('corpor', np.int64(225)), ('said', np.int64(862)), ('recommend', np.int64(819)), ('play', np.int64(759)), ('lara', np.int64(578)), ('guardian', np.int64(470)), ('light', np.int64(595)), ('play', np.int64(759)), ('friend', np.int64(424)), ('end', np.int64(324)), ('get', np.int64(440)), ('better', np.int64(100)), ('better', np.int64(100)), ('cute', np.int64(246)), ('logic', np.int64(606)), ('much', np.int64(672)), ('highli', np.int64(498)), ('recommend', np.int64(819)), ('game', np.int64(432)), ('got', np.int64(453)), ('hook', np.int64(505)), ('seri', np.int64(884)), ('still', np.int64(949)), ('stand', np.int64(936)), ('one', np.int64(712)), ('best', np.int64(98)), ('refreshingli', np.int64(822)), ('simpl', np.int64(899)), ('compar', np.int64(205)), ('newer', np.int64(688)), ('titl', np.int64(1016)), ('look', np.int64(610)), ('amp', np.int64(36)), ('sound', np.int64(924)), ('terrif', np.int64(997)), ('true', np.int64(1038)), ('marvel', np.int64(629)), ('franchis', np.int64(417)), ('genr', np.int64(438)), ('sun', np.int64(970)), ('went', np.int64(1095)), ('practic', np.int64(773)), ('game', np.int64(432)), ('gave', np.int64(434)), ('amaz', np.int64(32)), ('free', np.int64(420)), ('harm', np.int64(481)), ('tri', np.int64(1035)), ('good', np.int64(450)), ('game', np.int64(432)), ('well', np.int64(1094)), ('chose', np.int64(182)), ('right', np.int64(850)), ('choic', np.int64(179)), ('pretti', np.int64(778)), ('much', np.int64(672)), ('choos', np.int64(180)), ('get', np.int64(440)), ('bad', np.int64(79)), ('end', np.int64(324)), ('happen', np.int64(478)), ('choos', np.int64(180)), ('right', np.int64(850)), ('choic', np.int64(179)), ('first', np.int64(393)), ('tri', np.int64(1035)), ('still', np.int64(949)), ('think', np.int64(1003)), ('interest', np.int64(545)), ('charact', np.int64(170)), ('would', np.int64(1115)), ('like', np.int64(596)), ('one', np.int64(712)), ('end', np.int64(324)), ('still', np.int64(949)), ('good', np.int64(450)), ('though', np.int64(1006)), ('recommend', np.int64(819)), ('anyon', np.int64(42)), ('want', np.int64(1078)), ('quick', np.int64(803)), ('game', np.int64(432)), ('beat', np.int64(90)), ('within', np.int64(1106)), ('half', np.int64(474)), ('hour', np.int64(507)), ('thoroughli', np.int64(1005)), ('enjoy', np.int64(328)), ('game', np.int64(432)), ('open', np.int64(714)), ('game', np.int64(432)), ('work', np.int64(1109)), ('complet', np.int64(207)), ('start', np.int64(941)), ('new', np.int64(687)), ('game', np.int64(432)), ('set', np.int64(889)), ('difficulti', np.int64(281)), ('game', np.int64(432)), ('stop', np.int64(951)), ('work', np.int64(1109)), ('everi', np.int64(344)), ('time', np.int64(1013)), ('tri', np.int64(1035)), ('crash', np.int64(231)), ('run', np.int64(859)), ('window', np.int64(1104)), ('game', np.int64(432)), ('work', np.int64(1109)), ('free', np.int64(420)), ('upgrad', np.int64(1058)), ('replac', np.int64(835)), ('origin', np.int64(717)), ('graphic', np.int64(456)), ('color', np.int64(199)), ('detail', np.int64(271)), ('great', np.int64(457)), ('state', np.int64(943)), ('origin', np.int64(717)), ('bug', np.int64(135)), ('exist', np.int64(352)), ('one', np.int64(712)), ('thing', np.int64(1002)), ('notic', np.int64(699)), ('resolut', np.int64(842)), ('support', np.int64(973)), ('went', np.int64(1095)), ('nativ', np.int64(679)), ('origin', np.int64(717)), ('support', np.int64(973)), ('version', np.int64(1068)), ('unfortun', np.int64(1052)), ('resolut', np.int64(842)), ('probabl', np.int64(785)), ('import', np.int64(524)), ('graphic', np.int64(456)), ('configur', np.int64(213)), ('suck', np.int64(966)), ('cant', np.int64(148)), ('play', np.int64(759)), ('beauti', np.int64(91)), ('realli', np.int64(817)), ('could', np.int64(226)), ('free', np.int64(420)), ('upgrad', np.int64(1058)), ('ye', np.int64(1121)), ('come', np.int64(202)), ('expans', np.int64(354)), ('everyon', np.int64(346)), ('overreact', np.int64(725)), ('still', np.int64(949)), ('awesom', np.int64(73)), ('game', np.int64(432)), ('updat', np.int64(1057)), ('textur', np.int64(1000)), ('look', np.int64(610)), ('great', np.int64(457)), ('im', np.int64(520)), ('avid', np.int64(70)), ('fan', np.int64(371)), ('alway', np.int64(31)), ('game', np.int64(432)), ('par', np.int64(731)), ('hurt', np.int64(514)), ('say', np.int64(869)), ('never', np.int64(686)), ('get', np.int64(440)), ('immers', np.int64(522)), ('feel', np.int64(382)), ('get', np.int64(440)), ('suck', np.int64(966)), ('sure', np.int64(974)), ('one', np.int64(712)), ('turn', np.int64(1042)), ('feel', np.int64(382)), ('empti', np.int64(321)), ('never', np.int64(686)), ('get', np.int64(440)), ('emot', np.int64(319)), ('cant', np.int64(148)), ('relat', np.int64(827)), ('advanc', np.int64(16)), ('game', np.int64(432)), ('want', np.int64(1078)), ('like', np.int64(596)), ('game', np.int64(432)), ('hour', np.int64(507)), ('play', np.int64(759)), ('admit', np.int64(15)), ('bad', np.int64(79)), ('game', np.int64(432)), ('bought', np.int64(119)), ('cant', np.int64(148)), ('play', np.int64(759)), ('server', np.int64(887)), ('need', np.int64(683)), ('server', np.int64(887)), ('never', np.int64(686)), ('regret', np.int64(825)), ('buy', np.int64(142)), ('game', np.int64(432)), ('level', np.int64(593)), ('fun', np.int64(429)), ('easi', np.int64(307)), ('art', np.int64(56)), ('style', np.int64(964)), ('amaz', np.int64(32)), ('soundtrack', np.int64(925)), ('great', np.int64(457)), ('would', np.int64(1115)), ('total', np.int64(1023)), ('recommend', np.int64(819)), ('anyon', np.int64(42)), ('want', np.int64(1078)), ('pretti', np.int64(778)), ('addict', np.int64(13)), ('time', np.int64(1013)), ('killer', np.int64(568)), ('must', np.int64(675)), ('hat', np.int64(482)), ('except', np.int64(349)), ('occasion', np.int64(705)), ('ai', np.int64(23)), ('great', np.int64(457)), ('game', np.int64(432)), ('realli', np.int64(817)), ('good', np.int64(450)), ('expans', np.int64(354)), ('histori', np.int64(500)), ('fan', np.int64(371)), ('tv', np.int64(1043)), ('seri', np.int64(884)), ('might', np.int64(647)), ('encount', np.int64(323)), ('bug', np.int64(135)), ('abl', np.int64(2)), ('play', np.int64(759)), ('enjoy', np.int64(328)), ('game', np.int64(432)), ('without', np.int64(1107)), ('run', np.int64(859)), ('game', np.int64(432)), ('break', np.int64(126)), ('bug', np.int64(135)), ('u', np.int64(1047)), ('go', np.int64(447)), ('wonder', np.int64(1108)), ('game', np.int64(432)), ('work', np.int64(1109)), ('window', np.int64(1104)), ('fine', np.int64(389)), ('start', np.int64(941)), ('play', np.int64(759)), ('race', np.int64(807)), ('game', np.int64(432)), ('approxim', np.int64(49)), ('year', np.int64(1123)), ('ago', np.int64(20)), ('young', np.int64(1127)), ('stretch', np.int64(958)), ('last', np.int64(580)), ('three', np.int64(1008)), ('four', np.int64(415)), ('year', np.int64(1123)), ('larg', np.int64(579)), ('disappoint', np.int64(283)), ('major', np.int64(621)), ('race', np.int64(807)), ('game', np.int64(432)), ('ive', np.int64(559)), ('play', np.int64(759)), ('saw', np.int64(868)), ('game', np.int64(432)), ('sell', np.int64(881)), ('well', np.int64(1094)), ('get', np.int64(440)), ('awesom', np.int64(73)), ('review', np.int64(846)), ('decid', np.int64(259)), ('research', np.int64(841)), ('bottom', np.int64(118)), ('line', np.int64(599)), ('bought', np.int64(119)), ('love', np.int64(614)), ('brought', np.int64(131)), ('back', np.int64(76)), ('love', np.int64(614)), ('race', np.int64(807)), ('game', np.int64(432)), ('put', np.int64(799)), ('seat', np.int64(874)), ('real', np.int64(815)), ('real', np.int64(815)), ('track', np.int64(1026)), ('actual', np.int64(11)), ('exist', np.int64(352)), ('around', np.int64(55)), ('world', np.int64(1111)), ('real', np.int64(815)), ('le', np.int64(585)), ('brand', np.int64(125)), ('hatch', np.int64(483)), ('track', np.int64(1026)), ('mention', np.int64(644)), ('race', np.int64(807)), ('machin', np.int64(617)), ('think', np.int64(1003)), ('elit', np.int64(317)), ('mclaren', np.int64(637)), ('formula', np.int64(412)), ('car', np.int64(151)), ('goofi', np.int64(451)), ('choic', np.int64(179)), ('dug', np.int64(301)), ('deep', np.int64(261)), ('career', np.int64(153)), ('mode', np.int64(659)), ('yet', np.int64(1126)), ('ive', np.int64(559)), ('play', np.int64(759)), ('ai', np.int64(23)), ('sever', np.int64(890)), ('time', np.int64(1013)), ('singl', np.int64(903)), ('race', np.int64(807)), ('race', np.int64(807)), ('weekend', np.int64(1092)), ('project', np.int64(792)), ('car', np.int64(151)), ('call', np.int64(144)), ('peopl', np.int64(743)), ('say', np.int64(869)), ('ai', np.int64(23)), ('time', np.int64(1013)), ('mean', np.int64(638)), ('rememb', np.int64(831)), ('race', np.int64(807)), ('game', np.int64(432)), ('earli', np.int64(305)), ('one', np.int64(712)), ('thing', np.int64(1002)), ('mention', np.int64(644)), ('run', np.int64(859)), ('game', np.int64(432)), ('amd', np.int64(33)), ('hd', np.int64(485)), ('nvidia', np.int64(704)), ('perform', np.int64(745)), ('better', np.int64(100)), ('nvidia', np.int64(704)), ('quirk', np.int64(805)), ('amd', np.int64(33)), ('howev', np.int64(509)), ('could', np.int64(226)), ('differ', np.int64(279)), ('card', np.int64(152)), ('didnt', np.int64(277)), ('see', np.int64(877)), ('malfunct', np.int64(623)), ('amd', np.int64(33)), ('like', np.int64(596)), ('peopl', np.int64(743)), ('describ', np.int64(269)), ('run', np.int64(859)), ('beauti', np.int64(91)), ('nvidia', np.int64(704)), ('overal', np.int64(723)), ('great', np.int64(457)), ('game', np.int64(432)), ('come', np.int64(202)), ('new', np.int64(687)), ('project', np.int64(792)), ('car', np.int64(151)), ('like', np.int64(596)), ('one', np.int64(712)), ('first', np.int64(393)), ('buy', np.int64(142)), ('coop', np.int64(222)), ('surviv', np.int64(978)), ('fp', np.int64(416)), ('pit', np.int64(752)), ('increas', np.int64(532)), ('wave', np.int64(1085)), ('zombi', np.int64(1130)), ('hell', np.int64(492)), ('spawn', np.int64(928)), ('level', np.int64(593)), ('gain', np.int64(431)), ('benefit', np.int64(97)), ('suit', np.int64(969)), ('game', np.int64(432)), ('intens', np.int64(543)), ('dark', np.int64(250)), ('set', np.int64(889)), ('requir', np.int64(839)), ('use', np.int64(1060)), ('flashlight', np.int64(398)), ('mount', np.int64(666)), ('weapon', np.int64(1089)), ('see', np.int64(877)), ('rocket', np.int64(853)), ('power', np.int64(772)), ('car', np.int64(151)), ('hit', np.int64(501)), ('ball', np.int64(83)), ('hell', np.int64(492)), ('yeah', np.int64(1122)), ('wow', np.int64(1116)), ('game', np.int64(432)), ('amaz', np.int64(32)), ('worth', np.int64(1114)), ('money', np.int64(661)), ('like', np.int64(596)), ('game', np.int64(432)), ('alway', np.int64(31)), ('come', np.int64(202)), ('updat', np.int64(1057)), ('best', np.int64(98)), ('pc', np.int64(741)), ('port', np.int64(769)), ('great', np.int64(457)), ('play', np.int64(759)), ('accur', np.int64(5)), ('represent', np.int64(837)), ('need', np.int64(683)), ('god', np.int64(448)), ('look', np.int64(610)), ('casual', np.int64(156)), ('friend', np.int64(424)), ('sever', np.int64(890)), ('month', np.int64(663)), ('less', np.int64(591)), ('go', np.int64(447)), ('ahead', np.int64(22)), ('give', np.int64(443)), ('tri', np.int64(1035)), ('prepar', np.int64(775)), ('lot', np.int64(613)), ('grind', np.int64(463)), ('bother', np.int64(117)), ('give', np.int64(443)), ('feedback', np.int64(381)), ('offici', np.int64(707)), ('forum', np.int64(413)), ('look', np.int64(610)), ('game', np.int64(432)), ('focu', np.int64(401)), ('disappoint', np.int64(283)), ('develop', np.int64(274)), ('attitud', np.int64(66)), ('becom', np.int64(92)), ('veteran', np.int64(1069)), ('use', np.int64(1060)), ('good', np.int64(450)), ('game', np.int64(432)), ('realli', np.int64(817)), ('love', np.int64(614)), ('play', np.int64(759)), ('hour', np.int64(507)), ('develop', np.int64(274)), ('becom', np.int64(92)), ('arbitrari', np.int64(50)), ('lazi', np.int64(584)), ('greedi', np.int64(459)), ('updat', np.int64(1057)), ('bring', np.int64(129)), ('bug', np.int64(135)), ('undocu', np.int64(1051)), ('critic', np.int64(239)), ('perform', np.int64(745)), ('issu', np.int64(556)), ('absolut', np.int64(3)), ('classic', np.int64(189)), ('honestli', np.int64(504)), ('hard', np.int64(480)), ('imagin', np.int64(521)), ('modern', np.int64(660)), ('titl', np.int64(1016)), ('nearli', np.int64(681)), ('well', np.int64(1094)), ('first', np.int64(393)), ('game', np.int64(432)), ('technic', np.int64(990)), ('issu', np.int64(556)), ('peopl', np.int64(743)), ('random', np.int64(808)), ('time', np.int64(1013)), ('fp', np.int64(416)), ('issu', np.int64(556)), ('despit', np.int64(270)), ('fact', np.int64(365)), ('enough', np.int64(329)), ('rig', np.int64(849)), ('run', np.int64(859)), ('game', np.int64(432)), ('poor', np.int64(766)), ('optim', np.int64(715)), ('hard', np.int64(480)), ('game', np.int64(432)), ('bit', np.int64(103)), ('slow', np.int64(909)), ('begin', np.int64(94)), ('get', np.int64(440)), ('go', np.int64(447)), ('realli', np.int64(817)), ('fun', np.int64(429)), ('due', np.int64(299)), ('give', np.int64(443)), ('thumb', np.int64(1011)), ('sinc', np.int64(902)), ('game', np.int64(432)), ('nearli', np.int64(681)), ('gladli', np.int64(445)), ('put', np.int64(799)), ('thumb', np.int64(1011)), ('patch', np.int64(738)), ('unstabl', np.int64(1056)), ('piec', np.int64(750)), ('game', np.int64(432)), ('earth', np.int64(306)), ('old', np.int64(711)), ('strategi', np.int64(956)), ('expect', np.int64(355)), ('core', np.int64(224)), ('uniqu', np.int64(1053)), ('featur', np.int64(380)), ('trilog', np.int64(1036)), ('consist', np.int64(216)), ('origin', np.int64(717)), ('earth', np.int64(306)), ('escap', np.int64(336)), ('blue', np.int64(108)), ('planet', np.int64(756)), ('two', np.int64(1045)), ('standalon', np.int64(937)), ('expans', np.int64(354)), ('pack', np.int64(729)), ('moon', np.int64(664)), ('project', np.int64(792)), ('lost', np.int64(612)), ('soul', np.int64(923)), ('let', np.int64(592)), ('see', np.int64(877)), ('steam', np.int64(947)), ('fare', np.int64(375)), ('well', np.int64(1094)), ('releas', np.int64(829)), ('steam', np.int64(947)), ('state', np.int64(943)), ('never', np.int64(686)), ('good', np.int64(450)), ('idea', np.int64(517)), ('earli', np.int64(305)), ('window', np.int64(1104)), ('game', np.int64(432)), ('unless', np.int64(1055)), ('configur', np.int64(213)), ('properli', np.int64(794)), ('crash', np.int64(231)), ('tri', np.int64(1035)), ('open', np.int64(714)), ('research', np.int64(841)), ('unit', np.int64(1054)), ('construct', np.int64(218)), ('window', np.int64(1104)), ('press', np.int64(777)), ('import', np.int64(524)), ('even', np.int64(341)), ('get', np.int64(440)), ('militari', np.int64(649)), ('unit', np.int64(1054)), ('without', np.int64(1107)), ('thu', np.int64(1010)), ('open', np.int64(714)), ('configur', np.int64(213)), ('set', np.int64(889)), ('resolut', np.int64(842)), ('ratio', np.int64(811)), ('also', np.int64(29)), ('set', np.int64(889)), ('driver', np.int64(297)), ('fix', np.int64(396)), ('also', np.int64(29)), ('abl', np.int64(2)), ('chat', np.int64(173)), ('play', np.int64(759)), ('game', np.int64(432)), ('allow', np.int64(26)), ('fix', np.int64(396)), ('game', np.int64(432)), ('steam', np.int64(947)), ('overlay', np.int64(724)), ('work', np.int64(1109)), ('mode', np.int64(659)), ('steal', np.int64(946)), ('mous', np.int64(668)), ('clunki', np.int64(194)), ('movi', np.int64(671)), ('work', np.int64(1109)), ('expans', np.int64(354)), ('pack', np.int64(729)), ('origin', np.int64(717)), ('idea', np.int64(517)), ('includ', np.int64(529)), ('bug', np.int64(135)), ('known', np.int64(573)), ('work', np.int64(1109)), ('didnt', np.int64(277)), ('look', np.int64(610)), ('past', np.int64(737)), ('honest', np.int64(503)), ('look', np.int64(610)), ('forum', np.int64(413)), ('peopl', np.int64(743)), ('suggest', np.int64(968)), ('way', np.int64(1086)), ('get', np.int64(440)), ('work', np.int64(1109)), ('fan', np.int64(371)), ('patch', np.int64(738)), ('tool', np.int64(1020)), ('feel', np.int64(382)), ('worth', np.int64(1114)), ('honest', np.int64(503)), ('doubt', np.int64(293)), ('anybodi', np.int64(40)), ('play', np.int64(759)), ('peopl', np.int64(743)), ('still', np.int64(949)), ('get', np.int64(440)), ('work', np.int64(1109)), ('eh', np.int64(314)), ('plot', np.int64(762)), ('follow', np.int64(404)), ('ed', np.int64(311)), ('dynasti', np.int64(304)), ('devast', np.int64(273)), ('unit', np.int64(1054)), ('civil', np.int64(186)), ('state', np.int64(943)), ('base', np.int64(85)), ('north', np.int64(696)), ('pole', np.int64(764)), ('nuclear', np.int64(703)), ('weapon', np.int64(1089)), ('order', np.int64(716)), ('win', np.int64(1103)), ('war', np.int64(1079)), ('start', np.int64(941)), ('main', np.int64(620)), ('comput', np.int64(209)), ('due', np.int64(299)), ('error', np.int64(335)), ('huge', np.int64(511)), ('explos', np.int64(359)), ('alter', np.int64(30)), ('earth', np.int64(306)), ('soon', np.int64(921)), ('go', np.int64(447)), ('get', np.int64(440)), ('closer', np.int64(193)), ('sun', np.int64(970)), ('burn', np.int64(139)), ('everyth', np.int64(347)), ('aliv', np.int64(24)), ('lunar', np.int64(616)), ('corpor', np.int64(225)), ('previous', np.int64(781)), ('sit', np.int64(904)), ('moon', np.int64(664)), ('cut', np.int64(245)), ('earth', np.int64(306)), ('war', np.int64(1079)), ('realiz', np.int64(816)), ('burn', np.int64(139)), ('well', np.int64(1094)), ('join', np.int64(562)), ('fray', np.int64(418)), ('need', np.int64(683)), ('earth', np.int64(306)), ('build', np.int64(136)), ('huge', np.int64(511)), ('space', np.int64(927)), ('shuttl', np.int64(896)), ('order', np.int64(716)), ('evacu', np.int64(339)), ('mar', np.int64(628)), ('plot', np.int64(762)), ('game', np.int64(432)), ('anyth', np.int64(43)), ('talk', np.int64(983)), ('big', np.int64(101)), ('storytel', np.int64(955)), ('though', np.int64(1006)), ('text', np.int64(999)), ('mission', np.int64(655)), ('big', np.int64(101)), ('enjoy', np.int64(328)), ('read', np.int64(813)), ('show', np.int64(895)), ('uniqu', np.int64(1053)), ('relat', np.int64(827)), ('insid', np.int64(539)), ('faction', np.int64(366)), ('give', np.int64(443)), ('person', np.int64(748)), ('basi', np.int64(86)), ('game', np.int64(432)), ('fairli', np.int64(369)), ('standard', np.int64(938)), ('rt', np.int64(858)), ('game', np.int64(432)), ('build', np.int64(136)), ('base', np.int64(85)), ('build', np.int64(136)), ('power', np.int64(772)), ('station', np.int64(944)), ('extract', np.int64(361)), ('money', np.int64(661)), ('field', np.int64(383)), ('build', np.int64(136)), ('armi', np.int64(53)), ('crush', np.int64(240)), ('anoth', np.int64(38)), ('player', np.int64(760)), ('interfac', np.int64(546)), ('quit', np.int64(806)), ('old', np.int64(711)), ('bit', np.int64(103)), ('awkward', np.int64(75)), ('big', np.int64(101)), ('window', np.int64(1104)), ('use', np.int64(1060)), ('left', np.int64(589)), ('mous', np.int64(668)), ('button', np.int64(141)), ('select', np.int64(879)), ('send', np.int64(883)), ('command', np.int64(203)), ('still', np.int64(949)), ('better', np.int64(100)), ('earth', np.int64(306)), ('scale', np.int64(870)), ('know', np.int64(572)), ('build', np.int64(136)), ('mine', np.int64(651)), ('singl', np.int64(903)), ('field', np.int64(383)), ('weapon', np.int64(1089)), ('product', np.int64(789)), ('center', np.int64(162)), ('make', np.int64(622)), ('produc', np.int64(788)), ('vari', np.int64(1063)), ('armi', np.int64(53)), ('whoever', np.int64(1097)), ('agre', np.int64(21)), ('get', np.int64(440)), ('crush', np.int64(240)), ('ai', np.int64(23)), ('much', np.int64(672)), ('need', np.int64(683)), ('sinc', np.int64(902)), ('game', np.int64(432)), ('pace', np.int64(728)), ('bit', np.int64(103)), ('slower', np.int64(910)), ('build', np.int64(136)), ('singl', np.int64(903)), ('unit', np.int64(1054)), ('second', np.int64(875)), ('may', np.int64(635)), ('take', np.int64(982)), ('whole', np.int64(1098)), ('minut', np.int64(652)), ('get', np.int64(440)), ('tank', np.int64(984)), ('roll', np.int64(854)), ('get', np.int64(440)), ('overwhelm', np.int64(726)), ('fair', np.int64(368)), ('amount', np.int64(35)), ('usual', np.int64(1061)), ('usual', np.int64(1061)), ('stuff', np.int64(963)), ('send', np.int64(883)), ('transport', np.int64(1030)), ('carri', np.int64(155)), ('resourc', np.int64(843)), ('mine', np.int64(651)), ('soon', np.int64(921)), ('spawn', np.int64(928)), ('put', np.int64(799)), ('mine', np.int64(651)), ('tini', np.int64(1014)), ('field', np.int64(383)), ('least', np.int64(588)), ('unit', np.int64(1054)), ('special', np.int64(929)), ('abil', np.int64(1)), ('manual', np.int64(626)), ('use', np.int64(1060)), ('probabl', np.int64(785)), ('fit', np.int64(395)), ('matter', np.int64(634)), ('battl', np.int64(88)), ('see', np.int64(877)), ('unit', np.int64(1054)), ('attack', np.int64(64)), ('move', np.int64(669)), ('around', np.int64(55)), ('even', np.int64(341)), ('without', np.int64(1107)), ('command', np.int64(203)), ('enemi', np.int64(325)), ('use', np.int64(1060)), ('weapon', np.int64(1089)), ('like', np.int64(596)), ('grenad', np.int64(461)), ('plasma', np.int64(758)), ('sometim', np.int64(919)), ('better', np.int64(100)), ('use', np.int64(1060)), ('cheaper', np.int64(174)), ('variant', np.int64(1065)), ('speedier', np.int64(931)), ('machin', np.int64(617)), ('less', np.int64(591)), ('hp', np.int64(510)), ('circl', np.int64(185)), ('around', np.int64(55)), ('deliv', np.int64(264)), ('fire', np.int64(392)), ('get', np.int64(440)), ('hit', np.int64(501)), ('featur', np.int64(380)), ('earth', np.int64(306)), ('tri', np.int64(1035)), ('first', np.int64(393)), ('actual', np.int64(11)), ('assembl', np.int64(61)), ('unit', np.int64(1054)), ('allow', np.int64(26)), ('creativ', np.int64(234)), ('well', np.int64(1094)), ('actual', np.int64(11)), ('exactli', np.int64(348)), ('creativ', np.int64(234)), ('limit', np.int64(597)), ('select', np.int64(879)), ('research', np.int64(841)), ('peopl', np.int64(743)), ('still', np.int64(949)), ('enjoy', np.int64(328)), ('aspect', np.int64(59)), ('pick', np.int64(749)), ('chassi', np.int64(172)), ('equip', np.int64(334)), ('sometim', np.int64(919)), ('get', np.int64(440)), ('put', np.int64(799)), ('second', np.int64(875)), ('equip', np.int64(334)), ('well', np.int64(1094)), ('also', np.int64(29)), ('build', np.int64(136)), ('bridg', np.int64(128)), ('tunnel', np.int64(1040)), ('bridg', np.int64(128)), ('build', np.int64(136)), ('quit', np.int64(806)), ('simpl', np.int64(899)), ('expect', np.int64(355)), ('tunnel', np.int64(1040)), ('underground', np.int64(1049)), ('map', np.int64(627)), ('main', np.int64(620)), ('map', np.int64(627)), ('build', np.int64(136)), ('tunnel', np.int64(1040)), ('entranc', np.int64(332)), ('get', np.int64(440)), ('insid', np.int64(539)), ('also', np.int64(29)), ('build', np.int64(136)), ('tunnel', np.int64(1040)), ('cave', np.int64(159)), ('forgotten', np.int64(411)), ('lab', np.int64(574)), ('build', np.int64(136)), ('tunnel', np.int64(1040)), ('exit', np.int64(353)), ('lead', np.int64(586)), ('anoth', np.int64(38)), ('place', np.int64(753)), ('like', np.int64(596)), ('backyard', np.int64(78)), ('enemi', np.int64(325)), ('get', np.int64(440)), ('ground', np.int64(464)), ('forc', np.int64(407)), ('behind', np.int64(95)), ('mountain', np.int64(667)), ('ye', np.int64(1121)), ('fight', np.int64(384)), ('underground', np.int64(1049)), ('meet', np.int64(642)), ('somebodi', np.int64(917)), ('build', np.int64(136)), ('anyth', np.int64(43)), ('oh', np.int64(709)), ('also', np.int64(29)), ('affect', np.int64(18)), ('surfac', np.int64(975)), ('anymor', np.int64(41)), ('either', np.int64(315)), ('creat', np.int64(233)), ('trench', np.int64(1034)), ('flatten', np.int64(399)), ('terrain', np.int64(995)), ('remov', np.int64(832)), ('cant', np.int64(148)), ('flatten', np.int64(399)), ('mountain', np.int64(667)), ('smaller', np.int64(913)), ('thing', np.int64(1002)), ('like', np.int64(596)), ('chang', np.int64(169)), ('weapon', np.int64(1089)), ('top', np.int64(1021)), ('build', np.int64(136)), ('research', np.int64(841)), ('slowli', np.int64(911)), ('whatev', np.int64(1096)), ('new', np.int64(687)), ('stuff', np.int64(963)), ('want', np.int64(1078)), ('build', np.int64(136)), ('headquart', np.int64(487)), ('build', np.int64(136)), ('handl', np.int64(476)), ('thing', np.int64(1002)), ('like', np.int64(596)), ('whatev', np.int64(1096)), ('player', np.int64(760)), ('would', np.int64(1115)), ('find', np.int64(388)), ('worth', np.int64(1114)), ('bother', np.int64(117)), ('compar', np.int64(205)), ('remov', np.int64(832)), ('infantri', np.int64(534)), ('automat', np.int64(68)), ('research', np.int64(841)), ('good', np.int64(450)), ('focu', np.int64(401)), ('three', np.int64(1008)), ('faction', np.int64(366)), ('look', np.int64(610)), ('differ', np.int64(279)), ('play', np.int64(759)), ('differ', np.int64(279)), ('way', np.int64(1086)), ('ed', np.int64(311)), ('quit', np.int64(806)), ('standard', np.int64(938)), ('rt', np.int64(858)), ('faction', np.int64(366)), ('differ', np.int64(279)), ('nuanc', np.int64(702)), ('ed', np.int64(311)), ('use', np.int64(1060)), ('tank', np.int64(984)), ('use', np.int64(1060)), ('ed', np.int64(311)), ('build', np.int64(136)), ('power', np.int64(772)), ('sourc', np.int64(926)), ('get', np.int64(440)), ('enough', np.int64(329)), ('singl', np.int64(903)), ('station', np.int64(944)), ('upgrad', np.int64(1058)), ('ed', np.int64(311)), ('need', np.int64(683)), ('mine', np.int64(651)), ('refineri', np.int64(821)), ('machin', np.int64(617)), ('deliv', np.int64(264)), ('crate', np.int64(232)), ('need', np.int64(683)), ('refineri', np.int64(821)), ('much', np.int64(672)), ('differ', np.int64(279)), ('unit', np.int64(1054)), ('hover', np.int64(508)), ('water', np.int64(1084)), ('econom', np.int64(310)), ('unit', np.int64(1054)), ('place', np.int64(753)), ('build', np.int64(136)), ('want', np.int64(1078)), ('slowli', np.int64(911)), ('descent', np.int64(268)), ('space', np.int64(927)), ('put', np.int64(799)), ('mine', np.int64(651)), ('field', np.int64(383)), ('complet', np.int64(207)), ('forget', np.int64(410)), ('make', np.int64(622)), ('possibl', np.int64(770)), ('power', np.int64(772)), ('time', np.int64(1013)), ('pretti', np.int64(778)), ('much', np.int64(672)), ('scout', np.int64(872)), ('grab', np.int64(454)), ('map', np.int64(627)), ('lack', np.int64(576)), ('bit', np.int64(103)), ('main', np.int64(620)), ('base', np.int64(85)), ('focu', np.int64(401)), ('mayb', np.int64(636)), ('main', np.int64(620)), ('differ', np.int64(279)), ('earth', np.int64(306)), ('game', np.int64(432)), ('campaign', np.int64(147)), ('origin', np.int64(717)), ('start', np.int64(941)), ('easi', np.int64(307)), ('slowli', np.int64(911)), ('teach', np.int64(988)), ('new', np.int64(687)), ('research', np.int64(841)), ('unit', np.int64(1054)), ('make', np.int64(622)), ('avail', np.int64(69)), ('one', np.int64(712)), ('one', np.int64(712)), ('also', np.int64(29)), ('great', np.int64(457)), ('main', np.int64(620)), ('base', np.int64(85)), ('mission', np.int64(655)), ('map', np.int64(627)), ('time', np.int64(1013)), ('sometim', np.int64(919)), ('send', np.int64(883)), ('reinforc', np.int64(826)), ('sadli', np.int64(861)), ('mission', np.int64(655)), ('send', np.int64(883)), ('certain', np.int64(165)), ('amount', np.int64(35)), ('level', np.int64(593)), ('main', np.int64(620)), ('base', np.int64(85)), ('see', np.int64(877)), ('cant', np.int64(148)), ('know', np.int64(572)), ('much', np.int64(672)), ('field', np.int64(383)), ('level', np.int64(593)), ('strong', np.int64(959)), ('enemi', np.int64(325)), ('sinc', np.int64(902)), ('cant', np.int64(148)), ('sell', np.int64(881)), ('build', np.int64(136)), ('unit', np.int64(1054)), ('well', np.int64(1094)), ('get', np.int64(440)), ('stuck', np.int64(961)), ('often', np.int64(708)), ('restart', np.int64(844)), ('mission', np.int64(655)), ('moon', np.int64(664)), ('project', np.int64(792)), ('proper', np.int64(793)), ('expans', np.int64(354)), ('introduc', np.int64(548)), ('new', np.int64(687)), ('unit', np.int64(1054)), ('everybodi', np.int64(345)), ('also', np.int64(29)), ('normal', np.int64(695)), ('campaign', np.int64(147)), ('still', np.int64(949)), ('main', np.int64(620)), ('base', np.int64(85)), ('without', np.int64(1107)), ('requir', np.int64(839)), ('mission', np.int64(655)), ('good', np.int64(450)), ('one', np.int64(712)), ('good', np.int64(450)), ('introduct', np.int64(549)), ('game', np.int64(432)), ('lost', np.int64(612)), ('soul', np.int64(923)), ('add', np.int64(12)), ('campaign', np.int64(147)), ('want', np.int64(1078)), ('wreck', np.int64(1117)), ('also', np.int64(29)), ('play', np.int64(759)), ('skirmish', np.int64(907)), ('sadli', np.int64(861)), ('cant', np.int64(148)), ('preset', np.int64(776)), ('ai', np.int64(23)), ('team', np.int64(989)), ('seem', np.int64(878)), ('alway', np.int64(31)), ('refus', np.int64(823)), ('alli', np.int64(25)), ('game', np.int64(432)), ('surpris', np.int64(976)), ('want', np.int64(1078)), ('target', np.int64(985)), ('player', np.int64(760)), ('base', np.int64(85)), ('expect', np.int64(355)), ('duel', np.int64(300)), ('cheat', np.int64(175)), ('outsid', np.int64(722)), ('know', np.int64(572)), ('exactli', np.int64(348)), ('base', np.int64(85)), ('quit', np.int64(806)), ('nice', np.int64(689)), ('ai', np.int64(23)), ('counter', np.int64(227)), ('whatev', np.int64(1096)), ('send', np.int64(883)), ('actual', np.int64(11)), ('way', np.int64(1086)), ('battl', np.int64(88)), ('grab', np.int64(454)), ('map', np.int64(627)), ('surviv', np.int64(978)), ('long', np.int64(608)), ('enough', np.int64(329)), ('ai', np.int64(23)), ('run', np.int64(859)), ('field', np.int64(383)), ('deni', np.int64(265)), ('ai', np.int64(23)), ('attempt', np.int64(65)), ('get', np.int64(440)), ('cant', np.int64(148)), ('even', np.int64(341)), ('produc', np.int64(788)), ('unit', np.int64(1054)), ('anymor', np.int64(41)), ('yep', np.int64(1124)), ('main', np.int64(620)), ('weak', np.int64(1087)), ('ai', np.int64(23)), ('pretti', np.int64(778)), ('hard', np.int64(480)), ('otherwis', np.int64(719)), ('sure', np.int64(974)), ('know', np.int64(572)), ('go', np.int64(447)), ('big', np.int64(101)), ('earli', np.int64(305)), ('graphic', np.int64(456)), ('great', np.int64(457)), ('time', np.int64(1013)), ('look', np.int64(610)), ('outdat', np.int64(721)), ('night', np.int64(690)), ('come', np.int64(202)), ('see', np.int64(877)), ('everyth', np.int64(347)), ('activ', np.int64(10)), ('light', np.int64(595)), ('alway', np.int64(31)), ('soundtrack', np.int64(925)), ('also', np.int64(29)), ('nice', np.int64(689)), ('faction', np.int64(366)), ('set', np.int64(889)), ('good', np.int64(450)), ('rt', np.int64(858)), ('sadli', np.int64(861)), ('cant', np.int64(148)), ('game', np.int64(432)), ('time', np.int64(1013)), ('play', np.int64(759)), ('much', np.int64(672)), ('nice', np.int64(689)), ('idea', np.int64(517)), ('otherwis', np.int64(719)), ('cool', np.int64(221)), ('play', np.int64(759)), ('much', np.int64(672)), ('lol', np.int64(607)), ('jk', np.int64(560)), ('wast', np.int64(1082)), ('life', np.int64(594)), ('bye', np.int64(143)), ('ps', np.int64(795)), ('got', np.int64(453)), ('done', np.int64(291)), ('fight', np.int64(384)), ('credo', np.int64(236)), ('arm', np.int64(52)), ('hand', np.int64(475)), ('hurt', np.int64(514)), ('like', np.int64(596)), ('hell', np.int64(492)), ('would', np.int64(1115)), ('put', np.int64(799)), ('wrist', np.int64(1118)), ('brace', np.int64(123)), ('develop', np.int64(274)), ('stop', np.int64(951)), ('game', np.int64(432)), ('complet', np.int64(207)), ('end', np.int64(324)), ('said', np.int64(862)), ('fun', np.int64(429)), ('littl', np.int64(600)), ('game', np.int64(432)), ('worth', np.int64(1114)), ('three', np.int64(1008)), ('hour', np.int64(507)), ('interest', np.int64(545)), ('art', np.int64(56)), ('paint', np.int64(730)), ('time', np.int64(1013)), ('manag', np.int64(624)), ('simpl', np.int64(899)), ('game', np.int64(432)), ('heart', np.int64(489)), ('drag', np.int64(295)), ('drop', np.int64(298)), ('simul', np.int64(901)), ('noth', np.int64(698)), ('enjoy', np.int64(328)), ('game', np.int64(432)), ('worth', np.int64(1114)), ('sad', np.int64(860)), ('develop', np.int64(274)), ('incomplet', np.int64(530)), ('buy', np.int64(142)), ('dollar', np.int64(290)), ('less', np.int64(591)), ('get', np.int64(440)), ('game', np.int64(432)), ('awesom', np.int64(73)), ('get', np.int64(440)), ('fill', np.int64(386)), ('thing', np.int64(1002)), ('fun', np.int64(429)), ('recommend', np.int64(819)), ('game', np.int64(432)), ('caus', np.int64(158)), ('awesom', np.int64(73)), ('good', np.int64(450)), ('review', np.int64(846)), ('best', np.int64(98)), ('read', np.int64(813)), ('person', np.int64(748)), ('tri', np.int64(1035)), ('game', np.int64(432)), ('ye', np.int64(1121)), ('best', np.int64(98)), ('game', np.int64(432)), ('ever', np.int64(343)), ('exist', np.int64(352)), ('histori', np.int64(500)), ('game', np.int64(432)), ('pro', np.int64(784)), ('free', np.int64(420)), ('fun', np.int64(429)), ('gore', np.int64(452)), ('lot', np.int64(613)), ('decent', np.int64(258)), ('player', np.int64(760)), ('look', np.int64(610)), ('pretti', np.int64(778)), ('kick', np.int64(566)), ('weapon', np.int64(1089)), ('gun', np.int64(473)), ('feel', np.int64(382)), ('like', np.int64(596)), ('actual', np.int64(11)), ('pack', np.int64(729)), ('power', np.int64(772)), ('item', np.int64(557)), ('real', np.int64(815)), ('world', np.int64(1111)), ('exclus', np.int64(351)), ('bonus', np.int64(112)), ('con', np.int64(211)), ('buy', np.int64(142)), ('usd', np.int64(1059)), ('buy', np.int64(142)), ('everi', np.int64(344)), ('gun', np.int64(473)), ('weapon', np.int64(1089)), ('charact', np.int64(170)), ('emot', np.int64(319)), ('real', np.int64(815)), ('world', np.int64(1111)), ('price', np.int64(782)), ('everyth', np.int64(347)), ('game', np.int64(432)), ('kind', np.int64(569)), ('high', np.int64(496)), ('push', np.int64(798)), ('want', np.int64(1078)), ('spend', np.int64(932)), ('irl', np.int64(555)), ('gener', np.int64(437)), ('layout', np.int64(583)), ('game', np.int64(432)), ('utter', np.int64(1062)), ('asf', np.int64(58)), ('cant', np.int64(148)), ('find', np.int64(388)), ('look', np.int64(610)), ('see', np.int64(877)), ('mean', np.int64(638)), ('horrend', np.int64(506)), ('chat', np.int64(173)), ('box', np.int64(122)), ('right', np.int64(850)), ('type', np.int64(1046)), ('someth', np.int64(918)), ('pop', np.int64(767)), ('top', np.int64(1021)), ('screen', np.int64(873)), ('whop', np.int64(1099)), ('total', np.int64(1023)), ('two', np.int64(1045)), ('second', np.int64(875)), ('anybodi', np.int64(40)), ('chanc', np.int64(168)), ('read', np.int64(813)), ('said', np.int64(862)), ('nobodi', np.int64(692)), ('game', np.int64(432)), ('commun', np.int64(204)), ('like', np.int64(596)), ('said', np.int64(862)), ('right', np.int64(850)), ('overal', np.int64(723)), ('game', np.int64(432)), ('review', np.int64(846)), ('play', np.int64(759)), ('game', np.int64(432)), ('sand', np.int64(866)), ('difficult', np.int64(280)), ('third', np.int64(1004)), ('person', np.int64(748)), ('action', np.int64(9)), ('puzzl', np.int64(800)), ('game', np.int64(432)), ('lot', np.int64(613)), ('explor', np.int64(358)), ('see', np.int64(877)), ('written', np.int64(1119)), ('review', np.int64(846)), ('watch', np.int64(1083)), ('skip', np.int64(906)), ('conclus', np.int64(212)), ('new', np.int64(687)), ('heist', np.int64(491)), ('involv', np.int64(553)), ('player', np.int64(760)), ('get', np.int64(440)), ('rob', np.int64(852)), ('dead', np.int64(255)), ('daylight', np.int64(254)), ('stress', np.int64(957)), ('simul', np.int64(901)), ('ive', np.int64(559)), ('still', np.int64(949)), ('got', np.int64(453)), ('copi', np.int64(223)), ('great', np.int64(457)), ('classic', np.int64(189)), ('rpg', np.int64(857)), ('whatev', np.int64(1096)), ('reason', np.int64(818)), ('never', np.int64(686)), ('finish', np.int64(391)), ('teenag', np.int64(992)), ('intend', np.int64(542)), ('chang', np.int64(169)), ('updat', np.int64(1057)), ('still', np.int64(949)), ('chang', np.int64(169)), ('lol', np.int64(607)), ('built', np.int64(137)), ('enclosur', np.int64(322)), ('put', np.int64(799)), ('tiger', np.int64(1012)), ('tiger', np.int64(1012)), ('longer', np.int64(609)), ('hungri', np.int64(512)), ('fun', np.int64(429)), ('game', np.int64(432)), ('surprisingli', np.int64(977)), ('steep', np.int64(948)), ('learn', np.int64(587)), ('curv', np.int64(243)), ('still', np.int64(949)), ('entertain', np.int64(330)), ('bare', np.int64(84)), ('player', np.int64(760)), ('left', np.int64(589)), ('find', np.int64(388)), ('like', np.int64(596)), ('server', np.int64(887)), ('wan', np.int64(1077)), ('na', np.int64(677)), ('buy', np.int64(142)), ('game', np.int64(432)), ('play', np.int64(759)), ('long', np.int64(608)), ('time', np.int64(1013)), ('buy', np.int64(142)), ('would', np.int64(1115)), ('turbo', np.int64(1041)), ('bu', np.int64(132)), ('derbi', np.int64(267)), ('dish', np.int64(285)), ('like', np.int64(596)), ('wear', np.int64(1090)), ('cat', np.int64(157)), ('hat', np.int64(482)), ('id', np.int64(516)), ('say', np.int64(869)), ('must', np.int64(675)), ('buy', np.int64(142)), ('fan', np.int64(371)), ('find', np.int64(388)), ('grim', np.int64(462)), ('dawn', np.int64(252)), ('improv', np.int64(527)), ('formula', np.int64(412)), ('compar', np.int64(205)), ('regard', np.int64(824)), ('way', np.int64(1086)), ('skill', np.int64(905)), ('level', np.int64(593)), ('stat', np.int64(942)), ('appli', np.int64(48)), ('get', np.int64(440)), ('pretti', np.int64(778)), ('awesom', np.int64(73)), ('freedom', np.int64(421)), ('charact', np.int64(170)), ('build', np.int64(136)), ('everi', np.int64(344)), ('level', np.int64(593)), ('skill', np.int64(905)), ('point', np.int64(763)), ('stat', np.int64(942)), ('chosen', np.int64(183)), ('class', np.int64(188)), ('skill', np.int64(905)), ('tree', np.int64(1033)), ('class', np.int64(188)), ('masteri', np.int64(631)), ('skill', np.int64(905)), ('need', np.int64(683)), ('level', np.int64(593)), ('masteri', np.int64(631)), ('abl', np.int64(2)), ('invest', np.int64(551)), ('higher', np.int64(497)), ('skill', np.int64(905)), ('reach', np.int64(812)), ('level', np.int64(593)), ('also', np.int64(29)), ('possibl', np.int64(770)), ('pick', np.int64(749)), ('second', np.int64(875)), ('class', np.int64(188)), ('open', np.int64(714)), ('class', np.int64(188)), ('full', np.int64(427)), ('skill', np.int64(905)), ('line', np.int64(599)), ('also', np.int64(29)), ('free', np.int64(420)), ('invest', np.int64(551)), ('skill', np.int64(905)), ('point', np.int64(763)), ('npc', np.int64(701)), ('coin', np.int64(198)), ('think', np.int64(1003)), ('possibl', np.int64(770)), ('chang', np.int64(169)), ('class', np.int64(188)), ('though', np.int64(1006)), ('also', np.int64(29)), ('unabl', np.int64(1048)), ('remov', np.int64(832)), ('point', np.int64(763)), ('masteri', np.int64(631)), ('skill', np.int64(905)), ('also', np.int64(29)), ('pretti', np.int64(778)), ('import', np.int64(524)), ('part', np.int64(734)), ('find', np.int64(388)), ('blueprint', np.int64(109)), ('kind', np.int64(569)), ('gear', np.int64(435)), ('special', np.int64(929)), ('forg', np.int64(409)), ('also', np.int64(29)), ('variou', np.int64(1067)), ('materi', np.int64(633)), ('find', np.int64(388)), ('use', np.int64(1060)), ('open', np.int64(714)), ('differ', np.int64(279)), ('path', np.int64(739)), ('new', np.int64(687)), ('area', np.int64(51)), ('dynamit', np.int64(303)), ('around', np.int64(55)), ('use', np.int64(1060)), ('blow', np.int64(107)), ('open', np.int64(714)), ('heavi', np.int64(490)), ('lock', np.int64(604)), ('chest', np.int64(176)), ('break', np.int64(126)), ('weaken', np.int64(1088)), ('wall', np.int64(1076)), ('use', np.int64(1060)), ('dismantl', np.int64(287)), ('gear', np.int64(435)), ('materi', np.int64(633)), ('thing', np.int64(1002)), ('ive', np.int64(559)), ('notic', np.int64(699)), ('less', np.int64(591)), ('gener', np.int64(437)), ('area', np.int64(51)), ('think', np.int64(1003)), ('stay', np.int64(945)), ('layout', np.int64(583)), ('even', np.int64(341)), ('session', np.int64(888)), ('cave', np.int64(159)), ('attach', np.int64(63)), ('area', np.int64(51)), ('gener', np.int64(437)), ('cant', np.int64(148)), ('say', np.int64(869)), ('sure', np.int64(974)), ('also', np.int64(29)), ('gear', np.int64(435)), ('pretti', np.int64(778)), ('much', np.int64(672)), ('one', np.int64(712)), ('socket', np.int64(915)), ('insert', np.int64(538)), ('piec', np.int64(750)), ('stat', np.int64(942)), ('find', np.int64(388)), ('item', np.int64(557)), ('littl', np.int64(600)), ('piec', np.int64(750)), ('combin', np.int64(201)), ('complet', np.int64(207)), ('gem', np.int64(436)), ('boost', np.int64(114)), ('item', np.int64(557)), ('give', np.int64(443)), ('wide', np.int64(1100)), ('varieti', np.int64(1066)), ('awesom', np.int64(73)), ('ill', np.int64(519)), ('also', np.int64(29)), ('say', np.int64(869)), ('feel', np.int64(382)), ('like', np.int64(596)), ('much', np.int64(672)), ('tougher', np.int64(1025)), ('game', np.int64(432)), ('similar', np.int64(898)), ('game', np.int64(432)), ('ive', np.int64(559)), ('play', np.int64(759)), ('mayb', np.int64(636)), ('build', np.int64(136)), ('suck', np.int64(966)), ('lol', np.int64(607)), ('find', np.int64(388)), ('big', np.int64(101)), ('mob', np.int64(657)), ('mix', np.int64(656)), ('realli', np.int64(817)), ('cut', np.int64(245)), ('fast', np.int64(377)), ('one', np.int64(712)), ('elit', np.int64(317)), ('monster', np.int64(662)), ('group', np.int64(466)), ('keep', np.int64(565)), ('toe', np.int64(1018)), ('though', np.int64(1006)), ('want', np.int64(1078)), ('find', np.int64(388)), ('cover', np.int64(228)), ('rang', np.int64(809)), ('funnel', np.int64(430)), ('doorway', np.int64(292)), ('someth', np.int64(918)), ('cant', np.int64(148)), ('say', np.int64(869)), ('much', np.int64(672)), ('stori', np.int64(952)), ('complet', np.int64(207)), ('yet', np.int64(1126)), ('realli', np.int64(817)), ('read', np.int64(813)), ('much', np.int64(672)), ('lore', np.int64(611)), ('book', np.int64(113)), ('set', np.int64(889)), ('pretti', np.int64(778)), ('cool', np.int64(221)), ('though', np.int64(1006)), ('think', np.int64(1003)), ('graphic', np.int64(456)), ('go', np.int64(447)), ('id', np.int64(516)), ('say', np.int64(869)), ('grim', np.int64(462)), ('dawn', np.int64(252)), ('look', np.int64(610)), ('realli', np.int64(817)), ('good', np.int64(450)), ('nice', np.int64(689)), ('effect', np.int64(313)), ('explos', np.int64(359)), ('light', np.int64(595)), ('pretti', np.int64(778)), ('day', np.int64(253)), ('night', np.int64(690)), ('cycl', np.int64(247)), ('think', np.int64(1003)), ('go', np.int64(447)), ('even', np.int64(341)), ('wait', np.int64(1075)), ('sale', np.int64(864)), ('buy', np.int64(142)), ('game', np.int64(432)), ('right', np.int64(850)), ('hi', np.int64(495)), ('grow', np.int64(467)), ('parent', np.int64(733)), ('game', np.int64(432)), ('repres', np.int64(836)), ('current', np.int64(241)), ('stage', np.int64(935)), ('life', np.int64(594)), ('littl', np.int64(600)), ('child', np.int64(177)), ('jr', np.int64(563)), ('king', np.int64(570)), ('kill', np.int64(567)), ('time', np.int64(1013)), ('constantli', np.int64(217)), ('goe', np.int64(449)), ('shove', np.int64(894)), ('sure', np.int64(974)), ('play', np.int64(759)), ('whatev', np.int64(1096)), ('made', np.int64(618)), ('first', np.int64(393)), ('visual', np.int64(1072)), ('novel', np.int64(700)), ('first', np.int64(393)), ('game', np.int64(432)), ('period', np.int64(746)), ('someth', np.int64(918)), ('like', np.int64(596)), ('day', np.int64(253)), ('use', np.int64(1060)), ('mean', np.int64(638)), ('grant', np.int64(455)), ('digit', np.int64(282)), ('artist', np.int64(57)), ('easili', np.int64(308)), ('make', np.int64(622)), ('nonetheless', np.int64(694)), ('littl', np.int64(600)), ('come', np.int64(202)), ('thing', np.int64(1002)), ('like', np.int64(596)), ('game', np.int64(432)), ('develop', np.int64(274)), ('code', np.int64(197)), ('serious', np.int64(885)), ('though', np.int64(1006)), ('like', np.int64(596)), ('tri', np.int64(1035)), ('stare', np.int64(940)), ('block', np.int64(105)), ('code', np.int64(197)), ('made', np.int64(618)), ('feel', np.int64(382)), ('like', np.int64(596)), ('cant', np.int64(148)), ('basic', np.int64(87)), ('thing', np.int64(1002)), ('tool', np.int64(1020)), ('extrem', np.int64(362)), ('simpl', np.int64(899)), ('intuit', np.int64(550)), ('pretti', np.int64(778)), ('much', np.int64(672)), ('entir', np.int64(331)), ('code', np.int64(197)), ('line', np.int64(599)), ('two', np.int64(1045)), ('variabl', np.int64(1064)), ('also', np.int64(29)), ('export', np.int64(360)), ('like', np.int64(596)), ('second', np.int64(875)), ('anyon', np.int64(42)), ('quickli', np.int64(804)), ('easili', np.int64(308)), ('play', np.int64(759)), ('game', np.int64(432)), ('throw', np.int64(1009)), ('zero', np.int64(1129)), ('instal', np.int64(540)), ('insan', np.int64(537)), ('feel', np.int64(382)), ('extrem', np.int64(362)), ('easi', np.int64(307)), ('natur', np.int64(680)), ('work', np.int64(1109)), ('littl', np.int64(600)), ('stop', np.int64(951)), ('struggl', np.int64(960)), ('figur', np.int64(385)), ('someth', np.int64(918)), ('also', np.int64(29)), ('stabl', np.int64(934)), ('program', np.int64(791)), ('ive', np.int64(559)), ('experienc', np.int64(357)), ('appar', np.int64(46)), ('offer', np.int64(706)), ('io', np.int64(554)), ('export', np.int64(360)), ('built', np.int64(137)), ('base', np.int64(85)), ('purchas', np.int64(797)), ('someth', np.int64(918)), ('game', np.int64(432)), ('develop', np.int64(274)), ('suit', np.int64(969)), ('often', np.int64(708)), ('charg', np.int64(171)), ('arm', np.int64(52)), ('leg', np.int64(590)), ('con', np.int64(211)), ('follow', np.int64(404)), ('document', np.int64(289)), ('could', np.int64(226)), ('find', np.int64(388)), ('custom', np.int64(244)), ('code', np.int64(197)), ('bit', np.int64(103)), ('scant', np.int64(871)), ('use', np.int64(1060)), ('steam', np.int64(947)), ('guid', np.int64(472)), ('clarifi', np.int64(187)), ('use', np.int64(1060)), ('variabl', np.int64(1064)), ('probabl', np.int64(785)), ('go', np.int64(447)), ('much', np.int64(672)), ('variabl', np.int64(1064)), ('game', np.int64(432)), ('anyway', np.int64(44)), ('thing', np.int64(1002)), ('act', np.int64(8)), ('littl', np.int64(600)), ('weird', np.int64(1093)), ('version', np.int64(1068)), ('vs', np.int64(1074)), ('preview', np.int64(779)), ('thing', np.int64(1002)), ('take', np.int64(982)), ('longer', np.int64(609)), ('load', np.int64(602)), ('time', np.int64(1013)), ('like', np.int64(596)), ('put', np.int64(799)), ('wait', np.int64(1075)), ('dialogu', np.int64(275)), ('suddenli', np.int64(967)), ('take', np.int64(982)), ('twice', np.int64(1044)), ('long', np.int64(608)), ('pretti', np.int64(778)), ('small', np.int64(912)), ('beef', np.int64(93)), ('adjust', np.int64(14)), ('time', np.int64(1013)), ('compens', np.int64(206)), ('load', np.int64(602)), ('time', np.int64(1013)), ('understand', np.int64(1050)), ('littl', np.int64(600)), ('lack', np.int64(576)), ('sprite', np.int64(933)), ('movement', np.int64(670)), ('placement', np.int64(754)), ('cant', np.int64(148)), ('sprite', np.int64(933)), ('put', np.int64(799)), ('background', np.int64(77)), ('make', np.int64(622)), ('bounc', np.int64(120)), ('instanc', np.int64(541)), ('mayb', np.int64(636)), ('way', np.int64(1086)), ('found', np.int64(414)), ('yet', np.int64(1126)), ('good', np.int64(450)), ('program', np.int64(791)), ('want', np.int64(1078)), ('make', np.int64(622)), ('visual', np.int64(1072)), ('novel', np.int64(700)), ('buy', np.int64(142)), ('hell', np.int64(492)), ('wish', np.int64(1105)), ('could', np.int64(226)), ('go', np.int64(447)), ('back', np.int64(76)), ('time', np.int64(1013)), ('give', np.int64(443)), ('self', np.int64(880)), ('easi', np.int64(307)), ('use', np.int64(1060)), ('actual', np.int64(11)), ('play', np.int64(759)), ('time', np.int64(1013)), ('hour', np.int64(507)), ('non', np.int64(693)), ('steam', np.int64(947)), ('met', np.int64(645)), ('best', np.int64(98)), ('friend', np.int64(424)), ('fist', np.int64(394)), ('mind', np.int64(650)), ('ninja', np.int64(691)), ('space', np.int64(927)), ('abl', np.int64(2)), ('disintegr', np.int64(286)), ('foe', np.int64(403)), ('shoot', np.int64(892)), ('thier', np.int64(1001)), ('comrad', np.int64(210)), ('kingdom', np.int64(571)), ('come', np.int64(202)), ('game', np.int64(432)), ('long', np.int64(608)), ('mind', np.int64(650)), ('one', np.int64(712)), ('probabl', np.int64(785)), ('farm', np.int64(376)), ('materi', np.int64(633)), ('ninja', np.int64(691)), ('space', np.int64(927)), ('gun', np.int64(473)), ('weapon', np.int64(1089)), ('beast', np.int64(89)), ('game', np.int64(432)), ('play', np.int64(759)), ('origin', np.int64(717)), ('great', np.int64(457)), ('game', np.int64(432)), ('one', np.int64(712)), ('fondli', np.int64(405)), ('rememb', np.int64(831)), ('super', np.int64(971)), ('excit', np.int64(350)), ('hear', np.int64(488)), ('even', np.int64(341)), ('went', np.int64(1095)), ('sale', np.int64(864)), ('yesterday', np.int64(1125)), ('unfortun', np.int64(1052)), ('like', np.int64(596)), ('mani', np.int64(625)), ('product', np.int64(789)), ('steam', np.int64(947)), ('beta', np.int64(99)), ('product', np.int64(789)), ('green', np.int64(460)), ('light', np.int64(595)), ('notic', np.int64(699)), ('readi', np.int64(814)), ('show', np.int64(895)), ('time', np.int64(1013)), ('ai', np.int64(23)), ('control', np.int64(220)), ('make', np.int64(622)), ('game', np.int64(432)), ('nearli', np.int64(681)), ('spend', np.int64(932)), ('sever', np.int64(890)), ('time', np.int64(1013)), ('mission', np.int64(655)), ('game', np.int64(432)), ('save', np.int64(867)), ('often', np.int64(708)), ('first', np.int64(393)), ('review', np.int64(846)), ('way', np.int64(1086)), ('consid', np.int64(215)), ('ive', np.int64(559)), ('use', np.int64(1060)), ('steam', np.int64(947)), ('sinc', np.int64(902)), ('give', np.int64(443)), ('idea', np.int64(517)), ('feel', np.int64(382)), ('done', np.int64(291)), ('four', np.int64(415)), ('one', np.int64(712)), ('drill', np.int64(296)), ('one', np.int64(712)), ('dlc', np.int64(288)), ('pack', np.int64(729)), ('hour', np.int64(507)), ('fun', np.int64(429)), ('someth', np.int64(918)), ('happen', np.int64(478)), ('random', np.int64(808)), ('player', np.int64(760)), ('front', np.int64(425)), ('guard', np.int64(469)), ('right', np.int64(850)), ('open', np.int64(714)), ('last', np.int64(580)), ('control', np.int64(220)), ('box', np.int64(122)), ('diamond', np.int64(276)), ('heist', np.int64(491)), ('extrem', np.int64(362)), ('hard', np.int64(480)), ('game', np.int64(432)), ('master', np.int64(630)), ('game', np.int64(432)), ('great', np.int64(457)), ('atmospher', np.int64(62)), ('beauti', np.int64(91)), ('like', np.int64(596)), ('game', np.int64(432)), ('basic', np.int64(87)), ('game', np.int64(432)), ('everyon', np.int64(346)), ('review', np.int64(846)), ('thing', np.int64(1002)), ('like', np.int64(596)), ('one', np.int64(712)), ('though', np.int64(1006)), ('control', np.int64(220)), ('long', np.int64(608)), ('fast', np.int64(377)), ('build', np.int64(136)), ('produc', np.int64(788)), ('higher', np.int64(497)), ('popul', np.int64(768)), ('equal', np.int64(333)), ('mean', np.int64(638)), ('faster', np.int64(378)), ('time', np.int64(1013)), ('produc', np.int64(788)), ('resourc', np.int64(843)), ('build', np.int64(136)), ('thing', np.int64(1002)), ('seem', np.int64(878)), ('take', np.int64(982)), ('forev', np.int64(408)), ('real', np.int64(815)), ('time', np.int64(1013)), ('research', np.int64(841)), ('build', np.int64(136)), ('produc', np.int64(788)), ('research', np.int64(841)), ('peopl', np.int64(743)), ('run', np.int64(859)), ('build', np.int64(136)), ('faster', np.int64(378)), ('know', np.int64(572)), ('pay', np.int64(740)), ('win', np.int64(1103)), ('game', np.int64(432)), ('gem', np.int64(436)), ('money', np.int64(661)), ('peopl', np.int64(743)), ('say', np.int64(869)), ('abl', np.int64(2)), ('find', np.int64(388)), ('game', np.int64(432)), ('howev', np.int64(509)), ('far', np.int64(374)), ('yet', np.int64(1126)), ('thing', np.int64(1002)), ('say', np.int64(869)), ('want', np.int64(1078)), ('someth', np.int64(918)), ('pass', np.int64(736)), ('time', np.int64(1013)), ('like', np.int64(596)), ('fantasi', np.int64(372)), ('time', np.int64(1013)), ('game', np.int64(432)), ('tri', np.int64(1035)), ('day', np.int64(253)), ('gener', np.int64(437)), ('engin', np.int64(326)), ('tri', np.int64(1035)), ('tri', np.int64(1035)), ('best', np.int64(98)), ('rpg', np.int64(857)), ('open', np.int64(714)), ('world', np.int64(1111)), ('game', np.int64(432)), ('ever', np.int64(343)), ('basic', np.int64(87)), ('guess', np.int64(471)), ('game', np.int64(432)), ('mediocr', np.int64(641)), ('inconsist', np.int64(531)), ('frequent', np.int64(422)), ('disconnect', np.int64(284)), ('especi', np.int64(337)), ('singl', np.int64(903)), ('player', np.int64(760)), ('better', np.int64(100)), ('even', np.int64(341)), ('look', np.int64(610)), ('footag', np.int64(406)), ('much', np.int64(672)), ('less', np.int64(591)), ('pay', np.int64(740)), ('cent', np.int64(161)), ('careless', np.int64(154)), ('find', np.int64(388)), ('clemenc', np.int64(190)), ('place', np.int64(753)), ('pretti', np.int64(778)), ('graphic', np.int64(456)), ('amaz', np.int64(32)), ('atmospher', np.int64(62)), ('decent', np.int64(258)), ('soundtrack', np.int64(925)), ('imo', np.int64(523)), ('bad', np.int64(79)), ('game', np.int64(432)), ('dungeon', np.int64(302)), ('repeat', np.int64(833)), ('dungeon', np.int64(302)), ('like', np.int64(596)), ('live', np.int64(601)), ('groundhog', np.int64(465)), ('day', np.int64(253)), ('enemi', np.int64(325)), ('scale', np.int64(870)), ('game', np.int64(432)), ('stay', np.int64(945)), ('level', np.int64(593)), ('hour', np.int64(507)), ('play', np.int64(759)), ('level', np.int64(593)), ('mechan', np.int64(640)), ('combat', np.int64(200)), ('simplist', np.int64(900)), ('even', np.int64(341)), ('dozen', np.int64(294)), ('perk', np.int64(747)), ('abil', np.int64(1)), ('attack', np.int64(64)), ('end', np.int64(324)), ('see', np.int64(877)), ('almost', np.int64(27)), ('gimmick', np.int64(442)), ('crush', np.int64(240)), ('game', np.int64(432)), ('limit', np.int64(597)), ('set', np.int64(889)), ('use', np.int64(1060)), ('clone', np.int64(191)), ('team', np.int64(989)), ('focus', np.int64(402)), ('damag', np.int64(249)), ('lot', np.int64(613)), ('time', np.int64(1013)), ('game', np.int64(432)), ('would', np.int64(1115)), ('like', np.int64(596)), ('give', np.int64(443)), ('game', np.int64(432)), ('neutral', np.int64(685)), ('recommend', np.int64(819)), ('lot', np.int64(613)), ('peopl', np.int64(743)), ('like', np.int64(596)), ('grind', np.int64(463)), ('bad', np.int64(79)), ('game', np.int64(432)), ('look', np.int64(610)), ('complex', np.int64(208)), ('game', np.int64(432)), ('make', np.int64(622)), ('think', np.int64(1003)), ('classic', np.int64(189)), ('silent', np.int64(897)), ('storm', np.int64(953)), ('invis', np.int64(552)), ('inc', np.int64(528)), ('tri', np.int64(1035)), ('other', np.int64(718)), ('pretti', np.int64(778)), ('game', np.int64(432)), ('go', np.int64(447)), ('offer', np.int64(706)), ('kind', np.int64(569)), ('like', np.int64(596)), ('grind', np.int64(463)), ('mechan', np.int64(640)), ('buy', np.int64(142)), ('avoid', np.int64(71)), ('like', np.int64(596)), ('plagu', np.int64(755)), ('grind', np.int64(463)), ('mean', np.int64(638)), ('trivial', np.int64(1037)), ('repetit', np.int64(834)), ('clone', np.int64(191)), ('task', np.int64(986)), ('absolut', np.int64(3)), ('differ', np.int64(279)), ('previou', np.int64(780)), ('assassin', np.int64(60)), ('creed', np.int64(237)), ('game', np.int64(432)), ('noth', np.int64(698)), ('new', np.int64(687)), ('good', np.int64(450)), ('charact', np.int64(170)), ('extrem', np.int64(362)), ('poor', np.int64(766)), ('optim', np.int64(715)), ('bought', np.int64(119)), ('play', np.int64(759)), ('friend', np.int64(424)), ('last', np.int64(580)), ('gave', np.int64(434)), ('tri', np.int64(1035)), ('make', np.int64(622)), ('work', np.int64(1109)), ('buy', np.int64(142)), ('anymor', np.int64(41)), ('assassin', np.int64(60)), ('creed', np.int64(237)), ('game', np.int64(432)), ('almost', np.int64(27)), ('everi', np.int64(344)), ('year', np.int64(1123)), ('eve', np.int64(340)), ('onlin', np.int64(713)), ('bit', np.int64(103)), ('like', np.int64(596)), ('life', np.int64(594)), ('bore', np.int64(115)), ('time', np.int64(1013)), ('excit', np.int64(350)), ('take', np.int64(982)), ('risk', np.int64(851)), ('everyth', np.int64(347)), ('consequ', np.int64(214)), ('peopl', np.int64(743)), ('around', np.int64(55)), ('definit', np.int64(262)), ('everyon', np.int64(346)), ('im', np.int64(520)), ('glad', np.int64(444)), ('exist', np.int64(352)), ('game', np.int64(432)), ('made', np.int64(618)), ('afraid', np.int64(19)), ('stand', np.int64(936)), ('window', np.int64(1104)), ('rememb', np.int64(831)), ('play', np.int64(759)), ('game', np.int64(432)), ('littl', np.int64(600)), ('still', np.int64(949)), ('love', np.int64(614)), ('war', np.int64(1079)), ('like', np.int64(596)), ('give', np.int64(443)), ('soldier', np.int64(916)), ('realli', np.int64(817)), ('big', np.int64(101)), ('armor', np.int64(54)), ('realli', np.int64(817)), ('big', np.int64(101)), ('gun', np.int64(473)), ('shoot', np.int64(892)), ('said', np.int64(862)), ('armor', np.int64(54)), ('also', np.int64(29)), ('one', np.int64(712)), ('armi', np.int64(53)), ('green', np.int64(460)), ('ing', np.int64(535)), ('get', np.int64(440)), ('steam', np.int64(947)), ('ing', np.int64(535)), ('pc', np.int64(741)), ('u', np.int64(1047)), ('complet', np.int64(207)), ('ing', np.int64(535)), ('idiot', np.int64(518)), ('buy', np.int64(142)), ('game', np.int64(432)), ('issu', np.int64(556)), ('coop', np.int64(222)), ('updat', np.int64(1057)), ('fix', np.int64(396)), ('issu', np.int64(556)), ('tri', np.int64(1035)), ('hard', np.int64(480)), ('cri', np.int64(238)), ('fail', np.int64(367)), ('like', np.int64(596)), ('buy', np.int64(142)), ('ball', np.int64(83)), ('thought', np.int64(1007)), ('captain', np.int64(149)), ('america', np.int64(34)), ('game', np.int64(432)), ('eh', np.int64(314)), ('bought', np.int64(119)), ('time', np.int64(1013)), ('play', np.int64(759)), ('whole', np.int64(1098)), ('time', np.int64(1013)), ('still', np.int64(949)), ('rememb', np.int64(831)), ('half', np.int64(474)), ('happen', np.int64(478)), ('game', np.int64(432)), ('laugh', np.int64(582)), ('time', np.int64(1013)), ('wait', np.int64(1075)), ('good', np.int64(450)), ('lucki', np.int64(615)), ('enough', np.int64(329)), ('abl', np.int64(2)), ('get', np.int64(440)), ('game', np.int64(432)), ('work', np.int64(1109)), ('comput', np.int64(209)), ('chanc', np.int64(168)), ('like', np.int64(596)), ('fight', np.int64(384)), ('game', np.int64(432)), ('otherwis', np.int64(719)), ('sad', np.int64(860)), ('bought', np.int64(119)), ('anoth', np.int64(38)), ('game', np.int64(432)), ('work', np.int64(1109)), ('comput', np.int64(209)), ('good', np.int64(450)), ('game', np.int64(432)), ('also', np.int64(29)), ('help', np.int64(493)), ('good', np.int64(450)), ('play', np.int64(759)), ('realli', np.int64(817)), ('name', np.int64(678)), ('death', np.int64(257)), ('match', np.int64(632)), ('ouch', np.int64(720)), ('go', np.int64(447)), ('go', np.int64(447)), ('back', np.int64(76)), ('play', np.int64(759)), ('stanley', np.int64(939)), ('one', np.int64(712)), ('peopl', np.int64(743)), ('like', np.int64(596)), ('wast', np.int64(1082)), ('ton', np.int64(1019)), ('time', np.int64(1013)), ('mop', np.int64(665)), ('floor', np.int64(400)), ('game', np.int64(432)), ('lot', np.int64(613)), ('fun', np.int64(429)), ('mod', np.int64(658)), ('amaz', np.int64(32)), ('commun', np.int64(204)), ('hilari', np.int64(499)), ('take', np.int64(982)), ('quit', np.int64(806)), ('lot', np.int64(613)), ('practic', np.int64(773)), ('train', np.int64(1029)), ('get', np.int64(440)), ('hang', np.int64(477)), ('much', np.int64(672)), ('pro', np.int64(784)), ('sever', np.int64(890)), ('possibl', np.int64(770)), ('end', np.int64(324)), ('event', np.int64(342)), ('requir', np.int64(839)), ('multipl', np.int64(673)), ('princess', np.int64(783)), ('eat', np.int64(309)), ('chocol', np.int64(178)), ('die', np.int64(278)), ('make', np.int64(622)), ('servant', np.int64(886)), ('eat', np.int64(309)), ('chocol', np.int64(178)), ('die', np.int64(278)), ('complet', np.int64(207)), ('skill', np.int64(905)), ('voic', np.int64(1073)), ('act', np.int64(8)), ('depth', np.int64(266)), ('branch', np.int64(124)), ('stori', np.int64(952)), ('support', np.int64(973)), ('cheat', np.int64(175)), ('tire', np.int64(1015)), ('get', np.int64(440)), ('close', np.int64(192)), ('sword', np.int64(980)), ('casual', np.int64(156)), ('bug', np.int64(135)), ('crash', np.int64(231)), ('break', np.int64(126)), ('etc', np.int64(338)), ('con', np.int64(211)), ('die', np.int64(278)), ('lot', np.int64(613)), ('least', np.int64(588)), ('play', np.int64(759)), ('bit', np.int64(103)), ('like', np.int64(596)), ('flash', np.int64(397)), ('game', np.int64(432)), ('fair', np.int64(368)), ('except', np.int64(349)), ('well', np.int64(1094)), ('develop', np.int64(274)), ('flash', np.int64(397)), ('game', np.int64(432)), ('overal', np.int64(723)), ('ye', np.int64(1121)), ('glorifi', np.int64(446)), ('flash', np.int64(397)), ('game', np.int64(432)), ('ye', np.int64(1121)), ('simplist', np.int64(900)), ('storylin', np.int64(954)), ('actual', np.int64(11)), ('intrigu', np.int64(547)), ('get', np.int64(440)), ('achiev', np.int64(6)), ('creativ', np.int64(234)), ('way', np.int64(1086)), ('die', np.int64(278)), ('fun', np.int64(429)), ('particularli', np.int64(735)), ('hard', np.int64(480)), ('easi', np.int64(307)), ('realli', np.int64(817)), ('enjoy', np.int64(328)), ('game', np.int64(432)), ('say', np.int64(869)), ('other', np.int64(718)), ('think', np.int64(1003)), ('definit', np.int64(262)), ('worth', np.int64(1114)), ('buy', np.int64(142)), ('bottom', np.int64(118)), ('line', np.int64(599)), ('realli', np.int64(817)), ('one', np.int64(712)), ('standard', np.int64(938)), ('use', np.int64(1060)), ('buy', np.int64(142)), ('game', np.int64(432)), ('fun', np.int64(429)), ('answer', np.int64(39)), ('definit', np.int64(262)), ('ye', np.int64(1121)), ('long', np.int64(608)), ('live', np.int64(601)), ('queen', np.int64(802)), ('victoria', np.int64(1070)), ('one', np.int64(712)), ('best', np.int64(98)), ('paradox', np.int64(732)), ('titl', np.int64(1016)), ('ive', np.int64(559)), ('ever', np.int64(343)), ('play', np.int64(759)), ('well', np.int64(1094)), ('final', np.int64(387)), ('beat', np.int64(90)), ('stori', np.int64(952)), ('easi', np.int64(307)), ('made', np.int64(618)), ('finish', np.int64(391)), ('stori', np.int64(952)), ('get', np.int64(440)), ('zombi', np.int64(1130)), ('stori', np.int64(952)), ('wait', np.int64(1075)), ('play', np.int64(759)), ('chang', np.int64(169)), ('lot', np.int64(613)), ('beta', np.int64(99)), ('fun', np.int64(429)), ('beta', np.int64(99)), ('either', np.int64(315)), ('fun', np.int64(429)), ('full', np.int64(427)), ('game', np.int64(432)), ('zombi', np.int64(1130)), ('buy', np.int64(142)), ('game', np.int64(432)), ('zombi', np.int64(1130)), ('pass', np.int64(736)), ('worth', np.int64(1114)), ('buy', np.int64(142)), ('bonu', np.int64(111)), ('map', np.int64(627)), ('giant', np.int64(441)), ('im', np.int64(520)), ('happi', np.int64(479)), ('map', np.int64(627)), ('easi', np.int64(307)), ('lot', np.int64(613)), ('train', np.int64(1029)), ('cod', np.int64(196)), ('save', np.int64(867)), ('franchis', np.int64(417)), ('one', np.int64(712)), ('best', np.int64(98)), ('cod', np.int64(196)), ('ever', np.int64(343)), ('play', np.int64(759)), ('sinc', np.int64(902)), ('done', np.int64(291)), ('great', np.int64(457)), ('job', np.int64(561)), ('see', np.int64(877)), ('leg', np.int64(590)), ('first', np.int64(393)), ('time', np.int64(1013)), ('ever', np.int64(343)), ('updat', np.int64(1057)), ('badg', np.int64(80)), ('didnt', np.int64(277)), ('play', np.int64(759)), ('game', np.int64(432)), ('late', np.int64(581)), ('mayb', np.int64(636)), ('fix', np.int64(396)), ('alreadi', np.int64(28)), ('know', np.int64(572)), ('buy', np.int64(142)), ('game', np.int64(432)), ('old', np.int64(711)), ('review', np.int64(846)), ('censorship', np.int64(160)), ('bad', np.int64(79)), ('wish', np.int64(1105)), ('game', np.int64(432)), ('like', np.int64(596)), ('game', np.int64(432)), ('semi', np.int64(882)), ('show', np.int64(895)), ('would', np.int64(1115)), ('happen', np.int64(478)), ('surviv', np.int64(978)), ('area', np.int64(51)), ('engulf', np.int64(327)), ('war', np.int64(1079)), ('mechan', np.int64(640)), ('fun', np.int64(429)), ('play', np.int64(759)), ('resourc', np.int64(843)), ('gather', np.int64(433)), ('make', np.int64(622)), ('said', np.int64(862)), ('mechan', np.int64(640)), ('work', np.int64(1109)), ('never', np.int64(686)), ('abund', np.int64(4)), ('importantli', np.int64(525)), ('teach', np.int64(988)), ('someth', np.int64(918)), ('subtli', np.int64(965)), ('well', np.int64(1094)), ('show', np.int64(895)), ('come', np.int64(202)), ('group', np.int64(466)), ('whatev', np.int64(1096)), ('necessari', np.int64(682)), ('surviv', np.int64(978)), ('believ', np.int64(96)), ('someth', np.int64(918)), ('hard', np.int64(480)), ('captur', np.int64(150)), ('game', np.int64(432)), ('war', np.int64(1079)), ('mine', np.int64(651)), ('perfectli', np.int64(744)), ('manag', np.int64(624)), ('make', np.int64(622)), ('feel', np.int64(382)), ('think', np.int64(1003)), ('act', np.int64(8)), ('like', np.int64(596)), ('survivor', np.int64(979)), ('game', np.int64(432)), ('bug', np.int64(135)), ('crash', np.int64(231)), ('enjoy', np.int64(328)), ('combat', np.int64(200)), ('mechan', np.int64(640)), ('game', np.int64(432)), ('much', np.int64(672)), ('combat', np.int64(200)), ('focu', np.int64(401)), ('game', np.int64(432)), ('fantast', np.int64(373)), ('experi', np.int64(356)), ('fulltim', np.int64(428)), ('broadcast', np.int64(130)), ('content', np.int64(219)), ('job', np.int64(561)), ('actual', np.int64(11)), ('say', np.int64(869)), ('worst', np.int64(1113)), ('experi', np.int64(356)), ('ive', np.int64(559)), ('soul', np.int64(923)), ('life', np.int64(594)), ('cant', np.int64(148)), ('even', np.int64(341)), ('move', np.int64(669)), ('charact', np.int64(170)), ('emerg', np.int64(318)), ('start', np.int64(941)), ('ive', np.int64(559)), ('done', np.int64(291)), ('instal', np.int64(540)), ('driver', np.int64(297)), ('delet', np.int64(263)), ('instal', np.int64(540)), ('game', np.int64(432)), ('pleas', np.int64(761)), ('fix', np.int64(396)), ('peopl', np.int64(743)), ('advertis', np.int64(17)), ('game', np.int64(432)), ('day', np.int64(253)), ('week', np.int64(1091)), ('dedic', np.int64(260)), ('audienc', np.int64(67)), ('game', np.int64(432)), ('ever', np.int64(343)), ('made', np.int64(618)), ('interest', np.int64(545)), ('traffic', np.int64(1028)), ('manag', np.int64(624))]\n",
      "Transform words into one-hot matrices: \n",
      " [[0. 0. 0. ... 0. 0. 0.]\n",
      " [0. 0. 0. ... 0. 0. 0.]\n",
      " [0. 0. 0. ... 0. 0. 0.]\n",
      " ...\n",
      " [0. 0. 0. ... 0. 0. 0.]\n",
      " [0. 0. 0. ... 0. 0. 0.]\n",
      " [0. 0. 0. ... 0. 0. 0.]]\n",
      "Inverse transform to categories from one-hot matrices: \n",
      " [[np.str_('pinnacl') np.int64(751)]\n",
      " [np.str_('game') np.int64(432)]\n",
      " [np.str_('truli') np.int64(1039)]\n",
      " ...\n",
      " [np.str_('interest') np.int64(545)]\n",
      " [np.str_('traffic') np.int64(1028)]\n",
      " [np.str_('manag') np.int64(624)]]\n"
     ]
    }
   ],
   "source": [
    "\n",
    "oh = OneHotEncoder()\n",
    "classes_indices = list(zip(le.classes_, np.arange(len(le.classes_))))\n",
    "print('Classes_indices: ', classes_indices)\n",
    "oh.fit(classes_indices)\n",
    "print('One-hot categories and indices:', oh.categories_)\n",
    "# Biến đổi list words sang dạng one-hot\n",
    "words_indices = list(zip(flat_tokens, lbl_encoded))\n",
    "print('Words and corresponding indices: ', words_indices)\n",
    "one_hot = oh.transform(words_indices).toarray()\n",
    "print('Transform words into one-hot matrices: \\n', one_hot)\n",
    "print('Inverse transform to categories from one-hot matrices: \\n', oh.inverse_transform(one_hot))\n"
   ]
  },
  {
   "cell_type": "code",
   "execution_count": 35,
   "metadata": {},
   "outputs": [
    {
     "name": "stdout",
     "output_type": "stream",
     "text": [
      "(3130, 2264)\n"
     ]
    }
   ],
   "source": [
    "print(one_hot.shape)"
   ]
  },
  {
   "cell_type": "markdown",
   "metadata": {},
   "source": [
    "## Auto Encoder"
   ]
  },
  {
   "cell_type": "code",
   "execution_count": 36,
   "metadata": {},
   "outputs": [
    {
     "name": "stdout",
     "output_type": "stream",
     "text": [
      "abe abil abl absolut abund accur achiev across act action activ actual add addict adjust admit advanc advertis affect afraid ago agre ahead ai aliv alli allow almost alreadi also alter alway amaz amd america amount amp annoy anoth answer anybodi anymor anyon anyth anyway apart appar appeal appli approxim arbitrari area arm armi armor around art artist asf aspect assassin assembl atmospher attach attack attempt attitud audienc automat avail avid avoid award awesom awhil awkward back background backyard bad badg badli bag ball bare base basi basic battl beast beat beauti becom beef begin behind believ benefit best beta better big biggest bit bla block blockbust blow blue blueprint board bonu bonus book boost bore boss bother bottom bought bounc bound box brace branch brand break breaker bridg bring broadcast brought bu buddi budget bug build built bundl burn busi button buy bye call calm came campaign cant captain captur car card career careless carri casual cat caus cave censorship cent center centuri ceo certain certainli challeng chanc chang charact charg chassi chat cheaper cheat chest child chocol choic choos chop chose chosen cinemat circl civil clarifi class classic clemenc clone close closer clunki co cod code coin color combat combin come command commun compar compens complet complex comput comrad con conclus configur consequ consid consist constantli construct content control cool coop copi core corpor could counter cover craft crap crash crate creat creativ creatur credo creed cri critic crush current curs curv custom cut cute cycl da damag dark data dawn day daylight dead deal death decent decid dedic deep definit delet deliv deni depth derbi descent describ despit detail dev devast develop dialogu diamond didnt die differ difficult difficulti digit disappoint disconnect dish disintegr dismantl dlc document dollar done doorway doubt dozen drag drill driver drop due duel dug dungeon dynamit dynasti earli earth easi easili eat econom ed editor effect eh either element elit emerg emot employe empti enclosur encount end enemi engin engulf enjoy enough entertain entir entranc equal equip error escap especi etc evacu eve even event ever everi everybodi everyon everyth exactli except excit exclus exist exit expans expect experi experienc explor explos export extract extrem eye face fact faction fail fair fairli fall fan fantasi fantast far fare farm fast faster favorit featur feedback feel field fight figur fill final find fine finger finish fire first fist fit fix flash flashlight flatten floor focu focus foe follow fondli footag forc forev forg forget forgotten formula forum found four fp franchis fray freak free freedom frequent fresh friend front frustrat full fulltim fun funnel gain game gather gave gear gem gener genr gentl get giant gimmick give glad gladli glorifi go god goe good goofi gore got grab grant graphic great greatest greedi green grenad grim grind ground groundhog group grow grown guard guardian guess guid gun half hand handl hang happen happi hard harm hat hatch hate hd he headquart hear heart heavi heist hell help hero hi high higher highli hilari histori hit hole honest honestli hook horrend hour hover howev hp huge hungri hurri hurt hype id idea idiot ill im imagin immers imo import importantli imposs improv inc includ incomplet inconsist increas incred infantri ing inhabit insan insert insid instal instanc intend intens interact interest interfac intrigu introduc introduct intuit invest invis involv io irl issu item iv ive jk job join jr jump keep kick kill killer kind king kingdom know known lab labour lack laptop lara larg last late laugh layout lazi le lead learn least left leg less let level life light like limit lincoln line littl live load local lock log logic lol long longer look lore lost lot love lucki lunar machin made magic main major make malfunct manag mani manual map mar marvel master masteri match materi matter may mayb mclaren mean meat mechan mediocr meet memor mention met middl might mileston militari mind mine minut mirror miss mission mix mob mod mode modern money monster month moon mop mount mountain mous move movement movi much multipl music must n na name nativ natur nearli necessari need neg neutral never new newer nice night ninja nobodi non nonetheless normal north nostalg noth notic novel npc nuanc nuclear nvidia occasion offer offici often oh ok old one onlin open optim order origin other otherwis ouch outdat outsid overal overlay overreact overwhelm p pace pack paint par paradox parent part particularli pass past patch path pay pc peak peopl perfectli perform period perk person pick piec pinnacl pit place placement plagu planet plant plasma play player pleas plot point pole polit poor pop popul port possibl potenti power practic predecessor prepar preset press pretti preview previou previous price princess pro probabl problem process produc product profit program project proper properli ps pull purchas push put puzzl puzzler queen quick quickli quirk quit race random rang rat ratio reach read readi real realiz realli reason recommend recreat refineri refreshingli refus regard regret reinforc relat relax releas remak rememb remov repeat repetit replac repres represent reput requir rescu research resolut resourc restart reveal review reward ride rig right risk rob rocket roll room row rpg rt run sad sadli said saint sale salv sand save saw say scale scant scout screen seat second secret see seem select self sell semi send seri serious servant server session set sever shadow shoot shoulder shove show shuttl silent similar simpl simplist simul sinc singl sit skill skip skirmish slave slow slower slowli small smaller smooth socket soldier somebodi someth sometim somewhat soon sooth soul sound soundtrack sourc space spawn special speed speedier spend sprite stabl stage stand standalon standard stanley stare start stat state station stay steal steam steep still stockyard stop stori storm storylin storytel strategi stress stretch strong struggl stuck studio stuff style subtli suck suddenli suggest suit sun super suppli support sure surfac surpris surprisingli surviv survivor sword system take talk tank target task tasti teach team technic technolog teenag tell term terrain terribl terrif test text textur thier thing think third thoroughli though thought three throw thu thumb tiger time tini tire titl today toe ton tool top torn total touch tougher track trade traffic train transport trap treat tree trench tri trilog trivial true truli tunnel turbo turn tv twice two type u unabl underground understand undocu unfortun uniqu unit unless unstabl updat upgrad usd use usual utter vari variabl variant varieti variou version veteran victoria virtual visual voic vs wait wall wan want war warlord warn wast watch water wave way weak weaken weapon wear week weekend weird well went whatev whoever whole whop wide wife wild win window wish within without wonder work worker world wors worst worth would wow wreck wrist written yard ye yeah year yep yesterday yet young zen zero zombi zone\n"
     ]
    }
   ],
   "source": [
    "print(*le.classes_)"
   ]
  },
  {
   "cell_type": "code",
   "execution_count": 37,
   "metadata": {},
   "outputs": [],
   "source": [
    "class AutoEncoder(layers.Layer):\n",
    "\n",
    "    def __init__(self, in_units, hidden_units):\n",
    "        super().__init__()\n",
    "        self.dense1 = layers.Dense(in_units, activation=\"relu\")\n",
    "        self.dense2 = layers.Dense(hidden_units, activation=\"relu\")\n",
    "        self.dense3 = layers.Dense(in_units, activation=\"softmax\")\n",
    "\n",
    "    def call(self, x):\n",
    "        x = self.dense1(x)\n",
    "        x = self.dense2(x)\n",
    "        x = self.dense3(x)\n",
    "\n",
    "        return x"
   ]
  },
  {
   "cell_type": "code",
   "execution_count": 38,
   "metadata": {},
   "outputs": [
    {
     "name": "stdout",
     "output_type": "stream",
     "text": [
      "WARNING:tensorflow:From c:\\Users\\nguye\\miniconda3\\envs\\nlp\\Lib\\site-packages\\keras\\src\\backend\\tensorflow\\core.py:216: The name tf.placeholder is deprecated. Please use tf.compat.v1.placeholder instead.\n",
      "\n"
     ]
    }
   ],
   "source": [
    "inputs = layers.Input(shape=(one_hot.shape[1],))\n",
    "autoencoder_layer = AutoEncoder(one_hot.shape[1], one_hot.shape[1]//2)\n",
    "outputs = autoencoder_layer(inputs)\n",
    "\n",
    "model = keras.Model(inputs=inputs, outputs=outputs)"
   ]
  },
  {
   "cell_type": "code",
   "execution_count": 39,
   "metadata": {},
   "outputs": [],
   "source": [
    "model.compile(loss = 'categorical_crossentropy', optimizer = keras.optimizers.SGD())"
   ]
  },
  {
   "cell_type": "code",
   "execution_count": 40,
   "metadata": {},
   "outputs": [
    {
     "name": "stdout",
     "output_type": "stream",
     "text": [
      "Epoch 1/5\n",
      "\u001b[1m98/98\u001b[0m \u001b[32m━━━━━━━━━━━━━━━━━━━━\u001b[0m\u001b[37m\u001b[0m \u001b[1m3s\u001b[0m 22ms/step - loss: 15.4471\n",
      "Epoch 2/5\n",
      "\u001b[1m98/98\u001b[0m \u001b[32m━━━━━━━━━━━━━━━━━━━━\u001b[0m\u001b[37m\u001b[0m \u001b[1m2s\u001b[0m 22ms/step - loss: 15.4244\n",
      "Epoch 3/5\n",
      "\u001b[1m98/98\u001b[0m \u001b[32m━━━━━━━━━━━━━━━━━━━━\u001b[0m\u001b[37m\u001b[0m \u001b[1m2s\u001b[0m 22ms/step - loss: 15.4046\n",
      "Epoch 4/5\n",
      "\u001b[1m98/98\u001b[0m \u001b[32m━━━━━━━━━━━━━━━━━━━━\u001b[0m\u001b[37m\u001b[0m \u001b[1m2s\u001b[0m 23ms/step - loss: 15.3762\n",
      "Epoch 5/5\n",
      "\u001b[1m98/98\u001b[0m \u001b[32m━━━━━━━━━━━━━━━━━━━━\u001b[0m\u001b[37m\u001b[0m \u001b[1m2s\u001b[0m 21ms/step - loss: 15.3594\n"
     ]
    },
    {
     "data": {
      "text/plain": [
       "<keras.src.callbacks.history.History at 0x2409ea54510>"
      ]
     },
     "execution_count": 40,
     "metadata": {},
     "output_type": "execute_result"
    }
   ],
   "source": [
    "model.fit(one_hot, one_hot, epochs=5, batch_size=32)"
   ]
  },
  {
   "cell_type": "code",
   "execution_count": 41,
   "metadata": {},
   "outputs": [
    {
     "name": "stdout",
     "output_type": "stream",
     "text": [
      "Query one-hot encoded:\n",
      " [[0. 0. 0. ... 0. 1. 0.]]\n"
     ]
    }
   ],
   "source": [
    "query_word = \"zombi\"\n",
    "\n",
    "# Get the index for \"game\" using the LabelEncoder\n",
    "query_index = le.transform([query_word])[0]  # Get the encoded index for \"game\"\n",
    "query = [[query_word, query_index]]  # Create the (word, index) pair\n",
    "\n",
    "# Transform the query into one-hot encoding\n",
    "query_one_hot = oh.transform(query).toarray()\n",
    "\n",
    "print(\"Query one-hot encoded:\\n\", query_one_hot)"
   ]
  },
  {
   "cell_type": "code",
   "execution_count": null,
   "metadata": {},
   "outputs": [],
   "source": []
  },
  {
   "cell_type": "markdown",
   "metadata": {},
   "source": [
    "## Search"
   ]
  },
  {
   "cell_type": "code",
   "execution_count": 42,
   "metadata": {},
   "outputs": [
    {
     "name": "stdout",
     "output_type": "stream",
     "text": [
      "[['zombi']]\n"
     ]
    }
   ],
   "source": [
    "query = \"zombie\"\n",
    "query = tools.preprocess([query])\n",
    "print(query)"
   ]
  }
 ],
 "metadata": {
  "kernelspec": {
   "display_name": "nlp",
   "language": "python",
   "name": "python3"
  },
  "language_info": {
   "codemirror_mode": {
    "name": "ipython",
    "version": 3
   },
   "file_extension": ".py",
   "mimetype": "text/x-python",
   "name": "python",
   "nbconvert_exporter": "python",
   "pygments_lexer": "ipython3",
   "version": "3.11.11"
  }
 },
 "nbformat": 4,
 "nbformat_minor": 2
}
