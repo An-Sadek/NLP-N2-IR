{
 "cells": [
  {
   "cell_type": "code",
   "execution_count": 1,
   "metadata": {},
   "outputs": [
    {
     "name": "stderr",
     "output_type": "stream",
     "text": [
      "[nltk_data] Downloading package punkt to\n",
      "[nltk_data]     C:\\Users\\nguye\\AppData\\Roaming\\nltk_data...\n",
      "[nltk_data]   Package punkt is already up-to-date!\n",
      "[nltk_data] Downloading package stopwords to\n",
      "[nltk_data]     C:\\Users\\nguye\\AppData\\Roaming\\nltk_data...\n",
      "[nltk_data]   Unzipping corpora\\stopwords.zip.\n",
      "[nltk_data] Downloading package wordnet to\n",
      "[nltk_data]     C:\\Users\\nguye\\AppData\\Roaming\\nltk_data...\n",
      "[nltk_data]   Package wordnet is already up-to-date!\n"
     ]
    }
   ],
   "source": [
    "import pandas as pd\n",
    "import re\n",
    "import nltk\n",
    "import numpy as np\n",
    "import networkx as nx\n",
    "from nltk.corpus import stopwords\n",
    "from nltk.tokenize import sent_tokenize, word_tokenize\n",
    "from sklearn.metrics.pairwise import cosine_similarity\n",
    "from sklearn.feature_extraction.text import TfidfVectorizer\n",
    "nltk.download('punkt')\n",
    "nltk.download('stopwords')\n",
    "from nltk.corpus import stopwords\n",
    "stop_words = set(stopwords.words('english'))  # Chuyển thành tập hợp (set) để tìm kiếm nhanh hơn\n",
    "nltk.download('wordnet')\n",
    "from nltk.stem import WordNetLemmatizer"
   ]
  },
  {
   "cell_type": "code",
   "execution_count": 3,
   "metadata": {},
   "outputs": [],
   "source": [
    "txt_file_path = \"./text.txt\"  # Thay thế bằng đường dẫn file TXT của bạn\n",
    "with open(txt_file_path, \"r\", encoding=\"utf-8\") as file:\n",
    "    text = file.read()"
   ]
  },
  {
   "cell_type": "code",
   "execution_count": 4,
   "metadata": {},
   "outputs": [
    {
     "name": "stdout",
     "output_type": "stream",
     "text": [
      "Dữ liệu gốc:\n",
      "The mechanism of pattern recognition in the brain is\n",
      "little known, and it seems to be almost impossible to\n",
      "reveal it only by conventional physiological experiments. So, we take a slightly different approach to this\n",
      "problem. If we could make a neural network model\n",
      "which has the same capability for pattern recognition\n",
      "as a human being, it would give us a powerful clue to\n",
      "the understanding of the neural mechanism in the\n",
      "brain. In this paper, we discuss how to synthesize a\n",
      "neural network model in order to endow it an ability of\n",
      "pattern recognition like a human being.\n",
      "Several models were proposed with this intention\n",
      "(Rosenblatt, 1962; Kabrisky, 1966; Giebel, 1971;\n",
      "Fukushima, 1975). The response of most of these\n",
      "models, however, was severely affected by the shift in\n",
      "position and/or by the distortion in shape of the input\n",
      "patterns. Hence, their ability for pattern recognition\n",
      "was not so high.\n",
      "In this paper, we propose an improved neural\n",
      "network model. The structure of this network has been\n",
      "suggested by that of the visual nervous system of the\n",
      "vertebrate. This network is self-organized by \"learning\n",
      "without a teacher\", and acquires an ability to recognize\n",
      "stimulus patterns based on the geometrical similarity\n",
      "(Gestalt) of their shapes without affected by their\n",
      "position nor by small distortion of their shapes.\n",
      "This network is given a nickname \"neocognitron\"l,\n",
      "because it is a further extention of the \"cognitron\",\n",
      "which also is a self-organizing multilayered neural\n",
      "network model proposed by the author before\n",
      "(Fukushima, 1975). Incidentally, the conventional\n",
      "cognitron also had an ability to recognize patterns, but\n",
      "its response was dependent upon the position of the\n",
      "stimulus patterns. That is, the same patterns which\n",
      "were presented at different positions were taken as\n",
      "different patterns by the conventional cognitron. In the\n",
      "neocognitron proposed here, however, the response of\n",
      "the network is little affected by the position of the\n",
      "stimulus patterns.\n",
      "1 Preliminary report of the neocognitron already appeared elsewhere (Fukushima, 1979a, b)\n",
      "0340-1200/80/0036/0193/$02.00 \n",
      "194\n",
      "The neocognitron has a multilayered structure, too.\n",
      "It also has an ability of unsupervised learning: We do\n",
      "not need any \"teacher\" during the process of selforganization, and it is only needed to present a set of\n",
      "stimulus patterns repeatedly to the input layer of the\n",
      "network. After completion of self-organization, the\n",
      "network acquires a structure similar to the hierarchy\n",
      "model of the visual nervous system proposed by Hubel\n",
      "and Wiesel (1962, 1965).\n",
      "According to the hierarchy model by Hubel and\n",
      "Wiesel, the neural network in the visual cortex has a\n",
      "hierarchy structure : LGB (lateral geniculate\n",
      "body)--*simple cells-.complex cells~lower order hypercomplex cells--*higher order hypercomplex cells. It\n",
      "is also suggested that the neural network between\n",
      "lower order hypercomplex cells and higher order hypercomplex cells has a structure similar to the network\n",
      "between simple cells and complex cells. In this hierarchy, a cell in a higher stage generally has a tendency\n",
      "to respond selectively to a more complicated feature of\n",
      "the stimulus pattern, and, at the same time, has a larger\n",
      "receptive field, and is more insensitive to the shift in\n",
      "position of the stimulus pattern.\n",
      "It is true that the hierarchy model by Hubel and\n",
      "Wiesel does not hold in its original form. In fact, there\n",
      "are several experimental data contradictory to the\n",
      "hierarchy model, such as monosynaptic connections\n",
      "from LGB to complex cells. This would not, however,\n",
      "completely deny the hierarchy model, if we consider\n",
      "that the hierarchy model represents only the main\n",
      "stream of information flow in the visual system. Hence,\n",
      "a structure similar to the hierarchy model is introduced\n",
      "in our model.\n",
      "Hubel and Wiesel do not tell what kind of cells\n",
      "exist in the stages higher than hypercomplex cells.\n",
      "Some cells in the inferotemporal cortex (i.e. one of the\n",
      "association areas) of the monkey, however, are reported to respond selectively to more specific and more\n",
      "complicated features than hypercomplex cells (for example, triangles, squares, silhouettes of a monkey's\n",
      "hand, etc.), and their responses are scarcely affected by\n",
      "the position or the size of the stimuli (Gross et al.,\n",
      "1972; Sato et al., 1978). These cells might correspond\n",
      "to so-called \"grandmother cells\".\n",
      "Suggested by these physiological data, we extend\n",
      "the hierarchy model of Hubel and Wiesel, and hypothesize the existance of a similar hierarchy structure\n",
      "even in the stages higher than hypercomplex cells. In\n",
      "the extended hierarchy model, the cells in the highest\n",
      "stage are supposed to respond only to specific stimulus\n",
      "patterns without affected by the position or the size of\n",
      "the stimuli.\n",
      "The neocognitron proposed here has such an extended hierarchy structure. After completion of selforganization, the response of the cells of the deepest\n",
      "layer of our network is dependent only upon the shape\n",
      "of the stimulus pattern, and is not affected by the\n",
      "position where the pattern is presented. That is, the\n",
      "network has an ability of position-invariant patternrecognition.\n",
      "In the field of engineering, many methods for\n",
      "pattern recognition have ever been proposed, and\n",
      "several kinds of optical character readers have already\n",
      "been developed. Although such machines are superior\n",
      "to the human being in reading speed, they are far\n",
      "inferior in the ability of correct recognition. Most of\n",
      "the recognition method used for the optical character\n",
      "readers are sensitive to the position of the input\n",
      "pattern, and it is necessary to normalize the position of\n",
      "the input pattern beforehand. It is very difficult to\n",
      "normalize the position, however, if the input pattern is\n",
      "accompanied with some noise or geometrical distortion. So, it has long been desired to find out an\n",
      "algorithm of pattern recognition which can cope with\n",
      "the shift in position of the input pattern. The algorithm\n",
      "proposed in this paper will give a drastic solution also\n",
      "to this problem.\n"
     ]
    }
   ],
   "source": [
    "print(\"Dữ liệu gốc:\")\n",
    "print(text)  # hiển thị  dữ liệu gốc"
   ]
  },
  {
   "cell_type": "code",
   "execution_count": 5,
   "metadata": {},
   "outputs": [],
   "source": [
    "# Danh sách stopwords có điều chỉnh (giữ lại một số từ quan trọng)\n",
    "custom_stopwords = set(stopwords.words('english')) - {\"not\", \"without\"}\n",
    "\n",
    "# Khởi tạo bộ lemmatizer\n",
    "lemmatizer = WordNetLemmatizer()\n",
    "\n",
    "def preprocess_text(text):\n",
    "    \"\"\"\n",
    "    Tiền xử lý văn bản:\n",
    "    - Chuyển thành chữ thường\n",
    "    - Tách câu\n",
    "    - Loại bỏ stopwords nhưng giữ lại từ quan trọng\n",
    "    - Dùng lemmatizer để giảm từ về dạng gốc\n",
    "    \"\"\"\n",
    "    sentences = sent_tokenize(text.lower())  # Chuyển thành chữ thường và tách câu\n",
    "    processed_sentences = []\n",
    "\n",
    "    for s in sentences:\n",
    "        words = word_tokenize(s)  # Tách từ\n",
    "        words = [lemmatizer.lemmatize(word) for word in words if word.isalpha() and word not in custom_stopwords]  \n",
    "        processed_sentences.append(\" \".join(words))  # Ghép lại thành câu\n",
    "\n",
    "    return processed_sentences\n",
    "# Xử lý văn bản để lấy danh sách câu\n",
    "sentences = preprocess_text(text)"
   ]
  },
  {
   "cell_type": "code",
   "execution_count": 6,
   "metadata": {},
   "outputs": [
    {
     "name": "stdout",
     "output_type": "stream",
     "text": [
      "['mechanism pattern recognition brain little known seems almost impossible reveal conventional physiological experiment', 'take slightly different approach problem', 'could make neural network model capability pattern recognition human would give u powerful clue understanding neural mechanism brain', 'paper discus synthesize neural network model order endow ability pattern recognition like human', 'several model proposed intention rosenblatt kabrisky giebel fukushima', 'response model however severely affected shift position distortion shape input pattern', 'hence ability pattern recognition not high', 'paper propose improved neural network model', 'structure network suggested visual nervous system vertebrate', 'network learning without teacher acquires ability recognize stimulus pattern based geometrical similarity gestalt shape without affected position small distortion shape', 'network given nickname neocognitron l extention cognitron also multilayered neural network model proposed author fukushima', 'incidentally conventional cognitron also ability recognize pattern response dependent upon position stimulus pattern', 'pattern presented different position taken different pattern conventional cognitron', 'neocognitron proposed however response network little affected position stimulus pattern', 'preliminary report neocognitron already appeared elsewhere fukushima b neocognitron multilayered structure', 'also ability unsupervised learning not need teacher process selforganization needed present set stimulus pattern repeatedly input layer network', 'completion network acquires structure similar hierarchy model visual nervous system proposed hubel wiesel', 'according hierarchy model hubel wiesel neural network visual cortex hierarchy structure lgb lateral geniculate body simple order hypercomplex cell higher order hypercomplex cell', 'also suggested neural network lower order hypercomplex cell higher order hypercomplex cell structure similar network simple cell complex cell', 'hierarchy cell higher stage generally tendency respond selectively complicated feature stimulus pattern time larger receptive field insensitive shift position stimulus pattern', 'true hierarchy model hubel wiesel not hold original form', 'fact several experimental data contradictory hierarchy model monosynaptic connection lgb complex cell', 'would not however completely deny hierarchy model consider hierarchy model represents main stream information flow visual system', 'hence structure similar hierarchy model introduced model', 'hubel wiesel not tell kind cell exist stage higher hypercomplex cell', 'cell inferotemporal cortex', 'one association area monkey however reported respond selectively specific complicated feature hypercomplex cell example triangle square silhouette monkey hand etc', 'response scarcely affected position size stimulus gross et sato et', 'cell might correspond grandmother cell', 'suggested physiological data extend hierarchy model hubel wiesel hypothesize existance similar hierarchy structure even stage higher hypercomplex cell', 'extended hierarchy model cell highest stage supposed respond specific stimulus pattern without affected position size stimulus', 'neocognitron proposed extended hierarchy structure', 'completion selforganization response cell deepest layer network dependent upon shape stimulus pattern not affected position pattern presented', 'network ability patternrecognition', 'field engineering many method pattern recognition ever proposed several kind optical character reader already developed', 'although machine superior human reading speed far inferior ability correct recognition', 'recognition method used optical character reader sensitive position input pattern necessary normalize position input pattern beforehand', 'difficult normalize position however input pattern accompanied noise geometrical distortion', 'long desired find algorithm pattern recognition cope shift position input pattern', 'algorithm proposed paper give drastic solution also problem']\n"
     ]
    }
   ],
   "source": [
    "print(sentences)"
   ]
  },
  {
   "cell_type": "code",
   "execution_count": 7,
   "metadata": {},
   "outputs": [],
   "source": [
    "# Tải GloVe embeddings\n",
    "word_embeddings = {}\n",
    "with open(\"../glove.6B.100d.txt\", encoding=\"utf-8\") as f:\n",
    "    for line in f:\n",
    "        values = line.split()\n",
    "        word = values[0]\n",
    "        coefs = np.asarray(values[1:], dtype='float32')\n",
    "        word_embeddings[word] = coefs"
   ]
  },
  {
   "cell_type": "code",
   "execution_count": 8,
   "metadata": {},
   "outputs": [],
   "source": [
    "# Hàm chuyển câu thành vector\n",
    "def sentence_to_vector(sentence, embedding_dict, dim=100):\n",
    "    \"\"\"\n",
    "    Chuyển đổi câu thành vector bằng cách tính trung bình vector của các từ trong câu.\n",
    "    \"\"\"\n",
    "    words = sentence.split()\n",
    "    if len(words) == 0:\n",
    "        return np.zeros((dim,))\n",
    "    return sum([embedding_dict.get(w, np.zeros((dim,))) for w in words]) / (len(words) + 0.001)\n"
   ]
  },
  {
   "cell_type": "code",
   "execution_count": 9,
   "metadata": {},
   "outputs": [],
   "source": [
    "# Chuyển danh sách câu thành vector\n",
    "sentence_vectors = [sentence_to_vector(s, word_embeddings) for s in sentences]\n",
    "\n",
    "# Tạo ma trận tương đồng\n",
    "sim_mat = np.zeros((len(sentences), len(sentences)))\n",
    "for i in range(len(sentences)):\n",
    "    for j in range(len(sentences)):\n",
    "        if i != j:\n",
    "            sim_mat[i][j] = cosine_similarity(sentence_vectors[i].reshape(1, 100), \n",
    "                                              sentence_vectors[j].reshape(1, 100))[0, 0]"
   ]
  },
  {
   "cell_type": "code",
   "execution_count": 10,
   "metadata": {},
   "outputs": [],
   "source": [
    "# Xây dựng đồ thị và tính điểm PageRank\n",
    "nx_graph = nx.from_numpy_array(sim_mat)\n",
    "scores = nx.pagerank(nx_graph)\n",
    "\n",
    "# Xếp hạng câu dựa trên điểm PageRank\n",
    "ranked_sentences = sorted(((scores[i], s) for i, s in enumerate(sentences)), reverse=True)\n",
    "\n",
    "# Xác định số câu cần tóm tắt\n",
    "summary_length = 10\n",
    "summary = \"\\n\".join([ranked_sentences[i][1] for i in range(summary_length)])"
   ]
  },
  {
   "cell_type": "code",
   "execution_count": 11,
   "metadata": {},
   "outputs": [
    {
     "name": "stdout",
     "output_type": "stream",
     "text": [
      "=== TÓM TẮT VĂN BẢN ===\n",
      "completion selforganization response cell deepest layer network dependent upon shape stimulus pattern not affected position pattern presented\n",
      "extended hierarchy model cell highest stage supposed respond specific stimulus pattern without affected position size stimulus\n",
      "would not however completely deny hierarchy model consider hierarchy model represents main stream information flow visual system\n",
      "network learning without teacher acquires ability recognize stimulus pattern based geometrical similarity gestalt shape without affected position small distortion shape\n",
      "could make neural network model capability pattern recognition human would give u powerful clue understanding neural mechanism brain\n",
      "also ability unsupervised learning not need teacher process selforganization needed present set stimulus pattern repeatedly input layer network\n",
      "incidentally conventional cognitron also ability recognize pattern response dependent upon position stimulus pattern\n",
      "hierarchy cell higher stage generally tendency respond selectively complicated feature stimulus pattern time larger receptive field insensitive shift position stimulus pattern\n",
      "field engineering many method pattern recognition ever proposed several kind optical character reader already developed\n",
      "neocognitron proposed however response network little affected position stimulus pattern\n"
     ]
    }
   ],
   "source": [
    "# In kết quả tóm tắt\n",
    "print(\"=== TÓM TẮT VĂN BẢN ===\")\n",
    "print(summary)"
   ]
  }
 ],
 "metadata": {
  "kernelspec": {
   "display_name": "nlp",
   "language": "python",
   "name": "python3"
  },
  "language_info": {
   "codemirror_mode": {
    "name": "ipython",
    "version": 3
   },
   "file_extension": ".py",
   "mimetype": "text/x-python",
   "name": "python",
   "nbconvert_exporter": "python",
   "pygments_lexer": "ipython3",
   "version": "3.11.11"
  }
 },
 "nbformat": 4,
 "nbformat_minor": 2
}
